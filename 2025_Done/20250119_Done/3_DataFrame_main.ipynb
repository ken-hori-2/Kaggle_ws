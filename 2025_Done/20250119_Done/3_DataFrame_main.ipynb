{
 "cells": [
  {
   "cell_type": "markdown",
   "metadata": {},
   "source": [
    "# 欠損値の補完"
   ]
  },
  {
   "cell_type": "code",
   "execution_count": 2,
   "metadata": {},
   "outputs": [],
   "source": [
    "import pandas as pd\n",
    "import numpy as np\n",
    "\n",
    "df = pd.read_csv('sample1_with_index.csv')"
   ]
  },
  {
   "cell_type": "code",
   "execution_count": 6,
   "metadata": {},
   "outputs": [
    {
     "data": {
      "text/html": [
       "<div>\n",
       "<style scoped>\n",
       "    .dataframe tbody tr th:only-of-type {\n",
       "        vertical-align: middle;\n",
       "    }\n",
       "\n",
       "    .dataframe tbody tr th {\n",
       "        vertical-align: top;\n",
       "    }\n",
       "\n",
       "    .dataframe thead th {\n",
       "        text-align: right;\n",
       "    }\n",
       "</style>\n",
       "<table border=\"1\" class=\"dataframe\">\n",
       "  <thead>\n",
       "    <tr style=\"text-align: right;\">\n",
       "      <th></th>\n",
       "      <th>Unnamed: 0</th>\n",
       "      <th>Date</th>\n",
       "      <th>Price</th>\n",
       "      <th>Quantity</th>\n",
       "      <th>Width</th>\n",
       "      <th>Height</th>\n",
       "      <th>Quality</th>\n",
       "      <th>Score</th>\n",
       "      <th>Difference</th>\n",
       "      <th>Color</th>\n",
       "      <th>Shape</th>\n",
       "    </tr>\n",
       "  </thead>\n",
       "  <tbody>\n",
       "    <tr>\n",
       "      <th>0</th>\n",
       "      <td>0</td>\n",
       "      <td>1997-07-05</td>\n",
       "      <td>2291</td>\n",
       "      <td>25</td>\n",
       "      <td>2.946650</td>\n",
       "      <td>5.305868</td>\n",
       "      <td>45.893300</td>\n",
       "      <td>52.762659</td>\n",
       "      <td>0.276266</td>\n",
       "      <td>green</td>\n",
       "      <td>triangle</td>\n",
       "    </tr>\n",
       "    <tr>\n",
       "      <th>1</th>\n",
       "      <td>1</td>\n",
       "      <td>1997-07-06</td>\n",
       "      <td>506</td>\n",
       "      <td>16</td>\n",
       "      <td>1.915208</td>\n",
       "      <td>0.679004</td>\n",
       "      <td>50.611735</td>\n",
       "      <td>31.453719</td>\n",
       "      <td>-1.854628</td>\n",
       "      <td>blue</td>\n",
       "      <td>NaN</td>\n",
       "    </tr>\n",
       "    <tr>\n",
       "      <th>2</th>\n",
       "      <td>2</td>\n",
       "      <td>1997-07-07</td>\n",
       "      <td>9629</td>\n",
       "      <td>32</td>\n",
       "      <td>7.869855</td>\n",
       "      <td>6.563335</td>\n",
       "      <td>43.830416</td>\n",
       "      <td>56.239011</td>\n",
       "      <td>0.623901</td>\n",
       "      <td>blue</td>\n",
       "      <td>square</td>\n",
       "    </tr>\n",
       "    <tr>\n",
       "      <th>3</th>\n",
       "      <td>3</td>\n",
       "      <td>1997-07-08</td>\n",
       "      <td>6161</td>\n",
       "      <td>67</td>\n",
       "      <td>6.375209</td>\n",
       "      <td>5.756029</td>\n",
       "      <td>41.358007</td>\n",
       "      <td>61.453113</td>\n",
       "      <td>1.145311</td>\n",
       "      <td>green</td>\n",
       "      <td>square</td>\n",
       "    </tr>\n",
       "    <tr>\n",
       "      <th>4</th>\n",
       "      <td>4</td>\n",
       "      <td>NaN</td>\n",
       "      <td>8570</td>\n",
       "      <td>55</td>\n",
       "      <td>0.390629</td>\n",
       "      <td>3.578136</td>\n",
       "      <td>55.739709</td>\n",
       "      <td>NaN</td>\n",
       "      <td>1.037190</td>\n",
       "      <td>red</td>\n",
       "      <td>square</td>\n",
       "    </tr>\n",
       "  </tbody>\n",
       "</table>\n",
       "</div>"
      ],
      "text/plain": [
       "   Unnamed: 0        Date  Price  Quantity     Width    Height    Quality  \\\n",
       "0           0  1997-07-05   2291        25  2.946650  5.305868  45.893300   \n",
       "1           1  1997-07-06    506        16  1.915208  0.679004  50.611735   \n",
       "2           2  1997-07-07   9629        32  7.869855  6.563335  43.830416   \n",
       "3           3  1997-07-08   6161        67  6.375209  5.756029  41.358007   \n",
       "4           4         NaN   8570        55  0.390629  3.578136  55.739709   \n",
       "\n",
       "       Score  Difference  Color     Shape  \n",
       "0  52.762659    0.276266  green  triangle  \n",
       "1  31.453719   -1.854628   blue       NaN  \n",
       "2  56.239011    0.623901   blue    square  \n",
       "3  61.453113    1.145311  green    square  \n",
       "4        NaN    1.037190    red    square  "
      ]
     },
     "execution_count": 6,
     "metadata": {},
     "output_type": "execute_result"
    }
   ],
   "source": [
    "df.isnull().sum()\n",
    "df.head()"
   ]
  },
  {
   "cell_type": "markdown",
   "metadata": {},
   "source": [
    "### DataFrameの使い方\n",
    " - loc:要素抽出(location)\n",
    " - iloc:index指定の要素抽出(index location)"
   ]
  },
  {
   "cell_type": "code",
   "execution_count": 5,
   "metadata": {},
   "outputs": [
    {
     "data": {
      "text/plain": [
       "Quantity    50.140000\n",
       "Width        5.166867\n",
       "Height       5.148354\n",
       "Quality     50.039423\n",
       "Score       51.022067\n",
       "dtype: float64"
      ]
     },
     "execution_count": 5,
     "metadata": {},
     "output_type": "execute_result"
    }
   ],
   "source": [
    "df.iloc[:, 3:8].mean() # 行は全部, 列は3~7列目"
   ]
  },
  {
   "cell_type": "code",
   "execution_count": null,
   "metadata": {},
   "outputs": [],
   "source": []
  }
 ],
 "metadata": {
  "kernelspec": {
   "display_name": "kaggle_DNN",
   "language": "python",
   "name": "python3"
  },
  "language_info": {
   "codemirror_mode": {
    "name": "ipython",
    "version": 3
   },
   "file_extension": ".py",
   "mimetype": "text/x-python",
   "name": "python",
   "nbconvert_exporter": "python",
   "pygments_lexer": "ipython3",
   "version": "3.13.0"
  }
 },
 "nbformat": 4,
 "nbformat_minor": 2
}
