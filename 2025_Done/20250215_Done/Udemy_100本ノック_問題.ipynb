{
 "cells": [
  {
   "cell_type": "markdown",
   "metadata": {
    "id": "FwagVN_PnZXO"
   },
   "source": [
    "*1*. データの読み込み\n",
    "- 各種CSVデータを読み込んでください\n",
    "- 各種データフレーム名はsales_df、member_dfとしてください"
   ]
  },
  {
   "cell_type": "code",
   "execution_count": 216,
   "metadata": {},
   "outputs": [],
   "source": [
    "import pandas as pd\n",
    "\n",
    "sales_df = pd.read_csv('Sales_Data.csv')\n",
    "member_df = pd.read_csv('Member_Data.csv')"
   ]
  },
  {
   "cell_type": "markdown",
   "metadata": {
    "id": "hP8NWB3Zn19h"
   },
   "source": [
    "2. 取引データの上部5行を表示してください\n"
   ]
  },
  {
   "cell_type": "code",
   "execution_count": 217,
   "metadata": {},
   "outputs": [
    {
     "data": {
      "text/html": [
       "<div>\n",
       "<style scoped>\n",
       "    .dataframe tbody tr th:only-of-type {\n",
       "        vertical-align: middle;\n",
       "    }\n",
       "\n",
       "    .dataframe tbody tr th {\n",
       "        vertical-align: top;\n",
       "    }\n",
       "\n",
       "    .dataframe thead th {\n",
       "        text-align: right;\n",
       "    }\n",
       "</style>\n",
       "<table border=\"1\" class=\"dataframe\">\n",
       "  <thead>\n",
       "    <tr style=\"text-align: right;\">\n",
       "      <th></th>\n",
       "      <th>Transaction_ID</th>\n",
       "      <th>Transaction_Date</th>\n",
       "      <th>Member_ID</th>\n",
       "      <th>Product_ID</th>\n",
       "      <th>Store_ID</th>\n",
       "      <th>Quantity</th>\n",
       "      <th>Amount</th>\n",
       "    </tr>\n",
       "  </thead>\n",
       "  <tbody>\n",
       "    <tr>\n",
       "      <th>0</th>\n",
       "      <td>1</td>\n",
       "      <td>2024/5/1 0:00</td>\n",
       "      <td>21</td>\n",
       "      <td>25</td>\n",
       "      <td>12</td>\n",
       "      <td>3</td>\n",
       "      <td>5820</td>\n",
       "    </tr>\n",
       "    <tr>\n",
       "      <th>1</th>\n",
       "      <td>2</td>\n",
       "      <td>2024/5/1 2:55</td>\n",
       "      <td>107</td>\n",
       "      <td>23</td>\n",
       "      <td>17</td>\n",
       "      <td>1</td>\n",
       "      <td>640</td>\n",
       "    </tr>\n",
       "    <tr>\n",
       "      <th>2</th>\n",
       "      <td>3</td>\n",
       "      <td>2024/5/1 5:51</td>\n",
       "      <td>117</td>\n",
       "      <td>24</td>\n",
       "      <td>6</td>\n",
       "      <td>3</td>\n",
       "      <td>1270</td>\n",
       "    </tr>\n",
       "    <tr>\n",
       "      <th>3</th>\n",
       "      <td>4</td>\n",
       "      <td>2024/5/1 8:47</td>\n",
       "      <td>124</td>\n",
       "      <td>38</td>\n",
       "      <td>1</td>\n",
       "      <td>3</td>\n",
       "      <td>5980</td>\n",
       "    </tr>\n",
       "    <tr>\n",
       "      <th>4</th>\n",
       "      <td>5</td>\n",
       "      <td>2024/5/1 11:43</td>\n",
       "      <td>281</td>\n",
       "      <td>28</td>\n",
       "      <td>5</td>\n",
       "      <td>4</td>\n",
       "      <td>9390</td>\n",
       "    </tr>\n",
       "  </tbody>\n",
       "</table>\n",
       "</div>"
      ],
      "text/plain": [
       "   Transaction_ID Transaction_Date  Member_ID  Product_ID  Store_ID  Quantity  \\\n",
       "0               1    2024/5/1 0:00         21          25        12         3   \n",
       "1               2    2024/5/1 2:55        107          23        17         1   \n",
       "2               3    2024/5/1 5:51        117          24         6         3   \n",
       "3               4    2024/5/1 8:47        124          38         1         3   \n",
       "4               5   2024/5/1 11:43        281          28         5         4   \n",
       "\n",
       "   Amount  \n",
       "0    5820  \n",
       "1     640  \n",
       "2    1270  \n",
       "3    5980  \n",
       "4    9390  "
      ]
     },
     "execution_count": 217,
     "metadata": {},
     "output_type": "execute_result"
    }
   ],
   "source": [
    "sales_df.head()"
   ]
  },
  {
   "cell_type": "markdown",
   "metadata": {
    "id": "DZhEhgj7ZBTq"
   },
   "source": [
    "3. 会員データの下部5行を表示してください"
   ]
  },
  {
   "cell_type": "code",
   "execution_count": 218,
   "metadata": {},
   "outputs": [
    {
     "data": {
      "text/html": [
       "<div>\n",
       "<style scoped>\n",
       "    .dataframe tbody tr th:only-of-type {\n",
       "        vertical-align: middle;\n",
       "    }\n",
       "\n",
       "    .dataframe tbody tr th {\n",
       "        vertical-align: top;\n",
       "    }\n",
       "\n",
       "    .dataframe thead th {\n",
       "        text-align: right;\n",
       "    }\n",
       "</style>\n",
       "<table border=\"1\" class=\"dataframe\">\n",
       "  <thead>\n",
       "    <tr style=\"text-align: right;\">\n",
       "      <th></th>\n",
       "      <th>Member_ID</th>\n",
       "      <th>Gender</th>\n",
       "      <th>Age</th>\n",
       "      <th>Days_Since_Registration</th>\n",
       "    </tr>\n",
       "  </thead>\n",
       "  <tbody>\n",
       "    <tr>\n",
       "      <th>295</th>\n",
       "      <td>296</td>\n",
       "      <td>Male</td>\n",
       "      <td>41</td>\n",
       "      <td>1513</td>\n",
       "    </tr>\n",
       "    <tr>\n",
       "      <th>296</th>\n",
       "      <td>297</td>\n",
       "      <td>Female</td>\n",
       "      <td>58</td>\n",
       "      <td>1613</td>\n",
       "    </tr>\n",
       "    <tr>\n",
       "      <th>297</th>\n",
       "      <td>298</td>\n",
       "      <td>Female</td>\n",
       "      <td>71</td>\n",
       "      <td>1177</td>\n",
       "    </tr>\n",
       "    <tr>\n",
       "      <th>298</th>\n",
       "      <td>299</td>\n",
       "      <td>Female</td>\n",
       "      <td>38</td>\n",
       "      <td>1660</td>\n",
       "    </tr>\n",
       "    <tr>\n",
       "      <th>299</th>\n",
       "      <td>300</td>\n",
       "      <td>Female</td>\n",
       "      <td>50</td>\n",
       "      <td>104</td>\n",
       "    </tr>\n",
       "  </tbody>\n",
       "</table>\n",
       "</div>"
      ],
      "text/plain": [
       "     Member_ID  Gender  Age  Days_Since_Registration\n",
       "295        296    Male   41                     1513\n",
       "296        297  Female   58                     1613\n",
       "297        298  Female   71                     1177\n",
       "298        299  Female   38                     1660\n",
       "299        300  Female   50                      104"
      ]
     },
     "execution_count": 218,
     "metadata": {},
     "output_type": "execute_result"
    }
   ],
   "source": [
    "# LLMが回答\n",
    "member_df.tail(5)"
   ]
  },
  {
   "cell_type": "code",
   "execution_count": 219,
   "metadata": {},
   "outputs": [],
   "source": [
    "# 自分の回答\n",
    "# member_df.head(-5)"
   ]
  },
  {
   "cell_type": "markdown",
   "metadata": {
    "id": "VxmequBPaQCd"
   },
   "source": [
    "4. 取引データの各カラムの件数や型を確認してください"
   ]
  },
  {
   "cell_type": "code",
   "execution_count": 220,
   "metadata": {},
   "outputs": [
    {
     "name": "stdout",
     "output_type": "stream",
     "text": [
      "<class 'pandas.core.frame.DataFrame'>\n",
      "RangeIndex: 1000 entries, 0 to 999\n",
      "Data columns (total 7 columns):\n",
      " #   Column            Non-Null Count  Dtype \n",
      "---  ------            --------------  ----- \n",
      " 0   Transaction_ID    1000 non-null   int64 \n",
      " 1   Transaction_Date  1000 non-null   object\n",
      " 2   Member_ID         1000 non-null   int64 \n",
      " 3   Product_ID        1000 non-null   int64 \n",
      " 4   Store_ID          1000 non-null   int64 \n",
      " 5   Quantity          1000 non-null   int64 \n",
      " 6   Amount            1000 non-null   int64 \n",
      "dtypes: int64(6), object(1)\n",
      "memory usage: 54.8+ KB\n"
     ]
    }
   ],
   "source": [
    "sales_df.info()"
   ]
  },
  {
   "cell_type": "markdown",
   "metadata": {
    "id": "QfR1bpBLkgba"
   },
   "source": [
    "5. 取引データの各種IDのカラムを質的変数に型変換してください。会員データに関しても同様に各種IDを質的変数に型変換してください\n"
   ]
  },
  {
   "cell_type": "code",
   "execution_count": 221,
   "metadata": {},
   "outputs": [
    {
     "name": "stdout",
     "output_type": "stream",
     "text": [
      "<class 'pandas.core.frame.DataFrame'>\n",
      "RangeIndex: 300 entries, 0 to 299\n",
      "Data columns (total 4 columns):\n",
      " #   Column                   Non-Null Count  Dtype \n",
      "---  ------                   --------------  ----- \n",
      " 0   Member_ID                300 non-null    int64 \n",
      " 1   Gender                   300 non-null    object\n",
      " 2   Age                      300 non-null    int64 \n",
      " 3   Days_Since_Registration  300 non-null    int64 \n",
      "dtypes: int64(3), object(1)\n",
      "memory usage: 9.5+ KB\n"
     ]
    }
   ],
   "source": [
    "member_df.info()\n",
    "\n",
    "# 一般的にIDは質的変数に変換したほうがいい。\n",
    "# おそらく、数字の順や大きさにはあまり意味がなく、特定できればいいので、質的変数に変換する。\n",
    "\n",
    "# sales_dfとmember_dfは、Menber_IDをキーにして結合することができる。これはよくあるらしい。"
   ]
  },
  {
   "cell_type": "code",
   "execution_count": 222,
   "metadata": {},
   "outputs": [],
   "source": [
    "# LLMが回答\n",
    "# Convert ID columns in sales_df to categorical type\n",
    "sales_df['Transaction_ID'] = sales_df['Transaction_ID'].astype('category')\n",
    "sales_df['Member_ID'] = sales_df['Member_ID'].astype('category')\n",
    "sales_df['Product_ID'] = sales_df['Product_ID'].astype('category')\n",
    "sales_df['Store_ID'] = sales_df['Store_ID'].astype('category')\n",
    "\n",
    "# Convert ID columns in member_df to categorical type\n",
    "member_df['Member_ID'] = member_df['Member_ID'].astype('category')\n",
    "\n",
    "\n",
    "# 解答例では、IDをastype(\"string\")としている"
   ]
  },
  {
   "cell_type": "code",
   "execution_count": 223,
   "metadata": {},
   "outputs": [
    {
     "name": "stdout",
     "output_type": "stream",
     "text": [
      "<class 'pandas.core.frame.DataFrame'>\n",
      "RangeIndex: 1000 entries, 0 to 999\n",
      "Data columns (total 7 columns):\n",
      " #   Column            Non-Null Count  Dtype   \n",
      "---  ------            --------------  -----   \n",
      " 0   Transaction_ID    1000 non-null   category\n",
      " 1   Transaction_Date  1000 non-null   object  \n",
      " 2   Member_ID         1000 non-null   category\n",
      " 3   Product_ID        1000 non-null   category\n",
      " 4   Store_ID          1000 non-null   category\n",
      " 5   Quantity          1000 non-null   int64   \n",
      " 6   Amount            1000 non-null   int64   \n",
      "dtypes: category(4), int64(2), object(1)\n",
      "memory usage: 83.0+ KB\n",
      "<class 'pandas.core.frame.DataFrame'>\n",
      "RangeIndex: 300 entries, 0 to 299\n",
      "Data columns (total 4 columns):\n",
      " #   Column                   Non-Null Count  Dtype   \n",
      "---  ------                   --------------  -----   \n",
      " 0   Member_ID                300 non-null    category\n",
      " 1   Gender                   300 non-null    object  \n",
      " 2   Age                      300 non-null    int64   \n",
      " 3   Days_Since_Registration  300 non-null    int64   \n",
      "dtypes: category(1), int64(2), object(1)\n",
      "memory usage: 18.2+ KB\n"
     ]
    },
    {
     "data": {
      "text/plain": [
       "(None, None)"
      ]
     },
     "execution_count": 223,
     "metadata": {},
     "output_type": "execute_result"
    }
   ],
   "source": [
    "sales_df.info(), member_df.info() # Check if the conversion was successful"
   ]
  },
  {
   "cell_type": "code",
   "execution_count": 224,
   "metadata": {},
   "outputs": [],
   "source": [
    "# member_df['Days_Since_Registration']"
   ]
  },
  {
   "cell_type": "markdown",
   "metadata": {
    "id": "yIpRTDMmZaPQ"
   },
   "source": [
    "6. 日付データをdatetime型に変換してください"
   ]
  },
  {
   "cell_type": "code",
   "execution_count": 225,
   "metadata": {},
   "outputs": [],
   "source": [
    "sales_df['Transaction_Date'] = pd.to_datetime(sales_df['Transaction_Date'])"
   ]
  },
  {
   "cell_type": "markdown",
   "metadata": {
    "id": "GW4mLtQOn_FF"
   },
   "source": [
    "7. 取引データの各列の基本的な統計情報（平均、標準偏差など）を表示してください"
   ]
  },
  {
   "cell_type": "code",
   "execution_count": 226,
   "metadata": {},
   "outputs": [
    {
     "data": {
      "text/html": [
       "<div>\n",
       "<style scoped>\n",
       "    .dataframe tbody tr th:only-of-type {\n",
       "        vertical-align: middle;\n",
       "    }\n",
       "\n",
       "    .dataframe tbody tr th {\n",
       "        vertical-align: top;\n",
       "    }\n",
       "\n",
       "    .dataframe thead th {\n",
       "        text-align: right;\n",
       "    }\n",
       "</style>\n",
       "<table border=\"1\" class=\"dataframe\">\n",
       "  <thead>\n",
       "    <tr style=\"text-align: right;\">\n",
       "      <th></th>\n",
       "      <th>Transaction_Date</th>\n",
       "      <th>Quantity</th>\n",
       "      <th>Amount</th>\n",
       "    </tr>\n",
       "  </thead>\n",
       "  <tbody>\n",
       "    <tr>\n",
       "      <th>count</th>\n",
       "      <td>1000</td>\n",
       "      <td>1000.000000</td>\n",
       "      <td>1000.000000</td>\n",
       "    </tr>\n",
       "    <tr>\n",
       "      <th>mean</th>\n",
       "      <td>2024-06-30 23:59:30.299999744</td>\n",
       "      <td>2.551000</td>\n",
       "      <td>5338.650000</td>\n",
       "    </tr>\n",
       "    <tr>\n",
       "      <th>min</th>\n",
       "      <td>2024-05-01 00:00:00</td>\n",
       "      <td>1.000000</td>\n",
       "      <td>510.000000</td>\n",
       "    </tr>\n",
       "    <tr>\n",
       "      <th>25%</th>\n",
       "      <td>2024-05-31 11:59:15</td>\n",
       "      <td>2.000000</td>\n",
       "      <td>3022.500000</td>\n",
       "    </tr>\n",
       "    <tr>\n",
       "      <th>50%</th>\n",
       "      <td>2024-06-30 23:59:30</td>\n",
       "      <td>3.000000</td>\n",
       "      <td>5250.000000</td>\n",
       "    </tr>\n",
       "    <tr>\n",
       "      <th>75%</th>\n",
       "      <td>2024-07-31 11:59:45</td>\n",
       "      <td>4.000000</td>\n",
       "      <td>7752.500000</td>\n",
       "    </tr>\n",
       "    <tr>\n",
       "      <th>max</th>\n",
       "      <td>2024-08-31 00:00:00</td>\n",
       "      <td>4.000000</td>\n",
       "      <td>10000.000000</td>\n",
       "    </tr>\n",
       "    <tr>\n",
       "      <th>std</th>\n",
       "      <td>NaN</td>\n",
       "      <td>1.103003</td>\n",
       "      <td>2778.234487</td>\n",
       "    </tr>\n",
       "  </tbody>\n",
       "</table>\n",
       "</div>"
      ],
      "text/plain": [
       "                    Transaction_Date     Quantity        Amount\n",
       "count                           1000  1000.000000   1000.000000\n",
       "mean   2024-06-30 23:59:30.299999744     2.551000   5338.650000\n",
       "min              2024-05-01 00:00:00     1.000000    510.000000\n",
       "25%              2024-05-31 11:59:15     2.000000   3022.500000\n",
       "50%              2024-06-30 23:59:30     3.000000   5250.000000\n",
       "75%              2024-07-31 11:59:45     4.000000   7752.500000\n",
       "max              2024-08-31 00:00:00     4.000000  10000.000000\n",
       "std                              NaN     1.103003   2778.234487"
      ]
     },
     "execution_count": 226,
     "metadata": {},
     "output_type": "execute_result"
    }
   ],
   "source": [
    "sales_df.describe()"
   ]
  },
  {
   "cell_type": "markdown",
   "metadata": {
    "id": "xx2xrxd9oGAu"
   },
   "source": [
    "8. カラム名の変更\n",
    "- データフレームのAmountのカラム名をSales_Amountに変更してください\n",
    "- データフレームは上書きしないでください\n"
   ]
  },
  {
   "cell_type": "code",
   "execution_count": 227,
   "metadata": {},
   "outputs": [],
   "source": [
    "# LLMが回答\n",
    "sales_df_llm_work = sales_df.rename(columns={'Amount': 'Sales_Amount'})"
   ]
  },
  {
   "cell_type": "code",
   "execution_count": 228,
   "metadata": {},
   "outputs": [
    {
     "name": "stdout",
     "output_type": "stream",
     "text": [
      "<class 'pandas.core.frame.DataFrame'>\n",
      "RangeIndex: 1000 entries, 0 to 999\n",
      "Data columns (total 7 columns):\n",
      " #   Column            Non-Null Count  Dtype         \n",
      "---  ------            --------------  -----         \n",
      " 0   Transaction_ID    1000 non-null   category      \n",
      " 1   Transaction_Date  1000 non-null   datetime64[ns]\n",
      " 2   Member_ID         1000 non-null   category      \n",
      " 3   Product_ID        1000 non-null   category      \n",
      " 4   Store_ID          1000 non-null   category      \n",
      " 5   Quantity          1000 non-null   int64         \n",
      " 6   Sales_Amount      1000 non-null   int64         \n",
      "dtypes: category(4), datetime64[ns](1), int64(2)\n",
      "memory usage: 83.0 KB\n"
     ]
    }
   ],
   "source": [
    "# 自分で調べた方法\n",
    "sales_df_my_work = sales_df.copy()\n",
    "# sales_df['Amount']\n",
    "sales_df_my_work.columns = ['Transaction_ID', 'Transaction_Date', 'Member_ID', 'Product_ID',\n",
    "       'Store_ID', 'Quantity', 'Sales_Amount']\n",
    "sales_df_my_work.info()"
   ]
  },
  {
   "cell_type": "code",
   "execution_count": 229,
   "metadata": {},
   "outputs": [
    {
     "data": {
      "text/html": [
       "<div>\n",
       "<style scoped>\n",
       "    .dataframe tbody tr th:only-of-type {\n",
       "        vertical-align: middle;\n",
       "    }\n",
       "\n",
       "    .dataframe tbody tr th {\n",
       "        vertical-align: top;\n",
       "    }\n",
       "\n",
       "    .dataframe thead th {\n",
       "        text-align: right;\n",
       "    }\n",
       "</style>\n",
       "<table border=\"1\" class=\"dataframe\">\n",
       "  <thead>\n",
       "    <tr style=\"text-align: right;\">\n",
       "      <th></th>\n",
       "      <th>Transaction_ID</th>\n",
       "      <th>Transaction_Date</th>\n",
       "      <th>Member_ID</th>\n",
       "      <th>Product_ID</th>\n",
       "      <th>Store_ID</th>\n",
       "      <th>Quantity</th>\n",
       "      <th>Sales_Amount</th>\n",
       "    </tr>\n",
       "  </thead>\n",
       "  <tbody>\n",
       "    <tr>\n",
       "      <th>0</th>\n",
       "      <td>1</td>\n",
       "      <td>2024-05-01 00:00:00</td>\n",
       "      <td>21</td>\n",
       "      <td>25</td>\n",
       "      <td>12</td>\n",
       "      <td>3</td>\n",
       "      <td>5820</td>\n",
       "    </tr>\n",
       "    <tr>\n",
       "      <th>1</th>\n",
       "      <td>2</td>\n",
       "      <td>2024-05-01 02:55:00</td>\n",
       "      <td>107</td>\n",
       "      <td>23</td>\n",
       "      <td>17</td>\n",
       "      <td>1</td>\n",
       "      <td>640</td>\n",
       "    </tr>\n",
       "    <tr>\n",
       "      <th>2</th>\n",
       "      <td>3</td>\n",
       "      <td>2024-05-01 05:51:00</td>\n",
       "      <td>117</td>\n",
       "      <td>24</td>\n",
       "      <td>6</td>\n",
       "      <td>3</td>\n",
       "      <td>1270</td>\n",
       "    </tr>\n",
       "    <tr>\n",
       "      <th>3</th>\n",
       "      <td>4</td>\n",
       "      <td>2024-05-01 08:47:00</td>\n",
       "      <td>124</td>\n",
       "      <td>38</td>\n",
       "      <td>1</td>\n",
       "      <td>3</td>\n",
       "      <td>5980</td>\n",
       "    </tr>\n",
       "    <tr>\n",
       "      <th>4</th>\n",
       "      <td>5</td>\n",
       "      <td>2024-05-01 11:43:00</td>\n",
       "      <td>281</td>\n",
       "      <td>28</td>\n",
       "      <td>5</td>\n",
       "      <td>4</td>\n",
       "      <td>9390</td>\n",
       "    </tr>\n",
       "  </tbody>\n",
       "</table>\n",
       "</div>"
      ],
      "text/plain": [
       "  Transaction_ID    Transaction_Date Member_ID Product_ID Store_ID  Quantity  \\\n",
       "0              1 2024-05-01 00:00:00        21         25       12         3   \n",
       "1              2 2024-05-01 02:55:00       107         23       17         1   \n",
       "2              3 2024-05-01 05:51:00       117         24        6         3   \n",
       "3              4 2024-05-01 08:47:00       124         38        1         3   \n",
       "4              5 2024-05-01 11:43:00       281         28        5         4   \n",
       "\n",
       "   Sales_Amount  \n",
       "0          5820  \n",
       "1           640  \n",
       "2          1270  \n",
       "3          5980  \n",
       "4          9390  "
      ]
     },
     "execution_count": 229,
     "metadata": {},
     "output_type": "execute_result"
    }
   ],
   "source": [
    "# 二つのやり方を比較\n",
    "sales_df_llm_work.head()\n",
    "# print(\"=\"*20)\n",
    "sales_df_my_work.head()\n",
    "\n",
    "# 両方同じ結果が出たので、どちらでも良い"
   ]
  },
  {
   "cell_type": "markdown",
   "metadata": {
    "id": "370609cYjhSF"
   },
   "source": [
    "9. Amountを100円単位に四捨五入して表示してください"
   ]
  },
  {
   "cell_type": "code",
   "execution_count": 230,
   "metadata": {},
   "outputs": [
    {
     "data": {
      "text/html": [
       "<div>\n",
       "<style scoped>\n",
       "    .dataframe tbody tr th:only-of-type {\n",
       "        vertical-align: middle;\n",
       "    }\n",
       "\n",
       "    .dataframe tbody tr th {\n",
       "        vertical-align: top;\n",
       "    }\n",
       "\n",
       "    .dataframe thead th {\n",
       "        text-align: right;\n",
       "    }\n",
       "</style>\n",
       "<table border=\"1\" class=\"dataframe\">\n",
       "  <thead>\n",
       "    <tr style=\"text-align: right;\">\n",
       "      <th></th>\n",
       "      <th>Transaction_ID</th>\n",
       "      <th>Transaction_Date</th>\n",
       "      <th>Member_ID</th>\n",
       "      <th>Product_ID</th>\n",
       "      <th>Store_ID</th>\n",
       "      <th>Quantity</th>\n",
       "      <th>Sales_Amount</th>\n",
       "    </tr>\n",
       "  </thead>\n",
       "  <tbody>\n",
       "    <tr>\n",
       "      <th>0</th>\n",
       "      <td>1</td>\n",
       "      <td>2024-05-01 00:00:00</td>\n",
       "      <td>21</td>\n",
       "      <td>25</td>\n",
       "      <td>12</td>\n",
       "      <td>3</td>\n",
       "      <td>5800</td>\n",
       "    </tr>\n",
       "    <tr>\n",
       "      <th>1</th>\n",
       "      <td>2</td>\n",
       "      <td>2024-05-01 02:55:00</td>\n",
       "      <td>107</td>\n",
       "      <td>23</td>\n",
       "      <td>17</td>\n",
       "      <td>1</td>\n",
       "      <td>600</td>\n",
       "    </tr>\n",
       "    <tr>\n",
       "      <th>2</th>\n",
       "      <td>3</td>\n",
       "      <td>2024-05-01 05:51:00</td>\n",
       "      <td>117</td>\n",
       "      <td>24</td>\n",
       "      <td>6</td>\n",
       "      <td>3</td>\n",
       "      <td>1300</td>\n",
       "    </tr>\n",
       "    <tr>\n",
       "      <th>3</th>\n",
       "      <td>4</td>\n",
       "      <td>2024-05-01 08:47:00</td>\n",
       "      <td>124</td>\n",
       "      <td>38</td>\n",
       "      <td>1</td>\n",
       "      <td>3</td>\n",
       "      <td>6000</td>\n",
       "    </tr>\n",
       "    <tr>\n",
       "      <th>4</th>\n",
       "      <td>5</td>\n",
       "      <td>2024-05-01 11:43:00</td>\n",
       "      <td>281</td>\n",
       "      <td>28</td>\n",
       "      <td>5</td>\n",
       "      <td>4</td>\n",
       "      <td>9400</td>\n",
       "    </tr>\n",
       "  </tbody>\n",
       "</table>\n",
       "</div>"
      ],
      "text/plain": [
       "  Transaction_ID    Transaction_Date Member_ID Product_ID Store_ID  Quantity  \\\n",
       "0              1 2024-05-01 00:00:00        21         25       12         3   \n",
       "1              2 2024-05-01 02:55:00       107         23       17         1   \n",
       "2              3 2024-05-01 05:51:00       117         24        6         3   \n",
       "3              4 2024-05-01 08:47:00       124         38        1         3   \n",
       "4              5 2024-05-01 11:43:00       281         28        5         4   \n",
       "\n",
       "   Sales_Amount  \n",
       "0          5800  \n",
       "1           600  \n",
       "2          1300  \n",
       "3          6000  \n",
       "4          9400  "
      ]
     },
     "execution_count": 230,
     "metadata": {},
     "output_type": "execute_result"
    }
   ],
   "source": [
    "# 自分で調べた方法\n",
    "sales_df_my_work['Sales_Amount'] = sales_df_my_work['Sales_Amount'].round(-2) # Round to the nearest 100\n",
    "sales_df_my_work.head()"
   ]
  },
  {
   "cell_type": "code",
   "execution_count": 231,
   "metadata": {},
   "outputs": [
    {
     "data": {
      "text/html": [
       "<div>\n",
       "<style scoped>\n",
       "    .dataframe tbody tr th:only-of-type {\n",
       "        vertical-align: middle;\n",
       "    }\n",
       "\n",
       "    .dataframe tbody tr th {\n",
       "        vertical-align: top;\n",
       "    }\n",
       "\n",
       "    .dataframe thead th {\n",
       "        text-align: right;\n",
       "    }\n",
       "</style>\n",
       "<table border=\"1\" class=\"dataframe\">\n",
       "  <thead>\n",
       "    <tr style=\"text-align: right;\">\n",
       "      <th></th>\n",
       "      <th>Transaction_ID</th>\n",
       "      <th>Transaction_Date</th>\n",
       "      <th>Member_ID</th>\n",
       "      <th>Product_ID</th>\n",
       "      <th>Store_ID</th>\n",
       "      <th>Quantity</th>\n",
       "      <th>Sales_Amount</th>\n",
       "    </tr>\n",
       "  </thead>\n",
       "  <tbody>\n",
       "    <tr>\n",
       "      <th>0</th>\n",
       "      <td>1</td>\n",
       "      <td>2024-05-01 00:00:00</td>\n",
       "      <td>21</td>\n",
       "      <td>25</td>\n",
       "      <td>12</td>\n",
       "      <td>3</td>\n",
       "      <td>5800</td>\n",
       "    </tr>\n",
       "    <tr>\n",
       "      <th>1</th>\n",
       "      <td>2</td>\n",
       "      <td>2024-05-01 02:55:00</td>\n",
       "      <td>107</td>\n",
       "      <td>23</td>\n",
       "      <td>17</td>\n",
       "      <td>1</td>\n",
       "      <td>600</td>\n",
       "    </tr>\n",
       "    <tr>\n",
       "      <th>2</th>\n",
       "      <td>3</td>\n",
       "      <td>2024-05-01 05:51:00</td>\n",
       "      <td>117</td>\n",
       "      <td>24</td>\n",
       "      <td>6</td>\n",
       "      <td>3</td>\n",
       "      <td>1300</td>\n",
       "    </tr>\n",
       "    <tr>\n",
       "      <th>3</th>\n",
       "      <td>4</td>\n",
       "      <td>2024-05-01 08:47:00</td>\n",
       "      <td>124</td>\n",
       "      <td>38</td>\n",
       "      <td>1</td>\n",
       "      <td>3</td>\n",
       "      <td>6000</td>\n",
       "    </tr>\n",
       "    <tr>\n",
       "      <th>4</th>\n",
       "      <td>5</td>\n",
       "      <td>2024-05-01 11:43:00</td>\n",
       "      <td>281</td>\n",
       "      <td>28</td>\n",
       "      <td>5</td>\n",
       "      <td>4</td>\n",
       "      <td>9400</td>\n",
       "    </tr>\n",
       "  </tbody>\n",
       "</table>\n",
       "</div>"
      ],
      "text/plain": [
       "  Transaction_ID    Transaction_Date Member_ID Product_ID Store_ID  Quantity  \\\n",
       "0              1 2024-05-01 00:00:00        21         25       12         3   \n",
       "1              2 2024-05-01 02:55:00       107         23       17         1   \n",
       "2              3 2024-05-01 05:51:00       117         24        6         3   \n",
       "3              4 2024-05-01 08:47:00       124         38        1         3   \n",
       "4              5 2024-05-01 11:43:00       281         28        5         4   \n",
       "\n",
       "   Sales_Amount  \n",
       "0          5800  \n",
       "1           600  \n",
       "2          1300  \n",
       "3          6000  \n",
       "4          9400  "
      ]
     },
     "execution_count": 231,
     "metadata": {},
     "output_type": "execute_result"
    }
   ],
   "source": [
    "# LLMが回答(同じ結果になった)\n",
    "sales_df_llm_work['Sales_Amount'] = sales_df_llm_work['Sales_Amount'].round(-2)  # Round to the nearest 100\n",
    "sales_df_llm_work.head()"
   ]
  },
  {
   "cell_type": "markdown",
   "metadata": {
    "id": "XgxZiYGea4qW"
   },
   "source": [
    "10. 取引データからAmountが5000円を超える取引を抽出してください"
   ]
  },
  {
   "cell_type": "code",
   "execution_count": 232,
   "metadata": {},
   "outputs": [
    {
     "data": {
      "text/html": [
       "<div>\n",
       "<style scoped>\n",
       "    .dataframe tbody tr th:only-of-type {\n",
       "        vertical-align: middle;\n",
       "    }\n",
       "\n",
       "    .dataframe tbody tr th {\n",
       "        vertical-align: top;\n",
       "    }\n",
       "\n",
       "    .dataframe thead th {\n",
       "        text-align: right;\n",
       "    }\n",
       "</style>\n",
       "<table border=\"1\" class=\"dataframe\">\n",
       "  <thead>\n",
       "    <tr style=\"text-align: right;\">\n",
       "      <th></th>\n",
       "      <th>Transaction_ID</th>\n",
       "      <th>Transaction_Date</th>\n",
       "      <th>Member_ID</th>\n",
       "      <th>Product_ID</th>\n",
       "      <th>Store_ID</th>\n",
       "      <th>Quantity</th>\n",
       "      <th>Sales_Amount</th>\n",
       "    </tr>\n",
       "  </thead>\n",
       "  <tbody>\n",
       "    <tr>\n",
       "      <th>0</th>\n",
       "      <td>1</td>\n",
       "      <td>2024-05-01 00:00:00</td>\n",
       "      <td>21</td>\n",
       "      <td>25</td>\n",
       "      <td>12</td>\n",
       "      <td>3</td>\n",
       "      <td>5800</td>\n",
       "    </tr>\n",
       "    <tr>\n",
       "      <th>3</th>\n",
       "      <td>4</td>\n",
       "      <td>2024-05-01 08:47:00</td>\n",
       "      <td>124</td>\n",
       "      <td>38</td>\n",
       "      <td>1</td>\n",
       "      <td>3</td>\n",
       "      <td>6000</td>\n",
       "    </tr>\n",
       "    <tr>\n",
       "      <th>4</th>\n",
       "      <td>5</td>\n",
       "      <td>2024-05-01 11:43:00</td>\n",
       "      <td>281</td>\n",
       "      <td>28</td>\n",
       "      <td>5</td>\n",
       "      <td>4</td>\n",
       "      <td>9400</td>\n",
       "    </tr>\n",
       "    <tr>\n",
       "      <th>5</th>\n",
       "      <td>6</td>\n",
       "      <td>2024-05-01 14:39:00</td>\n",
       "      <td>292</td>\n",
       "      <td>21</td>\n",
       "      <td>14</td>\n",
       "      <td>4</td>\n",
       "      <td>8700</td>\n",
       "    </tr>\n",
       "    <tr>\n",
       "      <th>6</th>\n",
       "      <td>7</td>\n",
       "      <td>2024-05-01 17:35:00</td>\n",
       "      <td>203</td>\n",
       "      <td>43</td>\n",
       "      <td>5</td>\n",
       "      <td>3</td>\n",
       "      <td>9800</td>\n",
       "    </tr>\n",
       "  </tbody>\n",
       "</table>\n",
       "</div>"
      ],
      "text/plain": [
       "  Transaction_ID    Transaction_Date Member_ID Product_ID Store_ID  Quantity  \\\n",
       "0              1 2024-05-01 00:00:00        21         25       12         3   \n",
       "3              4 2024-05-01 08:47:00       124         38        1         3   \n",
       "4              5 2024-05-01 11:43:00       281         28        5         4   \n",
       "5              6 2024-05-01 14:39:00       292         21       14         4   \n",
       "6              7 2024-05-01 17:35:00       203         43        5         3   \n",
       "\n",
       "   Sales_Amount  \n",
       "0          5800  \n",
       "3          6000  \n",
       "4          9400  \n",
       "5          8700  \n",
       "6          9800  "
      ]
     },
     "execution_count": 232,
     "metadata": {},
     "output_type": "execute_result"
    }
   ],
   "source": [
    "sales_df_my_work[sales_df_my_work['Sales_Amount'] > 5000].head()\n",
    "\n",
    "# 解答例\n",
    "sales_df_my_work.query('Sales_Amount > 5000').head()\n",
    "# 汎用的に使える。よく使う。クエリの中に条件分を入れる。"
   ]
  },
  {
   "cell_type": "markdown",
   "metadata": {
    "id": "X6y6OyXva98A"
   },
   "source": [
    "11. 会員データから30歳から50歳の会員を抽出してください"
   ]
  },
  {
   "cell_type": "code",
   "execution_count": 233,
   "metadata": {},
   "outputs": [
    {
     "name": "stdout",
     "output_type": "stream",
     "text": [
      "    Member_ID  Gender  Age  Days_Since_Registration\n",
      "3           4  Female   49                     1881\n",
      "8           9    Male   48                     1640\n",
      "9          10  Female   48                     1317\n",
      "12         13    Male   41                     1855\n",
      "13         14    Male   33                      928\n",
      "..        ...     ...  ...                      ...\n",
      "292       293  Female   35                      388\n",
      "293       294    Male   32                     1127\n",
      "295       296    Male   41                     1513\n",
      "298       299  Female   38                     1660\n",
      "299       300  Female   50                      104\n",
      "\n",
      "[114 rows x 4 columns]\n"
     ]
    }
   ],
   "source": [
    "# 自分の回答\n",
    "# member_df[30 <= member_df['Age'] <= 50].head() # この書き方はエラーになる。条件式は分ける必要がある。\n",
    "\n",
    "# 自分で調べた方法\n",
    "# filtered_df = member_df.query('30 <= Age <= 50')\n",
    "# print(filtered_df) # 同じ結果になる\n",
    "filtered_df = member_df.loc[(member_df['Age'] >= 30) & (member_df['Age'] <= 50)]\n",
    "print(filtered_df)"
   ]
  },
  {
   "cell_type": "code",
   "execution_count": 234,
   "metadata": {},
   "outputs": [
    {
     "data": {
      "text/html": [
       "<div>\n",
       "<style scoped>\n",
       "    .dataframe tbody tr th:only-of-type {\n",
       "        vertical-align: middle;\n",
       "    }\n",
       "\n",
       "    .dataframe tbody tr th {\n",
       "        vertical-align: top;\n",
       "    }\n",
       "\n",
       "    .dataframe thead th {\n",
       "        text-align: right;\n",
       "    }\n",
       "</style>\n",
       "<table border=\"1\" class=\"dataframe\">\n",
       "  <thead>\n",
       "    <tr style=\"text-align: right;\">\n",
       "      <th></th>\n",
       "      <th>Member_ID</th>\n",
       "      <th>Gender</th>\n",
       "      <th>Age</th>\n",
       "      <th>Days_Since_Registration</th>\n",
       "    </tr>\n",
       "  </thead>\n",
       "  <tbody>\n",
       "    <tr>\n",
       "      <th>3</th>\n",
       "      <td>4</td>\n",
       "      <td>Female</td>\n",
       "      <td>49</td>\n",
       "      <td>1881</td>\n",
       "    </tr>\n",
       "    <tr>\n",
       "      <th>8</th>\n",
       "      <td>9</td>\n",
       "      <td>Male</td>\n",
       "      <td>48</td>\n",
       "      <td>1640</td>\n",
       "    </tr>\n",
       "    <tr>\n",
       "      <th>9</th>\n",
       "      <td>10</td>\n",
       "      <td>Female</td>\n",
       "      <td>48</td>\n",
       "      <td>1317</td>\n",
       "    </tr>\n",
       "    <tr>\n",
       "      <th>12</th>\n",
       "      <td>13</td>\n",
       "      <td>Male</td>\n",
       "      <td>41</td>\n",
       "      <td>1855</td>\n",
       "    </tr>\n",
       "    <tr>\n",
       "      <th>13</th>\n",
       "      <td>14</td>\n",
       "      <td>Male</td>\n",
       "      <td>33</td>\n",
       "      <td>928</td>\n",
       "    </tr>\n",
       "    <tr>\n",
       "      <th>...</th>\n",
       "      <td>...</td>\n",
       "      <td>...</td>\n",
       "      <td>...</td>\n",
       "      <td>...</td>\n",
       "    </tr>\n",
       "    <tr>\n",
       "      <th>292</th>\n",
       "      <td>293</td>\n",
       "      <td>Female</td>\n",
       "      <td>35</td>\n",
       "      <td>388</td>\n",
       "    </tr>\n",
       "    <tr>\n",
       "      <th>293</th>\n",
       "      <td>294</td>\n",
       "      <td>Male</td>\n",
       "      <td>32</td>\n",
       "      <td>1127</td>\n",
       "    </tr>\n",
       "    <tr>\n",
       "      <th>295</th>\n",
       "      <td>296</td>\n",
       "      <td>Male</td>\n",
       "      <td>41</td>\n",
       "      <td>1513</td>\n",
       "    </tr>\n",
       "    <tr>\n",
       "      <th>298</th>\n",
       "      <td>299</td>\n",
       "      <td>Female</td>\n",
       "      <td>38</td>\n",
       "      <td>1660</td>\n",
       "    </tr>\n",
       "    <tr>\n",
       "      <th>299</th>\n",
       "      <td>300</td>\n",
       "      <td>Female</td>\n",
       "      <td>50</td>\n",
       "      <td>104</td>\n",
       "    </tr>\n",
       "  </tbody>\n",
       "</table>\n",
       "<p>114 rows × 4 columns</p>\n",
       "</div>"
      ],
      "text/plain": [
       "    Member_ID  Gender  Age  Days_Since_Registration\n",
       "3           4  Female   49                     1881\n",
       "8           9    Male   48                     1640\n",
       "9          10  Female   48                     1317\n",
       "12         13    Male   41                     1855\n",
       "13         14    Male   33                      928\n",
       "..        ...     ...  ...                      ...\n",
       "292       293  Female   35                      388\n",
       "293       294    Male   32                     1127\n",
       "295       296    Male   41                     1513\n",
       "298       299  Female   38                     1660\n",
       "299       300  Female   50                      104\n",
       "\n",
       "[114 rows x 4 columns]"
      ]
     },
     "execution_count": 234,
     "metadata": {},
     "output_type": "execute_result"
    }
   ],
   "source": [
    "# LLMが回答\n",
    "member_df[(member_df['Age'] >= 30) & (member_df['Age'] <= 50)]"
   ]
  },
  {
   "cell_type": "markdown",
   "metadata": {
    "id": "bLPVEfXsbIiT"
   },
   "source": [
    "12. 取引データから\"2024-08-01\"以降に行われた取引を抽出してください"
   ]
  },
  {
   "cell_type": "code",
   "execution_count": 235,
   "metadata": {},
   "outputs": [
    {
     "data": {
      "text/html": [
       "<div>\n",
       "<style scoped>\n",
       "    .dataframe tbody tr th:only-of-type {\n",
       "        vertical-align: middle;\n",
       "    }\n",
       "\n",
       "    .dataframe tbody tr th {\n",
       "        vertical-align: top;\n",
       "    }\n",
       "\n",
       "    .dataframe thead th {\n",
       "        text-align: right;\n",
       "    }\n",
       "</style>\n",
       "<table border=\"1\" class=\"dataframe\">\n",
       "  <thead>\n",
       "    <tr style=\"text-align: right;\">\n",
       "      <th></th>\n",
       "      <th>Transaction_ID</th>\n",
       "      <th>Transaction_Date</th>\n",
       "      <th>Member_ID</th>\n",
       "      <th>Product_ID</th>\n",
       "      <th>Store_ID</th>\n",
       "      <th>Quantity</th>\n",
       "      <th>Sales_Amount</th>\n",
       "    </tr>\n",
       "  </thead>\n",
       "  <tbody>\n",
       "    <tr>\n",
       "      <th>754</th>\n",
       "      <td>755</td>\n",
       "      <td>2024-08-01 01:55:00</td>\n",
       "      <td>226</td>\n",
       "      <td>17</td>\n",
       "      <td>14</td>\n",
       "      <td>4</td>\n",
       "      <td>8600</td>\n",
       "    </tr>\n",
       "    <tr>\n",
       "      <th>755</th>\n",
       "      <td>756</td>\n",
       "      <td>2024-08-01 04:51:00</td>\n",
       "      <td>131</td>\n",
       "      <td>18</td>\n",
       "      <td>18</td>\n",
       "      <td>3</td>\n",
       "      <td>1000</td>\n",
       "    </tr>\n",
       "    <tr>\n",
       "      <th>756</th>\n",
       "      <td>757</td>\n",
       "      <td>2024-08-01 07:47:00</td>\n",
       "      <td>76</td>\n",
       "      <td>45</td>\n",
       "      <td>13</td>\n",
       "      <td>3</td>\n",
       "      <td>1900</td>\n",
       "    </tr>\n",
       "    <tr>\n",
       "      <th>757</th>\n",
       "      <td>758</td>\n",
       "      <td>2024-08-01 10:42:00</td>\n",
       "      <td>286</td>\n",
       "      <td>29</td>\n",
       "      <td>11</td>\n",
       "      <td>1</td>\n",
       "      <td>4400</td>\n",
       "    </tr>\n",
       "    <tr>\n",
       "      <th>758</th>\n",
       "      <td>759</td>\n",
       "      <td>2024-08-01 13:38:00</td>\n",
       "      <td>277</td>\n",
       "      <td>20</td>\n",
       "      <td>16</td>\n",
       "      <td>1</td>\n",
       "      <td>5100</td>\n",
       "    </tr>\n",
       "    <tr>\n",
       "      <th>...</th>\n",
       "      <td>...</td>\n",
       "      <td>...</td>\n",
       "      <td>...</td>\n",
       "      <td>...</td>\n",
       "      <td>...</td>\n",
       "      <td>...</td>\n",
       "      <td>...</td>\n",
       "    </tr>\n",
       "    <tr>\n",
       "      <th>995</th>\n",
       "      <td>996</td>\n",
       "      <td>2024-08-30 12:16:00</td>\n",
       "      <td>213</td>\n",
       "      <td>33</td>\n",
       "      <td>15</td>\n",
       "      <td>3</td>\n",
       "      <td>8400</td>\n",
       "    </tr>\n",
       "    <tr>\n",
       "      <th>996</th>\n",
       "      <td>997</td>\n",
       "      <td>2024-08-30 15:12:00</td>\n",
       "      <td>62</td>\n",
       "      <td>49</td>\n",
       "      <td>19</td>\n",
       "      <td>3</td>\n",
       "      <td>3900</td>\n",
       "    </tr>\n",
       "    <tr>\n",
       "      <th>997</th>\n",
       "      <td>998</td>\n",
       "      <td>2024-08-30 18:08:00</td>\n",
       "      <td>49</td>\n",
       "      <td>12</td>\n",
       "      <td>11</td>\n",
       "      <td>4</td>\n",
       "      <td>2500</td>\n",
       "    </tr>\n",
       "    <tr>\n",
       "      <th>998</th>\n",
       "      <td>999</td>\n",
       "      <td>2024-08-30 21:04:00</td>\n",
       "      <td>127</td>\n",
       "      <td>11</td>\n",
       "      <td>15</td>\n",
       "      <td>3</td>\n",
       "      <td>4200</td>\n",
       "    </tr>\n",
       "    <tr>\n",
       "      <th>999</th>\n",
       "      <td>1000</td>\n",
       "      <td>2024-08-31 00:00:00</td>\n",
       "      <td>223</td>\n",
       "      <td>5</td>\n",
       "      <td>12</td>\n",
       "      <td>2</td>\n",
       "      <td>7500</td>\n",
       "    </tr>\n",
       "  </tbody>\n",
       "</table>\n",
       "<p>246 rows × 7 columns</p>\n",
       "</div>"
      ],
      "text/plain": [
       "    Transaction_ID    Transaction_Date Member_ID Product_ID Store_ID  \\\n",
       "754            755 2024-08-01 01:55:00       226         17       14   \n",
       "755            756 2024-08-01 04:51:00       131         18       18   \n",
       "756            757 2024-08-01 07:47:00        76         45       13   \n",
       "757            758 2024-08-01 10:42:00       286         29       11   \n",
       "758            759 2024-08-01 13:38:00       277         20       16   \n",
       "..             ...                 ...       ...        ...      ...   \n",
       "995            996 2024-08-30 12:16:00       213         33       15   \n",
       "996            997 2024-08-30 15:12:00        62         49       19   \n",
       "997            998 2024-08-30 18:08:00        49         12       11   \n",
       "998            999 2024-08-30 21:04:00       127         11       15   \n",
       "999           1000 2024-08-31 00:00:00       223          5       12   \n",
       "\n",
       "     Quantity  Sales_Amount  \n",
       "754         4          8600  \n",
       "755         3          1000  \n",
       "756         3          1900  \n",
       "757         1          4400  \n",
       "758         1          5100  \n",
       "..        ...           ...  \n",
       "995         3          8400  \n",
       "996         3          3900  \n",
       "997         4          2500  \n",
       "998         3          4200  \n",
       "999         2          7500  \n",
       "\n",
       "[246 rows x 7 columns]"
      ]
     },
     "execution_count": 235,
     "metadata": {},
     "output_type": "execute_result"
    }
   ],
   "source": [
    "# 自分の回答\n",
    "sales_df_my_work[sales_df_my_work['Transaction_Date'] > '2024-08-01']"
   ]
  },
  {
   "cell_type": "code",
   "execution_count": 236,
   "metadata": {},
   "outputs": [
    {
     "data": {
      "text/html": [
       "<div>\n",
       "<style scoped>\n",
       "    .dataframe tbody tr th:only-of-type {\n",
       "        vertical-align: middle;\n",
       "    }\n",
       "\n",
       "    .dataframe tbody tr th {\n",
       "        vertical-align: top;\n",
       "    }\n",
       "\n",
       "    .dataframe thead th {\n",
       "        text-align: right;\n",
       "    }\n",
       "</style>\n",
       "<table border=\"1\" class=\"dataframe\">\n",
       "  <thead>\n",
       "    <tr style=\"text-align: right;\">\n",
       "      <th></th>\n",
       "      <th>Transaction_ID</th>\n",
       "      <th>Transaction_Date</th>\n",
       "      <th>Member_ID</th>\n",
       "      <th>Product_ID</th>\n",
       "      <th>Store_ID</th>\n",
       "      <th>Quantity</th>\n",
       "      <th>Sales_Amount</th>\n",
       "    </tr>\n",
       "  </thead>\n",
       "  <tbody>\n",
       "    <tr>\n",
       "      <th>754</th>\n",
       "      <td>755</td>\n",
       "      <td>2024-08-01 01:55:00</td>\n",
       "      <td>226</td>\n",
       "      <td>17</td>\n",
       "      <td>14</td>\n",
       "      <td>4</td>\n",
       "      <td>8600</td>\n",
       "    </tr>\n",
       "    <tr>\n",
       "      <th>755</th>\n",
       "      <td>756</td>\n",
       "      <td>2024-08-01 04:51:00</td>\n",
       "      <td>131</td>\n",
       "      <td>18</td>\n",
       "      <td>18</td>\n",
       "      <td>3</td>\n",
       "      <td>1000</td>\n",
       "    </tr>\n",
       "    <tr>\n",
       "      <th>756</th>\n",
       "      <td>757</td>\n",
       "      <td>2024-08-01 07:47:00</td>\n",
       "      <td>76</td>\n",
       "      <td>45</td>\n",
       "      <td>13</td>\n",
       "      <td>3</td>\n",
       "      <td>1900</td>\n",
       "    </tr>\n",
       "    <tr>\n",
       "      <th>757</th>\n",
       "      <td>758</td>\n",
       "      <td>2024-08-01 10:42:00</td>\n",
       "      <td>286</td>\n",
       "      <td>29</td>\n",
       "      <td>11</td>\n",
       "      <td>1</td>\n",
       "      <td>4400</td>\n",
       "    </tr>\n",
       "    <tr>\n",
       "      <th>758</th>\n",
       "      <td>759</td>\n",
       "      <td>2024-08-01 13:38:00</td>\n",
       "      <td>277</td>\n",
       "      <td>20</td>\n",
       "      <td>16</td>\n",
       "      <td>1</td>\n",
       "      <td>5100</td>\n",
       "    </tr>\n",
       "    <tr>\n",
       "      <th>...</th>\n",
       "      <td>...</td>\n",
       "      <td>...</td>\n",
       "      <td>...</td>\n",
       "      <td>...</td>\n",
       "      <td>...</td>\n",
       "      <td>...</td>\n",
       "      <td>...</td>\n",
       "    </tr>\n",
       "    <tr>\n",
       "      <th>995</th>\n",
       "      <td>996</td>\n",
       "      <td>2024-08-30 12:16:00</td>\n",
       "      <td>213</td>\n",
       "      <td>33</td>\n",
       "      <td>15</td>\n",
       "      <td>3</td>\n",
       "      <td>8400</td>\n",
       "    </tr>\n",
       "    <tr>\n",
       "      <th>996</th>\n",
       "      <td>997</td>\n",
       "      <td>2024-08-30 15:12:00</td>\n",
       "      <td>62</td>\n",
       "      <td>49</td>\n",
       "      <td>19</td>\n",
       "      <td>3</td>\n",
       "      <td>3900</td>\n",
       "    </tr>\n",
       "    <tr>\n",
       "      <th>997</th>\n",
       "      <td>998</td>\n",
       "      <td>2024-08-30 18:08:00</td>\n",
       "      <td>49</td>\n",
       "      <td>12</td>\n",
       "      <td>11</td>\n",
       "      <td>4</td>\n",
       "      <td>2500</td>\n",
       "    </tr>\n",
       "    <tr>\n",
       "      <th>998</th>\n",
       "      <td>999</td>\n",
       "      <td>2024-08-30 21:04:00</td>\n",
       "      <td>127</td>\n",
       "      <td>11</td>\n",
       "      <td>15</td>\n",
       "      <td>3</td>\n",
       "      <td>4200</td>\n",
       "    </tr>\n",
       "    <tr>\n",
       "      <th>999</th>\n",
       "      <td>1000</td>\n",
       "      <td>2024-08-31 00:00:00</td>\n",
       "      <td>223</td>\n",
       "      <td>5</td>\n",
       "      <td>12</td>\n",
       "      <td>2</td>\n",
       "      <td>7500</td>\n",
       "    </tr>\n",
       "  </tbody>\n",
       "</table>\n",
       "<p>246 rows × 7 columns</p>\n",
       "</div>"
      ],
      "text/plain": [
       "    Transaction_ID    Transaction_Date Member_ID Product_ID Store_ID  \\\n",
       "754            755 2024-08-01 01:55:00       226         17       14   \n",
       "755            756 2024-08-01 04:51:00       131         18       18   \n",
       "756            757 2024-08-01 07:47:00        76         45       13   \n",
       "757            758 2024-08-01 10:42:00       286         29       11   \n",
       "758            759 2024-08-01 13:38:00       277         20       16   \n",
       "..             ...                 ...       ...        ...      ...   \n",
       "995            996 2024-08-30 12:16:00       213         33       15   \n",
       "996            997 2024-08-30 15:12:00        62         49       19   \n",
       "997            998 2024-08-30 18:08:00        49         12       11   \n",
       "998            999 2024-08-30 21:04:00       127         11       15   \n",
       "999           1000 2024-08-31 00:00:00       223          5       12   \n",
       "\n",
       "     Quantity  Sales_Amount  \n",
       "754         4          8600  \n",
       "755         3          1000  \n",
       "756         3          1900  \n",
       "757         1          4400  \n",
       "758         1          5100  \n",
       "..        ...           ...  \n",
       "995         3          8400  \n",
       "996         3          3900  \n",
       "997         4          2500  \n",
       "998         3          4200  \n",
       "999         2          7500  \n",
       "\n",
       "[246 rows x 7 columns]"
      ]
     },
     "execution_count": 236,
     "metadata": {},
     "output_type": "execute_result"
    }
   ],
   "source": [
    "# LLMの回答\n",
    "sales_df_llm_work[sales_df_llm_work['Transaction_Date'] >= '2024-08-01'] # >=以外は自分の回答と同じ"
   ]
  },
  {
   "cell_type": "code",
   "execution_count": 237,
   "metadata": {},
   "outputs": [
    {
     "data": {
      "text/html": [
       "<div>\n",
       "<style scoped>\n",
       "    .dataframe tbody tr th:only-of-type {\n",
       "        vertical-align: middle;\n",
       "    }\n",
       "\n",
       "    .dataframe tbody tr th {\n",
       "        vertical-align: top;\n",
       "    }\n",
       "\n",
       "    .dataframe thead th {\n",
       "        text-align: right;\n",
       "    }\n",
       "</style>\n",
       "<table border=\"1\" class=\"dataframe\">\n",
       "  <thead>\n",
       "    <tr style=\"text-align: right;\">\n",
       "      <th></th>\n",
       "      <th>Transaction_ID</th>\n",
       "      <th>Transaction_Date</th>\n",
       "      <th>Member_ID</th>\n",
       "      <th>Product_ID</th>\n",
       "      <th>Store_ID</th>\n",
       "      <th>Quantity</th>\n",
       "      <th>Sales_Amount</th>\n",
       "    </tr>\n",
       "  </thead>\n",
       "  <tbody>\n",
       "    <tr>\n",
       "      <th>754</th>\n",
       "      <td>755</td>\n",
       "      <td>2024-08-01 01:55:00</td>\n",
       "      <td>226</td>\n",
       "      <td>17</td>\n",
       "      <td>14</td>\n",
       "      <td>4</td>\n",
       "      <td>8600</td>\n",
       "    </tr>\n",
       "    <tr>\n",
       "      <th>755</th>\n",
       "      <td>756</td>\n",
       "      <td>2024-08-01 04:51:00</td>\n",
       "      <td>131</td>\n",
       "      <td>18</td>\n",
       "      <td>18</td>\n",
       "      <td>3</td>\n",
       "      <td>1000</td>\n",
       "    </tr>\n",
       "    <tr>\n",
       "      <th>756</th>\n",
       "      <td>757</td>\n",
       "      <td>2024-08-01 07:47:00</td>\n",
       "      <td>76</td>\n",
       "      <td>45</td>\n",
       "      <td>13</td>\n",
       "      <td>3</td>\n",
       "      <td>1900</td>\n",
       "    </tr>\n",
       "    <tr>\n",
       "      <th>757</th>\n",
       "      <td>758</td>\n",
       "      <td>2024-08-01 10:42:00</td>\n",
       "      <td>286</td>\n",
       "      <td>29</td>\n",
       "      <td>11</td>\n",
       "      <td>1</td>\n",
       "      <td>4400</td>\n",
       "    </tr>\n",
       "    <tr>\n",
       "      <th>758</th>\n",
       "      <td>759</td>\n",
       "      <td>2024-08-01 13:38:00</td>\n",
       "      <td>277</td>\n",
       "      <td>20</td>\n",
       "      <td>16</td>\n",
       "      <td>1</td>\n",
       "      <td>5100</td>\n",
       "    </tr>\n",
       "    <tr>\n",
       "      <th>...</th>\n",
       "      <td>...</td>\n",
       "      <td>...</td>\n",
       "      <td>...</td>\n",
       "      <td>...</td>\n",
       "      <td>...</td>\n",
       "      <td>...</td>\n",
       "      <td>...</td>\n",
       "    </tr>\n",
       "    <tr>\n",
       "      <th>995</th>\n",
       "      <td>996</td>\n",
       "      <td>2024-08-30 12:16:00</td>\n",
       "      <td>213</td>\n",
       "      <td>33</td>\n",
       "      <td>15</td>\n",
       "      <td>3</td>\n",
       "      <td>8400</td>\n",
       "    </tr>\n",
       "    <tr>\n",
       "      <th>996</th>\n",
       "      <td>997</td>\n",
       "      <td>2024-08-30 15:12:00</td>\n",
       "      <td>62</td>\n",
       "      <td>49</td>\n",
       "      <td>19</td>\n",
       "      <td>3</td>\n",
       "      <td>3900</td>\n",
       "    </tr>\n",
       "    <tr>\n",
       "      <th>997</th>\n",
       "      <td>998</td>\n",
       "      <td>2024-08-30 18:08:00</td>\n",
       "      <td>49</td>\n",
       "      <td>12</td>\n",
       "      <td>11</td>\n",
       "      <td>4</td>\n",
       "      <td>2500</td>\n",
       "    </tr>\n",
       "    <tr>\n",
       "      <th>998</th>\n",
       "      <td>999</td>\n",
       "      <td>2024-08-30 21:04:00</td>\n",
       "      <td>127</td>\n",
       "      <td>11</td>\n",
       "      <td>15</td>\n",
       "      <td>3</td>\n",
       "      <td>4200</td>\n",
       "    </tr>\n",
       "    <tr>\n",
       "      <th>999</th>\n",
       "      <td>1000</td>\n",
       "      <td>2024-08-31 00:00:00</td>\n",
       "      <td>223</td>\n",
       "      <td>5</td>\n",
       "      <td>12</td>\n",
       "      <td>2</td>\n",
       "      <td>7500</td>\n",
       "    </tr>\n",
       "  </tbody>\n",
       "</table>\n",
       "<p>246 rows × 7 columns</p>\n",
       "</div>"
      ],
      "text/plain": [
       "    Transaction_ID    Transaction_Date Member_ID Product_ID Store_ID  \\\n",
       "754            755 2024-08-01 01:55:00       226         17       14   \n",
       "755            756 2024-08-01 04:51:00       131         18       18   \n",
       "756            757 2024-08-01 07:47:00        76         45       13   \n",
       "757            758 2024-08-01 10:42:00       286         29       11   \n",
       "758            759 2024-08-01 13:38:00       277         20       16   \n",
       "..             ...                 ...       ...        ...      ...   \n",
       "995            996 2024-08-30 12:16:00       213         33       15   \n",
       "996            997 2024-08-30 15:12:00        62         49       19   \n",
       "997            998 2024-08-30 18:08:00        49         12       11   \n",
       "998            999 2024-08-30 21:04:00       127         11       15   \n",
       "999           1000 2024-08-31 00:00:00       223          5       12   \n",
       "\n",
       "     Quantity  Sales_Amount  \n",
       "754         4          8600  \n",
       "755         3          1000  \n",
       "756         3          1900  \n",
       "757         1          4400  \n",
       "758         1          5100  \n",
       "..        ...           ...  \n",
       "995         3          8400  \n",
       "996         3          3900  \n",
       "997         4          2500  \n",
       "998         3          4200  \n",
       "999         2          7500  \n",
       "\n",
       "[246 rows x 7 columns]"
      ]
     },
     "execution_count": 237,
     "metadata": {},
     "output_type": "execute_result"
    }
   ],
   "source": [
    "# 解答例\n",
    "sales_df_my_work.query(\"Transaction_Date >= '2024-08-01'\")"
   ]
  },
  {
   "cell_type": "markdown",
   "metadata": {
    "id": "QLuM5Cr6mNNt"
   },
   "source": [
    "13. Store_ID が「1」または「3」で、かつ Amount が5000円以上の取引を抽出してください"
   ]
  },
  {
   "cell_type": "code",
   "execution_count": 238,
   "metadata": {},
   "outputs": [
    {
     "data": {
      "text/html": [
       "<div>\n",
       "<style scoped>\n",
       "    .dataframe tbody tr th:only-of-type {\n",
       "        vertical-align: middle;\n",
       "    }\n",
       "\n",
       "    .dataframe tbody tr th {\n",
       "        vertical-align: top;\n",
       "    }\n",
       "\n",
       "    .dataframe thead th {\n",
       "        text-align: right;\n",
       "    }\n",
       "</style>\n",
       "<table border=\"1\" class=\"dataframe\">\n",
       "  <thead>\n",
       "    <tr style=\"text-align: right;\">\n",
       "      <th></th>\n",
       "      <th>Transaction_ID</th>\n",
       "      <th>Transaction_Date</th>\n",
       "      <th>Member_ID</th>\n",
       "      <th>Product_ID</th>\n",
       "      <th>Store_ID</th>\n",
       "      <th>Quantity</th>\n",
       "      <th>Sales_Amount</th>\n",
       "    </tr>\n",
       "  </thead>\n",
       "  <tbody>\n",
       "    <tr>\n",
       "      <th>3</th>\n",
       "      <td>4</td>\n",
       "      <td>2024-05-01 08:47:00</td>\n",
       "      <td>124</td>\n",
       "      <td>38</td>\n",
       "      <td>1</td>\n",
       "      <td>3</td>\n",
       "      <td>6000</td>\n",
       "    </tr>\n",
       "    <tr>\n",
       "      <th>7</th>\n",
       "      <td>8</td>\n",
       "      <td>2024-05-01 20:30:00</td>\n",
       "      <td>51</td>\n",
       "      <td>18</td>\n",
       "      <td>1</td>\n",
       "      <td>4</td>\n",
       "      <td>5500</td>\n",
       "    </tr>\n",
       "    <tr>\n",
       "      <th>17</th>\n",
       "      <td>18</td>\n",
       "      <td>2024-05-03 01:49:00</td>\n",
       "      <td>156</td>\n",
       "      <td>3</td>\n",
       "      <td>1</td>\n",
       "      <td>3</td>\n",
       "      <td>7600</td>\n",
       "    </tr>\n",
       "    <tr>\n",
       "      <th>61</th>\n",
       "      <td>62</td>\n",
       "      <td>2024-05-08 10:47:00</td>\n",
       "      <td>50</td>\n",
       "      <td>38</td>\n",
       "      <td>3</td>\n",
       "      <td>4</td>\n",
       "      <td>6500</td>\n",
       "    </tr>\n",
       "    <tr>\n",
       "      <th>65</th>\n",
       "      <td>66</td>\n",
       "      <td>2024-05-08 22:30:00</td>\n",
       "      <td>60</td>\n",
       "      <td>49</td>\n",
       "      <td>3</td>\n",
       "      <td>2</td>\n",
       "      <td>5800</td>\n",
       "    </tr>\n",
       "    <tr>\n",
       "      <th>86</th>\n",
       "      <td>87</td>\n",
       "      <td>2024-05-11 12:03:00</td>\n",
       "      <td>77</td>\n",
       "      <td>37</td>\n",
       "      <td>1</td>\n",
       "      <td>2</td>\n",
       "      <td>8500</td>\n",
       "    </tr>\n",
       "    <tr>\n",
       "      <th>95</th>\n",
       "      <td>96</td>\n",
       "      <td>2024-05-12 14:26:00</td>\n",
       "      <td>167</td>\n",
       "      <td>9</td>\n",
       "      <td>1</td>\n",
       "      <td>3</td>\n",
       "      <td>5400</td>\n",
       "    </tr>\n",
       "    <tr>\n",
       "      <th>109</th>\n",
       "      <td>110</td>\n",
       "      <td>2024-05-14 07:28:00</td>\n",
       "      <td>229</td>\n",
       "      <td>49</td>\n",
       "      <td>3</td>\n",
       "      <td>4</td>\n",
       "      <td>9800</td>\n",
       "    </tr>\n",
       "    <tr>\n",
       "      <th>129</th>\n",
       "      <td>130</td>\n",
       "      <td>2024-05-16 18:05:00</td>\n",
       "      <td>259</td>\n",
       "      <td>1</td>\n",
       "      <td>1</td>\n",
       "      <td>2</td>\n",
       "      <td>9500</td>\n",
       "    </tr>\n",
       "    <tr>\n",
       "      <th>138</th>\n",
       "      <td>139</td>\n",
       "      <td>2024-05-17 20:28:00</td>\n",
       "      <td>116</td>\n",
       "      <td>17</td>\n",
       "      <td>3</td>\n",
       "      <td>1</td>\n",
       "      <td>9800</td>\n",
       "    </tr>\n",
       "    <tr>\n",
       "      <th>151</th>\n",
       "      <td>152</td>\n",
       "      <td>2024-05-19 10:34:00</td>\n",
       "      <td>136</td>\n",
       "      <td>17</td>\n",
       "      <td>3</td>\n",
       "      <td>1</td>\n",
       "      <td>8200</td>\n",
       "    </tr>\n",
       "    <tr>\n",
       "      <th>188</th>\n",
       "      <td>189</td>\n",
       "      <td>2024-05-23 23:00:00</td>\n",
       "      <td>12</td>\n",
       "      <td>11</td>\n",
       "      <td>1</td>\n",
       "      <td>2</td>\n",
       "      <td>9900</td>\n",
       "    </tr>\n",
       "    <tr>\n",
       "      <th>189</th>\n",
       "      <td>190</td>\n",
       "      <td>2024-05-24 01:56:00</td>\n",
       "      <td>239</td>\n",
       "      <td>50</td>\n",
       "      <td>3</td>\n",
       "      <td>3</td>\n",
       "      <td>8000</td>\n",
       "    </tr>\n",
       "    <tr>\n",
       "      <th>202</th>\n",
       "      <td>203</td>\n",
       "      <td>2024-05-25 16:02:00</td>\n",
       "      <td>73</td>\n",
       "      <td>9</td>\n",
       "      <td>3</td>\n",
       "      <td>2</td>\n",
       "      <td>6100</td>\n",
       "    </tr>\n",
       "    <tr>\n",
       "      <th>210</th>\n",
       "      <td>211</td>\n",
       "      <td>2024-05-26 15:29:00</td>\n",
       "      <td>25</td>\n",
       "      <td>8</td>\n",
       "      <td>1</td>\n",
       "      <td>4</td>\n",
       "      <td>9400</td>\n",
       "    </tr>\n",
       "    <tr>\n",
       "      <th>279</th>\n",
       "      <td>280</td>\n",
       "      <td>2024-06-04 01:43:00</td>\n",
       "      <td>133</td>\n",
       "      <td>3</td>\n",
       "      <td>1</td>\n",
       "      <td>4</td>\n",
       "      <td>8200</td>\n",
       "    </tr>\n",
       "    <tr>\n",
       "      <th>280</th>\n",
       "      <td>281</td>\n",
       "      <td>2024-06-04 04:39:00</td>\n",
       "      <td>183</td>\n",
       "      <td>14</td>\n",
       "      <td>1</td>\n",
       "      <td>1</td>\n",
       "      <td>5600</td>\n",
       "    </tr>\n",
       "    <tr>\n",
       "      <th>287</th>\n",
       "      <td>288</td>\n",
       "      <td>2024-06-05 01:10:00</td>\n",
       "      <td>138</td>\n",
       "      <td>38</td>\n",
       "      <td>1</td>\n",
       "      <td>2</td>\n",
       "      <td>8200</td>\n",
       "    </tr>\n",
       "    <tr>\n",
       "      <th>305</th>\n",
       "      <td>306</td>\n",
       "      <td>2024-06-07 05:56:00</td>\n",
       "      <td>52</td>\n",
       "      <td>8</td>\n",
       "      <td>3</td>\n",
       "      <td>2</td>\n",
       "      <td>9400</td>\n",
       "    </tr>\n",
       "    <tr>\n",
       "      <th>309</th>\n",
       "      <td>310</td>\n",
       "      <td>2024-06-07 17:39:00</td>\n",
       "      <td>232</td>\n",
       "      <td>29</td>\n",
       "      <td>1</td>\n",
       "      <td>1</td>\n",
       "      <td>8300</td>\n",
       "    </tr>\n",
       "    <tr>\n",
       "      <th>313</th>\n",
       "      <td>314</td>\n",
       "      <td>2024-06-08 05:22:00</td>\n",
       "      <td>42</td>\n",
       "      <td>17</td>\n",
       "      <td>3</td>\n",
       "      <td>1</td>\n",
       "      <td>7300</td>\n",
       "    </tr>\n",
       "    <tr>\n",
       "      <th>318</th>\n",
       "      <td>319</td>\n",
       "      <td>2024-06-08 20:02:00</td>\n",
       "      <td>192</td>\n",
       "      <td>19</td>\n",
       "      <td>1</td>\n",
       "      <td>3</td>\n",
       "      <td>7400</td>\n",
       "    </tr>\n",
       "    <tr>\n",
       "      <th>360</th>\n",
       "      <td>361</td>\n",
       "      <td>2024-06-13 23:08:00</td>\n",
       "      <td>261</td>\n",
       "      <td>26</td>\n",
       "      <td>3</td>\n",
       "      <td>3</td>\n",
       "      <td>6200</td>\n",
       "    </tr>\n",
       "    <tr>\n",
       "      <th>392</th>\n",
       "      <td>393</td>\n",
       "      <td>2024-06-17 20:55:00</td>\n",
       "      <td>273</td>\n",
       "      <td>48</td>\n",
       "      <td>3</td>\n",
       "      <td>3</td>\n",
       "      <td>6900</td>\n",
       "    </tr>\n",
       "    <tr>\n",
       "      <th>441</th>\n",
       "      <td>442</td>\n",
       "      <td>2024-06-23 20:32:00</td>\n",
       "      <td>118</td>\n",
       "      <td>7</td>\n",
       "      <td>1</td>\n",
       "      <td>4</td>\n",
       "      <td>7000</td>\n",
       "    </tr>\n",
       "    <tr>\n",
       "      <th>443</th>\n",
       "      <td>444</td>\n",
       "      <td>2024-06-24 02:24:00</td>\n",
       "      <td>23</td>\n",
       "      <td>13</td>\n",
       "      <td>1</td>\n",
       "      <td>2</td>\n",
       "      <td>9300</td>\n",
       "    </tr>\n",
       "    <tr>\n",
       "      <th>446</th>\n",
       "      <td>447</td>\n",
       "      <td>2024-06-24 11:11:00</td>\n",
       "      <td>108</td>\n",
       "      <td>13</td>\n",
       "      <td>3</td>\n",
       "      <td>4</td>\n",
       "      <td>7800</td>\n",
       "    </tr>\n",
       "    <tr>\n",
       "      <th>483</th>\n",
       "      <td>484</td>\n",
       "      <td>2024-06-28 23:38:00</td>\n",
       "      <td>111</td>\n",
       "      <td>49</td>\n",
       "      <td>3</td>\n",
       "      <td>1</td>\n",
       "      <td>6800</td>\n",
       "    </tr>\n",
       "    <tr>\n",
       "      <th>491</th>\n",
       "      <td>492</td>\n",
       "      <td>2024-06-29 23:05:00</td>\n",
       "      <td>202</td>\n",
       "      <td>38</td>\n",
       "      <td>3</td>\n",
       "      <td>4</td>\n",
       "      <td>8000</td>\n",
       "    </tr>\n",
       "    <tr>\n",
       "      <th>492</th>\n",
       "      <td>493</td>\n",
       "      <td>2024-06-30 02:01:00</td>\n",
       "      <td>38</td>\n",
       "      <td>24</td>\n",
       "      <td>3</td>\n",
       "      <td>2</td>\n",
       "      <td>8100</td>\n",
       "    </tr>\n",
       "    <tr>\n",
       "      <th>547</th>\n",
       "      <td>548</td>\n",
       "      <td>2024-07-06 19:13:00</td>\n",
       "      <td>90</td>\n",
       "      <td>11</td>\n",
       "      <td>1</td>\n",
       "      <td>3</td>\n",
       "      <td>7800</td>\n",
       "    </tr>\n",
       "    <tr>\n",
       "      <th>554</th>\n",
       "      <td>555</td>\n",
       "      <td>2024-07-07 15:44:00</td>\n",
       "      <td>254</td>\n",
       "      <td>22</td>\n",
       "      <td>3</td>\n",
       "      <td>1</td>\n",
       "      <td>8700</td>\n",
       "    </tr>\n",
       "    <tr>\n",
       "      <th>615</th>\n",
       "      <td>616</td>\n",
       "      <td>2024-07-15 02:31:00</td>\n",
       "      <td>165</td>\n",
       "      <td>50</td>\n",
       "      <td>3</td>\n",
       "      <td>1</td>\n",
       "      <td>5600</td>\n",
       "    </tr>\n",
       "    <tr>\n",
       "      <th>643</th>\n",
       "      <td>644</td>\n",
       "      <td>2024-07-18 12:35:00</td>\n",
       "      <td>2</td>\n",
       "      <td>29</td>\n",
       "      <td>3</td>\n",
       "      <td>2</td>\n",
       "      <td>8600</td>\n",
       "    </tr>\n",
       "    <tr>\n",
       "      <th>647</th>\n",
       "      <td>648</td>\n",
       "      <td>2024-07-19 00:18:00</td>\n",
       "      <td>66</td>\n",
       "      <td>43</td>\n",
       "      <td>1</td>\n",
       "      <td>2</td>\n",
       "      <td>8600</td>\n",
       "    </tr>\n",
       "    <tr>\n",
       "      <th>701</th>\n",
       "      <td>702</td>\n",
       "      <td>2024-07-25 14:34:00</td>\n",
       "      <td>47</td>\n",
       "      <td>24</td>\n",
       "      <td>3</td>\n",
       "      <td>2</td>\n",
       "      <td>7600</td>\n",
       "    </tr>\n",
       "    <tr>\n",
       "      <th>710</th>\n",
       "      <td>711</td>\n",
       "      <td>2024-07-26 16:57:00</td>\n",
       "      <td>114</td>\n",
       "      <td>36</td>\n",
       "      <td>3</td>\n",
       "      <td>4</td>\n",
       "      <td>9700</td>\n",
       "    </tr>\n",
       "    <tr>\n",
       "      <th>732</th>\n",
       "      <td>733</td>\n",
       "      <td>2024-07-29 09:26:00</td>\n",
       "      <td>162</td>\n",
       "      <td>10</td>\n",
       "      <td>1</td>\n",
       "      <td>1</td>\n",
       "      <td>8100</td>\n",
       "    </tr>\n",
       "    <tr>\n",
       "      <th>775</th>\n",
       "      <td>776</td>\n",
       "      <td>2024-08-03 15:28:00</td>\n",
       "      <td>289</td>\n",
       "      <td>17</td>\n",
       "      <td>3</td>\n",
       "      <td>1</td>\n",
       "      <td>6000</td>\n",
       "    </tr>\n",
       "    <tr>\n",
       "      <th>782</th>\n",
       "      <td>783</td>\n",
       "      <td>2024-08-04 11:59:00</td>\n",
       "      <td>201</td>\n",
       "      <td>5</td>\n",
       "      <td>1</td>\n",
       "      <td>1</td>\n",
       "      <td>8300</td>\n",
       "    </tr>\n",
       "    <tr>\n",
       "      <th>788</th>\n",
       "      <td>789</td>\n",
       "      <td>2024-08-05 05:34:00</td>\n",
       "      <td>191</td>\n",
       "      <td>19</td>\n",
       "      <td>1</td>\n",
       "      <td>3</td>\n",
       "      <td>8100</td>\n",
       "    </tr>\n",
       "    <tr>\n",
       "      <th>797</th>\n",
       "      <td>798</td>\n",
       "      <td>2024-08-06 07:57:00</td>\n",
       "      <td>142</td>\n",
       "      <td>14</td>\n",
       "      <td>1</td>\n",
       "      <td>4</td>\n",
       "      <td>5800</td>\n",
       "    </tr>\n",
       "    <tr>\n",
       "      <th>808</th>\n",
       "      <td>809</td>\n",
       "      <td>2024-08-07 16:11:00</td>\n",
       "      <td>46</td>\n",
       "      <td>48</td>\n",
       "      <td>3</td>\n",
       "      <td>4</td>\n",
       "      <td>5100</td>\n",
       "    </tr>\n",
       "    <tr>\n",
       "      <th>837</th>\n",
       "      <td>838</td>\n",
       "      <td>2024-08-11 05:11:00</td>\n",
       "      <td>164</td>\n",
       "      <td>23</td>\n",
       "      <td>3</td>\n",
       "      <td>2</td>\n",
       "      <td>9300</td>\n",
       "    </tr>\n",
       "    <tr>\n",
       "      <th>845</th>\n",
       "      <td>846</td>\n",
       "      <td>2024-08-12 04:38:00</td>\n",
       "      <td>222</td>\n",
       "      <td>40</td>\n",
       "      <td>1</td>\n",
       "      <td>4</td>\n",
       "      <td>8800</td>\n",
       "    </tr>\n",
       "    <tr>\n",
       "      <th>860</th>\n",
       "      <td>861</td>\n",
       "      <td>2024-08-14 00:36:00</td>\n",
       "      <td>158</td>\n",
       "      <td>41</td>\n",
       "      <td>3</td>\n",
       "      <td>3</td>\n",
       "      <td>6600</td>\n",
       "    </tr>\n",
       "    <tr>\n",
       "      <th>867</th>\n",
       "      <td>868</td>\n",
       "      <td>2024-08-14 21:07:00</td>\n",
       "      <td>149</td>\n",
       "      <td>25</td>\n",
       "      <td>3</td>\n",
       "      <td>1</td>\n",
       "      <td>8100</td>\n",
       "    </tr>\n",
       "    <tr>\n",
       "      <th>873</th>\n",
       "      <td>874</td>\n",
       "      <td>2024-08-15 14:42:00</td>\n",
       "      <td>65</td>\n",
       "      <td>36</td>\n",
       "      <td>3</td>\n",
       "      <td>3</td>\n",
       "      <td>9000</td>\n",
       "    </tr>\n",
       "    <tr>\n",
       "      <th>885</th>\n",
       "      <td>886</td>\n",
       "      <td>2024-08-17 01:52:00</td>\n",
       "      <td>276</td>\n",
       "      <td>32</td>\n",
       "      <td>1</td>\n",
       "      <td>3</td>\n",
       "      <td>5800</td>\n",
       "    </tr>\n",
       "    <tr>\n",
       "      <th>891</th>\n",
       "      <td>892</td>\n",
       "      <td>2024-08-17 19:27:00</td>\n",
       "      <td>76</td>\n",
       "      <td>10</td>\n",
       "      <td>1</td>\n",
       "      <td>1</td>\n",
       "      <td>6700</td>\n",
       "    </tr>\n",
       "    <tr>\n",
       "      <th>946</th>\n",
       "      <td>947</td>\n",
       "      <td>2024-08-24 12:39:00</td>\n",
       "      <td>72</td>\n",
       "      <td>43</td>\n",
       "      <td>1</td>\n",
       "      <td>2</td>\n",
       "      <td>7600</td>\n",
       "    </tr>\n",
       "    <tr>\n",
       "      <th>947</th>\n",
       "      <td>948</td>\n",
       "      <td>2024-08-24 15:35:00</td>\n",
       "      <td>109</td>\n",
       "      <td>35</td>\n",
       "      <td>1</td>\n",
       "      <td>1</td>\n",
       "      <td>9100</td>\n",
       "    </tr>\n",
       "    <tr>\n",
       "      <th>953</th>\n",
       "      <td>954</td>\n",
       "      <td>2024-08-25 09:10:00</td>\n",
       "      <td>8</td>\n",
       "      <td>4</td>\n",
       "      <td>3</td>\n",
       "      <td>2</td>\n",
       "      <td>7300</td>\n",
       "    </tr>\n",
       "    <tr>\n",
       "      <th>968</th>\n",
       "      <td>969</td>\n",
       "      <td>2024-08-27 05:08:00</td>\n",
       "      <td>225</td>\n",
       "      <td>13</td>\n",
       "      <td>3</td>\n",
       "      <td>2</td>\n",
       "      <td>6800</td>\n",
       "    </tr>\n",
       "  </tbody>\n",
       "</table>\n",
       "</div>"
      ],
      "text/plain": [
       "    Transaction_ID    Transaction_Date Member_ID Product_ID Store_ID  \\\n",
       "3                4 2024-05-01 08:47:00       124         38        1   \n",
       "7                8 2024-05-01 20:30:00        51         18        1   \n",
       "17              18 2024-05-03 01:49:00       156          3        1   \n",
       "61              62 2024-05-08 10:47:00        50         38        3   \n",
       "65              66 2024-05-08 22:30:00        60         49        3   \n",
       "86              87 2024-05-11 12:03:00        77         37        1   \n",
       "95              96 2024-05-12 14:26:00       167          9        1   \n",
       "109            110 2024-05-14 07:28:00       229         49        3   \n",
       "129            130 2024-05-16 18:05:00       259          1        1   \n",
       "138            139 2024-05-17 20:28:00       116         17        3   \n",
       "151            152 2024-05-19 10:34:00       136         17        3   \n",
       "188            189 2024-05-23 23:00:00        12         11        1   \n",
       "189            190 2024-05-24 01:56:00       239         50        3   \n",
       "202            203 2024-05-25 16:02:00        73          9        3   \n",
       "210            211 2024-05-26 15:29:00        25          8        1   \n",
       "279            280 2024-06-04 01:43:00       133          3        1   \n",
       "280            281 2024-06-04 04:39:00       183         14        1   \n",
       "287            288 2024-06-05 01:10:00       138         38        1   \n",
       "305            306 2024-06-07 05:56:00        52          8        3   \n",
       "309            310 2024-06-07 17:39:00       232         29        1   \n",
       "313            314 2024-06-08 05:22:00        42         17        3   \n",
       "318            319 2024-06-08 20:02:00       192         19        1   \n",
       "360            361 2024-06-13 23:08:00       261         26        3   \n",
       "392            393 2024-06-17 20:55:00       273         48        3   \n",
       "441            442 2024-06-23 20:32:00       118          7        1   \n",
       "443            444 2024-06-24 02:24:00        23         13        1   \n",
       "446            447 2024-06-24 11:11:00       108         13        3   \n",
       "483            484 2024-06-28 23:38:00       111         49        3   \n",
       "491            492 2024-06-29 23:05:00       202         38        3   \n",
       "492            493 2024-06-30 02:01:00        38         24        3   \n",
       "547            548 2024-07-06 19:13:00        90         11        1   \n",
       "554            555 2024-07-07 15:44:00       254         22        3   \n",
       "615            616 2024-07-15 02:31:00       165         50        3   \n",
       "643            644 2024-07-18 12:35:00         2         29        3   \n",
       "647            648 2024-07-19 00:18:00        66         43        1   \n",
       "701            702 2024-07-25 14:34:00        47         24        3   \n",
       "710            711 2024-07-26 16:57:00       114         36        3   \n",
       "732            733 2024-07-29 09:26:00       162         10        1   \n",
       "775            776 2024-08-03 15:28:00       289         17        3   \n",
       "782            783 2024-08-04 11:59:00       201          5        1   \n",
       "788            789 2024-08-05 05:34:00       191         19        1   \n",
       "797            798 2024-08-06 07:57:00       142         14        1   \n",
       "808            809 2024-08-07 16:11:00        46         48        3   \n",
       "837            838 2024-08-11 05:11:00       164         23        3   \n",
       "845            846 2024-08-12 04:38:00       222         40        1   \n",
       "860            861 2024-08-14 00:36:00       158         41        3   \n",
       "867            868 2024-08-14 21:07:00       149         25        3   \n",
       "873            874 2024-08-15 14:42:00        65         36        3   \n",
       "885            886 2024-08-17 01:52:00       276         32        1   \n",
       "891            892 2024-08-17 19:27:00        76         10        1   \n",
       "946            947 2024-08-24 12:39:00        72         43        1   \n",
       "947            948 2024-08-24 15:35:00       109         35        1   \n",
       "953            954 2024-08-25 09:10:00         8          4        3   \n",
       "968            969 2024-08-27 05:08:00       225         13        3   \n",
       "\n",
       "     Quantity  Sales_Amount  \n",
       "3           3          6000  \n",
       "7           4          5500  \n",
       "17          3          7600  \n",
       "61          4          6500  \n",
       "65          2          5800  \n",
       "86          2          8500  \n",
       "95          3          5400  \n",
       "109         4          9800  \n",
       "129         2          9500  \n",
       "138         1          9800  \n",
       "151         1          8200  \n",
       "188         2          9900  \n",
       "189         3          8000  \n",
       "202         2          6100  \n",
       "210         4          9400  \n",
       "279         4          8200  \n",
       "280         1          5600  \n",
       "287         2          8200  \n",
       "305         2          9400  \n",
       "309         1          8300  \n",
       "313         1          7300  \n",
       "318         3          7400  \n",
       "360         3          6200  \n",
       "392         3          6900  \n",
       "441         4          7000  \n",
       "443         2          9300  \n",
       "446         4          7800  \n",
       "483         1          6800  \n",
       "491         4          8000  \n",
       "492         2          8100  \n",
       "547         3          7800  \n",
       "554         1          8700  \n",
       "615         1          5600  \n",
       "643         2          8600  \n",
       "647         2          8600  \n",
       "701         2          7600  \n",
       "710         4          9700  \n",
       "732         1          8100  \n",
       "775         1          6000  \n",
       "782         1          8300  \n",
       "788         3          8100  \n",
       "797         4          5800  \n",
       "808         4          5100  \n",
       "837         2          9300  \n",
       "845         4          8800  \n",
       "860         3          6600  \n",
       "867         1          8100  \n",
       "873         3          9000  \n",
       "885         3          5800  \n",
       "891         1          6700  \n",
       "946         2          7600  \n",
       "947         1          9100  \n",
       "953         2          7300  \n",
       "968         2          6800  "
      ]
     },
     "execution_count": 238,
     "metadata": {},
     "output_type": "execute_result"
    }
   ],
   "source": [
    "# sales_df_my_work['Store_ID'].nunique()\n",
    "# sales_df_my_work[(sales_df_my_work['Store_ID'] == 1) | (sales_df_my_work['Store_ID'] == 3) & (sales_df_my_work['Sales_Amount'] >= 5000)]\n",
    "\n",
    "# 上記のやり方だと、1or3の条件が先に評価されてしまうので、括弧で囲む必要がある。(動きを見ると、&は3にしかかかっていない)\n",
    "# sales_df_my_work[((sales_df_my_work['Store_ID'] == 1) | (sales_df_my_work['Store_ID'] == 3)) & (sales_df_my_work['Sales_Amount'] >= 5000)]\n",
    "# また、queryを使うと、括弧を使わなくても、条件を指定できる。\n",
    "sales_df_my_work.query(\"(Store_ID == 1 or Store_ID == 3) and Sales_Amount >= 5000\")"
   ]
  },
  {
   "cell_type": "markdown",
   "metadata": {
    "id": "8ZUt4l7kmoaG"
   },
   "source": [
    "14. Product_ID が「10」、「20」、「30」のいずれかに一致する取引を抽出してください"
   ]
  },
  {
   "cell_type": "code",
   "execution_count": 239,
   "metadata": {},
   "outputs": [
    {
     "data": {
      "text/html": [
       "<div>\n",
       "<style scoped>\n",
       "    .dataframe tbody tr th:only-of-type {\n",
       "        vertical-align: middle;\n",
       "    }\n",
       "\n",
       "    .dataframe tbody tr th {\n",
       "        vertical-align: top;\n",
       "    }\n",
       "\n",
       "    .dataframe thead th {\n",
       "        text-align: right;\n",
       "    }\n",
       "</style>\n",
       "<table border=\"1\" class=\"dataframe\">\n",
       "  <thead>\n",
       "    <tr style=\"text-align: right;\">\n",
       "      <th></th>\n",
       "      <th>Transaction_ID</th>\n",
       "      <th>Transaction_Date</th>\n",
       "      <th>Member_ID</th>\n",
       "      <th>Product_ID</th>\n",
       "      <th>Store_ID</th>\n",
       "      <th>Quantity</th>\n",
       "      <th>Sales_Amount</th>\n",
       "    </tr>\n",
       "  </thead>\n",
       "  <tbody>\n",
       "    <tr>\n",
       "      <th>13</th>\n",
       "      <td>14</td>\n",
       "      <td>2024-05-02 14:06:00</td>\n",
       "      <td>52</td>\n",
       "      <td>30</td>\n",
       "      <td>2</td>\n",
       "      <td>1</td>\n",
       "      <td>8600</td>\n",
       "    </tr>\n",
       "    <tr>\n",
       "      <th>41</th>\n",
       "      <td>42</td>\n",
       "      <td>2024-05-06 00:10:00</td>\n",
       "      <td>47</td>\n",
       "      <td>20</td>\n",
       "      <td>12</td>\n",
       "      <td>1</td>\n",
       "      <td>3100</td>\n",
       "    </tr>\n",
       "    <tr>\n",
       "      <th>44</th>\n",
       "      <td>45</td>\n",
       "      <td>2024-05-06 08:57:00</td>\n",
       "      <td>277</td>\n",
       "      <td>10</td>\n",
       "      <td>10</td>\n",
       "      <td>4</td>\n",
       "      <td>6900</td>\n",
       "    </tr>\n",
       "    <tr>\n",
       "      <th>69</th>\n",
       "      <td>70</td>\n",
       "      <td>2024-05-09 10:14:00</td>\n",
       "      <td>164</td>\n",
       "      <td>30</td>\n",
       "      <td>9</td>\n",
       "      <td>3</td>\n",
       "      <td>4600</td>\n",
       "    </tr>\n",
       "    <tr>\n",
       "      <th>84</th>\n",
       "      <td>85</td>\n",
       "      <td>2024-05-11 06:11:00</td>\n",
       "      <td>138</td>\n",
       "      <td>30</td>\n",
       "      <td>2</td>\n",
       "      <td>3</td>\n",
       "      <td>1800</td>\n",
       "    </tr>\n",
       "  </tbody>\n",
       "</table>\n",
       "</div>"
      ],
      "text/plain": [
       "   Transaction_ID    Transaction_Date Member_ID Product_ID Store_ID  Quantity  \\\n",
       "13             14 2024-05-02 14:06:00        52         30        2         1   \n",
       "41             42 2024-05-06 00:10:00        47         20       12         1   \n",
       "44             45 2024-05-06 08:57:00       277         10       10         4   \n",
       "69             70 2024-05-09 10:14:00       164         30        9         3   \n",
       "84             85 2024-05-11 06:11:00       138         30        2         3   \n",
       "\n",
       "    Sales_Amount  \n",
       "13          8600  \n",
       "41          3100  \n",
       "44          6900  \n",
       "69          4600  \n",
       "84          1800  "
      ]
     },
     "execution_count": 239,
     "metadata": {},
     "output_type": "execute_result"
    }
   ],
   "source": [
    "# 自分の回答\n",
    "# sales_df_my_work[sales_df_my_work['Product_ID'] in ['10', '20', '30']] # この書き方はエラーになる。inの使い方が間違っている。\n",
    "\n",
    "# 自分で調べた方法\n",
    "sales_df_my_work[sales_df_my_work['Product_ID'].isin([10, 20, 30])].head()\n",
    "# sales_df_my_work.query(\"Product_ID in [10, 20, 30]\").head() # 上記と同じ結果になる\n",
    "\n",
    "# '10'ではなく、10という部分も間違っていたので、修正\n",
    "\n",
    "# 解答例\n",
    "sales_df_my_work.query(\"Product_ID in [10, 20, 30]\").head()"
   ]
  },
  {
   "cell_type": "code",
   "execution_count": 240,
   "metadata": {},
   "outputs": [
    {
     "data": {
      "text/html": [
       "<div>\n",
       "<style scoped>\n",
       "    .dataframe tbody tr th:only-of-type {\n",
       "        vertical-align: middle;\n",
       "    }\n",
       "\n",
       "    .dataframe tbody tr th {\n",
       "        vertical-align: top;\n",
       "    }\n",
       "\n",
       "    .dataframe thead th {\n",
       "        text-align: right;\n",
       "    }\n",
       "</style>\n",
       "<table border=\"1\" class=\"dataframe\">\n",
       "  <thead>\n",
       "    <tr style=\"text-align: right;\">\n",
       "      <th></th>\n",
       "      <th>Transaction_ID</th>\n",
       "      <th>Transaction_Date</th>\n",
       "      <th>Member_ID</th>\n",
       "      <th>Product_ID</th>\n",
       "      <th>Store_ID</th>\n",
       "      <th>Quantity</th>\n",
       "      <th>Sales_Amount</th>\n",
       "    </tr>\n",
       "  </thead>\n",
       "  <tbody>\n",
       "    <tr>\n",
       "      <th>13</th>\n",
       "      <td>14</td>\n",
       "      <td>2024-05-02 14:06:00</td>\n",
       "      <td>52</td>\n",
       "      <td>30</td>\n",
       "      <td>2</td>\n",
       "      <td>1</td>\n",
       "      <td>8600</td>\n",
       "    </tr>\n",
       "    <tr>\n",
       "      <th>41</th>\n",
       "      <td>42</td>\n",
       "      <td>2024-05-06 00:10:00</td>\n",
       "      <td>47</td>\n",
       "      <td>20</td>\n",
       "      <td>12</td>\n",
       "      <td>1</td>\n",
       "      <td>3100</td>\n",
       "    </tr>\n",
       "    <tr>\n",
       "      <th>44</th>\n",
       "      <td>45</td>\n",
       "      <td>2024-05-06 08:57:00</td>\n",
       "      <td>277</td>\n",
       "      <td>10</td>\n",
       "      <td>10</td>\n",
       "      <td>4</td>\n",
       "      <td>6900</td>\n",
       "    </tr>\n",
       "    <tr>\n",
       "      <th>69</th>\n",
       "      <td>70</td>\n",
       "      <td>2024-05-09 10:14:00</td>\n",
       "      <td>164</td>\n",
       "      <td>30</td>\n",
       "      <td>9</td>\n",
       "      <td>3</td>\n",
       "      <td>4600</td>\n",
       "    </tr>\n",
       "    <tr>\n",
       "      <th>84</th>\n",
       "      <td>85</td>\n",
       "      <td>2024-05-11 06:11:00</td>\n",
       "      <td>138</td>\n",
       "      <td>30</td>\n",
       "      <td>2</td>\n",
       "      <td>3</td>\n",
       "      <td>1800</td>\n",
       "    </tr>\n",
       "  </tbody>\n",
       "</table>\n",
       "</div>"
      ],
      "text/plain": [
       "   Transaction_ID    Transaction_Date Member_ID Product_ID Store_ID  Quantity  \\\n",
       "13             14 2024-05-02 14:06:00        52         30        2         1   \n",
       "41             42 2024-05-06 00:10:00        47         20       12         1   \n",
       "44             45 2024-05-06 08:57:00       277         10       10         4   \n",
       "69             70 2024-05-09 10:14:00       164         30        9         3   \n",
       "84             85 2024-05-11 06:11:00       138         30        2         3   \n",
       "\n",
       "    Sales_Amount  \n",
       "13          8600  \n",
       "41          3100  \n",
       "44          6900  \n",
       "69          4600  \n",
       "84          1800  "
      ]
     },
     "execution_count": 240,
     "metadata": {},
     "output_type": "execute_result"
    }
   ],
   "source": [
    "# LLMの回答\n",
    "sales_df_llm_work[sales_df_llm_work['Product_ID'].isin([10, 20, 30])].head()"
   ]
  },
  {
   "cell_type": "code",
   "execution_count": 241,
   "metadata": {},
   "outputs": [],
   "source": [
    "# type(sales_df_my_work['Product_ID'][0])\n",
    "# sales_df_my_work.info()\n",
    "# sales_df_my_work['Product_ID'] = sales_df_my_work['Product_ID'].astype(int)\n",
    "\n",
    "# sales_df_my_work['Product_ID'].dtype # categories_dtype=int64\n",
    "# sales_df_my_work['Quantity'].dtype # dtype('int64')"
   ]
  },
  {
   "cell_type": "markdown",
   "metadata": {
    "id": "cZ6y5vt5myJI"
   },
   "source": [
    "15. Product_ID が「10」、「20」、「30」ではない取引を抽出してください"
   ]
  },
  {
   "cell_type": "code",
   "execution_count": 242,
   "metadata": {},
   "outputs": [
    {
     "data": {
      "text/html": [
       "<div>\n",
       "<style scoped>\n",
       "    .dataframe tbody tr th:only-of-type {\n",
       "        vertical-align: middle;\n",
       "    }\n",
       "\n",
       "    .dataframe tbody tr th {\n",
       "        vertical-align: top;\n",
       "    }\n",
       "\n",
       "    .dataframe thead th {\n",
       "        text-align: right;\n",
       "    }\n",
       "</style>\n",
       "<table border=\"1\" class=\"dataframe\">\n",
       "  <thead>\n",
       "    <tr style=\"text-align: right;\">\n",
       "      <th></th>\n",
       "      <th>Transaction_ID</th>\n",
       "      <th>Transaction_Date</th>\n",
       "      <th>Member_ID</th>\n",
       "      <th>Product_ID</th>\n",
       "      <th>Store_ID</th>\n",
       "      <th>Quantity</th>\n",
       "      <th>Sales_Amount</th>\n",
       "    </tr>\n",
       "  </thead>\n",
       "  <tbody>\n",
       "    <tr>\n",
       "      <th>0</th>\n",
       "      <td>1</td>\n",
       "      <td>2024-05-01 00:00:00</td>\n",
       "      <td>21</td>\n",
       "      <td>25</td>\n",
       "      <td>12</td>\n",
       "      <td>3</td>\n",
       "      <td>5800</td>\n",
       "    </tr>\n",
       "    <tr>\n",
       "      <th>1</th>\n",
       "      <td>2</td>\n",
       "      <td>2024-05-01 02:55:00</td>\n",
       "      <td>107</td>\n",
       "      <td>23</td>\n",
       "      <td>17</td>\n",
       "      <td>1</td>\n",
       "      <td>600</td>\n",
       "    </tr>\n",
       "    <tr>\n",
       "      <th>2</th>\n",
       "      <td>3</td>\n",
       "      <td>2024-05-01 05:51:00</td>\n",
       "      <td>117</td>\n",
       "      <td>24</td>\n",
       "      <td>6</td>\n",
       "      <td>3</td>\n",
       "      <td>1300</td>\n",
       "    </tr>\n",
       "    <tr>\n",
       "      <th>3</th>\n",
       "      <td>4</td>\n",
       "      <td>2024-05-01 08:47:00</td>\n",
       "      <td>124</td>\n",
       "      <td>38</td>\n",
       "      <td>1</td>\n",
       "      <td>3</td>\n",
       "      <td>6000</td>\n",
       "    </tr>\n",
       "    <tr>\n",
       "      <th>4</th>\n",
       "      <td>5</td>\n",
       "      <td>2024-05-01 11:43:00</td>\n",
       "      <td>281</td>\n",
       "      <td>28</td>\n",
       "      <td>5</td>\n",
       "      <td>4</td>\n",
       "      <td>9400</td>\n",
       "    </tr>\n",
       "  </tbody>\n",
       "</table>\n",
       "</div>"
      ],
      "text/plain": [
       "  Transaction_ID    Transaction_Date Member_ID Product_ID Store_ID  Quantity  \\\n",
       "0              1 2024-05-01 00:00:00        21         25       12         3   \n",
       "1              2 2024-05-01 02:55:00       107         23       17         1   \n",
       "2              3 2024-05-01 05:51:00       117         24        6         3   \n",
       "3              4 2024-05-01 08:47:00       124         38        1         3   \n",
       "4              5 2024-05-01 11:43:00       281         28        5         4   \n",
       "\n",
       "   Sales_Amount  \n",
       "0          5800  \n",
       "1           600  \n",
       "2          1300  \n",
       "3          6000  \n",
       "4          9400  "
      ]
     },
     "execution_count": 242,
     "metadata": {},
     "output_type": "execute_result"
    }
   ],
   "source": [
    "# 自分で調べた方法\n",
    "sales_df_my_work[~sales_df_my_work['Product_ID'].isin([10, 20, 30])].head()\n",
    "# sales_df_my_work.query(\"Product_ID not in [10, 20, 30]\").head() # 上記と同じ結果になる"
   ]
  },
  {
   "cell_type": "markdown",
   "metadata": {
    "id": "zrPRkAHWm-zi"
   },
   "source": [
    "16. Quantity が最頻値で、かつ Store_ID が「3」の取引を抽出してください"
   ]
  },
  {
   "cell_type": "code",
   "execution_count": 243,
   "metadata": {},
   "outputs": [
    {
     "name": "stdout",
     "output_type": "stream",
     "text": [
      "    Transaction_ID    Transaction_Date Member_ID Product_ID Store_ID  \\\n",
      "43              44 2024-05-06 06:01:00       118         29        3   \n",
      "61              62 2024-05-08 10:47:00        50         38        3   \n",
      "109            110 2024-05-14 07:28:00       229         49        3   \n",
      "383            384 2024-06-16 18:32:00       269         44        3   \n",
      "446            447 2024-06-24 11:11:00       108         13        3   \n",
      "472            473 2024-06-27 15:23:00        14         44        3   \n",
      "491            492 2024-06-29 23:05:00       202         38        3   \n",
      "710            711 2024-07-26 16:57:00       114         36        3   \n",
      "808            809 2024-08-07 16:11:00        46         48        3   \n",
      "908            909 2024-08-19 21:17:00        93          2        3   \n",
      "\n",
      "     Quantity  Sales_Amount  \n",
      "43          4          4800  \n",
      "61          4          6500  \n",
      "109         4          9800  \n",
      "383         4          4300  \n",
      "446         4          7800  \n",
      "472         4          3500  \n",
      "491         4          8000  \n",
      "710         4          9700  \n",
      "808         4          5100  \n",
      "908         4          2100  \n"
     ]
    }
   ],
   "source": [
    "# 自分で調べた方法\n",
    "# sales_df_my_work['Quantity'].nunique()\n",
    "# sales_df_my_work['Quantity'].value_counts()\n",
    "# sales_df_my_work['Quantity'].mode()[0] # 4が最も多い\n",
    "\n",
    "# [0]とiloc[0]は同じだが可読性向上する\n",
    "\n",
    "# Quantityの最頻値を求める\n",
    "mode_quantity = sales_df_my_work['Quantity'].mode().iloc[0]\n",
    "# 条件に合うデータを抽出\n",
    "filtered_df = sales_df_my_work[(sales_df_my_work['Quantity'] == mode_quantity) & (sales_df_my_work['Store_ID'] == 3)]\n",
    "# 結果を表示\n",
    "print(filtered_df)"
   ]
  },
  {
   "cell_type": "code",
   "execution_count": 244,
   "metadata": {},
   "outputs": [
    {
     "name": "stdout",
     "output_type": "stream",
     "text": [
      "    Transaction_ID    Transaction_Date Member_ID Product_ID Store_ID  \\\n",
      "43              44 2024-05-06 06:01:00       118         29        3   \n",
      "61              62 2024-05-08 10:47:00        50         38        3   \n",
      "109            110 2024-05-14 07:28:00       229         49        3   \n",
      "383            384 2024-06-16 18:32:00       269         44        3   \n",
      "446            447 2024-06-24 11:11:00       108         13        3   \n",
      "472            473 2024-06-27 15:23:00        14         44        3   \n",
      "491            492 2024-06-29 23:05:00       202         38        3   \n",
      "710            711 2024-07-26 16:57:00       114         36        3   \n",
      "808            809 2024-08-07 16:11:00        46         48        3   \n",
      "908            909 2024-08-19 21:17:00        93          2        3   \n",
      "\n",
      "     Quantity  Sales_Amount  \n",
      "43          4          4800  \n",
      "61          4          6500  \n",
      "109         4          9800  \n",
      "383         4          4300  \n",
      "446         4          7800  \n",
      "472         4          3500  \n",
      "491         4          8000  \n",
      "710         4          9700  \n",
      "808         4          5100  \n",
      "908         4          2100  \n"
     ]
    }
   ],
   "source": [
    "# LLMの回答\n",
    "# Calculate the mode of the Quantity column\n",
    "quantity_mode = sales_df_llm_work['Quantity'].mode()[0]\n",
    "\n",
    "# Filter transactions where Quantity is the mode and Store_ID is 3\n",
    "filtered_transactions = sales_df_llm_work[(sales_df_my_work['Quantity'] == quantity_mode) & (sales_df_llm_work['Store_ID'] == 3)]\n",
    "print(filtered_transactions)"
   ]
  },
  {
   "cell_type": "code",
   "execution_count": 245,
   "metadata": {},
   "outputs": [
    {
     "data": {
      "text/html": [
       "<div>\n",
       "<style scoped>\n",
       "    .dataframe tbody tr th:only-of-type {\n",
       "        vertical-align: middle;\n",
       "    }\n",
       "\n",
       "    .dataframe tbody tr th {\n",
       "        vertical-align: top;\n",
       "    }\n",
       "\n",
       "    .dataframe thead th {\n",
       "        text-align: right;\n",
       "    }\n",
       "</style>\n",
       "<table border=\"1\" class=\"dataframe\">\n",
       "  <thead>\n",
       "    <tr style=\"text-align: right;\">\n",
       "      <th></th>\n",
       "      <th>Transaction_ID</th>\n",
       "      <th>Transaction_Date</th>\n",
       "      <th>Member_ID</th>\n",
       "      <th>Product_ID</th>\n",
       "      <th>Store_ID</th>\n",
       "      <th>Quantity</th>\n",
       "      <th>Sales_Amount</th>\n",
       "    </tr>\n",
       "  </thead>\n",
       "  <tbody>\n",
       "    <tr>\n",
       "      <th>43</th>\n",
       "      <td>44</td>\n",
       "      <td>2024-05-06 06:01:00</td>\n",
       "      <td>118</td>\n",
       "      <td>29</td>\n",
       "      <td>3</td>\n",
       "      <td>4</td>\n",
       "      <td>4800</td>\n",
       "    </tr>\n",
       "    <tr>\n",
       "      <th>61</th>\n",
       "      <td>62</td>\n",
       "      <td>2024-05-08 10:47:00</td>\n",
       "      <td>50</td>\n",
       "      <td>38</td>\n",
       "      <td>3</td>\n",
       "      <td>4</td>\n",
       "      <td>6500</td>\n",
       "    </tr>\n",
       "    <tr>\n",
       "      <th>109</th>\n",
       "      <td>110</td>\n",
       "      <td>2024-05-14 07:28:00</td>\n",
       "      <td>229</td>\n",
       "      <td>49</td>\n",
       "      <td>3</td>\n",
       "      <td>4</td>\n",
       "      <td>9800</td>\n",
       "    </tr>\n",
       "    <tr>\n",
       "      <th>383</th>\n",
       "      <td>384</td>\n",
       "      <td>2024-06-16 18:32:00</td>\n",
       "      <td>269</td>\n",
       "      <td>44</td>\n",
       "      <td>3</td>\n",
       "      <td>4</td>\n",
       "      <td>4300</td>\n",
       "    </tr>\n",
       "    <tr>\n",
       "      <th>446</th>\n",
       "      <td>447</td>\n",
       "      <td>2024-06-24 11:11:00</td>\n",
       "      <td>108</td>\n",
       "      <td>13</td>\n",
       "      <td>3</td>\n",
       "      <td>4</td>\n",
       "      <td>7800</td>\n",
       "    </tr>\n",
       "    <tr>\n",
       "      <th>472</th>\n",
       "      <td>473</td>\n",
       "      <td>2024-06-27 15:23:00</td>\n",
       "      <td>14</td>\n",
       "      <td>44</td>\n",
       "      <td>3</td>\n",
       "      <td>4</td>\n",
       "      <td>3500</td>\n",
       "    </tr>\n",
       "    <tr>\n",
       "      <th>491</th>\n",
       "      <td>492</td>\n",
       "      <td>2024-06-29 23:05:00</td>\n",
       "      <td>202</td>\n",
       "      <td>38</td>\n",
       "      <td>3</td>\n",
       "      <td>4</td>\n",
       "      <td>8000</td>\n",
       "    </tr>\n",
       "    <tr>\n",
       "      <th>710</th>\n",
       "      <td>711</td>\n",
       "      <td>2024-07-26 16:57:00</td>\n",
       "      <td>114</td>\n",
       "      <td>36</td>\n",
       "      <td>3</td>\n",
       "      <td>4</td>\n",
       "      <td>9700</td>\n",
       "    </tr>\n",
       "    <tr>\n",
       "      <th>808</th>\n",
       "      <td>809</td>\n",
       "      <td>2024-08-07 16:11:00</td>\n",
       "      <td>46</td>\n",
       "      <td>48</td>\n",
       "      <td>3</td>\n",
       "      <td>4</td>\n",
       "      <td>5100</td>\n",
       "    </tr>\n",
       "    <tr>\n",
       "      <th>908</th>\n",
       "      <td>909</td>\n",
       "      <td>2024-08-19 21:17:00</td>\n",
       "      <td>93</td>\n",
       "      <td>2</td>\n",
       "      <td>3</td>\n",
       "      <td>4</td>\n",
       "      <td>2100</td>\n",
       "    </tr>\n",
       "  </tbody>\n",
       "</table>\n",
       "</div>"
      ],
      "text/plain": [
       "    Transaction_ID    Transaction_Date Member_ID Product_ID Store_ID  \\\n",
       "43              44 2024-05-06 06:01:00       118         29        3   \n",
       "61              62 2024-05-08 10:47:00        50         38        3   \n",
       "109            110 2024-05-14 07:28:00       229         49        3   \n",
       "383            384 2024-06-16 18:32:00       269         44        3   \n",
       "446            447 2024-06-24 11:11:00       108         13        3   \n",
       "472            473 2024-06-27 15:23:00        14         44        3   \n",
       "491            492 2024-06-29 23:05:00       202         38        3   \n",
       "710            711 2024-07-26 16:57:00       114         36        3   \n",
       "808            809 2024-08-07 16:11:00        46         48        3   \n",
       "908            909 2024-08-19 21:17:00        93          2        3   \n",
       "\n",
       "     Quantity  Sales_Amount  \n",
       "43          4          4800  \n",
       "61          4          6500  \n",
       "109         4          9800  \n",
       "383         4          4300  \n",
       "446         4          7800  \n",
       "472         4          3500  \n",
       "491         4          8000  \n",
       "710         4          9700  \n",
       "808         4          5100  \n",
       "908         4          2100  "
      ]
     },
     "execution_count": 245,
     "metadata": {},
     "output_type": "execute_result"
    }
   ],
   "source": [
    "# 解答例\n",
    "quantity_mode = sales_df_llm_work['Quantity'].mode()[0]\n",
    "sales_df_my_work.query(\"Quantity == @quantity_mode and Store_ID == 3\") # @をつけることで、変数を使うことができる"
   ]
  },
  {
   "cell_type": "markdown",
   "metadata": {
    "id": "TpIlreR-nNr_"
   },
   "source": [
    "17. Amount が第1四分位から第3四分位の範囲に属する取引を抽出してください"
   ]
  },
  {
   "cell_type": "code",
   "execution_count": 246,
   "metadata": {},
   "outputs": [
    {
     "data": {
      "text/html": [
       "<div>\n",
       "<style scoped>\n",
       "    .dataframe tbody tr th:only-of-type {\n",
       "        vertical-align: middle;\n",
       "    }\n",
       "\n",
       "    .dataframe tbody tr th {\n",
       "        vertical-align: top;\n",
       "    }\n",
       "\n",
       "    .dataframe thead th {\n",
       "        text-align: right;\n",
       "    }\n",
       "</style>\n",
       "<table border=\"1\" class=\"dataframe\">\n",
       "  <thead>\n",
       "    <tr style=\"text-align: right;\">\n",
       "      <th></th>\n",
       "      <th>Transaction_ID</th>\n",
       "      <th>Transaction_Date</th>\n",
       "      <th>Member_ID</th>\n",
       "      <th>Product_ID</th>\n",
       "      <th>Store_ID</th>\n",
       "      <th>Quantity</th>\n",
       "      <th>Sales_Amount</th>\n",
       "    </tr>\n",
       "  </thead>\n",
       "  <tbody>\n",
       "    <tr>\n",
       "      <th>0</th>\n",
       "      <td>1</td>\n",
       "      <td>2024-05-01 00:00:00</td>\n",
       "      <td>21</td>\n",
       "      <td>25</td>\n",
       "      <td>12</td>\n",
       "      <td>3</td>\n",
       "      <td>5800</td>\n",
       "    </tr>\n",
       "    <tr>\n",
       "      <th>3</th>\n",
       "      <td>4</td>\n",
       "      <td>2024-05-01 08:47:00</td>\n",
       "      <td>124</td>\n",
       "      <td>38</td>\n",
       "      <td>1</td>\n",
       "      <td>3</td>\n",
       "      <td>6000</td>\n",
       "    </tr>\n",
       "    <tr>\n",
       "      <th>7</th>\n",
       "      <td>8</td>\n",
       "      <td>2024-05-01 20:30:00</td>\n",
       "      <td>51</td>\n",
       "      <td>18</td>\n",
       "      <td>1</td>\n",
       "      <td>4</td>\n",
       "      <td>5500</td>\n",
       "    </tr>\n",
       "    <tr>\n",
       "      <th>10</th>\n",
       "      <td>11</td>\n",
       "      <td>2024-05-02 05:18:00</td>\n",
       "      <td>141</td>\n",
       "      <td>45</td>\n",
       "      <td>9</td>\n",
       "      <td>4</td>\n",
       "      <td>6700</td>\n",
       "    </tr>\n",
       "    <tr>\n",
       "      <th>11</th>\n",
       "      <td>12</td>\n",
       "      <td>2024-05-02 08:14:00</td>\n",
       "      <td>275</td>\n",
       "      <td>9</td>\n",
       "      <td>19</td>\n",
       "      <td>4</td>\n",
       "      <td>3700</td>\n",
       "    </tr>\n",
       "  </tbody>\n",
       "</table>\n",
       "</div>"
      ],
      "text/plain": [
       "   Transaction_ID    Transaction_Date Member_ID Product_ID Store_ID  Quantity  \\\n",
       "0               1 2024-05-01 00:00:00        21         25       12         3   \n",
       "3               4 2024-05-01 08:47:00       124         38        1         3   \n",
       "7               8 2024-05-01 20:30:00        51         18        1         4   \n",
       "10             11 2024-05-02 05:18:00       141         45        9         4   \n",
       "11             12 2024-05-02 08:14:00       275          9       19         4   \n",
       "\n",
       "    Sales_Amount  \n",
       "0           5800  \n",
       "3           6000  \n",
       "7           5500  \n",
       "10          6700  \n",
       "11          3700  "
      ]
     },
     "execution_count": 246,
     "metadata": {},
     "output_type": "execute_result"
    }
   ],
   "source": [
    "# 自分で調べた方法\n",
    "# sales_df_my_work['Sales_Amount'].describe()\n",
    "q1 = sales_df_my_work['Sales_Amount'].quantile(0.25)\n",
    "q3 = sales_df_my_work['Sales_Amount'].quantile(0.75)\n",
    "\n",
    "sales_df_my_work[(sales_df_my_work['Sales_Amount'] >= q1) & (sales_df_my_work['Sales_Amount'] <= q3)].head()\n",
    "\n",
    "# 解答例\n",
    "q1 = sales_df_my_work['Sales_Amount'].quantile(0.25)\n",
    "q3 = sales_df_my_work['Sales_Amount'].quantile(0.75)\n",
    "sales_df_my_work.query(\"@q1 <= Sales_Amount <= @q3\").head()"
   ]
  },
  {
   "cell_type": "markdown",
   "metadata": {
    "id": "QcdfHUcIgStN"
   },
   "source": [
    "18. Product_IDとStore_IDは何種類あるか確認してください"
   ]
  },
  {
   "cell_type": "code",
   "execution_count": 247,
   "metadata": {},
   "outputs": [
    {
     "data": {
      "text/plain": [
       "(50, 20)"
      ]
     },
     "execution_count": 247,
     "metadata": {},
     "output_type": "execute_result"
    }
   ],
   "source": [
    "sales_df_my_work['Product_ID'].nunique(), sales_df_my_work['Store_ID'].nunique()"
   ]
  },
  {
   "cell_type": "markdown",
   "metadata": {
    "id": "1viu7VeqgEA-"
   },
   "source": [
    "19. 取引データのProduct_ID ごとに Amount の合計を計算してください"
   ]
  },
  {
   "cell_type": "code",
   "execution_count": 248,
   "metadata": {},
   "outputs": [
    {
     "name": "stderr",
     "output_type": "stream",
     "text": [
      "/var/folders/7h/pvrr2skj31l3k_w_t4bj4q280000gn/T/ipykernel_79774/956988122.py:1: FutureWarning: The default of observed=False is deprecated and will be changed to True in a future version of pandas. Pass observed=False to retain current behavior or observed=True to adopt the future default and silence this warning.\n",
      "  sales_df_my_work.groupby('Product_ID')['Sales_Amount'].sum() # LLMで修正\n"
     ]
    },
    {
     "data": {
      "text/plain": [
       "Product_ID\n",
       "1     121600\n",
       "2      49800\n",
       "3     110300\n",
       "4     122600\n",
       "5      76700\n",
       "6      84700\n",
       "7      94200\n",
       "8     135900\n",
       "9      72600\n",
       "10     92100\n",
       "11    138700\n",
       "12     63900\n",
       "13    139300\n",
       "14     70300\n",
       "15     68100\n",
       "16    106200\n",
       "17    169400\n",
       "18    109900\n",
       "19    130500\n",
       "20     83700\n",
       "21    111700\n",
       "22    128400\n",
       "23    106500\n",
       "24    114100\n",
       "25     88800\n",
       "26    101600\n",
       "27    102600\n",
       "28    121200\n",
       "29    126000\n",
       "30     85300\n",
       "31    106100\n",
       "32    124900\n",
       "33     58300\n",
       "34    126300\n",
       "35    123200\n",
       "36    172300\n",
       "37    126400\n",
       "38    130800\n",
       "39     77300\n",
       "40    110600\n",
       "41    110600\n",
       "42     77400\n",
       "43    101800\n",
       "44     97100\n",
       "45    148600\n",
       "46     55500\n",
       "47    156200\n",
       "48     78100\n",
       "49    118700\n",
       "50    111200\n",
       "Name: Sales_Amount, dtype: int64"
      ]
     },
     "execution_count": 248,
     "metadata": {},
     "output_type": "execute_result"
    }
   ],
   "source": [
    "sales_df_my_work.groupby('Product_ID')['Sales_Amount'].sum() # LLMで修正\n",
    "# sales_df_my_work.groupby('Product_ID')['Sales_Amount'].sum().nunique()\n",
    "# sales_df_my_work.groupby('Product_ID')['Sales_Amount'].nunique()\n",
    "\n",
    "# メモ\n",
    "# グループ化: df.groupby('column_name')は、指定された列('column_name')の値に基づいてデータをグループ化します。\n",
    "# 集計: その後、集計関数（例：sum(), mean(), count()など）を適用して、各グループごとに計算を行います。\n",
    "# 例：result = df.groupby('category')['value'].sum()\n",
    "# 'category'列の値でデータをグループ化\n",
    "# 各グループ内の'value'列の合計を計算"
   ]
  },
  {
   "cell_type": "markdown",
   "metadata": {
    "id": "sy7xFzEbCGTw"
   },
   "source": [
    "20. Product_ID ごとにQuantityの中央値を計算してください"
   ]
  },
  {
   "cell_type": "code",
   "execution_count": 249,
   "metadata": {},
   "outputs": [
    {
     "name": "stderr",
     "output_type": "stream",
     "text": [
      "/var/folders/7h/pvrr2skj31l3k_w_t4bj4q280000gn/T/ipykernel_79774/293935698.py:1: FutureWarning: The default of observed=False is deprecated and will be changed to True in a future version of pandas. Pass observed=False to retain current behavior or observed=True to adopt the future default and silence this warning.\n",
      "  sales_df_my_work.groupby('Product_ID')['Quantity'].median()\n"
     ]
    },
    {
     "data": {
      "text/plain": [
       "Product_ID\n",
       "1     2.0\n",
       "2     2.0\n",
       "3     3.0\n",
       "4     2.0\n",
       "5     3.0\n",
       "6     3.0\n",
       "7     2.0\n",
       "8     2.0\n",
       "9     3.0\n",
       "10    3.0\n",
       "11    3.0\n",
       "12    3.0\n",
       "13    2.0\n",
       "14    3.0\n",
       "15    2.5\n",
       "16    3.0\n",
       "17    2.0\n",
       "18    3.0\n",
       "19    2.0\n",
       "20    3.0\n",
       "21    2.5\n",
       "22    3.0\n",
       "23    2.0\n",
       "24    2.0\n",
       "25    3.0\n",
       "26    2.0\n",
       "27    2.0\n",
       "28    3.0\n",
       "29    3.0\n",
       "30    3.0\n",
       "31    3.0\n",
       "32    3.0\n",
       "33    3.0\n",
       "34    3.0\n",
       "35    3.0\n",
       "36    3.0\n",
       "37    3.0\n",
       "38    3.0\n",
       "39    3.0\n",
       "40    2.0\n",
       "41    2.0\n",
       "42    3.0\n",
       "43    2.0\n",
       "44    2.5\n",
       "45    3.0\n",
       "46    2.0\n",
       "47    2.0\n",
       "48    2.5\n",
       "49    3.0\n",
       "50    2.0\n",
       "Name: Quantity, dtype: float64"
      ]
     },
     "execution_count": 249,
     "metadata": {},
     "output_type": "execute_result"
    }
   ],
   "source": [
    "sales_df_my_work.groupby('Product_ID')['Quantity'].median()"
   ]
  },
  {
   "cell_type": "code",
   "execution_count": 250,
   "metadata": {},
   "outputs": [
    {
     "name": "stderr",
     "output_type": "stream",
     "text": [
      "/var/folders/7h/pvrr2skj31l3k_w_t4bj4q280000gn/T/ipykernel_79774/682049455.py:2: FutureWarning: The default of observed=False is deprecated and will be changed to True in a future version of pandas. Pass observed=False to retain current behavior or observed=True to adopt the future default and silence this warning.\n",
      "  sales_df_llm_work.groupby('Product_ID')['Quantity'].median()\n"
     ]
    },
    {
     "data": {
      "text/plain": [
       "Product_ID\n",
       "1     2.0\n",
       "2     2.0\n",
       "3     3.0\n",
       "4     2.0\n",
       "5     3.0\n",
       "6     3.0\n",
       "7     2.0\n",
       "8     2.0\n",
       "9     3.0\n",
       "10    3.0\n",
       "11    3.0\n",
       "12    3.0\n",
       "13    2.0\n",
       "14    3.0\n",
       "15    2.5\n",
       "16    3.0\n",
       "17    2.0\n",
       "18    3.0\n",
       "19    2.0\n",
       "20    3.0\n",
       "21    2.5\n",
       "22    3.0\n",
       "23    2.0\n",
       "24    2.0\n",
       "25    3.0\n",
       "26    2.0\n",
       "27    2.0\n",
       "28    3.0\n",
       "29    3.0\n",
       "30    3.0\n",
       "31    3.0\n",
       "32    3.0\n",
       "33    3.0\n",
       "34    3.0\n",
       "35    3.0\n",
       "36    3.0\n",
       "37    3.0\n",
       "38    3.0\n",
       "39    3.0\n",
       "40    2.0\n",
       "41    2.0\n",
       "42    3.0\n",
       "43    2.0\n",
       "44    2.5\n",
       "45    3.0\n",
       "46    2.0\n",
       "47    2.0\n",
       "48    2.5\n",
       "49    3.0\n",
       "50    2.0\n",
       "Name: Quantity, dtype: float64"
      ]
     },
     "execution_count": 250,
     "metadata": {},
     "output_type": "execute_result"
    }
   ],
   "source": [
    "# LLMが回答\n",
    "sales_df_llm_work.groupby('Product_ID')['Quantity'].median()"
   ]
  },
  {
   "cell_type": "markdown",
   "metadata": {
    "id": "vlGGL0okmcdl"
   },
   "source": [
    "21. Store_ID ごとに平均Amountを集計してください"
   ]
  },
  {
   "cell_type": "code",
   "execution_count": 251,
   "metadata": {},
   "outputs": [
    {
     "name": "stderr",
     "output_type": "stream",
     "text": [
      "/var/folders/7h/pvrr2skj31l3k_w_t4bj4q280000gn/T/ipykernel_79774/2556034677.py:1: FutureWarning: The default of observed=False is deprecated and will be changed to True in a future version of pandas. Pass observed=False to retain current behavior or observed=True to adopt the future default and silence this warning.\n",
      "  sales_df_my_work.groupby('Store_ID')['Sales_Amount'].mean()\n"
     ]
    },
    {
     "data": {
      "text/plain": [
       "Store_ID\n",
       "1     5873.333333\n",
       "2     4630.952381\n",
       "3     5507.843137\n",
       "4     5329.268293\n",
       "5     5686.363636\n",
       "6     5361.111111\n",
       "7     5458.974359\n",
       "8     5436.065574\n",
       "9     5619.047619\n",
       "10    5301.923077\n",
       "11    4868.000000\n",
       "12    5602.272727\n",
       "13    5815.254237\n",
       "14    5873.333333\n",
       "15    5585.937500\n",
       "16    5201.960784\n",
       "17    4727.536232\n",
       "18    4885.416667\n",
       "19    5091.489362\n",
       "20    5075.000000\n",
       "Name: Sales_Amount, dtype: float64"
      ]
     },
     "execution_count": 251,
     "metadata": {},
     "output_type": "execute_result"
    }
   ],
   "source": [
    "sales_df_my_work.groupby('Store_ID')['Sales_Amount'].mean()\n",
    "\n",
    "# sales_df_my_work.groupby('Store_ID')：データフレームをStore_IDでグループ化します。\n",
    "# ['Amount'].mean()：各グループ（つまり各Store_ID）のAmount列の平均値を計算します。\n",
    "# 結果はstore_avg_amountというSeriesに格納されます。\n",
    "# このSeriesのインデックスはStore_IDで、値はそれぞれのStore_IDに対応するAmountの平均になります。\n",
    "\n",
    "# 結果をより見やすくする\n",
    "# store_avg_amount_df = sales_df_my_work.groupby('Store_ID')['Sales_Amount'].mean().reset_index()\n",
    "# store_avg_amount_df.columns = ['Store_ID', 'Average_Amount']\n",
    "# print(store_avg_amount_df)"
   ]
  },
  {
   "cell_type": "markdown",
   "metadata": {
    "id": "_mmUCHzlgqLn"
   },
   "source": [
    "22. 会員データの性別 (Gender) ごとに平均年齢を計算してください"
   ]
  },
  {
   "cell_type": "code",
   "execution_count": 252,
   "metadata": {},
   "outputs": [
    {
     "data": {
      "text/plain": [
       "Gender\n",
       "Female    48.945205\n",
       "Male      53.259740\n",
       "Name: Age, dtype: float64"
      ]
     },
     "execution_count": 252,
     "metadata": {},
     "output_type": "execute_result"
    }
   ],
   "source": [
    "member_df.groupby(\"Gender\")[\"Age\"].mean()"
   ]
  },
  {
   "cell_type": "markdown",
   "metadata": {
    "id": "kPo1eEfFiVEd"
   },
   "source": [
    "23. 会員ごとに平均 Amount を計算してください"
   ]
  },
  {
   "cell_type": "code",
   "execution_count": 253,
   "metadata": {},
   "outputs": [
    {
     "name": "stderr",
     "output_type": "stream",
     "text": [
      "/var/folders/7h/pvrr2skj31l3k_w_t4bj4q280000gn/T/ipykernel_79774/467850245.py:7: FutureWarning: The default of observed=False is deprecated and will be changed to True in a future version of pandas. Pass observed=False to retain current behavior or observed=True to adopt the future default and silence this warning.\n",
      "  sales_df_my_work.groupby('Member_ID')['Sales_Amount'].mean()\n"
     ]
    },
    {
     "data": {
      "text/plain": [
       "Member_ID\n",
       "1      5000.000000\n",
       "2      5900.000000\n",
       "3      5100.000000\n",
       "4      2600.000000\n",
       "5      4525.000000\n",
       "          ...     \n",
       "295    7833.333333\n",
       "296    9400.000000\n",
       "297    5450.000000\n",
       "298    9400.000000\n",
       "300    5900.000000\n",
       "Name: Sales_Amount, Length: 288, dtype: float64"
      ]
     },
     "execution_count": 253,
     "metadata": {},
     "output_type": "execute_result"
    }
   ],
   "source": [
    "# member_df.groupby('Member_ID')['Amount'].mean()\n",
    "# member_df.info()\n",
    "# member_df.columns\n",
    "sales_df_my_work.columns\n",
    "\n",
    "# 解答例\n",
    "sales_df_my_work.groupby('Member_ID')['Sales_Amount'].mean()"
   ]
  },
  {
   "cell_type": "code",
   "execution_count": 254,
   "metadata": {},
   "outputs": [
    {
     "name": "stdout",
     "output_type": "stream",
     "text": [
      "Member_ID\n",
      "1      5000.000000\n",
      "2      5900.000000\n",
      "3      5100.000000\n",
      "4      2600.000000\n",
      "5      4525.000000\n",
      "          ...     \n",
      "295    7833.333333\n",
      "296    9400.000000\n",
      "297    5450.000000\n",
      "298    9400.000000\n",
      "300    5900.000000\n",
      "Name: Sales_Amount, Length: 288, dtype: float64\n"
     ]
    },
    {
     "name": "stderr",
     "output_type": "stream",
     "text": [
      "/var/folders/7h/pvrr2skj31l3k_w_t4bj4q280000gn/T/ipykernel_79774/2437503761.py:2: FutureWarning: The default of observed=False is deprecated and will be changed to True in a future version of pandas. Pass observed=False to retain current behavior or observed=True to adopt the future default and silence this warning.\n",
      "  average_amount_per_member = sales_df_my_work.groupby('Member_ID')['Sales_Amount'].mean()\n"
     ]
    }
   ],
   "source": [
    "# LLMが回答\n",
    "average_amount_per_member = sales_df_my_work.groupby('Member_ID')['Sales_Amount'].mean()\n",
    "print(average_amount_per_member)"
   ]
  },
  {
   "cell_type": "markdown",
   "metadata": {
    "id": "Udk2EdbPifC0"
   },
   "source": [
    "24. Transaction_Dateから日付だけ取り出して日付ごとに Amount の合計を集計してください"
   ]
  },
  {
   "cell_type": "code",
   "execution_count": 255,
   "metadata": {},
   "outputs": [
    {
     "name": "stdout",
     "output_type": "stream",
     "text": [
      "Transaction_Date\n",
      "2024-05-01    55100\n",
      "2024-05-02    47800\n",
      "2024-05-03    52000\n",
      "2024-05-04    38800\n",
      "2024-05-05    47400\n",
      "              ...  \n",
      "2024-08-27    42500\n",
      "2024-08-28    34300\n",
      "2024-08-29    42800\n",
      "2024-08-30    44100\n",
      "2024-08-31     7500\n",
      "Name: Sales_Amount, Length: 123, dtype: int64\n"
     ]
    }
   ],
   "source": [
    "OnlyDate = sales_df_my_work['Transaction_Date'].dt.date\n",
    "# OnlyDate.head()\n",
    "# sales_df_my_work['Transaction_Date'].head()\n",
    "\n",
    "sum_amount_per_date = sales_df_my_work.groupby(sales_df_my_work['Transaction_Date'].dt.date)['Sales_Amount'].sum()\n",
    "print(sum_amount_per_date)"
   ]
  },
  {
   "cell_type": "code",
   "execution_count": 256,
   "metadata": {},
   "outputs": [
    {
     "data": {
      "text/plain": [
       "Transaction_Date_yyyyMMdd\n",
       "2024-05-01    55100\n",
       "2024-05-02    47800\n",
       "2024-05-03    52000\n",
       "2024-05-04    38800\n",
       "2024-05-05    47400\n",
       "              ...  \n",
       "2024-08-27    42500\n",
       "2024-08-28    34300\n",
       "2024-08-29    42800\n",
       "2024-08-30    44100\n",
       "2024-08-31     7500\n",
       "Name: Sales_Amount, Length: 123, dtype: int64"
      ]
     },
     "execution_count": 256,
     "metadata": {},
     "output_type": "execute_result"
    }
   ],
   "source": [
    "# 解答例\n",
    "sales_df_my_work['Transaction_Date_yyyyMMdd'] = sales_df_my_work['Transaction_Date'].dt.date\n",
    "sales_df_my_work.groupby('Transaction_Date_yyyyMMdd')['Sales_Amount'].sum()"
   ]
  },
  {
   "cell_type": "markdown",
   "metadata": {},
   "source": [
    "25. 日付ごとに合計のAmountを集計し、合計Amountが小さい順にソートしてください"
   ]
  },
  {
   "cell_type": "code",
   "execution_count": 257,
   "metadata": {},
   "outputs": [
    {
     "data": {
      "text/html": [
       "<div>\n",
       "<style scoped>\n",
       "    .dataframe tbody tr th:only-of-type {\n",
       "        vertical-align: middle;\n",
       "    }\n",
       "\n",
       "    .dataframe tbody tr th {\n",
       "        vertical-align: top;\n",
       "    }\n",
       "\n",
       "    .dataframe thead th {\n",
       "        text-align: right;\n",
       "    }\n",
       "</style>\n",
       "<table border=\"1\" class=\"dataframe\">\n",
       "  <thead>\n",
       "    <tr style=\"text-align: right;\">\n",
       "      <th></th>\n",
       "      <th>Transaction_Date_yyyyMMdd</th>\n",
       "      <th>Sales_Amount</th>\n",
       "    </tr>\n",
       "  </thead>\n",
       "  <tbody>\n",
       "    <tr>\n",
       "      <th>122</th>\n",
       "      <td>2024-08-31</td>\n",
       "      <td>7500</td>\n",
       "    </tr>\n",
       "    <tr>\n",
       "      <th>51</th>\n",
       "      <td>2024-06-21</td>\n",
       "      <td>24100</td>\n",
       "    </tr>\n",
       "    <tr>\n",
       "      <th>20</th>\n",
       "      <td>2024-05-21</td>\n",
       "      <td>25200</td>\n",
       "    </tr>\n",
       "    <tr>\n",
       "      <th>114</th>\n",
       "      <td>2024-08-23</td>\n",
       "      <td>28200</td>\n",
       "    </tr>\n",
       "    <tr>\n",
       "      <th>68</th>\n",
       "      <td>2024-07-08</td>\n",
       "      <td>28900</td>\n",
       "    </tr>\n",
       "    <tr>\n",
       "      <th>...</th>\n",
       "      <td>...</td>\n",
       "      <td>...</td>\n",
       "    </tr>\n",
       "    <tr>\n",
       "      <th>39</th>\n",
       "      <td>2024-06-09</td>\n",
       "      <td>57400</td>\n",
       "    </tr>\n",
       "    <tr>\n",
       "      <th>24</th>\n",
       "      <td>2024-05-25</td>\n",
       "      <td>57600</td>\n",
       "    </tr>\n",
       "    <tr>\n",
       "      <th>117</th>\n",
       "      <td>2024-08-26</td>\n",
       "      <td>59800</td>\n",
       "    </tr>\n",
       "    <tr>\n",
       "      <th>84</th>\n",
       "      <td>2024-07-24</td>\n",
       "      <td>60600</td>\n",
       "    </tr>\n",
       "    <tr>\n",
       "      <th>67</th>\n",
       "      <td>2024-07-07</td>\n",
       "      <td>66100</td>\n",
       "    </tr>\n",
       "  </tbody>\n",
       "</table>\n",
       "<p>123 rows × 2 columns</p>\n",
       "</div>"
      ],
      "text/plain": [
       "    Transaction_Date_yyyyMMdd  Sales_Amount\n",
       "122                2024-08-31          7500\n",
       "51                 2024-06-21         24100\n",
       "20                 2024-05-21         25200\n",
       "114                2024-08-23         28200\n",
       "68                 2024-07-08         28900\n",
       "..                        ...           ...\n",
       "39                 2024-06-09         57400\n",
       "24                 2024-05-25         57600\n",
       "117                2024-08-26         59800\n",
       "84                 2024-07-24         60600\n",
       "67                 2024-07-07         66100\n",
       "\n",
       "[123 rows x 2 columns]"
      ]
     },
     "execution_count": 257,
     "metadata": {},
     "output_type": "execute_result"
    }
   ],
   "source": [
    "# Transaction_Date_yyyyMMddがindexになってしまっていたので、reset_indexでindexを振り直す\n",
    "# というのも、groupbyでindexが消えてしまうから(それごとにまとめるので)\n",
    "# ただ、今回はcolumnにあったほうが見やすいので、reset_indexを使っている\n",
    "# reset_indexはデータの構造を綺麗にするためによく使う\n",
    "sales_df_my_work.groupby('Transaction_Date_yyyyMMdd')['Sales_Amount'].sum().reset_index().sort_values(by='Sales_Amount', ascending=True)\n",
    "# assending ... 昇順:True, 降順:False"
   ]
  },
  {
   "cell_type": "markdown",
   "metadata": {
    "id": "EHrpOPRsSEod"
   },
   "source": [
    "26. 月ごとに Amount を集計してください"
   ]
  },
  {
   "cell_type": "code",
   "execution_count": 258,
   "metadata": {},
   "outputs": [
    {
     "name": "stdout",
     "output_type": "stream",
     "text": [
      "Transaction_Date\n",
      "5    1374500\n",
      "6    1282200\n",
      "7    1355700\n",
      "8    1325700\n",
      "Name: Sales_Amount, dtype: int64\n"
     ]
    }
   ],
   "source": [
    "OnlyMonth = sales_df_my_work['Transaction_Date'].dt.month\n",
    "# OnlyMonth.tail()\n",
    "\n",
    "sum_amount_per_month = sales_df_my_work.groupby(sales_df_my_work['Transaction_Date'].dt.month)['Sales_Amount'].sum()\n",
    "print(sum_amount_per_month)"
   ]
  },
  {
   "cell_type": "code",
   "execution_count": 259,
   "metadata": {},
   "outputs": [
    {
     "data": {
      "text/plain": [
       "Month\n",
       "2024-05    1374500\n",
       "2024-06    1282200\n",
       "2024-07    1355700\n",
       "2024-08    1325700\n",
       "Freq: M, Name: Sales_Amount, dtype: int64"
      ]
     },
     "execution_count": 259,
     "metadata": {},
     "output_type": "execute_result"
    }
   ],
   "source": [
    "# 解答例\n",
    "sales_df_my_work['Month'] = sales_df_my_work['Transaction_Date'].dt.to_period('M')\n",
    "sales_df_my_work.groupby('Month')['Sales_Amount'].sum()"
   ]
  },
  {
   "cell_type": "code",
   "execution_count": 260,
   "metadata": {},
   "outputs": [],
   "source": [
    "# import pandas as pd\n",
    "\n",
    "# # サンプルデータの作成\n",
    "# data = {'date': ['2023-01-01', '2023-02-15', '2023-03-20']}\n",
    "# df = pd.DataFrame(data)\n",
    "\n",
    "# # 'date'列をdatetime型に変換\n",
    "# df['date'] = pd.to_datetime(df['date'])\n",
    "\n",
    "# # 'date'列を月単位の期間に変換\n",
    "# df['period'] = df['date'].dt.to_period('M')\n",
    "\n",
    "# print(df)"
   ]
  },
  {
   "cell_type": "markdown",
   "metadata": {
    "id": "odsMNvfrSrMD"
   },
   "source": [
    "27. 月ごとのAmountの増減の絶対値を前月と比較して計算してください"
   ]
  },
  {
   "cell_type": "code",
   "execution_count": 261,
   "metadata": {},
   "outputs": [
    {
     "name": "stdout",
     "output_type": "stream",
     "text": [
      "Transaction_Date\n",
      "6    92300.0\n",
      "7    73500.0\n",
      "8    30000.0\n",
      "Name: Sales_Amount, dtype: float64\n"
     ]
    }
   ],
   "source": [
    "# LLMが回答\n",
    "# Calculate the absolute difference in Sales_Amount between each month\n",
    "monthly_diff = sum_amount_per_month.diff().abs()\n",
    "\n",
    "# Drop the first NaN value resulting from the diff() operation\n",
    "monthly_diff = monthly_diff.dropna()\n",
    "\n",
    "print(monthly_diff)"
   ]
  },
  {
   "cell_type": "code",
   "execution_count": 262,
   "metadata": {},
   "outputs": [
    {
     "data": {
      "text/plain": [
       "0        NaN\n",
       "1    92300.0\n",
       "2    73500.0\n",
       "3    30000.0\n",
       "Name: Sales_Amount, dtype: float64"
      ]
     },
     "execution_count": 262,
     "metadata": {},
     "output_type": "execute_result"
    }
   ],
   "source": [
    "# 解答例\n",
    "monthly_sales = sales_df_my_work.groupby('Month')['Sales_Amount'].sum().reset_index()\n",
    "monthly_sales['Sales_Amount'].diff().abs()"
   ]
  },
  {
   "cell_type": "markdown",
   "metadata": {
    "id": "H8yqGR9gSMmy"
   },
   "source": [
    "28. 曜日ごとの合計Amountを集計してください"
   ]
  },
  {
   "cell_type": "code",
   "execution_count": 263,
   "metadata": {},
   "outputs": [
    {
     "data": {
      "text/plain": [
       "Transaction_Date\n",
       "Friday       745700\n",
       "Monday       718500\n",
       "Saturday     752300\n",
       "Sunday       765100\n",
       "Thursday     791900\n",
       "Tuesday      722500\n",
       "Wednesday    842100\n",
       "Name: Sales_Amount, dtype: int64"
      ]
     },
     "execution_count": 263,
     "metadata": {},
     "output_type": "execute_result"
    }
   ],
   "source": [
    "# sales_df_my_work['Transaction_Date'].dt.weekday\n",
    "DayName = sales_df_my_work['Transaction_Date'].dt.day_name()\n",
    "sales_df_my_work.groupby(DayName)['Sales_Amount'].sum()"
   ]
  },
  {
   "cell_type": "code",
   "execution_count": 264,
   "metadata": {},
   "outputs": [
    {
     "data": {
      "text/plain": [
       "Day_of_Week\n",
       "Friday       745700\n",
       "Monday       718500\n",
       "Saturday     752300\n",
       "Sunday       765100\n",
       "Thursday     791900\n",
       "Tuesday      722500\n",
       "Wednesday    842100\n",
       "Name: Sales_Amount, dtype: int64"
      ]
     },
     "execution_count": 264,
     "metadata": {},
     "output_type": "execute_result"
    }
   ],
   "source": [
    "# 解答例\n",
    "sales_df_my_work['Day_of_Week'] = sales_df_my_work['Transaction_Date'].dt.day_name()\n",
    "sales_df_my_work.groupby('Day_of_Week')['Sales_Amount'].sum()"
   ]
  },
  {
   "cell_type": "code",
   "execution_count": 265,
   "metadata": {},
   "outputs": [
    {
     "name": "stdout",
     "output_type": "stream",
     "text": [
      "<class 'pandas.core.frame.DataFrame'>\n",
      "RangeIndex: 1000 entries, 0 to 999\n",
      "Data columns (total 10 columns):\n",
      " #   Column                     Non-Null Count  Dtype         \n",
      "---  ------                     --------------  -----         \n",
      " 0   Transaction_ID             1000 non-null   category      \n",
      " 1   Transaction_Date           1000 non-null   datetime64[ns]\n",
      " 2   Member_ID                  1000 non-null   category      \n",
      " 3   Product_ID                 1000 non-null   category      \n",
      " 4   Store_ID                   1000 non-null   category      \n",
      " 5   Quantity                   1000 non-null   int64         \n",
      " 6   Sales_Amount               1000 non-null   int64         \n",
      " 7   Transaction_Date_yyyyMMdd  1000 non-null   object        \n",
      " 8   Month                      1000 non-null   period[M]     \n",
      " 9   Day_of_Week                1000 non-null   object        \n",
      "dtypes: category(4), datetime64[ns](1), int64(2), object(2), period[M](1)\n",
      "memory usage: 106.5+ KB\n"
     ]
    }
   ],
   "source": [
    "# 解答例では、カラムにどんどん新しく追加しているが、この方が、ある意味新しい特徴量を増やせていいのかも？\n",
    "sales_df_my_work.info()\n",
    "\n",
    "# groupbyについてメモ\n",
    "# 特徴量エンジニアリング\n",
    "# \t•\tデータ分析では、新しい特徴量を作成するために`groupby`が頻繁に使用されます。\n",
    "# \t•\t例: 各顧客の購入回数や平均購入金額を算出し、それを新しい列として追加する。\n",
    "# \t•\tこのような操作は、機械学習モデルの性能向上に寄与する特徴量エンジニアリングで重要な役割を果たします。\n",
    "# データ変換とフィルタリング\n",
    "# \t•\tグループごとに特定の処理（例えば正規化やフィルタリング）を適用することも可能です。\n",
    "# \t•\t例: 各グループ内で値を標準化したり、条件に基づいてデータを抽出したりする。\n",
    "# まとめ\n",
    "# Pythonの`groupby`関数は、データ分析や機械学習で非常に重要なツールです。特に「集計」「特徴量作成」「データ変換」の場面で活用され、新しい洞察を得るための基盤となります。"
   ]
  },
  {
   "cell_type": "markdown",
   "metadata": {
    "id": "wJtxYBFqSv90"
   },
   "source": [
    "29. 1週間ごとに合計Amountを集計してください"
   ]
  },
  {
   "cell_type": "code",
   "execution_count": 266,
   "metadata": {},
   "outputs": [
    {
     "name": "stdout",
     "output_type": "stream",
     "text": [
      "[2 3 4 5 6 0 1] 7\n"
     ]
    },
    {
     "data": {
      "text/plain": [
       "Transaction_Date\n",
       "0    718500\n",
       "1    722500\n",
       "2    842100\n",
       "3    791900\n",
       "4    745700\n",
       "5    752300\n",
       "6    765100\n",
       "Name: Sales_Amount, dtype: int64"
      ]
     },
     "execution_count": 266,
     "metadata": {},
     "output_type": "execute_result"
    }
   ],
   "source": [
    "# weekdayだと各曜日が数値に変換されて、曜日ごと集計される(0:月、1:火、2:水...)\n",
    "WeekDay = sales_df_my_work['Transaction_Date'].dt.weekday\n",
    "print(WeekDay.unique(), WeekDay.nunique())\n",
    "sales_df_my_work.groupby(WeekDay)['Sales_Amount'].sum()"
   ]
  },
  {
   "cell_type": "code",
   "execution_count": 267,
   "metadata": {},
   "outputs": [
    {
     "data": {
      "text/plain": [
       "Week\n",
       "2024-04-29/2024-05-05    241100\n",
       "2024-05-06/2024-05-12    311300\n",
       "2024-05-13/2024-05-19    304900\n",
       "2024-05-20/2024-05-26    309600\n",
       "2024-05-27/2024-06-02    290600\n",
       "2024-06-03/2024-06-09    312800\n",
       "2024-06-10/2024-06-16    300100\n",
       "2024-06-17/2024-06-23    281900\n",
       "2024-06-24/2024-06-30    304400\n",
       "2024-07-01/2024-07-07    319800\n",
       "2024-07-08/2024-07-14    287600\n",
       "2024-07-15/2024-07-21    309900\n",
       "2024-07-22/2024-07-28    287500\n",
       "2024-07-29/2024-08-04    316200\n",
       "2024-08-05/2024-08-11    278900\n",
       "2024-08-12/2024-08-18    343900\n",
       "2024-08-19/2024-08-25    306600\n",
       "2024-08-26/2024-09-01    231000\n",
       "Freq: W-SUN, Name: Sales_Amount, dtype: int64"
      ]
     },
     "execution_count": 267,
     "metadata": {},
     "output_type": "execute_result"
    }
   ],
   "source": [
    "# 解答例\n",
    "sales_df_my_work['Week'] = sales_df_my_work['Transaction_Date'].dt.to_period('W')\n",
    "# sales_df_my_work['Week'] = sales_df_my_work['Transaction_Date'].dt.weekday\n",
    "sales_df_my_work.groupby('Week')['Sales_Amount'].sum()"
   ]
  },
  {
   "cell_type": "markdown",
   "metadata": {},
   "source": [
    "以下の2つのコードの違いを説明します。\n",
    "\n",
    "```python\n",
    "sales_df_my_work['Week'] = sales_df_my_work['Transaction_Date'].dt.to_period('W')\n",
    "sales_df_my_work['Week'] = sales_df_my_work['Transaction_Date'].dt.weekday\n",
    "```\n",
    "\n",
    "### **1. `to_period('W')` の場合**\n",
    "- **機能**: `to_period('W')` は、`Transaction_Date` を週単位の期間（`Period`型）に変換します。この場合、各日付が属する週を表します。\n",
    "- **結果**: 各日付が「その週の開始日から終了日まで」を表す形式に変換されます（例: `2025-02-17/2025-02-23`）。週の終了日はデフォルトで日曜日です[1][4]。\n",
    "- **用途**: データを「週単位」で集計したい場合に便利です。\n",
    "\n",
    "**例**:\n",
    "```python\n",
    "# 2025年2月19日は、2025年2月17日（月）～2025年2月23日（日）の週に属する\n",
    "2025-02-19 -> 2025-02-17/2025-02-23\n",
    "```\n",
    "\n",
    "---\n",
    "\n",
    "### **2. `.weekday` の場合**\n",
    "- **機能**: `.weekday` は、`Transaction_Date` の曜日を数値（整数）として取得します。月曜日が `0`、日曜日が `6` です[2][3]。\n",
    "- **結果**: 各日付がその曜日に対応する数値に変換されます。\n",
    "- **用途**: 曜日の情報を使いたい場合や、特定の曜日でフィルタリングしたい場合に使用します。\n",
    "\n",
    "**例**:\n",
    "```python\n",
    "# 2025年2月19日は水曜日なので、数値としては 2 が返される\n",
    "2025-02-19 -> 2\n",
    "```\n",
    "\n",
    "---\n",
    "\n",
    "### **主な違い**\n",
    "| 特徴                     | `to_period('W')`                          | `.weekday`            |\n",
    "|--------------------------|-------------------------------------------|-----------------------|\n",
    "| **目的**                 | 週単位の期間を取得                        | 曜日を数値で取得       |\n",
    "| **出力形式**             | `Period` 型（例: `2025-02-17/2025-02-23`） | 整数（例: `0~6`）      |\n",
    "| **用途**                 | 週単位での集計やグループ化                  | 曜日の分析や条件分岐    |\n",
    "| **データ型**             | `Period[W-SUN]`                          | `int64`               |\n",
    "\n",
    "### **まとめ**\n",
    "- 週単位でデータを扱いたい場合は `to_period('W')` を使用。\n",
    "- 曜日に基づく分析や条件分岐が必要な場合は `.weekday` を使用。"
   ]
  },
  {
   "cell_type": "markdown",
   "metadata": {
    "id": "OYsIUC3MVLL1"
   },
   "source": [
    "30. 1週間ごとのAmountの増減を計算し、増加率をパーセンテージで表示してください"
   ]
  },
  {
   "cell_type": "code",
   "execution_count": 268,
   "metadata": {},
   "outputs": [
    {
     "name": "stdout",
     "output_type": "stream",
     "text": [
      "Transaction_Date\n",
      "1      4000.0\n",
      "2    119600.0\n",
      "3     50200.0\n",
      "4     46200.0\n",
      "5      6600.0\n",
      "6     12800.0\n",
      "Name: Sales_Amount, dtype: float64\n"
     ]
    },
    {
     "data": {
      "text/html": [
       "<div>\n",
       "<style scoped>\n",
       "    .dataframe tbody tr th:only-of-type {\n",
       "        vertical-align: middle;\n",
       "    }\n",
       "\n",
       "    .dataframe tbody tr th {\n",
       "        vertical-align: top;\n",
       "    }\n",
       "\n",
       "    .dataframe thead th {\n",
       "        text-align: right;\n",
       "    }\n",
       "</style>\n",
       "<table border=\"1\" class=\"dataframe\">\n",
       "  <thead>\n",
       "    <tr style=\"text-align: right;\">\n",
       "      <th></th>\n",
       "      <th>Transaction_Date</th>\n",
       "      <th>Sales_Amount</th>\n",
       "    </tr>\n",
       "  </thead>\n",
       "  <tbody>\n",
       "    <tr>\n",
       "      <th>0</th>\n",
       "      <td>NaN</td>\n",
       "      <td>NaN</td>\n",
       "    </tr>\n",
       "    <tr>\n",
       "      <th>1</th>\n",
       "      <td>inf</td>\n",
       "      <td>0.556715</td>\n",
       "    </tr>\n",
       "    <tr>\n",
       "      <th>2</th>\n",
       "      <td>100.000000</td>\n",
       "      <td>16.553633</td>\n",
       "    </tr>\n",
       "    <tr>\n",
       "      <th>3</th>\n",
       "      <td>50.000000</td>\n",
       "      <td>-5.961287</td>\n",
       "    </tr>\n",
       "    <tr>\n",
       "      <th>4</th>\n",
       "      <td>33.333333</td>\n",
       "      <td>-5.834070</td>\n",
       "    </tr>\n",
       "    <tr>\n",
       "      <th>5</th>\n",
       "      <td>25.000000</td>\n",
       "      <td>0.885074</td>\n",
       "    </tr>\n",
       "    <tr>\n",
       "      <th>6</th>\n",
       "      <td>20.000000</td>\n",
       "      <td>1.701449</td>\n",
       "    </tr>\n",
       "  </tbody>\n",
       "</table>\n",
       "</div>"
      ],
      "text/plain": [
       "   Transaction_Date  Sales_Amount\n",
       "0               NaN           NaN\n",
       "1               inf      0.556715\n",
       "2        100.000000     16.553633\n",
       "3         50.000000     -5.961287\n",
       "4         33.333333     -5.834070\n",
       "5         25.000000      0.885074\n",
       "6         20.000000      1.701449"
      ]
     },
     "execution_count": 268,
     "metadata": {},
     "output_type": "execute_result"
    }
   ],
   "source": [
    "sum_amount_per_week = sales_df_my_work.groupby(WeekDay)['Sales_Amount'].sum()\n",
    "diff_amount_per_week = sum_amount_per_week.diff().abs()\n",
    "diff_amount_per_week = diff_amount_per_week.dropna()\n",
    "print(diff_amount_per_week)\n",
    "\n",
    "# 増減率はわからなかったので、調べてみる\n",
    "# 増減率 = (後の値 - 前の値) / 前の値\n",
    "\n",
    "sum_amount_per_week.reset_index().diff().abs()\n",
    "\n",
    "sum_amount_per_week.reset_index().pct_change()*100"
   ]
  },
  {
   "cell_type": "code",
   "execution_count": 269,
   "metadata": {},
   "outputs": [
    {
     "name": "stdout",
     "output_type": "stream",
     "text": [
      "Transaction_Date\n",
      "1     0.556715\n",
      "2    16.553633\n",
      "3    -5.961287\n",
      "4    -5.834070\n",
      "5     0.885074\n",
      "6     1.701449\n",
      "Name: Sales_Amount, dtype: float64\n"
     ]
    }
   ],
   "source": [
    "# LLMが回答\n",
    "# Calculate the week-over-week percentage change in Sales_Amount\n",
    "percentage_change_per_week = sum_amount_per_week.pct_change().dropna() * 100\n",
    "\n",
    "# Display the result\n",
    "print(percentage_change_per_week)"
   ]
  },
  {
   "cell_type": "code",
   "execution_count": 270,
   "metadata": {},
   "outputs": [
    {
     "data": {
      "text/plain": [
       "0           NaN\n",
       "1     29.116549\n",
       "2     -2.055895\n",
       "3      1.541489\n",
       "4     -6.136951\n",
       "5      7.639367\n",
       "6     -4.060102\n",
       "7     -6.064645\n",
       "8      7.981554\n",
       "9      5.059133\n",
       "10   -10.068793\n",
       "11     7.753825\n",
       "12    -7.228138\n",
       "13     9.982609\n",
       "14   -11.796331\n",
       "15    23.305844\n",
       "16   -10.846176\n",
       "17   -24.657534\n",
       "Name: Sales_Amount, dtype: float64"
      ]
     },
     "execution_count": 270,
     "metadata": {},
     "output_type": "execute_result"
    }
   ],
   "source": [
    "# 解答例\n",
    "# (上でsales_df_my_work['Week'] = sales_df_my_work['Transaction_Date'].dt.to_period('W')をしているので、Weekが使える)\n",
    "weekly_sales = sales_df_my_work.groupby('Week')['Sales_Amount'].sum().reset_index() # weekがindexになっているので、reset_indexを使って、indexを振り直す\n",
    "weekly_sales['Sales_Amount'].pct_change()*100 # 前のサンプルとの差分の増加率が%で表示されている"
   ]
  },
  {
   "cell_type": "markdown",
   "metadata": {},
   "source": [
    "### pct_change()の意味\n",
    "```python\n",
    "weekly_sales['Sales_Amount'].pct_change() * 100\n",
    "```\n",
    "\n",
    "#### `.pct_change()`\n",
    "- Pandasの`pct_change()`メソッドは、**「前の行との相対的な変化率」** を計算します。\n",
    "- 具体的には、以下の式で計算されます：\n",
    "  $$\n",
    "  \\text{変化率} = \\frac{\\text{現在の値} - \\text{前の値}}{\\text{前の値}}\n",
    "  $$\n",
    "#### コード適用後\n",
    "```python\n",
    "weekly_sales['Sales_Amount'].pct_change() * 100\n",
    "```\n",
    "\n",
    "結果：\n",
    "| Week | Sales_Amount | pct_change (%) |\n",
    "|------|--------------|----------------|\n",
    "|   1  |          200 | NaN            |\n",
    "|   2  |          250 | (250-200)/200 *100 = **25.0** |\n",
    "|   3  |          300 | (300-250)/250 *100 = **20.0** |\n",
    "|   4  |          240 | (240-300)/300 *100 = **-20.0** |\n",
    "\n",
    "---\n",
    "\n",
    "### 注意点\n",
    "1. **最初の行は常に`NaN`になる**  \n",
    "   最初の行には比較する「前の値」が存在しないため、結果は`NaN`になります。\n",
    "\n",
    "2. **ゼロ除算に注意**  \n",
    "   前の値がゼロの場合、ゼロ除算エラーが発生する可能性があります。この場合、結果は`inf`やエラーになることがあります。\n",
    "\n",
    "3. **目的**  \n",
    "   このコードは、週ごとの売上金額（`Sales_Amount`）がどれだけ増減したかをパーセンテージで把握するために使われます。売上トレンドや成長率を分析する際に役立ちます。\n",
    "\n",
    "---\n",
    "\n",
    "### 応用例\n",
    "もし、この結果を新しい列としてデータフレームに追加したい場合は、以下のように書けます：\n",
    "```python\n",
    "weekly_sales['Sales_Change_Percentage'] = weekly_sales['Sales_Amount'].pct_change() * 100\n",
    "```\n",
    "\n",
    "これによって、元データフレームに新しい列として変化率が追加されます。"
   ]
  },
  {
   "cell_type": "markdown",
   "metadata": {
    "id": "Uxz5kB5qkB9V"
   },
   "source": [
    "31. 新しく作成したカラムを削除してください"
   ]
  },
  {
   "cell_type": "code",
   "execution_count": 271,
   "metadata": {},
   "outputs": [
    {
     "data": {
      "text/html": [
       "<div>\n",
       "<style scoped>\n",
       "    .dataframe tbody tr th:only-of-type {\n",
       "        vertical-align: middle;\n",
       "    }\n",
       "\n",
       "    .dataframe tbody tr th {\n",
       "        vertical-align: top;\n",
       "    }\n",
       "\n",
       "    .dataframe thead th {\n",
       "        text-align: right;\n",
       "    }\n",
       "</style>\n",
       "<table border=\"1\" class=\"dataframe\">\n",
       "  <thead>\n",
       "    <tr style=\"text-align: right;\">\n",
       "      <th></th>\n",
       "      <th>Transaction_ID</th>\n",
       "      <th>Transaction_Date</th>\n",
       "      <th>Member_ID</th>\n",
       "      <th>Product_ID</th>\n",
       "      <th>Store_ID</th>\n",
       "      <th>Quantity</th>\n",
       "      <th>Sales_Amount</th>\n",
       "    </tr>\n",
       "  </thead>\n",
       "  <tbody>\n",
       "    <tr>\n",
       "      <th>0</th>\n",
       "      <td>1</td>\n",
       "      <td>2024-05-01 00:00:00</td>\n",
       "      <td>21</td>\n",
       "      <td>25</td>\n",
       "      <td>12</td>\n",
       "      <td>3</td>\n",
       "      <td>5800</td>\n",
       "    </tr>\n",
       "    <tr>\n",
       "      <th>1</th>\n",
       "      <td>2</td>\n",
       "      <td>2024-05-01 02:55:00</td>\n",
       "      <td>107</td>\n",
       "      <td>23</td>\n",
       "      <td>17</td>\n",
       "      <td>1</td>\n",
       "      <td>600</td>\n",
       "    </tr>\n",
       "    <tr>\n",
       "      <th>2</th>\n",
       "      <td>3</td>\n",
       "      <td>2024-05-01 05:51:00</td>\n",
       "      <td>117</td>\n",
       "      <td>24</td>\n",
       "      <td>6</td>\n",
       "      <td>3</td>\n",
       "      <td>1300</td>\n",
       "    </tr>\n",
       "    <tr>\n",
       "      <th>3</th>\n",
       "      <td>4</td>\n",
       "      <td>2024-05-01 08:47:00</td>\n",
       "      <td>124</td>\n",
       "      <td>38</td>\n",
       "      <td>1</td>\n",
       "      <td>3</td>\n",
       "      <td>6000</td>\n",
       "    </tr>\n",
       "    <tr>\n",
       "      <th>4</th>\n",
       "      <td>5</td>\n",
       "      <td>2024-05-01 11:43:00</td>\n",
       "      <td>281</td>\n",
       "      <td>28</td>\n",
       "      <td>5</td>\n",
       "      <td>4</td>\n",
       "      <td>9400</td>\n",
       "    </tr>\n",
       "    <tr>\n",
       "      <th>...</th>\n",
       "      <td>...</td>\n",
       "      <td>...</td>\n",
       "      <td>...</td>\n",
       "      <td>...</td>\n",
       "      <td>...</td>\n",
       "      <td>...</td>\n",
       "      <td>...</td>\n",
       "    </tr>\n",
       "    <tr>\n",
       "      <th>995</th>\n",
       "      <td>996</td>\n",
       "      <td>2024-08-30 12:16:00</td>\n",
       "      <td>213</td>\n",
       "      <td>33</td>\n",
       "      <td>15</td>\n",
       "      <td>3</td>\n",
       "      <td>8400</td>\n",
       "    </tr>\n",
       "    <tr>\n",
       "      <th>996</th>\n",
       "      <td>997</td>\n",
       "      <td>2024-08-30 15:12:00</td>\n",
       "      <td>62</td>\n",
       "      <td>49</td>\n",
       "      <td>19</td>\n",
       "      <td>3</td>\n",
       "      <td>3900</td>\n",
       "    </tr>\n",
       "    <tr>\n",
       "      <th>997</th>\n",
       "      <td>998</td>\n",
       "      <td>2024-08-30 18:08:00</td>\n",
       "      <td>49</td>\n",
       "      <td>12</td>\n",
       "      <td>11</td>\n",
       "      <td>4</td>\n",
       "      <td>2500</td>\n",
       "    </tr>\n",
       "    <tr>\n",
       "      <th>998</th>\n",
       "      <td>999</td>\n",
       "      <td>2024-08-30 21:04:00</td>\n",
       "      <td>127</td>\n",
       "      <td>11</td>\n",
       "      <td>15</td>\n",
       "      <td>3</td>\n",
       "      <td>4200</td>\n",
       "    </tr>\n",
       "    <tr>\n",
       "      <th>999</th>\n",
       "      <td>1000</td>\n",
       "      <td>2024-08-31 00:00:00</td>\n",
       "      <td>223</td>\n",
       "      <td>5</td>\n",
       "      <td>12</td>\n",
       "      <td>2</td>\n",
       "      <td>7500</td>\n",
       "    </tr>\n",
       "  </tbody>\n",
       "</table>\n",
       "<p>1000 rows × 7 columns</p>\n",
       "</div>"
      ],
      "text/plain": [
       "    Transaction_ID    Transaction_Date Member_ID Product_ID Store_ID  \\\n",
       "0                1 2024-05-01 00:00:00        21         25       12   \n",
       "1                2 2024-05-01 02:55:00       107         23       17   \n",
       "2                3 2024-05-01 05:51:00       117         24        6   \n",
       "3                4 2024-05-01 08:47:00       124         38        1   \n",
       "4                5 2024-05-01 11:43:00       281         28        5   \n",
       "..             ...                 ...       ...        ...      ...   \n",
       "995            996 2024-08-30 12:16:00       213         33       15   \n",
       "996            997 2024-08-30 15:12:00        62         49       19   \n",
       "997            998 2024-08-30 18:08:00        49         12       11   \n",
       "998            999 2024-08-30 21:04:00       127         11       15   \n",
       "999           1000 2024-08-31 00:00:00       223          5       12   \n",
       "\n",
       "     Quantity  Sales_Amount  \n",
       "0           3          5800  \n",
       "1           1           600  \n",
       "2           3          1300  \n",
       "3           3          6000  \n",
       "4           4          9400  \n",
       "..        ...           ...  \n",
       "995         3          8400  \n",
       "996         3          3900  \n",
       "997         4          2500  \n",
       "998         3          4200  \n",
       "999         2          7500  \n",
       "\n",
       "[1000 rows x 7 columns]"
      ]
     },
     "execution_count": 271,
     "metadata": {},
     "output_type": "execute_result"
    }
   ],
   "source": [
    "# sales_df_my_work.columns\n",
    "# 列方向から新しく作成したカラムを削除する\n",
    "sales_df_my_work.drop(columns=['Transaction_Date_yyyyMMdd', 'Month', 'Day_of_Week', 'Week'], axis=1, inplace=True)\n",
    "\n",
    "sales_df_my_work"
   ]
  },
  {
   "cell_type": "code",
   "execution_count": 101,
   "metadata": {},
   "outputs": [],
   "source": [
    "# 新しく作成したカラムを削除\n",
    "# sales_df_my_work = sales_df_my_work.drop(columns=['OnlyDate', 'OnlyMonth', 'WeekDay']) # カラムには追加していないので必要ない？"
   ]
  },
  {
   "cell_type": "markdown",
   "metadata": {
    "id": "ov6Q091Fgx6B"
   },
   "source": [
    "32. Amount が1000円を超える取引を抽出し、Store_ID と Product_ID ごとに Amount の合計を計算してください"
   ]
  },
  {
   "cell_type": "code",
   "execution_count": 273,
   "metadata": {},
   "outputs": [],
   "source": [
    "# # amount_over_1000 = sales_df_my_work[sales_df_my_work['Sales_Amount'] > 1000].head() # ここでheadをしてしまっているので、データが5行のみになってしまっていた\n",
    "# amount_over_1000 = sales_df_my_work[sales_df_my_work['Sales_Amount'] > 1000]\n",
    "# # print(amount_over_1000['Store_ID'].unique())\n",
    "# amount_over_1000.groupby('Store_ID')['Sales_Amount'].sum()\n",
    "\n",
    "# # 複数のラベルでグループ化する方法はわからなかったので、調べてみる\n",
    "# # amount_over_1000.groupby(['Store_ID', 'Product_ID'])['Sales_Amount'].sum()\n",
    "# # sales_df_my_work['Store_ID'].nunique()"
   ]
  },
  {
   "cell_type": "code",
   "execution_count": 103,
   "metadata": {},
   "outputs": [
    {
     "name": "stdout",
     "output_type": "stream",
     "text": [
      "Store_ID  Product_ID\n",
      "1         1              9500\n",
      "          2                 0\n",
      "          3             20300\n",
      "          4              3800\n",
      "          5             12500\n",
      "                        ...  \n",
      "20        46             1100\n",
      "          47             9500\n",
      "          48                0\n",
      "          49            15200\n",
      "          50                0\n",
      "Name: Sales_Amount, Length: 1000, dtype: int64\n"
     ]
    },
    {
     "name": "stderr",
     "output_type": "stream",
     "text": [
      "/var/folders/7h/pvrr2skj31l3k_w_t4bj4q280000gn/T/ipykernel_79774/3207405890.py:6: FutureWarning: The default of observed=False is deprecated and will be changed to True in a future version of pandas. Pass observed=False to retain current behavior or observed=True to adopt the future default and silence this warning.\n",
      "  sum_amount_per_store_product = amount_over_1000.groupby(['Store_ID', 'Product_ID'])['Sales_Amount'].sum()\n"
     ]
    }
   ],
   "source": [
    "# LLMが回答\n",
    "# Extract transactions where Sales_Amount is greater than 1000\n",
    "amount_over_1000 = sales_df_my_work[sales_df_my_work['Sales_Amount'] > 1000]\n",
    "\n",
    "# Calculate the sum of Sales_Amount for each combination of Store_ID and Product_ID\n",
    "sum_amount_per_store_product = amount_over_1000.groupby(['Store_ID', 'Product_ID'])['Sales_Amount'].sum()\n",
    "\n",
    "# Display the result\n",
    "print(sum_amount_per_store_product)"
   ]
  },
  {
   "cell_type": "code",
   "execution_count": 274,
   "metadata": {},
   "outputs": [
    {
     "name": "stderr",
     "output_type": "stream",
     "text": [
      "/var/folders/7h/pvrr2skj31l3k_w_t4bj4q280000gn/T/ipykernel_79774/2028459852.py:4: FutureWarning: The default of observed=False is deprecated and will be changed to True in a future version of pandas. Pass observed=False to retain current behavior or observed=True to adopt the future default and silence this warning.\n",
      "  filtered_sales_df.groupby([\"Store_ID\", \"Product_ID\"])[\"Sales_Amount\"].sum()\n"
     ]
    },
    {
     "data": {
      "text/plain": [
       "Store_ID  Product_ID\n",
       "1         1              9500\n",
       "          2                 0\n",
       "          3             20300\n",
       "          4              3800\n",
       "          5             12500\n",
       "                        ...  \n",
       "20        46             1100\n",
       "          47             9500\n",
       "          48                0\n",
       "          49            15200\n",
       "          50                0\n",
       "Name: Sales_Amount, Length: 1000, dtype: int64"
      ]
     },
     "execution_count": 274,
     "metadata": {},
     "output_type": "execute_result"
    }
   ],
   "source": [
    "# 解答例\n",
    "filtered_sales_df = sales_df_my_work.query(\"Sales_Amount > 1000\")\n",
    "# Keyは二つなのでリストに入れる\n",
    "filtered_sales_df.groupby([\"Store_ID\", \"Product_ID\"])[\"Sales_Amount\"].sum()"
   ]
  },
  {
   "cell_type": "markdown",
   "metadata": {
    "id": "chD_ZM9UGLzD"
   },
   "source": [
    "33. Store_ID ごとの合計Amountを集計し300000円以上の店舗を抽出してください"
   ]
  },
  {
   "cell_type": "code",
   "execution_count": 286,
   "metadata": {},
   "outputs": [
    {
     "name": "stderr",
     "output_type": "stream",
     "text": [
      "/var/folders/7h/pvrr2skj31l3k_w_t4bj4q280000gn/T/ipykernel_79774/649708730.py:1: FutureWarning: The default of observed=False is deprecated and will be changed to True in a future version of pandas. Pass observed=False to retain current behavior or observed=True to adopt the future default and silence this warning.\n",
      "  sum_amount_per_storeid = sales_df_my_work.groupby('Store_ID')['Sales_Amount'].sum()\n"
     ]
    },
    {
     "data": {
      "text/html": [
       "<div>\n",
       "<style scoped>\n",
       "    .dataframe tbody tr th:only-of-type {\n",
       "        vertical-align: middle;\n",
       "    }\n",
       "\n",
       "    .dataframe tbody tr th {\n",
       "        vertical-align: top;\n",
       "    }\n",
       "\n",
       "    .dataframe thead th {\n",
       "        text-align: right;\n",
       "    }\n",
       "</style>\n",
       "<table border=\"1\" class=\"dataframe\">\n",
       "  <thead>\n",
       "    <tr style=\"text-align: right;\">\n",
       "      <th></th>\n",
       "      <th>Store_ID</th>\n",
       "      <th>Sales_Amount</th>\n",
       "    </tr>\n",
       "  </thead>\n",
       "  <tbody>\n",
       "    <tr>\n",
       "      <th>7</th>\n",
       "      <td>8</td>\n",
       "      <td>331600</td>\n",
       "    </tr>\n",
       "    <tr>\n",
       "      <th>12</th>\n",
       "      <td>13</td>\n",
       "      <td>343100</td>\n",
       "    </tr>\n",
       "    <tr>\n",
       "      <th>14</th>\n",
       "      <td>15</td>\n",
       "      <td>357500</td>\n",
       "    </tr>\n",
       "    <tr>\n",
       "      <th>16</th>\n",
       "      <td>17</td>\n",
       "      <td>326200</td>\n",
       "    </tr>\n",
       "  </tbody>\n",
       "</table>\n",
       "</div>"
      ],
      "text/plain": [
       "   Store_ID  Sales_Amount\n",
       "7         8        331600\n",
       "12       13        343100\n",
       "14       15        357500\n",
       "16       17        326200"
      ]
     },
     "execution_count": 286,
     "metadata": {},
     "output_type": "execute_result"
    }
   ],
   "source": [
    "sum_amount_per_storeid = sales_df_my_work.groupby('Store_ID')['Sales_Amount'].sum()\n",
    "# この時点でSales_Amountのラベルは取れてしまう ※\n",
    "\n",
    "sum_amount_per_storeid[sum_amount_per_storeid > 300000]\n",
    "# sum_amount_per_storeid.head()\n",
    "\n",
    "# ここからはわからなかったので、調べてみる\n",
    "sum_amount_per_storeid[sum_amount_per_storeid > 300000].index # Store_IDのみ取得 # これが条件になる\n",
    "sales_df_my_work[sales_df_my_work['Store_ID'].isin(sum_amount_per_storeid[sum_amount_per_storeid > 300000].index)].head()\n",
    "\n",
    "\n",
    "\n",
    "\n",
    "# 解答例のやり方と同じ結果になる\n",
    "# ※ 2025/02/22 解説を読んだ時のメモ：reset_index()で\"Sales_Amount\"のラベルも復活した状態になる\n",
    "sum_amount_per_storeid = sum_amount_per_storeid.reset_index()\n",
    "sum_amount_per_storeid[sum_amount_per_storeid['Sales_Amount'] > 300000]"
   ]
  },
  {
   "cell_type": "code",
   "execution_count": 276,
   "metadata": {},
   "outputs": [
    {
     "name": "stdout",
     "output_type": "stream",
     "text": [
      "    Transaction_ID    Transaction_Date Member_ID Product_ID Store_ID  \\\n",
      "1                2 2024-05-01 02:55:00       107         23       17   \n",
      "14              15 2024-05-02 17:01:00        27         44       15   \n",
      "18              19 2024-05-03 04:45:00       291          3       13   \n",
      "21              22 2024-05-03 13:32:00       106         15       15   \n",
      "28              29 2024-05-04 10:03:00       263         36        8   \n",
      "..             ...                 ...       ...        ...      ...   \n",
      "981            982 2024-08-28 19:14:00        39         23       15   \n",
      "989            990 2024-08-29 18:41:00       166         50       17   \n",
      "992            993 2024-08-30 03:29:00        81         18       13   \n",
      "995            996 2024-08-30 12:16:00       213         33       15   \n",
      "998            999 2024-08-30 21:04:00       127         11       15   \n",
      "\n",
      "     Quantity  Sales_Amount  \n",
      "1           1           600  \n",
      "14          1          3300  \n",
      "18          2          6500  \n",
      "21          4          9400  \n",
      "28          1          8600  \n",
      "..        ...           ...  \n",
      "981         1          3200  \n",
      "989         2          5100  \n",
      "992         3          7600  \n",
      "995         3          8400  \n",
      "998         3          4200  \n",
      "\n",
      "[253 rows x 7 columns]\n"
     ]
    },
    {
     "name": "stderr",
     "output_type": "stream",
     "text": [
      "/var/folders/7h/pvrr2skj31l3k_w_t4bj4q280000gn/T/ipykernel_79774/672145190.py:3: FutureWarning: The default of observed=False is deprecated and will be changed to True in a future version of pandas. Pass observed=False to retain current behavior or observed=True to adopt the future default and silence this warning.\n",
      "  sum_amount_per_storeid = sales_df_my_work.groupby('Store_ID')['Sales_Amount'].sum()\n"
     ]
    }
   ],
   "source": [
    "# LLMが回答\n",
    "# Calculate the sum of Sales_Amount for each Store_ID\n",
    "sum_amount_per_storeid = sales_df_my_work.groupby('Store_ID')['Sales_Amount'].sum()\n",
    "\n",
    "# Filter Store_IDs with Sales_Amount greater than 300000\n",
    "store_ids_over_300k = sum_amount_per_storeid[sum_amount_per_storeid > 300000].index\n",
    "\n",
    "# Filter the original DataFrame to include only rows with Store_IDs in store_ids_over_300k\n",
    "filtered_sales_df = sales_df_my_work[sales_df_my_work['Store_ID'].isin(store_ids_over_300k)]\n",
    "\n",
    "print(filtered_sales_df)"
   ]
  },
  {
   "cell_type": "code",
   "execution_count": 281,
   "metadata": {},
   "outputs": [
    {
     "name": "stderr",
     "output_type": "stream",
     "text": [
      "/var/folders/7h/pvrr2skj31l3k_w_t4bj4q280000gn/T/ipykernel_79774/274318434.py:2: FutureWarning: The default of observed=False is deprecated and will be changed to True in a future version of pandas. Pass observed=False to retain current behavior or observed=True to adopt the future default and silence this warning.\n",
      "  sum_amount_per_storeid = sales_df_my_work.groupby('Store_ID')['Sales_Amount'].sum().reset_index()\n"
     ]
    },
    {
     "data": {
      "text/html": [
       "<div>\n",
       "<style scoped>\n",
       "    .dataframe tbody tr th:only-of-type {\n",
       "        vertical-align: middle;\n",
       "    }\n",
       "\n",
       "    .dataframe tbody tr th {\n",
       "        vertical-align: top;\n",
       "    }\n",
       "\n",
       "    .dataframe thead th {\n",
       "        text-align: right;\n",
       "    }\n",
       "</style>\n",
       "<table border=\"1\" class=\"dataframe\">\n",
       "  <thead>\n",
       "    <tr style=\"text-align: right;\">\n",
       "      <th></th>\n",
       "      <th>Store_ID</th>\n",
       "      <th>Sales_Amount</th>\n",
       "    </tr>\n",
       "  </thead>\n",
       "  <tbody>\n",
       "    <tr>\n",
       "      <th>7</th>\n",
       "      <td>8</td>\n",
       "      <td>331600</td>\n",
       "    </tr>\n",
       "    <tr>\n",
       "      <th>12</th>\n",
       "      <td>13</td>\n",
       "      <td>343100</td>\n",
       "    </tr>\n",
       "    <tr>\n",
       "      <th>14</th>\n",
       "      <td>15</td>\n",
       "      <td>357500</td>\n",
       "    </tr>\n",
       "    <tr>\n",
       "      <th>16</th>\n",
       "      <td>17</td>\n",
       "      <td>326200</td>\n",
       "    </tr>\n",
       "  </tbody>\n",
       "</table>\n",
       "</div>"
      ],
      "text/plain": [
       "   Store_ID  Sales_Amount\n",
       "7         8        331600\n",
       "12       13        343100\n",
       "14       15        357500\n",
       "16       17        326200"
      ]
     },
     "execution_count": 281,
     "metadata": {},
     "output_type": "execute_result"
    }
   ],
   "source": [
    "# 解答例\n",
    "sum_amount_per_storeid = sales_df_my_work.groupby('Store_ID')['Sales_Amount'].sum().reset_index()\n",
    "sum_amount_per_storeid.query(\"Sales_Amount > 300000\")"
   ]
  },
  {
   "cell_type": "markdown",
   "metadata": {
    "id": "3inZkn31g96b"
   },
   "source": [
    "34. 会員ごとに取引回数をカウントしてください"
   ]
  },
  {
   "cell_type": "code",
   "execution_count": 106,
   "metadata": {},
   "outputs": [
    {
     "name": "stderr",
     "output_type": "stream",
     "text": [
      "/var/folders/7h/pvrr2skj31l3k_w_t4bj4q280000gn/T/ipykernel_79774/2921439769.py:5: FutureWarning: The default of observed=False is deprecated and will be changed to True in a future version of pandas. Pass observed=False to retain current behavior or observed=True to adopt the future default and silence this warning.\n",
      "  sales_df_my_work.groupby('Member_ID')['Sales_Amount'].sum()\n"
     ]
    },
    {
     "data": {
      "text/plain": [
       "Member_ID\n",
       "1      10000\n",
       "2      23600\n",
       "3      20400\n",
       "4       5200\n",
       "5      18100\n",
       "       ...  \n",
       "295    23500\n",
       "296     9400\n",
       "297    10900\n",
       "298     9400\n",
       "300    11800\n",
       "Name: Sales_Amount, Length: 288, dtype: int64"
      ]
     },
     "execution_count": 106,
     "metadata": {},
     "output_type": "execute_result"
    }
   ],
   "source": [
    "# よくわからなかった\n",
    "# sales_df_my_work.info()\n",
    "# member_df.info()\n",
    "\n",
    "sales_df_my_work.groupby('Member_ID')['Sales_Amount'].sum()\n",
    "# sales_df_my_work['Member_ID'].unique()"
   ]
  },
  {
   "cell_type": "code",
   "execution_count": 107,
   "metadata": {},
   "outputs": [
    {
     "name": "stdout",
     "output_type": "stream",
     "text": [
      "Member_ID\n",
      "1      2\n",
      "2      4\n",
      "3      4\n",
      "4      2\n",
      "5      4\n",
      "      ..\n",
      "295    3\n",
      "296    1\n",
      "297    2\n",
      "298    1\n",
      "300    2\n",
      "Length: 288, dtype: int64\n"
     ]
    },
    {
     "name": "stderr",
     "output_type": "stream",
     "text": [
      "/var/folders/7h/pvrr2skj31l3k_w_t4bj4q280000gn/T/ipykernel_79774/1233865452.py:2: FutureWarning: The default of observed=False is deprecated and will be changed to True in a future version of pandas. Pass observed=False to retain current behavior or observed=True to adopt the future default and silence this warning.\n",
      "  transaction_count_per_member = sales_df_my_work.groupby('Member_ID').size()\n"
     ]
    }
   ],
   "source": [
    "# LLMが回答\n",
    "transaction_count_per_member = sales_df_my_work.groupby('Member_ID').size()\n",
    "print(transaction_count_per_member)"
   ]
  },
  {
   "cell_type": "code",
   "execution_count": 297,
   "metadata": {},
   "outputs": [
    {
     "name": "stderr",
     "output_type": "stream",
     "text": [
      "/var/folders/7h/pvrr2skj31l3k_w_t4bj4q280000gn/T/ipykernel_79774/1783418548.py:3: FutureWarning: The default of observed=False is deprecated and will be changed to True in a future version of pandas. Pass observed=False to retain current behavior or observed=True to adopt the future default and silence this warning.\n",
      "  sales_df_my_work.groupby('Member_ID')['Transaction_ID'].count().reset_index()\n"
     ]
    },
    {
     "data": {
      "text/html": [
       "<div>\n",
       "<style scoped>\n",
       "    .dataframe tbody tr th:only-of-type {\n",
       "        vertical-align: middle;\n",
       "    }\n",
       "\n",
       "    .dataframe tbody tr th {\n",
       "        vertical-align: top;\n",
       "    }\n",
       "\n",
       "    .dataframe thead th {\n",
       "        text-align: right;\n",
       "    }\n",
       "</style>\n",
       "<table border=\"1\" class=\"dataframe\">\n",
       "  <thead>\n",
       "    <tr style=\"text-align: right;\">\n",
       "      <th></th>\n",
       "      <th>Member_ID</th>\n",
       "      <th>Transaction_ID</th>\n",
       "    </tr>\n",
       "  </thead>\n",
       "  <tbody>\n",
       "    <tr>\n",
       "      <th>0</th>\n",
       "      <td>1</td>\n",
       "      <td>2</td>\n",
       "    </tr>\n",
       "    <tr>\n",
       "      <th>1</th>\n",
       "      <td>2</td>\n",
       "      <td>4</td>\n",
       "    </tr>\n",
       "    <tr>\n",
       "      <th>2</th>\n",
       "      <td>3</td>\n",
       "      <td>4</td>\n",
       "    </tr>\n",
       "    <tr>\n",
       "      <th>3</th>\n",
       "      <td>4</td>\n",
       "      <td>2</td>\n",
       "    </tr>\n",
       "    <tr>\n",
       "      <th>4</th>\n",
       "      <td>5</td>\n",
       "      <td>4</td>\n",
       "    </tr>\n",
       "    <tr>\n",
       "      <th>...</th>\n",
       "      <td>...</td>\n",
       "      <td>...</td>\n",
       "    </tr>\n",
       "    <tr>\n",
       "      <th>283</th>\n",
       "      <td>295</td>\n",
       "      <td>3</td>\n",
       "    </tr>\n",
       "    <tr>\n",
       "      <th>284</th>\n",
       "      <td>296</td>\n",
       "      <td>1</td>\n",
       "    </tr>\n",
       "    <tr>\n",
       "      <th>285</th>\n",
       "      <td>297</td>\n",
       "      <td>2</td>\n",
       "    </tr>\n",
       "    <tr>\n",
       "      <th>286</th>\n",
       "      <td>298</td>\n",
       "      <td>1</td>\n",
       "    </tr>\n",
       "    <tr>\n",
       "      <th>287</th>\n",
       "      <td>300</td>\n",
       "      <td>2</td>\n",
       "    </tr>\n",
       "  </tbody>\n",
       "</table>\n",
       "<p>288 rows × 2 columns</p>\n",
       "</div>"
      ],
      "text/plain": [
       "    Member_ID  Transaction_ID\n",
       "0           1               2\n",
       "1           2               4\n",
       "2           3               4\n",
       "3           4               2\n",
       "4           5               4\n",
       "..        ...             ...\n",
       "283       295               3\n",
       "284       296               1\n",
       "285       297               2\n",
       "286       298               1\n",
       "287       300               2\n",
       "\n",
       "[288 rows x 2 columns]"
      ]
     },
     "execution_count": 297,
     "metadata": {},
     "output_type": "execute_result"
    }
   ],
   "source": [
    "# 解答例\n",
    "# Member_IDごとにTransaction_IDをカウント\n",
    "# sales_df_my_work.groupby(\"Member_ID\")[\"Transaction_ID\"].count()\n",
    "sales_df_my_work.groupby('Member_ID')['Transaction_ID'].count().reset_index()\n",
    "\n",
    "# sales_df_my_work['Transaction_ID'].count()"
   ]
  },
  {
   "cell_type": "markdown",
   "metadata": {
    "id": "bCoAUDw2BW3o"
   },
   "source": [
    "35. 会員ごとに取引回数をカウントし、2回以上の取引がある会員を抽出してください"
   ]
  },
  {
   "cell_type": "code",
   "execution_count": 108,
   "metadata": {},
   "outputs": [
    {
     "data": {
      "text/plain": [
       "Member_ID\n",
       "1      2\n",
       "2      4\n",
       "3      4\n",
       "4      2\n",
       "5      4\n",
       "      ..\n",
       "293    3\n",
       "294    2\n",
       "295    3\n",
       "297    2\n",
       "300    2\n",
       "Length: 252, dtype: int64"
      ]
     },
     "execution_count": 108,
     "metadata": {},
     "output_type": "execute_result"
    }
   ],
   "source": [
    "# transaction_count_per_member.head()\n",
    "transaction_count_per_member[transaction_count_per_member >= 2] # .nunique()"
   ]
  },
  {
   "cell_type": "code",
   "execution_count": 305,
   "metadata": {},
   "outputs": [
    {
     "name": "stderr",
     "output_type": "stream",
     "text": [
      "/var/folders/7h/pvrr2skj31l3k_w_t4bj4q280000gn/T/ipykernel_79774/4123597452.py:2: FutureWarning: The default of observed=False is deprecated and will be changed to True in a future version of pandas. Pass observed=False to retain current behavior or observed=True to adopt the future default and silence this warning.\n",
      "  member_transaction_count = sales_df_my_work.groupby('Member_ID')['Transaction_ID'].count().reset_index()\n"
     ]
    },
    {
     "data": {
      "text/html": [
       "<div>\n",
       "<style scoped>\n",
       "    .dataframe tbody tr th:only-of-type {\n",
       "        vertical-align: middle;\n",
       "    }\n",
       "\n",
       "    .dataframe tbody tr th {\n",
       "        vertical-align: top;\n",
       "    }\n",
       "\n",
       "    .dataframe thead th {\n",
       "        text-align: right;\n",
       "    }\n",
       "</style>\n",
       "<table border=\"1\" class=\"dataframe\">\n",
       "  <thead>\n",
       "    <tr style=\"text-align: right;\">\n",
       "      <th></th>\n",
       "      <th>Member_ID</th>\n",
       "      <th>Transaction_ID</th>\n",
       "    </tr>\n",
       "  </thead>\n",
       "  <tbody>\n",
       "    <tr>\n",
       "      <th>0</th>\n",
       "      <td>1</td>\n",
       "      <td>2</td>\n",
       "    </tr>\n",
       "    <tr>\n",
       "      <th>1</th>\n",
       "      <td>2</td>\n",
       "      <td>4</td>\n",
       "    </tr>\n",
       "    <tr>\n",
       "      <th>2</th>\n",
       "      <td>3</td>\n",
       "      <td>4</td>\n",
       "    </tr>\n",
       "    <tr>\n",
       "      <th>3</th>\n",
       "      <td>4</td>\n",
       "      <td>2</td>\n",
       "    </tr>\n",
       "    <tr>\n",
       "      <th>4</th>\n",
       "      <td>5</td>\n",
       "      <td>4</td>\n",
       "    </tr>\n",
       "    <tr>\n",
       "      <th>...</th>\n",
       "      <td>...</td>\n",
       "      <td>...</td>\n",
       "    </tr>\n",
       "    <tr>\n",
       "      <th>281</th>\n",
       "      <td>293</td>\n",
       "      <td>3</td>\n",
       "    </tr>\n",
       "    <tr>\n",
       "      <th>282</th>\n",
       "      <td>294</td>\n",
       "      <td>2</td>\n",
       "    </tr>\n",
       "    <tr>\n",
       "      <th>283</th>\n",
       "      <td>295</td>\n",
       "      <td>3</td>\n",
       "    </tr>\n",
       "    <tr>\n",
       "      <th>285</th>\n",
       "      <td>297</td>\n",
       "      <td>2</td>\n",
       "    </tr>\n",
       "    <tr>\n",
       "      <th>287</th>\n",
       "      <td>300</td>\n",
       "      <td>2</td>\n",
       "    </tr>\n",
       "  </tbody>\n",
       "</table>\n",
       "<p>252 rows × 2 columns</p>\n",
       "</div>"
      ],
      "text/plain": [
       "    Member_ID  Transaction_ID\n",
       "0           1               2\n",
       "1           2               4\n",
       "2           3               4\n",
       "3           4               2\n",
       "4           5               4\n",
       "..        ...             ...\n",
       "281       293               3\n",
       "282       294               2\n",
       "283       295               3\n",
       "285       297               2\n",
       "287       300               2\n",
       "\n",
       "[252 rows x 2 columns]"
      ]
     },
     "execution_count": 305,
     "metadata": {},
     "output_type": "execute_result"
    }
   ],
   "source": [
    "# 解答例\n",
    "member_transaction_count = sales_df_my_work.groupby('Member_ID')['Transaction_ID'].count().reset_index()\n",
    "judge_num = 2 # 試しにクエリで変数を使うために定義\n",
    "member_transaction_count.query(\"Transaction_ID >= @judge_num\")"
   ]
  },
  {
   "cell_type": "markdown",
   "metadata": {
    "id": "GKI1hxQRhmKh"
   },
   "source": [
    "36. 年齢グループ（-30歳、31-50歳、51-65歳、66歳-）を作成し、各グループの会員数を集計してください。"
   ]
  },
  {
   "cell_type": "code",
   "execution_count": 109,
   "metadata": {},
   "outputs": [
    {
     "name": "stdout",
     "output_type": "stream",
     "text": [
      "49 103 89\n"
     ]
    }
   ],
   "source": [
    "# member_df.info()\n",
    "# member_df['Age'].unique()\n",
    "age_under_30 = member_df[member_df['Age'] <= 30]\n",
    "age_31to50 = member_df[(member_df['Age'] >= 31) & (member_df['Age'] <= 50)]\n",
    "age_over_66 = member_df[member_df['Age'] >= 66]\n",
    "\n",
    "# member_df.groupby(['age_under_30', 'age_31to50', 'age_over_66'])[('Member_ID')].size()\n",
    "print(age_under_30['Member_ID'].nunique(), age_31to50['Member_ID'].nunique(), age_over_66['Member_ID'].nunique())"
   ]
  },
  {
   "cell_type": "code",
   "execution_count": 110,
   "metadata": {},
   "outputs": [
    {
     "name": "stdout",
     "output_type": "stream",
     "text": [
      "Age_Group\n",
      "-30歳       49\n",
      "31-50歳    103\n",
      "51-65歳      0\n",
      "66歳-       89\n",
      "Name: Member_ID, dtype: int64\n"
     ]
    },
    {
     "name": "stderr",
     "output_type": "stream",
     "text": [
      "/var/folders/7h/pvrr2skj31l3k_w_t4bj4q280000gn/T/ipykernel_79774/1202535488.py:13: FutureWarning: The default of observed=False is deprecated and will be changed to True in a future version of pandas. Pass observed=False to retain current behavior or observed=True to adopt the future default and silence this warning.\n",
      "  age_group_counts = age_groups.groupby('Age_Group')['Member_ID'].size()\n"
     ]
    }
   ],
   "source": [
    "# LLMが回答\n",
    "age_under_30 = member_df[member_df['Age'] <= 30]\n",
    "age_31to50 = member_df[(member_df['Age'] >= 31) & (member_df['Age'] <= 50)]\n",
    "age_over_66 = member_df[member_df['Age'] >= 66]\n",
    "\n",
    "# Concatenate the DataFrames\n",
    "age_groups = pd.concat([age_under_30, age_31to50, age_over_66])\n",
    "\n",
    "# Create a new column to categorize the age groups\n",
    "age_groups['Age_Group'] = pd.cut(age_groups['Age'], bins=[0, 30, 50, 65, 100], labels=['-30歳', '31-50歳', '51-65歳', '66歳-'])\n",
    "\n",
    "# Group by the new age group column and count the number of members in each group\n",
    "age_group_counts = age_groups.groupby('Age_Group')['Member_ID'].size()\n",
    "print(age_group_counts)"
   ]
  },
  {
   "cell_type": "code",
   "execution_count": 311,
   "metadata": {},
   "outputs": [
    {
     "name": "stderr",
     "output_type": "stream",
     "text": [
      "/var/folders/7h/pvrr2skj31l3k_w_t4bj4q280000gn/T/ipykernel_79774/791295809.py:10: FutureWarning: The default of observed=False is deprecated and will be changed to True in a future version of pandas. Pass observed=False to retain current behavior or observed=True to adopt the future default and silence this warning.\n",
      "  member_df.groupby('Age_Group')['Member_ID'].count().reset_index()\n"
     ]
    },
    {
     "data": {
      "text/html": [
       "<div>\n",
       "<style scoped>\n",
       "    .dataframe tbody tr th:only-of-type {\n",
       "        vertical-align: middle;\n",
       "    }\n",
       "\n",
       "    .dataframe tbody tr th {\n",
       "        vertical-align: top;\n",
       "    }\n",
       "\n",
       "    .dataframe thead th {\n",
       "        text-align: right;\n",
       "    }\n",
       "</style>\n",
       "<table border=\"1\" class=\"dataframe\">\n",
       "  <thead>\n",
       "    <tr style=\"text-align: right;\">\n",
       "      <th></th>\n",
       "      <th>Age_Group</th>\n",
       "      <th>Member_ID</th>\n",
       "    </tr>\n",
       "  </thead>\n",
       "  <tbody>\n",
       "    <tr>\n",
       "      <th>0</th>\n",
       "      <td>-30</td>\n",
       "      <td>49</td>\n",
       "    </tr>\n",
       "    <tr>\n",
       "      <th>1</th>\n",
       "      <td>31-50</td>\n",
       "      <td>103</td>\n",
       "    </tr>\n",
       "    <tr>\n",
       "      <th>2</th>\n",
       "      <td>51-65</td>\n",
       "      <td>59</td>\n",
       "    </tr>\n",
       "    <tr>\n",
       "      <th>3</th>\n",
       "      <td>66-</td>\n",
       "      <td>89</td>\n",
       "    </tr>\n",
       "  </tbody>\n",
       "</table>\n",
       "</div>"
      ],
      "text/plain": [
       "  Age_Group  Member_ID\n",
       "0       -30         49\n",
       "1     31-50        103\n",
       "2     51-65         59\n",
       "3       66-         89"
      ]
     },
     "execution_count": 311,
     "metadata": {},
     "output_type": "execute_result"
    }
   ],
   "source": [
    "# 解答例\n",
    "# 年齢の区切りを作成\n",
    "# age_bins = [min(member_df['Age']), 30, 50, 65, max(member_df['Age'])]\n",
    "age_bins = [min(member_df['Age'])-1, 30, 50, 65, max(member_df['Age'])]\n",
    "# 各年代のラベル(名前)を作成\n",
    "age_labels = [\"-30\", \"31-50\", \"51-65\", \"66-\"]\n",
    "# 定義したbinsに沿ってデータを区切り、ラベルも付与してくれるcut関数を使用\n",
    "# pd.cut(member_df['Age'], bins=age_bins, labels=age_labels) # 各サンプルがどのbinsに属するかを返す\n",
    "member_df['Age_Group'] = pd.cut(member_df['Age'], bins=age_bins, labels=age_labels) # 新しいカラムに格納\n",
    "member_df.groupby('Age_Group')['Member_ID'].count().reset_index() # Age_GroupごとにMember_IDをカウント\n",
    "\n",
    "# Age_GroupにNaNが含まれる原因\n",
    "# cut関数はbinsの値の+1の部分を見ている\n",
    "# 例: min+1~, 30+1~, 50+1~, 65+1~\n",
    "# なので、minのサンプルは含まれずにNaNになってしまうので、-1をする"
   ]
  },
  {
   "cell_type": "markdown",
   "metadata": {
    "id": "lmCYg1N-bPIA"
   },
   "source": [
    "37. 会員になってからの日数（Days_Since_Registration）のグループ（〜1年、1年〜2年, 2年〜）を作成し、各グループの会員数を集計してください"
   ]
  },
  {
   "cell_type": "code",
   "execution_count": 111,
   "metadata": {},
   "outputs": [
    {
     "data": {
      "text/html": [
       "<div>\n",
       "<style scoped>\n",
       "    .dataframe tbody tr th:only-of-type {\n",
       "        vertical-align: middle;\n",
       "    }\n",
       "\n",
       "    .dataframe tbody tr th {\n",
       "        vertical-align: top;\n",
       "    }\n",
       "\n",
       "    .dataframe thead th {\n",
       "        text-align: right;\n",
       "    }\n",
       "</style>\n",
       "<table border=\"1\" class=\"dataframe\">\n",
       "  <thead>\n",
       "    <tr style=\"text-align: right;\">\n",
       "      <th></th>\n",
       "      <th>Member_ID</th>\n",
       "      <th>Gender</th>\n",
       "      <th>Age</th>\n",
       "      <th>Days_Since_Registration</th>\n",
       "    </tr>\n",
       "  </thead>\n",
       "  <tbody>\n",
       "    <tr>\n",
       "      <th>161</th>\n",
       "      <td>162</td>\n",
       "      <td>Male</td>\n",
       "      <td>72</td>\n",
       "      <td>1</td>\n",
       "    </tr>\n",
       "  </tbody>\n",
       "</table>\n",
       "</div>"
      ],
      "text/plain": [
       "    Member_ID Gender  Age  Days_Since_Registration\n",
       "161       162   Male   72                        1"
      ]
     },
     "execution_count": 111,
     "metadata": {},
     "output_type": "execute_result"
    }
   ],
   "source": [
    "# # Daysからyearにする方法がわからなかった\n",
    "# member_df['Days_Since_Registration'].head() # .info()\n",
    "# # pd.to_datetime(member_df['Registration_Date']) - pd.to_datetime('2024-08-01')\n",
    "\n",
    "# # member_df['Days_Since_Registration'].describe()\n",
    "# member_df[member_df['Days_Since_Registration'] == 1]"
   ]
  },
  {
   "cell_type": "code",
   "execution_count": 317,
   "metadata": {},
   "outputs": [
    {
     "name": "stderr",
     "output_type": "stream",
     "text": [
      "/var/folders/7h/pvrr2skj31l3k_w_t4bj4q280000gn/T/ipykernel_79774/4268843528.py:10: FutureWarning: The default of observed=False is deprecated and will be changed to True in a future version of pandas. Pass observed=False to retain current behavior or observed=True to adopt the future default and silence this warning.\n",
      "  registration_group_counts = member_df.groupby('Registration_Group')['Member_ID'].size() # グループごとにメンバー数をカウント\n"
     ]
    },
    {
     "data": {
      "text/plain": [
       "Registration_Group\n",
       "〜1年       52\n",
       "1年〜2年     50\n",
       "2年〜      198\n",
       "Name: Member_ID, dtype: int64"
      ]
     },
     "execution_count": 317,
     "metadata": {},
     "output_type": "execute_result"
    }
   ],
   "source": [
    "# # LLMが回答\n",
    "# # Create bins for the days since registration\n",
    "# bins = [0, 365, 710, float('inf')] # DataFrameの最小値を含まないように境界値を設定\n",
    "# labels = ['〜1年', '1年〜2年', '2年〜']\n",
    "\n",
    "# # Create a new column in member_df to categorize the days since registration\n",
    "# member_df['Registration_Group'] = pd.cut(member_df['Days_Since_Registration'], bins=bins, labels=labels) # binsで指定した境界値でグループ化\n",
    "\n",
    "# # Group by the new registration group column and count the number of members in each group\n",
    "# registration_group_counts = member_df.groupby('Registration_Group')['Member_ID'].size() # グループごとにメンバー数をカウント\n",
    "# registration_group_counts\n",
    "\n",
    "# # nunique(), size()は結果が異なる。おそらく、nunique()は各Member_IDの種類なので、1とかになってしまう？\n",
    "# # registration_group_counts = member_df.groupby('Registration_Group')['Member_ID'].nunique() # グループごとにユニークなメンバー数をカウント\n",
    "# # registration_group_counts.reset_index()"
   ]
  },
  {
   "cell_type": "code",
   "execution_count": 315,
   "metadata": {},
   "outputs": [
    {
     "name": "stderr",
     "output_type": "stream",
     "text": [
      "/var/folders/7h/pvrr2skj31l3k_w_t4bj4q280000gn/T/ipykernel_79774/3149870032.py:5: FutureWarning: The default of observed=False is deprecated and will be changed to True in a future version of pandas. Pass observed=False to retain current behavior or observed=True to adopt the future default and silence this warning.\n",
      "  member_df.groupby('Year_Group')['Member_ID'].count().reset_index() # Year_GroupごとにMember_IDをカウント\n"
     ]
    },
    {
     "data": {
      "text/html": [
       "<div>\n",
       "<style scoped>\n",
       "    .dataframe tbody tr th:only-of-type {\n",
       "        vertical-align: middle;\n",
       "    }\n",
       "\n",
       "    .dataframe tbody tr th {\n",
       "        vertical-align: top;\n",
       "    }\n",
       "\n",
       "    .dataframe thead th {\n",
       "        text-align: right;\n",
       "    }\n",
       "</style>\n",
       "<table border=\"1\" class=\"dataframe\">\n",
       "  <thead>\n",
       "    <tr style=\"text-align: right;\">\n",
       "      <th></th>\n",
       "      <th>Year_Group</th>\n",
       "      <th>Member_ID</th>\n",
       "    </tr>\n",
       "  </thead>\n",
       "  <tbody>\n",
       "    <tr>\n",
       "      <th>0</th>\n",
       "      <td>-1年</td>\n",
       "      <td>52</td>\n",
       "    </tr>\n",
       "    <tr>\n",
       "      <th>1</th>\n",
       "      <td>1年-2年</td>\n",
       "      <td>50</td>\n",
       "    </tr>\n",
       "    <tr>\n",
       "      <th>2</th>\n",
       "      <td>2年-</td>\n",
       "      <td>198</td>\n",
       "    </tr>\n",
       "  </tbody>\n",
       "</table>\n",
       "</div>"
      ],
      "text/plain": [
       "  Year_Group  Member_ID\n",
       "0        -1年         52\n",
       "1      1年-2年         50\n",
       "2        2年-        198"
      ]
     },
     "execution_count": 315,
     "metadata": {},
     "output_type": "execute_result"
    }
   ],
   "source": [
    "# 解答例\n",
    "year_bins = [min(member_df['Days_Since_Registration'])-1, 365, 710, max(member_df['Days_Since_Registration'])]\n",
    "year_labels = [\"-1年\", \"1年-2年\", \"2年-\"]\n",
    "member_df['Year_Group'] = pd.cut(member_df['Days_Since_Registration'], bins=year_bins, labels=year_labels) # 新しいカラムに格納\n",
    "member_df.groupby('Year_Group')['Member_ID'].count().reset_index() # Year_GroupごとにMember_IDをカウント"
   ]
  },
  {
   "cell_type": "code",
   "execution_count": 112,
   "metadata": {},
   "outputs": [
    {
     "name": "stdout",
     "output_type": "stream",
     "text": [
      "    Age Split_age\n",
      "0     0  (-1, 19]\n",
      "1    20  (19, 39]\n",
      "2    32  (19, 39]\n",
      "3    21  (19, 39]\n",
      "4    15  (-1, 19]\n",
      "5    40  (39, 59]\n",
      "6    12  (-1, 19]\n",
      "7    35  (19, 39]\n",
      "8    32  (19, 39]\n",
      "9    39  (19, 39]\n",
      "10   24  (19, 39]\n",
      "11   58  (39, 59]\n",
      "12   57  (39, 59]\n",
      "13   11  (-1, 19]\n",
      "14   52  (39, 59]\n",
      "15   54  (39, 59]\n",
      "16   19  (-1, 19]\n"
     ]
    }
   ],
   "source": [
    "# Cut関数の動作確認\n",
    "# Cut関数はList型で指定した境界値で区切る（以下のように1つの数字の場合は、分割数の指定になる）\n",
    "\n",
    "# member_df['Registration_Group'].nunique() # value_counts()\n",
    "ser = [11, 46, 65, 34, 25, 12, 35, 79]\n",
    "# pd.cut(ser, 4) # 4分割する (17ずつに分ける)\n",
    "pd.cut(ser, 4).value_counts()\n",
    "\n",
    "# pd.DataFrame(ser, columns=['Age']).sum()/17 # mean()\n",
    "\n",
    "\n",
    "# 年齢, どこの範囲に含まれるか\n",
    "test_age_list = pd.DataFrame([], columns=['Age'])\n",
    "test_age_list['Age'] = pd.Series([0,20,32,21,15,40,12,35,32,39,24,58,57,11,52,54,19])\n",
    "test_split_age_list = pd.cut(test_age_list['Age'], bins=[-1,19,39,59]) # Cut関数は各サンプルをどの範囲に含むかを示すラベルを返す\n",
    "test_age_list['Split_age'] = test_split_age_list\n",
    "print(test_age_list)"
   ]
  },
  {
   "cell_type": "markdown",
   "metadata": {
    "id": "Ej78fI1oiNd5"
   },
   "source": [
    "38. 売上データと会員データを結合しmerged_dfとして定義してください"
   ]
  },
  {
   "cell_type": "code",
   "execution_count": 323,
   "metadata": {},
   "outputs": [
    {
     "data": {
      "text/plain": [
       "Member_ID                  2\n",
       "Transaction_ID             1\n",
       "Transaction_Date           1\n",
       "Product_ID                 1\n",
       "Store_ID                   1\n",
       "Quantity                   1\n",
       "Sales_Amount               1\n",
       "Gender                     1\n",
       "Age                        1\n",
       "Days_Since_Registration    1\n",
       "Age_Group                  1\n",
       "Year_Group                 1\n",
       "Registration_Group         1\n",
       "Name: count, dtype: int64"
      ]
     },
     "execution_count": 323,
     "metadata": {},
     "output_type": "execute_result"
    }
   ],
   "source": [
    "# pd.mergeとpd.concatは同じように見えるが、異なる動作をする。\n",
    "# 今回の場合だと、Member_IDが重複してしまう。\n",
    "# mergeは、onでどのデータをもとに結合するかを指定するので、重複しない。\n",
    "\n",
    "# merged_df = pd.merge(sales_df_my_work, member_df, on='Member_ID', how='inner')\n",
    "# merged_df.head()\n",
    "\n",
    "merged_df = pd.concat([sales_df_my_work, member_df], axis=1)\n",
    "merged_df.columns.value_counts()"
   ]
  },
  {
   "cell_type": "code",
   "execution_count": 328,
   "metadata": {},
   "outputs": [
    {
     "data": {
      "text/html": [
       "<div>\n",
       "<style scoped>\n",
       "    .dataframe tbody tr th:only-of-type {\n",
       "        vertical-align: middle;\n",
       "    }\n",
       "\n",
       "    .dataframe tbody tr th {\n",
       "        vertical-align: top;\n",
       "    }\n",
       "\n",
       "    .dataframe thead th {\n",
       "        text-align: right;\n",
       "    }\n",
       "</style>\n",
       "<table border=\"1\" class=\"dataframe\">\n",
       "  <thead>\n",
       "    <tr style=\"text-align: right;\">\n",
       "      <th></th>\n",
       "      <th>Transaction_ID</th>\n",
       "      <th>Transaction_Date</th>\n",
       "      <th>Member_ID</th>\n",
       "      <th>Product_ID</th>\n",
       "      <th>Store_ID</th>\n",
       "      <th>Quantity</th>\n",
       "      <th>Sales_Amount</th>\n",
       "      <th>Gender</th>\n",
       "      <th>Age</th>\n",
       "      <th>Days_Since_Registration</th>\n",
       "      <th>Age_Group</th>\n",
       "      <th>Year_Group</th>\n",
       "      <th>Registration_Group</th>\n",
       "    </tr>\n",
       "  </thead>\n",
       "  <tbody>\n",
       "    <tr>\n",
       "      <th>0</th>\n",
       "      <td>1</td>\n",
       "      <td>2024-05-01 00:00:00</td>\n",
       "      <td>21</td>\n",
       "      <td>25</td>\n",
       "      <td>12</td>\n",
       "      <td>3</td>\n",
       "      <td>5800</td>\n",
       "      <td>Female</td>\n",
       "      <td>58</td>\n",
       "      <td>323</td>\n",
       "      <td>51-65</td>\n",
       "      <td>-1年</td>\n",
       "      <td>〜1年</td>\n",
       "    </tr>\n",
       "    <tr>\n",
       "      <th>1</th>\n",
       "      <td>2</td>\n",
       "      <td>2024-05-01 02:55:00</td>\n",
       "      <td>107</td>\n",
       "      <td>23</td>\n",
       "      <td>17</td>\n",
       "      <td>1</td>\n",
       "      <td>600</td>\n",
       "      <td>Male</td>\n",
       "      <td>71</td>\n",
       "      <td>1665</td>\n",
       "      <td>66-</td>\n",
       "      <td>2年-</td>\n",
       "      <td>2年〜</td>\n",
       "    </tr>\n",
       "    <tr>\n",
       "      <th>2</th>\n",
       "      <td>3</td>\n",
       "      <td>2024-05-01 05:51:00</td>\n",
       "      <td>117</td>\n",
       "      <td>24</td>\n",
       "      <td>6</td>\n",
       "      <td>3</td>\n",
       "      <td>1300</td>\n",
       "      <td>Male</td>\n",
       "      <td>56</td>\n",
       "      <td>751</td>\n",
       "      <td>51-65</td>\n",
       "      <td>2年-</td>\n",
       "      <td>2年〜</td>\n",
       "    </tr>\n",
       "    <tr>\n",
       "      <th>3</th>\n",
       "      <td>4</td>\n",
       "      <td>2024-05-01 08:47:00</td>\n",
       "      <td>124</td>\n",
       "      <td>38</td>\n",
       "      <td>1</td>\n",
       "      <td>3</td>\n",
       "      <td>6000</td>\n",
       "      <td>Male</td>\n",
       "      <td>73</td>\n",
       "      <td>1798</td>\n",
       "      <td>66-</td>\n",
       "      <td>2年-</td>\n",
       "      <td>2年〜</td>\n",
       "    </tr>\n",
       "    <tr>\n",
       "      <th>4</th>\n",
       "      <td>5</td>\n",
       "      <td>2024-05-01 11:43:00</td>\n",
       "      <td>281</td>\n",
       "      <td>28</td>\n",
       "      <td>5</td>\n",
       "      <td>4</td>\n",
       "      <td>9400</td>\n",
       "      <td>Male</td>\n",
       "      <td>70</td>\n",
       "      <td>333</td>\n",
       "      <td>66-</td>\n",
       "      <td>-1年</td>\n",
       "      <td>〜1年</td>\n",
       "    </tr>\n",
       "    <tr>\n",
       "      <th>...</th>\n",
       "      <td>...</td>\n",
       "      <td>...</td>\n",
       "      <td>...</td>\n",
       "      <td>...</td>\n",
       "      <td>...</td>\n",
       "      <td>...</td>\n",
       "      <td>...</td>\n",
       "      <td>...</td>\n",
       "      <td>...</td>\n",
       "      <td>...</td>\n",
       "      <td>...</td>\n",
       "      <td>...</td>\n",
       "      <td>...</td>\n",
       "    </tr>\n",
       "    <tr>\n",
       "      <th>995</th>\n",
       "      <td>996</td>\n",
       "      <td>2024-08-30 12:16:00</td>\n",
       "      <td>213</td>\n",
       "      <td>33</td>\n",
       "      <td>15</td>\n",
       "      <td>3</td>\n",
       "      <td>8400</td>\n",
       "      <td>Female</td>\n",
       "      <td>64</td>\n",
       "      <td>698</td>\n",
       "      <td>51-65</td>\n",
       "      <td>1年-2年</td>\n",
       "      <td>1年〜2年</td>\n",
       "    </tr>\n",
       "    <tr>\n",
       "      <th>996</th>\n",
       "      <td>997</td>\n",
       "      <td>2024-08-30 15:12:00</td>\n",
       "      <td>62</td>\n",
       "      <td>49</td>\n",
       "      <td>19</td>\n",
       "      <td>3</td>\n",
       "      <td>3900</td>\n",
       "      <td>Female</td>\n",
       "      <td>50</td>\n",
       "      <td>1600</td>\n",
       "      <td>31-50</td>\n",
       "      <td>2年-</td>\n",
       "      <td>2年〜</td>\n",
       "    </tr>\n",
       "    <tr>\n",
       "      <th>997</th>\n",
       "      <td>998</td>\n",
       "      <td>2024-08-30 18:08:00</td>\n",
       "      <td>49</td>\n",
       "      <td>12</td>\n",
       "      <td>11</td>\n",
       "      <td>4</td>\n",
       "      <td>2500</td>\n",
       "      <td>Male</td>\n",
       "      <td>29</td>\n",
       "      <td>1100</td>\n",
       "      <td>-30</td>\n",
       "      <td>2年-</td>\n",
       "      <td>2年〜</td>\n",
       "    </tr>\n",
       "    <tr>\n",
       "      <th>998</th>\n",
       "      <td>999</td>\n",
       "      <td>2024-08-30 21:04:00</td>\n",
       "      <td>127</td>\n",
       "      <td>11</td>\n",
       "      <td>15</td>\n",
       "      <td>3</td>\n",
       "      <td>4200</td>\n",
       "      <td>Female</td>\n",
       "      <td>49</td>\n",
       "      <td>1134</td>\n",
       "      <td>31-50</td>\n",
       "      <td>2年-</td>\n",
       "      <td>2年〜</td>\n",
       "    </tr>\n",
       "    <tr>\n",
       "      <th>999</th>\n",
       "      <td>1000</td>\n",
       "      <td>2024-08-31 00:00:00</td>\n",
       "      <td>223</td>\n",
       "      <td>5</td>\n",
       "      <td>12</td>\n",
       "      <td>2</td>\n",
       "      <td>7500</td>\n",
       "      <td>Male</td>\n",
       "      <td>70</td>\n",
       "      <td>409</td>\n",
       "      <td>66-</td>\n",
       "      <td>1年-2年</td>\n",
       "      <td>1年〜2年</td>\n",
       "    </tr>\n",
       "  </tbody>\n",
       "</table>\n",
       "<p>1000 rows × 13 columns</p>\n",
       "</div>"
      ],
      "text/plain": [
       "    Transaction_ID    Transaction_Date  Member_ID Product_ID Store_ID  \\\n",
       "0                1 2024-05-01 00:00:00         21         25       12   \n",
       "1                2 2024-05-01 02:55:00        107         23       17   \n",
       "2                3 2024-05-01 05:51:00        117         24        6   \n",
       "3                4 2024-05-01 08:47:00        124         38        1   \n",
       "4                5 2024-05-01 11:43:00        281         28        5   \n",
       "..             ...                 ...        ...        ...      ...   \n",
       "995            996 2024-08-30 12:16:00        213         33       15   \n",
       "996            997 2024-08-30 15:12:00         62         49       19   \n",
       "997            998 2024-08-30 18:08:00         49         12       11   \n",
       "998            999 2024-08-30 21:04:00        127         11       15   \n",
       "999           1000 2024-08-31 00:00:00        223          5       12   \n",
       "\n",
       "     Quantity  Sales_Amount  Gender  Age  Days_Since_Registration Age_Group  \\\n",
       "0           3          5800  Female   58                      323     51-65   \n",
       "1           1           600    Male   71                     1665       66-   \n",
       "2           3          1300    Male   56                      751     51-65   \n",
       "3           3          6000    Male   73                     1798       66-   \n",
       "4           4          9400    Male   70                      333       66-   \n",
       "..        ...           ...     ...  ...                      ...       ...   \n",
       "995         3          8400  Female   64                      698     51-65   \n",
       "996         3          3900  Female   50                     1600     31-50   \n",
       "997         4          2500    Male   29                     1100       -30   \n",
       "998         3          4200  Female   49                     1134     31-50   \n",
       "999         2          7500    Male   70                      409       66-   \n",
       "\n",
       "    Year_Group Registration_Group  \n",
       "0          -1年                〜1年  \n",
       "1          2年-                2年〜  \n",
       "2          2年-                2年〜  \n",
       "3          2年-                2年〜  \n",
       "4          -1年                〜1年  \n",
       "..         ...                ...  \n",
       "995      1年-2年              1年〜2年  \n",
       "996        2年-                2年〜  \n",
       "997        2年-                2年〜  \n",
       "998        2年-                2年〜  \n",
       "999      1年-2年              1年〜2年  \n",
       "\n",
       "[1000 rows x 13 columns]"
      ]
     },
     "execution_count": 328,
     "metadata": {},
     "output_type": "execute_result"
    }
   ],
   "source": [
    "# 解答例\n",
    "# pd.mergeとpd.concatは同じように見えるが、異なる動作をする。\n",
    "# 今回の場合だと、Member_IDが重複してしまう。\n",
    "# mergeは、onでどのデータをもとに結合するかを指定するので、重複しない。\n",
    "# 注意点：結合時に指定するデータ(on=)は、型が違うと同じデータととみなされないので注意\n",
    "merged_df = pd.merge(sales_df_my_work, member_df, on='Member_ID')\n",
    "merged_df # .columns.value_counts()"
   ]
  },
  {
   "cell_type": "markdown",
   "metadata": {
    "id": "9cje3s_ATkiG"
   },
   "source": [
    "39. 性別 ごとに 平均Amount を計算してください"
   ]
  },
  {
   "cell_type": "code",
   "execution_count": 330,
   "metadata": {},
   "outputs": [
    {
     "data": {
      "text/plain": [
       "Gender\n",
       "Female    5373.939394\n",
       "Male      5302.970297\n",
       "Name: Sales_Amount, dtype: float64"
      ]
     },
     "execution_count": 330,
     "metadata": {},
     "output_type": "execute_result"
    }
   ],
   "source": [
    "# merged_df.info()\n",
    "merged_df.groupby('Gender')['Sales_Amount'].mean()"
   ]
  },
  {
   "cell_type": "code",
   "execution_count": 332,
   "metadata": {},
   "outputs": [
    {
     "data": {
      "text/html": [
       "<div>\n",
       "<style scoped>\n",
       "    .dataframe tbody tr th:only-of-type {\n",
       "        vertical-align: middle;\n",
       "    }\n",
       "\n",
       "    .dataframe tbody tr th {\n",
       "        vertical-align: top;\n",
       "    }\n",
       "\n",
       "    .dataframe thead th {\n",
       "        text-align: right;\n",
       "    }\n",
       "</style>\n",
       "<table border=\"1\" class=\"dataframe\">\n",
       "  <thead>\n",
       "    <tr style=\"text-align: right;\">\n",
       "      <th></th>\n",
       "      <th>Gender</th>\n",
       "      <th>Sales_Amount</th>\n",
       "    </tr>\n",
       "  </thead>\n",
       "  <tbody>\n",
       "    <tr>\n",
       "      <th>0</th>\n",
       "      <td>Female</td>\n",
       "      <td>5373.939394</td>\n",
       "    </tr>\n",
       "    <tr>\n",
       "      <th>1</th>\n",
       "      <td>Male</td>\n",
       "      <td>5302.970297</td>\n",
       "    </tr>\n",
       "  </tbody>\n",
       "</table>\n",
       "</div>"
      ],
      "text/plain": [
       "   Gender  Sales_Amount\n",
       "0  Female   5373.939394\n",
       "1    Male   5302.970297"
      ]
     },
     "execution_count": 332,
     "metadata": {},
     "output_type": "execute_result"
    }
   ],
   "source": [
    "# 解答例\n",
    "# 結合する前は、性別は会員データ、Amountは売り上げデータだったので、マージしたからこそ扱える操作になる\n",
    "merged_df.groupby('Gender')['Sales_Amount'].mean().reset_index()"
   ]
  },
  {
   "cell_type": "markdown",
   "metadata": {
    "id": "A4k5vaLomtiS"
   },
   "source": [
    "40. 性別ごとの平均 Quantity を集計してください"
   ]
  },
  {
   "cell_type": "code",
   "execution_count": 120,
   "metadata": {},
   "outputs": [
    {
     "data": {
      "text/plain": [
       "Gender\n",
       "Female    2.616438\n",
       "Male      2.564935\n",
       "Name: Quantity, dtype: float64"
      ]
     },
     "execution_count": 120,
     "metadata": {},
     "output_type": "execute_result"
    }
   ],
   "source": [
    "merged_df.groupby('Gender')['Quantity'].mean()"
   ]
  },
  {
   "cell_type": "code",
   "execution_count": 333,
   "metadata": {},
   "outputs": [
    {
     "data": {
      "text/html": [
       "<div>\n",
       "<style scoped>\n",
       "    .dataframe tbody tr th:only-of-type {\n",
       "        vertical-align: middle;\n",
       "    }\n",
       "\n",
       "    .dataframe tbody tr th {\n",
       "        vertical-align: top;\n",
       "    }\n",
       "\n",
       "    .dataframe thead th {\n",
       "        text-align: right;\n",
       "    }\n",
       "</style>\n",
       "<table border=\"1\" class=\"dataframe\">\n",
       "  <thead>\n",
       "    <tr style=\"text-align: right;\">\n",
       "      <th></th>\n",
       "      <th>Gender</th>\n",
       "      <th>Quantity</th>\n",
       "    </tr>\n",
       "  </thead>\n",
       "  <tbody>\n",
       "    <tr>\n",
       "      <th>0</th>\n",
       "      <td>Female</td>\n",
       "      <td>2.529293</td>\n",
       "    </tr>\n",
       "    <tr>\n",
       "      <th>1</th>\n",
       "      <td>Male</td>\n",
       "      <td>2.572277</td>\n",
       "    </tr>\n",
       "  </tbody>\n",
       "</table>\n",
       "</div>"
      ],
      "text/plain": [
       "   Gender  Quantity\n",
       "0  Female  2.529293\n",
       "1    Male  2.572277"
      ]
     },
     "execution_count": 333,
     "metadata": {},
     "output_type": "execute_result"
    }
   ],
   "source": [
    "# 解答例\n",
    "# 結合する前は、性別は会員データ、Quantityは売り上げデータだったので、マージしたからこそ扱える操作になる\n",
    "merged_df.groupby('Gender')['Quantity'].mean().reset_index()"
   ]
  },
  {
   "cell_type": "markdown",
   "metadata": {
    "id": "Tkt9RLSYmAL5"
   },
   "source": [
    "41. 性別と店舗IDごとに取引数を集計してください"
   ]
  },
  {
   "cell_type": "markdown",
   "metadata": {
    "id": "uLtMKAg5lbRf"
   },
   "source": [
    "42. Store_ID が [1, 5, 9] の取引を抽出し、Store_ID ごとに Quantity の合計を計算してください"
   ]
  },
  {
   "cell_type": "markdown",
   "metadata": {
    "id": "Oqrkm2ShlnM5"
   },
   "source": [
    "43. データセットの最後の10日間の取引を抽出し、Transaction_Date ごとにAmountを集計してください"
   ]
  },
  {
   "cell_type": "markdown",
   "metadata": {
    "id": "sdGMBNFrlzWY"
   },
   "source": [
    "44. 合計Amountが最も高い会員トップ5を特定してください"
   ]
  },
  {
   "cell_type": "markdown",
   "metadata": {
    "id": "J3jV5vEp8kug"
   },
   "source": [
    "45. 会員ごとに最も新しい取引を集計してください"
   ]
  },
  {
   "cell_type": "markdown",
   "metadata": {
    "id": "-10t4icE8-xX"
   },
   "source": [
    "46. 会員ごとに最も古い取引を集計してください"
   ]
  },
  {
   "cell_type": "markdown",
   "metadata": {
    "id": "y9vsa0zJF6c2"
   },
   "source": [
    "47. 会員ごとに取引日時の最も古いデータと最も新しいデータを集計し、それぞれが違うレコードを抽出してください"
   ]
  },
  {
   "cell_type": "markdown",
   "metadata": {
    "id": "iFLkOIYg_0g0"
   },
   "source": [
    "48. Member_ID に「2」が含まれる会員の取引を抽出してください。"
   ]
  },
  {
   "cell_type": "markdown",
   "metadata": {
    "id": "2-802v81AWqa"
   },
   "source": [
    "49. Product_ID が「1」で始まる取引を抽出してください。"
   ]
  },
  {
   "cell_type": "markdown",
   "metadata": {
    "id": "6_w1n3OGAfpz"
   },
   "source": [
    "50. Store_ID が「5」で終わる取引を抽出してください"
   ]
  },
  {
   "cell_type": "markdown",
   "metadata": {
    "id": "3nys5gxwAnIV"
   },
   "source": [
    "51. Transaction_ID が奇数の取引を抽出してください"
   ]
  },
  {
   "cell_type": "markdown",
   "metadata": {
    "id": "pp1sh_skJJV3"
   },
   "source": [
    "52. Member_ID が3桁の会員の取引を抽出してください"
   ]
  },
  {
   "cell_type": "markdown",
   "metadata": {
    "id": "CC4ZnosnJSPH"
   },
   "source": [
    "53. Member_ID に「1」と「3」が連続して含まれる取引を抽出してください"
   ]
  },
  {
   "cell_type": "markdown",
   "metadata": {
    "id": "IWTCXUzxJiUq"
   },
   "source": [
    "54. Member_ID が「1」で始まり、任意の数字が続く会員の取引を抽出してください"
   ]
  },
  {
   "cell_type": "markdown",
   "metadata": {
    "id": "i69-7iQtBFqZ"
   },
   "source": [
    "55. Product_IDごとの Quantityの最頻値を集計し、最頻値が3以上の商品を抽出してください"
   ]
  },
  {
   "cell_type": "markdown",
   "metadata": {
    "id": "xsO5i7QGEVhX"
   },
   "source": [
    "56. Product_IDごとのQuantityの最頻値を計算し、最頻値が最大の商品を抽出してください"
   ]
  },
  {
   "cell_type": "markdown",
   "metadata": {
    "id": "hb_D66HQBkLx"
   },
   "source": [
    "57. Store_ID ごとにAmountの分散を計算し、分散が大きい順にソートしてください"
   ]
  },
  {
   "cell_type": "markdown",
   "metadata": {
    "id": "ViaBUy-uBuqK"
   },
   "source": [
    "58. Member_ID ごとにAmountの標準偏差を計算し、標準偏差が4000以上の会員を抽出してください"
   ]
  },
  {
   "cell_type": "markdown",
   "metadata": {
    "id": "akauR1ByFMca"
   },
   "source": [
    "59. 会員データにおいて年齢ごとに会員数を集計し、会員数が多い順にソートしてください"
   ]
  },
  {
   "cell_type": "markdown",
   "metadata": {
    "id": "cQtbb8a7FedI"
   },
   "source": [
    "60. 会員データの年齢の中央値を計算し、それより上の会員を抽出してください"
   ]
  },
  {
   "cell_type": "markdown",
   "metadata": {
    "id": "tkaUyJ9bOY3c"
   },
   "source": [
    "61. Amountの大きいものから順番にランクを付与した上で昇順で並び替えてください。また同じAmountの場合は先に出現したものに高いランクを付与してください。"
   ]
  },
  {
   "cell_type": "markdown",
   "metadata": {
    "id": "wAwl1-eaQqxU"
   },
   "source": [
    "62. Member_ID ごとの合計Amountに対して、パーセンタイル値を計算して低い順に並び替えてください"
   ]
  },
  {
   "cell_type": "markdown",
   "metadata": {
    "id": "YSF1CH5YTSaq"
   },
   "source": [
    "63. 年代を縦（行）、性別を横（列）に持つテーブルで、各セグメントごとの平均取引金額を集計してください"
   ]
  },
  {
   "cell_type": "markdown",
   "metadata": {
    "id": "3gO34AHpUU5R"
   },
   "source": [
    "64. 前の課題のテーブルを、年代と性別が縦に並ぶように変換してください"
   ]
  },
  {
   "cell_type": "markdown",
   "metadata": {
    "id": "GIeO-f2zUwXN"
   },
   "source": [
    "65. 年代✕性別のごとの取引回数を集計し表示してください"
   ]
  },
  {
   "cell_type": "markdown",
   "metadata": {
    "id": "Fvrztac1Ys91"
   },
   "source": [
    "66. Amount が2000円以上なら 1、それ未満なら 0 を割り振ったフラグを新しいカラムに追加してください"
   ]
  },
  {
   "cell_type": "markdown",
   "metadata": {
    "id": "teZN75LJY_6h"
   },
   "source": [
    "67. Quantity の平均値以上の取引に 1、それ未満に 0 のフラグを追加してください"
   ]
  },
  {
   "cell_type": "markdown",
   "metadata": {
    "id": "ZSbe2hFKZEtX"
   },
   "source": [
    "68. 顧客ごとの合計Amountに基づいて、〜25%点、〜50%点、〜75%点、〜100%点ごとに4つのカテゴリに分け、そのカテゴリを新しいカラムとして追加してください"
   ]
  },
  {
   "cell_type": "markdown",
   "metadata": {
    "id": "zcOuW8qNhThF"
   },
   "source": [
    "69. Quantityが小さい順に等しく3つのカテゴリに分け、そのカテゴリを新しいカラムに追加してください"
   ]
  },
  {
   "cell_type": "markdown",
   "metadata": {
    "id": "cycj_uenhWDy"
   },
   "source": [
    "70. Gender カラムをダミー変数化してください"
   ]
  },
  {
   "cell_type": "markdown",
   "metadata": {
    "id": "lqutjDCYjI3h"
   },
   "source": [
    "71. Amount カラムを標準化して新しいカラムを追加してください"
   ]
  },
  {
   "cell_type": "markdown",
   "metadata": {
    "id": "iq2zxHcckPOG"
   },
   "source": [
    "72. 取引データ全体のうち10%をランダムにサンプリングしてください"
   ]
  },
  {
   "cell_type": "markdown",
   "metadata": {
    "id": "gunyepSekXyy"
   },
   "source": [
    "73. 会員データの20%をランダムにサンプリングしてください"
   ]
  },
  {
   "cell_type": "markdown",
   "metadata": {
    "id": "Jntpjdc-kfUA"
   },
   "source": [
    "74. Amount が5000円以上の取引からランダムに5件をサンプリングしてください"
   ]
  },
  {
   "cell_type": "markdown",
   "metadata": {
    "id": "njlqJDqSkvit"
   },
   "source": [
    "75. Gender を層化基準にして取引データから20%抽出してください"
   ]
  },
  {
   "cell_type": "markdown",
   "metadata": {
    "id": "05o6zrT6k5l7"
   },
   "source": [
    "76. Amount の平均から1σ以上離れた取引を外れ値として抽出してください（本来は3σ）"
   ]
  },
  {
   "cell_type": "markdown",
   "metadata": {
    "id": "H1VhNaHilW3p"
   },
   "source": [
    "77. 現在のmember_dfをCSVファイルとして出力をしてください"
   ]
  },
  {
   "cell_type": "markdown",
   "metadata": {
    "id": "YzmmIWxHoW49"
   },
   "source": [
    "78. seaborn を使って、merged_dfの数値カラム間の相関行列をヒートマップで可視化してください\n",
    "\n"
   ]
  },
  {
   "cell_type": "markdown",
   "metadata": {
    "id": "J39011D8pEs1"
   },
   "source": [
    "79. plotlyを使って、merged_dfの数値カラム間の相関行列をヒートマップで可視化してください"
   ]
  },
  {
   "cell_type": "markdown",
   "metadata": {
    "id": "lccJuHzppyEZ"
   },
   "source": [
    "80. matplotlib を使って、月ごとの合計Amountを棒グラフで表示してください"
   ]
  },
  {
   "cell_type": "markdown",
   "metadata": {
    "id": "M5B_2s8JXlmG"
   },
   "source": [
    "81. seaborn を使って、Store_ID ごとの取引数をカウントプロットで可視化してください"
   ]
  },
  {
   "cell_type": "markdown",
   "metadata": {
    "id": "sdQ2zmYaqAs-"
   },
   "source": [
    "82. seaborn を使って、Store_ID ごとの合計Amountを棒グラフで表示してください"
   ]
  },
  {
   "cell_type": "markdown",
   "metadata": {
    "id": "zMVujTULhn9H"
   },
   "source": [
    "83. Plotlyを使って会員ごとの取引数を可視化してください"
   ]
  },
  {
   "cell_type": "markdown",
   "metadata": {
    "id": "ej_St7nEqPvC"
   },
   "source": [
    "84. matplotlib を使って、日ごとの売上金額を折れ線グラフで表示してください"
   ]
  },
  {
   "cell_type": "markdown",
   "metadata": {
    "id": "1WzkRnkgqhOM"
   },
   "source": [
    "85. seaborn を使って、Amount の分布を箱ひげ図で表示してください"
   ]
  },
  {
   "cell_type": "markdown",
   "metadata": {
    "id": "gJncdWeSqmYR"
   },
   "source": [
    "86. Days_Since_Registration に基づく顧客の分布を plotly の箱ひげ図で可視化してください"
   ]
  },
  {
   "cell_type": "markdown",
   "metadata": {
    "id": "ZbKWNC5RqqBv"
   },
   "source": [
    "87. matplotlib を使って、Amount と Days_Since_Registration の関係を散布図で表示してください"
   ]
  },
  {
   "cell_type": "markdown",
   "metadata": {
    "id": "JuBVcfIjrEB3"
   },
   "source": [
    "88. plotly を使って、Days_Since_Registration と Amount の関係を散布図で表示してください。Store_IDごとに色を変えてください"
   ]
  },
  {
   "cell_type": "markdown",
   "metadata": {
    "id": "VP2PLLoWrJbu"
   },
   "source": [
    "89. seaborn の pairplot を使って、merged_dataの数値カラムの相関をペアプロットで可視化してください"
   ]
  },
  {
   "cell_type": "markdown",
   "metadata": {
    "id": "yKeRQCkNrrlS"
   },
   "source": [
    "90. plotly を使って、Product_ID ごとの売上と販売数量をバブルチャートで表示してください。Product_IDがX軸でAmountがY軸、そしてQuantityがバブルの大きさになるようにしてください"
   ]
  },
  {
   "cell_type": "markdown",
   "metadata": {
    "id": "rM_YdvZwSqBx"
   },
   "source": [
    "91. Amount カラムの分布をカーネル密度推定プロットで可視化してください"
   ]
  },
  {
   "cell_type": "markdown",
   "metadata": {
    "id": "E4Si34pxVN5m"
   },
   "source": [
    "92. seaborn の regplot を使って、Amount と Days_Since_Registration の散布図に回帰直線を追加して可視化してください"
   ]
  },
  {
   "cell_type": "markdown",
   "metadata": {
    "id": "64yHxNQ7Vevl"
   },
   "source": [
    "93. seaborn の jointplot を使って、Amount と Days_Since_Registration の相関をヒストグラムと散布図を組み合わせた形で可視化してください"
   ]
  },
  {
   "cell_type": "markdown",
   "metadata": {
    "id": "AYnHHiUTVokp"
   },
   "source": [
    "94. seaborn の violinplot を使って、Store_IDが1,3,5 の Quantity の分布を Violinプロットで可視化してください"
   ]
  },
  {
   "cell_type": "markdown",
   "metadata": {
    "id": "HQaJtzAkXLx3"
   },
   "source": [
    "95. matplotlib を使って、店舗ごとの売上合計をエリアチャートで可視化してください"
   ]
  },
  {
   "cell_type": "markdown",
   "metadata": {
    "id": "5iJfWQIdXwK7"
   },
   "source": [
    "96. matplotlib を使って、Store_ID ごとの売上を円グラフ（パイチャート）で可視化してください"
   ]
  },
  {
   "cell_type": "markdown",
   "metadata": {
    "id": "ZC2GCu24kIJh"
   },
   "source": [
    "97. Store_ID ごとの売上合計を plotly の円グラフ（パイチャート）で可視化してください"
   ]
  },
  {
   "cell_type": "markdown",
   "metadata": {
    "id": "NUXU3J2rkPdS"
   },
   "source": [
    "98. 取引日 ごとの売上累積を plotly のエリアチャートで可視化してください"
   ]
  },
  {
   "cell_type": "markdown",
   "metadata": {
    "id": "hyFA3J2PkR6T"
   },
   "source": [
    "99. Amount の分布を plotly のヒストグラムで可視化してください"
   ]
  },
  {
   "cell_type": "markdown",
   "metadata": {
    "id": "zb8OYyU4k1bS"
   },
   "source": [
    "100. Age と Days_Since_Registration の関係を散布図で可視化し、色分けを性別（Gender）に基づいて行ってください"
   ]
  }
 ],
 "metadata": {
  "colab": {
   "authorship_tag": "ABX9TyPWtbN9Wdvsq6PDeFd9T3ry",
   "provenance": []
  },
  "kernelspec": {
   "display_name": "dl",
   "language": "python",
   "name": "python3"
  },
  "language_info": {
   "codemirror_mode": {
    "name": "ipython",
    "version": 3
   },
   "file_extension": ".py",
   "mimetype": "text/x-python",
   "name": "python",
   "nbconvert_exporter": "python",
   "pygments_lexer": "ipython3",
   "version": "3.8.20"
  }
 },
 "nbformat": 4,
 "nbformat_minor": 0
}
