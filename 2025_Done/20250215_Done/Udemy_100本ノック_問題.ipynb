{
 "cells": [
  {
   "cell_type": "markdown",
   "metadata": {
    "id": "FwagVN_PnZXO"
   },
   "source": [
    "*1*. データの読み込み\n",
    "- 各種CSVデータを読み込んでください\n",
    "- 各種データフレーム名はsales_df、member_dfとしてください"
   ]
  },
  {
   "cell_type": "code",
   "execution_count": 2,
   "metadata": {},
   "outputs": [],
   "source": [
    "import pandas as pd\n",
    "\n",
    "sales_df = pd.read_csv('Sales_Data.csv')\n",
    "member_df = pd.read_csv('Member_Data.csv')"
   ]
  },
  {
   "cell_type": "markdown",
   "metadata": {
    "id": "hP8NWB3Zn19h"
   },
   "source": [
    "2. 取引データの上部5行を表示してください\n"
   ]
  },
  {
   "cell_type": "code",
   "execution_count": 3,
   "metadata": {},
   "outputs": [
    {
     "data": {
      "text/html": [
       "<div>\n",
       "<style scoped>\n",
       "    .dataframe tbody tr th:only-of-type {\n",
       "        vertical-align: middle;\n",
       "    }\n",
       "\n",
       "    .dataframe tbody tr th {\n",
       "        vertical-align: top;\n",
       "    }\n",
       "\n",
       "    .dataframe thead th {\n",
       "        text-align: right;\n",
       "    }\n",
       "</style>\n",
       "<table border=\"1\" class=\"dataframe\">\n",
       "  <thead>\n",
       "    <tr style=\"text-align: right;\">\n",
       "      <th></th>\n",
       "      <th>Transaction_ID</th>\n",
       "      <th>Transaction_Date</th>\n",
       "      <th>Member_ID</th>\n",
       "      <th>Product_ID</th>\n",
       "      <th>Store_ID</th>\n",
       "      <th>Quantity</th>\n",
       "      <th>Amount</th>\n",
       "    </tr>\n",
       "  </thead>\n",
       "  <tbody>\n",
       "    <tr>\n",
       "      <th>0</th>\n",
       "      <td>1</td>\n",
       "      <td>2024/5/1 0:00</td>\n",
       "      <td>21</td>\n",
       "      <td>25</td>\n",
       "      <td>12</td>\n",
       "      <td>3</td>\n",
       "      <td>5820</td>\n",
       "    </tr>\n",
       "    <tr>\n",
       "      <th>1</th>\n",
       "      <td>2</td>\n",
       "      <td>2024/5/1 2:55</td>\n",
       "      <td>107</td>\n",
       "      <td>23</td>\n",
       "      <td>17</td>\n",
       "      <td>1</td>\n",
       "      <td>640</td>\n",
       "    </tr>\n",
       "    <tr>\n",
       "      <th>2</th>\n",
       "      <td>3</td>\n",
       "      <td>2024/5/1 5:51</td>\n",
       "      <td>117</td>\n",
       "      <td>24</td>\n",
       "      <td>6</td>\n",
       "      <td>3</td>\n",
       "      <td>1270</td>\n",
       "    </tr>\n",
       "    <tr>\n",
       "      <th>3</th>\n",
       "      <td>4</td>\n",
       "      <td>2024/5/1 8:47</td>\n",
       "      <td>124</td>\n",
       "      <td>38</td>\n",
       "      <td>1</td>\n",
       "      <td>3</td>\n",
       "      <td>5980</td>\n",
       "    </tr>\n",
       "    <tr>\n",
       "      <th>4</th>\n",
       "      <td>5</td>\n",
       "      <td>2024/5/1 11:43</td>\n",
       "      <td>281</td>\n",
       "      <td>28</td>\n",
       "      <td>5</td>\n",
       "      <td>4</td>\n",
       "      <td>9390</td>\n",
       "    </tr>\n",
       "  </tbody>\n",
       "</table>\n",
       "</div>"
      ],
      "text/plain": [
       "   Transaction_ID Transaction_Date  Member_ID  Product_ID  Store_ID  Quantity  \\\n",
       "0               1    2024/5/1 0:00         21          25        12         3   \n",
       "1               2    2024/5/1 2:55        107          23        17         1   \n",
       "2               3    2024/5/1 5:51        117          24         6         3   \n",
       "3               4    2024/5/1 8:47        124          38         1         3   \n",
       "4               5   2024/5/1 11:43        281          28         5         4   \n",
       "\n",
       "   Amount  \n",
       "0    5820  \n",
       "1     640  \n",
       "2    1270  \n",
       "3    5980  \n",
       "4    9390  "
      ]
     },
     "execution_count": 3,
     "metadata": {},
     "output_type": "execute_result"
    }
   ],
   "source": [
    "sales_df.head()"
   ]
  },
  {
   "cell_type": "markdown",
   "metadata": {
    "id": "DZhEhgj7ZBTq"
   },
   "source": [
    "3. 会員データの下部5行を表示してください"
   ]
  },
  {
   "cell_type": "code",
   "execution_count": 4,
   "metadata": {},
   "outputs": [
    {
     "data": {
      "text/html": [
       "<div>\n",
       "<style scoped>\n",
       "    .dataframe tbody tr th:only-of-type {\n",
       "        vertical-align: middle;\n",
       "    }\n",
       "\n",
       "    .dataframe tbody tr th {\n",
       "        vertical-align: top;\n",
       "    }\n",
       "\n",
       "    .dataframe thead th {\n",
       "        text-align: right;\n",
       "    }\n",
       "</style>\n",
       "<table border=\"1\" class=\"dataframe\">\n",
       "  <thead>\n",
       "    <tr style=\"text-align: right;\">\n",
       "      <th></th>\n",
       "      <th>Member_ID</th>\n",
       "      <th>Gender</th>\n",
       "      <th>Age</th>\n",
       "      <th>Days_Since_Registration</th>\n",
       "    </tr>\n",
       "  </thead>\n",
       "  <tbody>\n",
       "    <tr>\n",
       "      <th>295</th>\n",
       "      <td>296</td>\n",
       "      <td>Male</td>\n",
       "      <td>41</td>\n",
       "      <td>1513</td>\n",
       "    </tr>\n",
       "    <tr>\n",
       "      <th>296</th>\n",
       "      <td>297</td>\n",
       "      <td>Female</td>\n",
       "      <td>58</td>\n",
       "      <td>1613</td>\n",
       "    </tr>\n",
       "    <tr>\n",
       "      <th>297</th>\n",
       "      <td>298</td>\n",
       "      <td>Female</td>\n",
       "      <td>71</td>\n",
       "      <td>1177</td>\n",
       "    </tr>\n",
       "    <tr>\n",
       "      <th>298</th>\n",
       "      <td>299</td>\n",
       "      <td>Female</td>\n",
       "      <td>38</td>\n",
       "      <td>1660</td>\n",
       "    </tr>\n",
       "    <tr>\n",
       "      <th>299</th>\n",
       "      <td>300</td>\n",
       "      <td>Female</td>\n",
       "      <td>50</td>\n",
       "      <td>104</td>\n",
       "    </tr>\n",
       "  </tbody>\n",
       "</table>\n",
       "</div>"
      ],
      "text/plain": [
       "     Member_ID  Gender  Age  Days_Since_Registration\n",
       "295        296    Male   41                     1513\n",
       "296        297  Female   58                     1613\n",
       "297        298  Female   71                     1177\n",
       "298        299  Female   38                     1660\n",
       "299        300  Female   50                      104"
      ]
     },
     "execution_count": 4,
     "metadata": {},
     "output_type": "execute_result"
    }
   ],
   "source": [
    "# LLMが回答\n",
    "member_df.tail(5)"
   ]
  },
  {
   "cell_type": "code",
   "execution_count": 5,
   "metadata": {},
   "outputs": [],
   "source": [
    "# 自分の回答\n",
    "# member_df.head(-5)"
   ]
  },
  {
   "cell_type": "markdown",
   "metadata": {
    "id": "VxmequBPaQCd"
   },
   "source": [
    "4. 取引データの各カラムの件数や型を確認してください"
   ]
  },
  {
   "cell_type": "code",
   "execution_count": 6,
   "metadata": {},
   "outputs": [
    {
     "name": "stdout",
     "output_type": "stream",
     "text": [
      "<class 'pandas.core.frame.DataFrame'>\n",
      "RangeIndex: 1000 entries, 0 to 999\n",
      "Data columns (total 7 columns):\n",
      " #   Column            Non-Null Count  Dtype \n",
      "---  ------            --------------  ----- \n",
      " 0   Transaction_ID    1000 non-null   int64 \n",
      " 1   Transaction_Date  1000 non-null   object\n",
      " 2   Member_ID         1000 non-null   int64 \n",
      " 3   Product_ID        1000 non-null   int64 \n",
      " 4   Store_ID          1000 non-null   int64 \n",
      " 5   Quantity          1000 non-null   int64 \n",
      " 6   Amount            1000 non-null   int64 \n",
      "dtypes: int64(6), object(1)\n",
      "memory usage: 54.8+ KB\n"
     ]
    }
   ],
   "source": [
    "sales_df.info()"
   ]
  },
  {
   "cell_type": "markdown",
   "metadata": {
    "id": "QfR1bpBLkgba"
   },
   "source": [
    "5. 取引データの各種IDのカラムを質的変数に型変換してください。会員データに関しても同様に各種IDを質的変数に型変換してください\n"
   ]
  },
  {
   "cell_type": "code",
   "execution_count": 7,
   "metadata": {},
   "outputs": [
    {
     "name": "stdout",
     "output_type": "stream",
     "text": [
      "<class 'pandas.core.frame.DataFrame'>\n",
      "RangeIndex: 300 entries, 0 to 299\n",
      "Data columns (total 4 columns):\n",
      " #   Column                   Non-Null Count  Dtype \n",
      "---  ------                   --------------  ----- \n",
      " 0   Member_ID                300 non-null    int64 \n",
      " 1   Gender                   300 non-null    object\n",
      " 2   Age                      300 non-null    int64 \n",
      " 3   Days_Since_Registration  300 non-null    int64 \n",
      "dtypes: int64(3), object(1)\n",
      "memory usage: 9.5+ KB\n"
     ]
    }
   ],
   "source": [
    "member_df.info()"
   ]
  },
  {
   "cell_type": "code",
   "execution_count": 8,
   "metadata": {},
   "outputs": [],
   "source": [
    "# LLMが回答\n",
    "# Convert ID columns in sales_df to categorical type\n",
    "sales_df['Transaction_ID'] = sales_df['Transaction_ID'].astype('category')\n",
    "sales_df['Member_ID'] = sales_df['Member_ID'].astype('category')\n",
    "sales_df['Product_ID'] = sales_df['Product_ID'].astype('category')\n",
    "sales_df['Store_ID'] = sales_df['Store_ID'].astype('category')\n",
    "\n",
    "# Convert ID columns in member_df to categorical type\n",
    "member_df['Member_ID'] = member_df['Member_ID'].astype('category')"
   ]
  },
  {
   "cell_type": "code",
   "execution_count": 9,
   "metadata": {},
   "outputs": [
    {
     "name": "stdout",
     "output_type": "stream",
     "text": [
      "<class 'pandas.core.frame.DataFrame'>\n",
      "RangeIndex: 1000 entries, 0 to 999\n",
      "Data columns (total 7 columns):\n",
      " #   Column            Non-Null Count  Dtype   \n",
      "---  ------            --------------  -----   \n",
      " 0   Transaction_ID    1000 non-null   category\n",
      " 1   Transaction_Date  1000 non-null   object  \n",
      " 2   Member_ID         1000 non-null   category\n",
      " 3   Product_ID        1000 non-null   category\n",
      " 4   Store_ID          1000 non-null   category\n",
      " 5   Quantity          1000 non-null   int64   \n",
      " 6   Amount            1000 non-null   int64   \n",
      "dtypes: category(4), int64(2), object(1)\n",
      "memory usage: 83.0+ KB\n",
      "<class 'pandas.core.frame.DataFrame'>\n",
      "RangeIndex: 300 entries, 0 to 299\n",
      "Data columns (total 4 columns):\n",
      " #   Column                   Non-Null Count  Dtype   \n",
      "---  ------                   --------------  -----   \n",
      " 0   Member_ID                300 non-null    category\n",
      " 1   Gender                   300 non-null    object  \n",
      " 2   Age                      300 non-null    int64   \n",
      " 3   Days_Since_Registration  300 non-null    int64   \n",
      "dtypes: category(1), int64(2), object(1)\n",
      "memory usage: 18.2+ KB\n"
     ]
    },
    {
     "data": {
      "text/plain": [
       "(None, None)"
      ]
     },
     "execution_count": 9,
     "metadata": {},
     "output_type": "execute_result"
    }
   ],
   "source": [
    "sales_df.info(), member_df.info() # Check if the conversion was successful"
   ]
  },
  {
   "cell_type": "code",
   "execution_count": 10,
   "metadata": {},
   "outputs": [],
   "source": [
    "# member_df['Days_Since_Registration']"
   ]
  },
  {
   "cell_type": "markdown",
   "metadata": {
    "id": "yIpRTDMmZaPQ"
   },
   "source": [
    "6. 日付データをdatetime型に変換してください"
   ]
  },
  {
   "cell_type": "code",
   "execution_count": 11,
   "metadata": {},
   "outputs": [],
   "source": [
    "sales_df['Transaction_Date'] = pd.to_datetime(sales_df['Transaction_Date'])"
   ]
  },
  {
   "cell_type": "markdown",
   "metadata": {
    "id": "GW4mLtQOn_FF"
   },
   "source": [
    "7. 取引データの各列の基本的な統計情報（平均、標準偏差など）を表示してください"
   ]
  },
  {
   "cell_type": "code",
   "execution_count": 12,
   "metadata": {},
   "outputs": [
    {
     "data": {
      "text/html": [
       "<div>\n",
       "<style scoped>\n",
       "    .dataframe tbody tr th:only-of-type {\n",
       "        vertical-align: middle;\n",
       "    }\n",
       "\n",
       "    .dataframe tbody tr th {\n",
       "        vertical-align: top;\n",
       "    }\n",
       "\n",
       "    .dataframe thead th {\n",
       "        text-align: right;\n",
       "    }\n",
       "</style>\n",
       "<table border=\"1\" class=\"dataframe\">\n",
       "  <thead>\n",
       "    <tr style=\"text-align: right;\">\n",
       "      <th></th>\n",
       "      <th>Transaction_Date</th>\n",
       "      <th>Quantity</th>\n",
       "      <th>Amount</th>\n",
       "    </tr>\n",
       "  </thead>\n",
       "  <tbody>\n",
       "    <tr>\n",
       "      <th>count</th>\n",
       "      <td>1000</td>\n",
       "      <td>1000.000000</td>\n",
       "      <td>1000.000000</td>\n",
       "    </tr>\n",
       "    <tr>\n",
       "      <th>mean</th>\n",
       "      <td>2024-06-30 23:59:30.299999744</td>\n",
       "      <td>2.551000</td>\n",
       "      <td>5338.650000</td>\n",
       "    </tr>\n",
       "    <tr>\n",
       "      <th>min</th>\n",
       "      <td>2024-05-01 00:00:00</td>\n",
       "      <td>1.000000</td>\n",
       "      <td>510.000000</td>\n",
       "    </tr>\n",
       "    <tr>\n",
       "      <th>25%</th>\n",
       "      <td>2024-05-31 11:59:15</td>\n",
       "      <td>2.000000</td>\n",
       "      <td>3022.500000</td>\n",
       "    </tr>\n",
       "    <tr>\n",
       "      <th>50%</th>\n",
       "      <td>2024-06-30 23:59:30</td>\n",
       "      <td>3.000000</td>\n",
       "      <td>5250.000000</td>\n",
       "    </tr>\n",
       "    <tr>\n",
       "      <th>75%</th>\n",
       "      <td>2024-07-31 11:59:45</td>\n",
       "      <td>4.000000</td>\n",
       "      <td>7752.500000</td>\n",
       "    </tr>\n",
       "    <tr>\n",
       "      <th>max</th>\n",
       "      <td>2024-08-31 00:00:00</td>\n",
       "      <td>4.000000</td>\n",
       "      <td>10000.000000</td>\n",
       "    </tr>\n",
       "    <tr>\n",
       "      <th>std</th>\n",
       "      <td>NaN</td>\n",
       "      <td>1.103003</td>\n",
       "      <td>2778.234487</td>\n",
       "    </tr>\n",
       "  </tbody>\n",
       "</table>\n",
       "</div>"
      ],
      "text/plain": [
       "                    Transaction_Date     Quantity        Amount\n",
       "count                           1000  1000.000000   1000.000000\n",
       "mean   2024-06-30 23:59:30.299999744     2.551000   5338.650000\n",
       "min              2024-05-01 00:00:00     1.000000    510.000000\n",
       "25%              2024-05-31 11:59:15     2.000000   3022.500000\n",
       "50%              2024-06-30 23:59:30     3.000000   5250.000000\n",
       "75%              2024-07-31 11:59:45     4.000000   7752.500000\n",
       "max              2024-08-31 00:00:00     4.000000  10000.000000\n",
       "std                              NaN     1.103003   2778.234487"
      ]
     },
     "execution_count": 12,
     "metadata": {},
     "output_type": "execute_result"
    }
   ],
   "source": [
    "sales_df.describe()"
   ]
  },
  {
   "cell_type": "markdown",
   "metadata": {
    "id": "xx2xrxd9oGAu"
   },
   "source": [
    "8. カラム名の変更\n",
    "- データフレームのAmountのカラム名をSales_Amountに変更してください\n",
    "- データフレームは上書きしないでください\n"
   ]
  },
  {
   "cell_type": "code",
   "execution_count": 13,
   "metadata": {},
   "outputs": [],
   "source": [
    "# LLMが回答\n",
    "sales_df_llm_work = sales_df.rename(columns={'Amount': 'Sales_Amount'})"
   ]
  },
  {
   "cell_type": "code",
   "execution_count": 14,
   "metadata": {},
   "outputs": [
    {
     "name": "stdout",
     "output_type": "stream",
     "text": [
      "<class 'pandas.core.frame.DataFrame'>\n",
      "RangeIndex: 1000 entries, 0 to 999\n",
      "Data columns (total 7 columns):\n",
      " #   Column            Non-Null Count  Dtype         \n",
      "---  ------            --------------  -----         \n",
      " 0   Transaction_ID    1000 non-null   category      \n",
      " 1   Transaction_Date  1000 non-null   datetime64[ns]\n",
      " 2   Member_ID         1000 non-null   category      \n",
      " 3   Product_ID        1000 non-null   category      \n",
      " 4   Store_ID          1000 non-null   category      \n",
      " 5   Quantity          1000 non-null   int64         \n",
      " 6   Sales_Amount      1000 non-null   int64         \n",
      "dtypes: category(4), datetime64[ns](1), int64(2)\n",
      "memory usage: 83.0 KB\n"
     ]
    }
   ],
   "source": [
    "# 自分で調べた方法\n",
    "sales_df_my_work = sales_df.copy()\n",
    "# sales_df['Amount']\n",
    "sales_df_my_work.columns = ['Transaction_ID', 'Transaction_Date', 'Member_ID', 'Product_ID',\n",
    "       'Store_ID', 'Quantity', 'Sales_Amount']\n",
    "sales_df_my_work.info()"
   ]
  },
  {
   "cell_type": "code",
   "execution_count": 15,
   "metadata": {},
   "outputs": [
    {
     "data": {
      "text/html": [
       "<div>\n",
       "<style scoped>\n",
       "    .dataframe tbody tr th:only-of-type {\n",
       "        vertical-align: middle;\n",
       "    }\n",
       "\n",
       "    .dataframe tbody tr th {\n",
       "        vertical-align: top;\n",
       "    }\n",
       "\n",
       "    .dataframe thead th {\n",
       "        text-align: right;\n",
       "    }\n",
       "</style>\n",
       "<table border=\"1\" class=\"dataframe\">\n",
       "  <thead>\n",
       "    <tr style=\"text-align: right;\">\n",
       "      <th></th>\n",
       "      <th>Transaction_ID</th>\n",
       "      <th>Transaction_Date</th>\n",
       "      <th>Member_ID</th>\n",
       "      <th>Product_ID</th>\n",
       "      <th>Store_ID</th>\n",
       "      <th>Quantity</th>\n",
       "      <th>Sales_Amount</th>\n",
       "    </tr>\n",
       "  </thead>\n",
       "  <tbody>\n",
       "    <tr>\n",
       "      <th>0</th>\n",
       "      <td>1</td>\n",
       "      <td>2024-05-01 00:00:00</td>\n",
       "      <td>21</td>\n",
       "      <td>25</td>\n",
       "      <td>12</td>\n",
       "      <td>3</td>\n",
       "      <td>5820</td>\n",
       "    </tr>\n",
       "    <tr>\n",
       "      <th>1</th>\n",
       "      <td>2</td>\n",
       "      <td>2024-05-01 02:55:00</td>\n",
       "      <td>107</td>\n",
       "      <td>23</td>\n",
       "      <td>17</td>\n",
       "      <td>1</td>\n",
       "      <td>640</td>\n",
       "    </tr>\n",
       "    <tr>\n",
       "      <th>2</th>\n",
       "      <td>3</td>\n",
       "      <td>2024-05-01 05:51:00</td>\n",
       "      <td>117</td>\n",
       "      <td>24</td>\n",
       "      <td>6</td>\n",
       "      <td>3</td>\n",
       "      <td>1270</td>\n",
       "    </tr>\n",
       "    <tr>\n",
       "      <th>3</th>\n",
       "      <td>4</td>\n",
       "      <td>2024-05-01 08:47:00</td>\n",
       "      <td>124</td>\n",
       "      <td>38</td>\n",
       "      <td>1</td>\n",
       "      <td>3</td>\n",
       "      <td>5980</td>\n",
       "    </tr>\n",
       "    <tr>\n",
       "      <th>4</th>\n",
       "      <td>5</td>\n",
       "      <td>2024-05-01 11:43:00</td>\n",
       "      <td>281</td>\n",
       "      <td>28</td>\n",
       "      <td>5</td>\n",
       "      <td>4</td>\n",
       "      <td>9390</td>\n",
       "    </tr>\n",
       "  </tbody>\n",
       "</table>\n",
       "</div>"
      ],
      "text/plain": [
       "  Transaction_ID    Transaction_Date Member_ID Product_ID Store_ID  Quantity  \\\n",
       "0              1 2024-05-01 00:00:00        21         25       12         3   \n",
       "1              2 2024-05-01 02:55:00       107         23       17         1   \n",
       "2              3 2024-05-01 05:51:00       117         24        6         3   \n",
       "3              4 2024-05-01 08:47:00       124         38        1         3   \n",
       "4              5 2024-05-01 11:43:00       281         28        5         4   \n",
       "\n",
       "   Sales_Amount  \n",
       "0          5820  \n",
       "1           640  \n",
       "2          1270  \n",
       "3          5980  \n",
       "4          9390  "
      ]
     },
     "execution_count": 15,
     "metadata": {},
     "output_type": "execute_result"
    }
   ],
   "source": [
    "# 二つのやり方を比較\n",
    "sales_df_llm_work.head()\n",
    "# print(\"=\"*20)\n",
    "sales_df_my_work.head()\n",
    "\n",
    "# 両方同じ結果が出たので、どちらでも良い"
   ]
  },
  {
   "cell_type": "markdown",
   "metadata": {
    "id": "370609cYjhSF"
   },
   "source": [
    "9. Amountを100円単位に四捨五入して表示してください"
   ]
  },
  {
   "cell_type": "code",
   "execution_count": 16,
   "metadata": {},
   "outputs": [
    {
     "data": {
      "text/html": [
       "<div>\n",
       "<style scoped>\n",
       "    .dataframe tbody tr th:only-of-type {\n",
       "        vertical-align: middle;\n",
       "    }\n",
       "\n",
       "    .dataframe tbody tr th {\n",
       "        vertical-align: top;\n",
       "    }\n",
       "\n",
       "    .dataframe thead th {\n",
       "        text-align: right;\n",
       "    }\n",
       "</style>\n",
       "<table border=\"1\" class=\"dataframe\">\n",
       "  <thead>\n",
       "    <tr style=\"text-align: right;\">\n",
       "      <th></th>\n",
       "      <th>Transaction_ID</th>\n",
       "      <th>Transaction_Date</th>\n",
       "      <th>Member_ID</th>\n",
       "      <th>Product_ID</th>\n",
       "      <th>Store_ID</th>\n",
       "      <th>Quantity</th>\n",
       "      <th>Sales_Amount</th>\n",
       "    </tr>\n",
       "  </thead>\n",
       "  <tbody>\n",
       "    <tr>\n",
       "      <th>0</th>\n",
       "      <td>1</td>\n",
       "      <td>2024-05-01 00:00:00</td>\n",
       "      <td>21</td>\n",
       "      <td>25</td>\n",
       "      <td>12</td>\n",
       "      <td>3</td>\n",
       "      <td>5800</td>\n",
       "    </tr>\n",
       "    <tr>\n",
       "      <th>1</th>\n",
       "      <td>2</td>\n",
       "      <td>2024-05-01 02:55:00</td>\n",
       "      <td>107</td>\n",
       "      <td>23</td>\n",
       "      <td>17</td>\n",
       "      <td>1</td>\n",
       "      <td>600</td>\n",
       "    </tr>\n",
       "    <tr>\n",
       "      <th>2</th>\n",
       "      <td>3</td>\n",
       "      <td>2024-05-01 05:51:00</td>\n",
       "      <td>117</td>\n",
       "      <td>24</td>\n",
       "      <td>6</td>\n",
       "      <td>3</td>\n",
       "      <td>1300</td>\n",
       "    </tr>\n",
       "    <tr>\n",
       "      <th>3</th>\n",
       "      <td>4</td>\n",
       "      <td>2024-05-01 08:47:00</td>\n",
       "      <td>124</td>\n",
       "      <td>38</td>\n",
       "      <td>1</td>\n",
       "      <td>3</td>\n",
       "      <td>6000</td>\n",
       "    </tr>\n",
       "    <tr>\n",
       "      <th>4</th>\n",
       "      <td>5</td>\n",
       "      <td>2024-05-01 11:43:00</td>\n",
       "      <td>281</td>\n",
       "      <td>28</td>\n",
       "      <td>5</td>\n",
       "      <td>4</td>\n",
       "      <td>9400</td>\n",
       "    </tr>\n",
       "  </tbody>\n",
       "</table>\n",
       "</div>"
      ],
      "text/plain": [
       "  Transaction_ID    Transaction_Date Member_ID Product_ID Store_ID  Quantity  \\\n",
       "0              1 2024-05-01 00:00:00        21         25       12         3   \n",
       "1              2 2024-05-01 02:55:00       107         23       17         1   \n",
       "2              3 2024-05-01 05:51:00       117         24        6         3   \n",
       "3              4 2024-05-01 08:47:00       124         38        1         3   \n",
       "4              5 2024-05-01 11:43:00       281         28        5         4   \n",
       "\n",
       "   Sales_Amount  \n",
       "0          5800  \n",
       "1           600  \n",
       "2          1300  \n",
       "3          6000  \n",
       "4          9400  "
      ]
     },
     "execution_count": 16,
     "metadata": {},
     "output_type": "execute_result"
    }
   ],
   "source": [
    "# 自分で調べた方法\n",
    "sales_df_my_work['Sales_Amount'] = sales_df_my_work['Sales_Amount'].round(-2) # Round to the nearest 100\n",
    "sales_df_my_work.head()"
   ]
  },
  {
   "cell_type": "code",
   "execution_count": 17,
   "metadata": {},
   "outputs": [
    {
     "data": {
      "text/html": [
       "<div>\n",
       "<style scoped>\n",
       "    .dataframe tbody tr th:only-of-type {\n",
       "        vertical-align: middle;\n",
       "    }\n",
       "\n",
       "    .dataframe tbody tr th {\n",
       "        vertical-align: top;\n",
       "    }\n",
       "\n",
       "    .dataframe thead th {\n",
       "        text-align: right;\n",
       "    }\n",
       "</style>\n",
       "<table border=\"1\" class=\"dataframe\">\n",
       "  <thead>\n",
       "    <tr style=\"text-align: right;\">\n",
       "      <th></th>\n",
       "      <th>Transaction_ID</th>\n",
       "      <th>Transaction_Date</th>\n",
       "      <th>Member_ID</th>\n",
       "      <th>Product_ID</th>\n",
       "      <th>Store_ID</th>\n",
       "      <th>Quantity</th>\n",
       "      <th>Sales_Amount</th>\n",
       "    </tr>\n",
       "  </thead>\n",
       "  <tbody>\n",
       "    <tr>\n",
       "      <th>0</th>\n",
       "      <td>1</td>\n",
       "      <td>2024-05-01 00:00:00</td>\n",
       "      <td>21</td>\n",
       "      <td>25</td>\n",
       "      <td>12</td>\n",
       "      <td>3</td>\n",
       "      <td>5800</td>\n",
       "    </tr>\n",
       "    <tr>\n",
       "      <th>1</th>\n",
       "      <td>2</td>\n",
       "      <td>2024-05-01 02:55:00</td>\n",
       "      <td>107</td>\n",
       "      <td>23</td>\n",
       "      <td>17</td>\n",
       "      <td>1</td>\n",
       "      <td>600</td>\n",
       "    </tr>\n",
       "    <tr>\n",
       "      <th>2</th>\n",
       "      <td>3</td>\n",
       "      <td>2024-05-01 05:51:00</td>\n",
       "      <td>117</td>\n",
       "      <td>24</td>\n",
       "      <td>6</td>\n",
       "      <td>3</td>\n",
       "      <td>1300</td>\n",
       "    </tr>\n",
       "    <tr>\n",
       "      <th>3</th>\n",
       "      <td>4</td>\n",
       "      <td>2024-05-01 08:47:00</td>\n",
       "      <td>124</td>\n",
       "      <td>38</td>\n",
       "      <td>1</td>\n",
       "      <td>3</td>\n",
       "      <td>6000</td>\n",
       "    </tr>\n",
       "    <tr>\n",
       "      <th>4</th>\n",
       "      <td>5</td>\n",
       "      <td>2024-05-01 11:43:00</td>\n",
       "      <td>281</td>\n",
       "      <td>28</td>\n",
       "      <td>5</td>\n",
       "      <td>4</td>\n",
       "      <td>9400</td>\n",
       "    </tr>\n",
       "  </tbody>\n",
       "</table>\n",
       "</div>"
      ],
      "text/plain": [
       "  Transaction_ID    Transaction_Date Member_ID Product_ID Store_ID  Quantity  \\\n",
       "0              1 2024-05-01 00:00:00        21         25       12         3   \n",
       "1              2 2024-05-01 02:55:00       107         23       17         1   \n",
       "2              3 2024-05-01 05:51:00       117         24        6         3   \n",
       "3              4 2024-05-01 08:47:00       124         38        1         3   \n",
       "4              5 2024-05-01 11:43:00       281         28        5         4   \n",
       "\n",
       "   Sales_Amount  \n",
       "0          5800  \n",
       "1           600  \n",
       "2          1300  \n",
       "3          6000  \n",
       "4          9400  "
      ]
     },
     "execution_count": 17,
     "metadata": {},
     "output_type": "execute_result"
    }
   ],
   "source": [
    "# LLMが回答(同じ結果になった)\n",
    "sales_df_llm_work['Sales_Amount'] = sales_df_llm_work['Sales_Amount'].round(-2)  # Round to the nearest 100\n",
    "sales_df_llm_work.head()"
   ]
  },
  {
   "cell_type": "markdown",
   "metadata": {
    "id": "XgxZiYGea4qW"
   },
   "source": [
    "10. 取引データからAmountが5000円を超える取引を抽出してください"
   ]
  },
  {
   "cell_type": "code",
   "execution_count": 18,
   "metadata": {},
   "outputs": [
    {
     "data": {
      "text/html": [
       "<div>\n",
       "<style scoped>\n",
       "    .dataframe tbody tr th:only-of-type {\n",
       "        vertical-align: middle;\n",
       "    }\n",
       "\n",
       "    .dataframe tbody tr th {\n",
       "        vertical-align: top;\n",
       "    }\n",
       "\n",
       "    .dataframe thead th {\n",
       "        text-align: right;\n",
       "    }\n",
       "</style>\n",
       "<table border=\"1\" class=\"dataframe\">\n",
       "  <thead>\n",
       "    <tr style=\"text-align: right;\">\n",
       "      <th></th>\n",
       "      <th>Transaction_ID</th>\n",
       "      <th>Transaction_Date</th>\n",
       "      <th>Member_ID</th>\n",
       "      <th>Product_ID</th>\n",
       "      <th>Store_ID</th>\n",
       "      <th>Quantity</th>\n",
       "      <th>Sales_Amount</th>\n",
       "    </tr>\n",
       "  </thead>\n",
       "  <tbody>\n",
       "    <tr>\n",
       "      <th>1</th>\n",
       "      <td>2</td>\n",
       "      <td>2024-05-01 02:55:00</td>\n",
       "      <td>107</td>\n",
       "      <td>23</td>\n",
       "      <td>17</td>\n",
       "      <td>1</td>\n",
       "      <td>600</td>\n",
       "    </tr>\n",
       "    <tr>\n",
       "      <th>2</th>\n",
       "      <td>3</td>\n",
       "      <td>2024-05-01 05:51:00</td>\n",
       "      <td>117</td>\n",
       "      <td>24</td>\n",
       "      <td>6</td>\n",
       "      <td>3</td>\n",
       "      <td>1300</td>\n",
       "    </tr>\n",
       "    <tr>\n",
       "      <th>11</th>\n",
       "      <td>12</td>\n",
       "      <td>2024-05-02 08:14:00</td>\n",
       "      <td>275</td>\n",
       "      <td>9</td>\n",
       "      <td>19</td>\n",
       "      <td>4</td>\n",
       "      <td>3700</td>\n",
       "    </tr>\n",
       "    <tr>\n",
       "      <th>14</th>\n",
       "      <td>15</td>\n",
       "      <td>2024-05-02 17:01:00</td>\n",
       "      <td>27</td>\n",
       "      <td>44</td>\n",
       "      <td>15</td>\n",
       "      <td>1</td>\n",
       "      <td>3300</td>\n",
       "    </tr>\n",
       "    <tr>\n",
       "      <th>16</th>\n",
       "      <td>17</td>\n",
       "      <td>2024-05-02 22:53:00</td>\n",
       "      <td>239</td>\n",
       "      <td>32</td>\n",
       "      <td>4</td>\n",
       "      <td>3</td>\n",
       "      <td>2700</td>\n",
       "    </tr>\n",
       "  </tbody>\n",
       "</table>\n",
       "</div>"
      ],
      "text/plain": [
       "   Transaction_ID    Transaction_Date Member_ID Product_ID Store_ID  Quantity  \\\n",
       "1               2 2024-05-01 02:55:00       107         23       17         1   \n",
       "2               3 2024-05-01 05:51:00       117         24        6         3   \n",
       "11             12 2024-05-02 08:14:00       275          9       19         4   \n",
       "14             15 2024-05-02 17:01:00        27         44       15         1   \n",
       "16             17 2024-05-02 22:53:00       239         32        4         3   \n",
       "\n",
       "    Sales_Amount  \n",
       "1            600  \n",
       "2           1300  \n",
       "11          3700  \n",
       "14          3300  \n",
       "16          2700  "
      ]
     },
     "execution_count": 18,
     "metadata": {},
     "output_type": "execute_result"
    }
   ],
   "source": [
    "sales_df_my_work[sales_df_my_work['Sales_Amount'] < 5000].head()"
   ]
  },
  {
   "cell_type": "markdown",
   "metadata": {
    "id": "X6y6OyXva98A"
   },
   "source": [
    "11. 会員データから30歳から50歳の会員を抽出してください"
   ]
  },
  {
   "cell_type": "code",
   "execution_count": 19,
   "metadata": {},
   "outputs": [
    {
     "name": "stdout",
     "output_type": "stream",
     "text": [
      "    Member_ID  Gender  Age  Days_Since_Registration\n",
      "3           4  Female   49                     1881\n",
      "8           9    Male   48                     1640\n",
      "9          10  Female   48                     1317\n",
      "12         13    Male   41                     1855\n",
      "13         14    Male   33                      928\n",
      "..        ...     ...  ...                      ...\n",
      "292       293  Female   35                      388\n",
      "293       294    Male   32                     1127\n",
      "295       296    Male   41                     1513\n",
      "298       299  Female   38                     1660\n",
      "299       300  Female   50                      104\n",
      "\n",
      "[114 rows x 4 columns]\n"
     ]
    }
   ],
   "source": [
    "# 自分の回答\n",
    "# member_df[30 <= member_df['Age'] <= 50].head() # この書き方はエラーになる。条件式は分ける必要がある。\n",
    "\n",
    "# 自分で調べた方法\n",
    "# filtered_df = member_df.query('30 <= Age <= 50')\n",
    "# print(filtered_df) # 同じ結果になる\n",
    "filtered_df = member_df.loc[(member_df['Age'] >= 30) & (member_df['Age'] <= 50)]\n",
    "print(filtered_df)"
   ]
  },
  {
   "cell_type": "code",
   "execution_count": 20,
   "metadata": {},
   "outputs": [
    {
     "data": {
      "text/html": [
       "<div>\n",
       "<style scoped>\n",
       "    .dataframe tbody tr th:only-of-type {\n",
       "        vertical-align: middle;\n",
       "    }\n",
       "\n",
       "    .dataframe tbody tr th {\n",
       "        vertical-align: top;\n",
       "    }\n",
       "\n",
       "    .dataframe thead th {\n",
       "        text-align: right;\n",
       "    }\n",
       "</style>\n",
       "<table border=\"1\" class=\"dataframe\">\n",
       "  <thead>\n",
       "    <tr style=\"text-align: right;\">\n",
       "      <th></th>\n",
       "      <th>Member_ID</th>\n",
       "      <th>Gender</th>\n",
       "      <th>Age</th>\n",
       "      <th>Days_Since_Registration</th>\n",
       "    </tr>\n",
       "  </thead>\n",
       "  <tbody>\n",
       "    <tr>\n",
       "      <th>3</th>\n",
       "      <td>4</td>\n",
       "      <td>Female</td>\n",
       "      <td>49</td>\n",
       "      <td>1881</td>\n",
       "    </tr>\n",
       "    <tr>\n",
       "      <th>8</th>\n",
       "      <td>9</td>\n",
       "      <td>Male</td>\n",
       "      <td>48</td>\n",
       "      <td>1640</td>\n",
       "    </tr>\n",
       "    <tr>\n",
       "      <th>9</th>\n",
       "      <td>10</td>\n",
       "      <td>Female</td>\n",
       "      <td>48</td>\n",
       "      <td>1317</td>\n",
       "    </tr>\n",
       "    <tr>\n",
       "      <th>12</th>\n",
       "      <td>13</td>\n",
       "      <td>Male</td>\n",
       "      <td>41</td>\n",
       "      <td>1855</td>\n",
       "    </tr>\n",
       "    <tr>\n",
       "      <th>13</th>\n",
       "      <td>14</td>\n",
       "      <td>Male</td>\n",
       "      <td>33</td>\n",
       "      <td>928</td>\n",
       "    </tr>\n",
       "    <tr>\n",
       "      <th>...</th>\n",
       "      <td>...</td>\n",
       "      <td>...</td>\n",
       "      <td>...</td>\n",
       "      <td>...</td>\n",
       "    </tr>\n",
       "    <tr>\n",
       "      <th>292</th>\n",
       "      <td>293</td>\n",
       "      <td>Female</td>\n",
       "      <td>35</td>\n",
       "      <td>388</td>\n",
       "    </tr>\n",
       "    <tr>\n",
       "      <th>293</th>\n",
       "      <td>294</td>\n",
       "      <td>Male</td>\n",
       "      <td>32</td>\n",
       "      <td>1127</td>\n",
       "    </tr>\n",
       "    <tr>\n",
       "      <th>295</th>\n",
       "      <td>296</td>\n",
       "      <td>Male</td>\n",
       "      <td>41</td>\n",
       "      <td>1513</td>\n",
       "    </tr>\n",
       "    <tr>\n",
       "      <th>298</th>\n",
       "      <td>299</td>\n",
       "      <td>Female</td>\n",
       "      <td>38</td>\n",
       "      <td>1660</td>\n",
       "    </tr>\n",
       "    <tr>\n",
       "      <th>299</th>\n",
       "      <td>300</td>\n",
       "      <td>Female</td>\n",
       "      <td>50</td>\n",
       "      <td>104</td>\n",
       "    </tr>\n",
       "  </tbody>\n",
       "</table>\n",
       "<p>114 rows × 4 columns</p>\n",
       "</div>"
      ],
      "text/plain": [
       "    Member_ID  Gender  Age  Days_Since_Registration\n",
       "3           4  Female   49                     1881\n",
       "8           9    Male   48                     1640\n",
       "9          10  Female   48                     1317\n",
       "12         13    Male   41                     1855\n",
       "13         14    Male   33                      928\n",
       "..        ...     ...  ...                      ...\n",
       "292       293  Female   35                      388\n",
       "293       294    Male   32                     1127\n",
       "295       296    Male   41                     1513\n",
       "298       299  Female   38                     1660\n",
       "299       300  Female   50                      104\n",
       "\n",
       "[114 rows x 4 columns]"
      ]
     },
     "execution_count": 20,
     "metadata": {},
     "output_type": "execute_result"
    }
   ],
   "source": [
    "# LLMが回答\n",
    "member_df[(member_df['Age'] >= 30) & (member_df['Age'] <= 50)]"
   ]
  },
  {
   "cell_type": "markdown",
   "metadata": {
    "id": "bLPVEfXsbIiT"
   },
   "source": [
    "12. 取引データから\"2024-08-01\"以降に行われた取引を抽出してください"
   ]
  },
  {
   "cell_type": "code",
   "execution_count": 21,
   "metadata": {},
   "outputs": [
    {
     "data": {
      "text/html": [
       "<div>\n",
       "<style scoped>\n",
       "    .dataframe tbody tr th:only-of-type {\n",
       "        vertical-align: middle;\n",
       "    }\n",
       "\n",
       "    .dataframe tbody tr th {\n",
       "        vertical-align: top;\n",
       "    }\n",
       "\n",
       "    .dataframe thead th {\n",
       "        text-align: right;\n",
       "    }\n",
       "</style>\n",
       "<table border=\"1\" class=\"dataframe\">\n",
       "  <thead>\n",
       "    <tr style=\"text-align: right;\">\n",
       "      <th></th>\n",
       "      <th>Transaction_ID</th>\n",
       "      <th>Transaction_Date</th>\n",
       "      <th>Member_ID</th>\n",
       "      <th>Product_ID</th>\n",
       "      <th>Store_ID</th>\n",
       "      <th>Quantity</th>\n",
       "      <th>Sales_Amount</th>\n",
       "    </tr>\n",
       "  </thead>\n",
       "  <tbody>\n",
       "    <tr>\n",
       "      <th>754</th>\n",
       "      <td>755</td>\n",
       "      <td>2024-08-01 01:55:00</td>\n",
       "      <td>226</td>\n",
       "      <td>17</td>\n",
       "      <td>14</td>\n",
       "      <td>4</td>\n",
       "      <td>8600</td>\n",
       "    </tr>\n",
       "    <tr>\n",
       "      <th>755</th>\n",
       "      <td>756</td>\n",
       "      <td>2024-08-01 04:51:00</td>\n",
       "      <td>131</td>\n",
       "      <td>18</td>\n",
       "      <td>18</td>\n",
       "      <td>3</td>\n",
       "      <td>1000</td>\n",
       "    </tr>\n",
       "    <tr>\n",
       "      <th>756</th>\n",
       "      <td>757</td>\n",
       "      <td>2024-08-01 07:47:00</td>\n",
       "      <td>76</td>\n",
       "      <td>45</td>\n",
       "      <td>13</td>\n",
       "      <td>3</td>\n",
       "      <td>1900</td>\n",
       "    </tr>\n",
       "    <tr>\n",
       "      <th>757</th>\n",
       "      <td>758</td>\n",
       "      <td>2024-08-01 10:42:00</td>\n",
       "      <td>286</td>\n",
       "      <td>29</td>\n",
       "      <td>11</td>\n",
       "      <td>1</td>\n",
       "      <td>4400</td>\n",
       "    </tr>\n",
       "    <tr>\n",
       "      <th>758</th>\n",
       "      <td>759</td>\n",
       "      <td>2024-08-01 13:38:00</td>\n",
       "      <td>277</td>\n",
       "      <td>20</td>\n",
       "      <td>16</td>\n",
       "      <td>1</td>\n",
       "      <td>5100</td>\n",
       "    </tr>\n",
       "    <tr>\n",
       "      <th>...</th>\n",
       "      <td>...</td>\n",
       "      <td>...</td>\n",
       "      <td>...</td>\n",
       "      <td>...</td>\n",
       "      <td>...</td>\n",
       "      <td>...</td>\n",
       "      <td>...</td>\n",
       "    </tr>\n",
       "    <tr>\n",
       "      <th>995</th>\n",
       "      <td>996</td>\n",
       "      <td>2024-08-30 12:16:00</td>\n",
       "      <td>213</td>\n",
       "      <td>33</td>\n",
       "      <td>15</td>\n",
       "      <td>3</td>\n",
       "      <td>8400</td>\n",
       "    </tr>\n",
       "    <tr>\n",
       "      <th>996</th>\n",
       "      <td>997</td>\n",
       "      <td>2024-08-30 15:12:00</td>\n",
       "      <td>62</td>\n",
       "      <td>49</td>\n",
       "      <td>19</td>\n",
       "      <td>3</td>\n",
       "      <td>3900</td>\n",
       "    </tr>\n",
       "    <tr>\n",
       "      <th>997</th>\n",
       "      <td>998</td>\n",
       "      <td>2024-08-30 18:08:00</td>\n",
       "      <td>49</td>\n",
       "      <td>12</td>\n",
       "      <td>11</td>\n",
       "      <td>4</td>\n",
       "      <td>2500</td>\n",
       "    </tr>\n",
       "    <tr>\n",
       "      <th>998</th>\n",
       "      <td>999</td>\n",
       "      <td>2024-08-30 21:04:00</td>\n",
       "      <td>127</td>\n",
       "      <td>11</td>\n",
       "      <td>15</td>\n",
       "      <td>3</td>\n",
       "      <td>4200</td>\n",
       "    </tr>\n",
       "    <tr>\n",
       "      <th>999</th>\n",
       "      <td>1000</td>\n",
       "      <td>2024-08-31 00:00:00</td>\n",
       "      <td>223</td>\n",
       "      <td>5</td>\n",
       "      <td>12</td>\n",
       "      <td>2</td>\n",
       "      <td>7500</td>\n",
       "    </tr>\n",
       "  </tbody>\n",
       "</table>\n",
       "<p>246 rows × 7 columns</p>\n",
       "</div>"
      ],
      "text/plain": [
       "    Transaction_ID    Transaction_Date Member_ID Product_ID Store_ID  \\\n",
       "754            755 2024-08-01 01:55:00       226         17       14   \n",
       "755            756 2024-08-01 04:51:00       131         18       18   \n",
       "756            757 2024-08-01 07:47:00        76         45       13   \n",
       "757            758 2024-08-01 10:42:00       286         29       11   \n",
       "758            759 2024-08-01 13:38:00       277         20       16   \n",
       "..             ...                 ...       ...        ...      ...   \n",
       "995            996 2024-08-30 12:16:00       213         33       15   \n",
       "996            997 2024-08-30 15:12:00        62         49       19   \n",
       "997            998 2024-08-30 18:08:00        49         12       11   \n",
       "998            999 2024-08-30 21:04:00       127         11       15   \n",
       "999           1000 2024-08-31 00:00:00       223          5       12   \n",
       "\n",
       "     Quantity  Sales_Amount  \n",
       "754         4          8600  \n",
       "755         3          1000  \n",
       "756         3          1900  \n",
       "757         1          4400  \n",
       "758         1          5100  \n",
       "..        ...           ...  \n",
       "995         3          8400  \n",
       "996         3          3900  \n",
       "997         4          2500  \n",
       "998         3          4200  \n",
       "999         2          7500  \n",
       "\n",
       "[246 rows x 7 columns]"
      ]
     },
     "execution_count": 21,
     "metadata": {},
     "output_type": "execute_result"
    }
   ],
   "source": [
    "# 自分の回答\n",
    "sales_df_my_work[sales_df_my_work['Transaction_Date'] > '2024-08-01']"
   ]
  },
  {
   "cell_type": "code",
   "execution_count": 22,
   "metadata": {},
   "outputs": [
    {
     "data": {
      "text/html": [
       "<div>\n",
       "<style scoped>\n",
       "    .dataframe tbody tr th:only-of-type {\n",
       "        vertical-align: middle;\n",
       "    }\n",
       "\n",
       "    .dataframe tbody tr th {\n",
       "        vertical-align: top;\n",
       "    }\n",
       "\n",
       "    .dataframe thead th {\n",
       "        text-align: right;\n",
       "    }\n",
       "</style>\n",
       "<table border=\"1\" class=\"dataframe\">\n",
       "  <thead>\n",
       "    <tr style=\"text-align: right;\">\n",
       "      <th></th>\n",
       "      <th>Transaction_ID</th>\n",
       "      <th>Transaction_Date</th>\n",
       "      <th>Member_ID</th>\n",
       "      <th>Product_ID</th>\n",
       "      <th>Store_ID</th>\n",
       "      <th>Quantity</th>\n",
       "      <th>Sales_Amount</th>\n",
       "    </tr>\n",
       "  </thead>\n",
       "  <tbody>\n",
       "    <tr>\n",
       "      <th>754</th>\n",
       "      <td>755</td>\n",
       "      <td>2024-08-01 01:55:00</td>\n",
       "      <td>226</td>\n",
       "      <td>17</td>\n",
       "      <td>14</td>\n",
       "      <td>4</td>\n",
       "      <td>8600</td>\n",
       "    </tr>\n",
       "    <tr>\n",
       "      <th>755</th>\n",
       "      <td>756</td>\n",
       "      <td>2024-08-01 04:51:00</td>\n",
       "      <td>131</td>\n",
       "      <td>18</td>\n",
       "      <td>18</td>\n",
       "      <td>3</td>\n",
       "      <td>1000</td>\n",
       "    </tr>\n",
       "    <tr>\n",
       "      <th>756</th>\n",
       "      <td>757</td>\n",
       "      <td>2024-08-01 07:47:00</td>\n",
       "      <td>76</td>\n",
       "      <td>45</td>\n",
       "      <td>13</td>\n",
       "      <td>3</td>\n",
       "      <td>1900</td>\n",
       "    </tr>\n",
       "    <tr>\n",
       "      <th>757</th>\n",
       "      <td>758</td>\n",
       "      <td>2024-08-01 10:42:00</td>\n",
       "      <td>286</td>\n",
       "      <td>29</td>\n",
       "      <td>11</td>\n",
       "      <td>1</td>\n",
       "      <td>4400</td>\n",
       "    </tr>\n",
       "    <tr>\n",
       "      <th>758</th>\n",
       "      <td>759</td>\n",
       "      <td>2024-08-01 13:38:00</td>\n",
       "      <td>277</td>\n",
       "      <td>20</td>\n",
       "      <td>16</td>\n",
       "      <td>1</td>\n",
       "      <td>5100</td>\n",
       "    </tr>\n",
       "    <tr>\n",
       "      <th>...</th>\n",
       "      <td>...</td>\n",
       "      <td>...</td>\n",
       "      <td>...</td>\n",
       "      <td>...</td>\n",
       "      <td>...</td>\n",
       "      <td>...</td>\n",
       "      <td>...</td>\n",
       "    </tr>\n",
       "    <tr>\n",
       "      <th>995</th>\n",
       "      <td>996</td>\n",
       "      <td>2024-08-30 12:16:00</td>\n",
       "      <td>213</td>\n",
       "      <td>33</td>\n",
       "      <td>15</td>\n",
       "      <td>3</td>\n",
       "      <td>8400</td>\n",
       "    </tr>\n",
       "    <tr>\n",
       "      <th>996</th>\n",
       "      <td>997</td>\n",
       "      <td>2024-08-30 15:12:00</td>\n",
       "      <td>62</td>\n",
       "      <td>49</td>\n",
       "      <td>19</td>\n",
       "      <td>3</td>\n",
       "      <td>3900</td>\n",
       "    </tr>\n",
       "    <tr>\n",
       "      <th>997</th>\n",
       "      <td>998</td>\n",
       "      <td>2024-08-30 18:08:00</td>\n",
       "      <td>49</td>\n",
       "      <td>12</td>\n",
       "      <td>11</td>\n",
       "      <td>4</td>\n",
       "      <td>2500</td>\n",
       "    </tr>\n",
       "    <tr>\n",
       "      <th>998</th>\n",
       "      <td>999</td>\n",
       "      <td>2024-08-30 21:04:00</td>\n",
       "      <td>127</td>\n",
       "      <td>11</td>\n",
       "      <td>15</td>\n",
       "      <td>3</td>\n",
       "      <td>4200</td>\n",
       "    </tr>\n",
       "    <tr>\n",
       "      <th>999</th>\n",
       "      <td>1000</td>\n",
       "      <td>2024-08-31 00:00:00</td>\n",
       "      <td>223</td>\n",
       "      <td>5</td>\n",
       "      <td>12</td>\n",
       "      <td>2</td>\n",
       "      <td>7500</td>\n",
       "    </tr>\n",
       "  </tbody>\n",
       "</table>\n",
       "<p>246 rows × 7 columns</p>\n",
       "</div>"
      ],
      "text/plain": [
       "    Transaction_ID    Transaction_Date Member_ID Product_ID Store_ID  \\\n",
       "754            755 2024-08-01 01:55:00       226         17       14   \n",
       "755            756 2024-08-01 04:51:00       131         18       18   \n",
       "756            757 2024-08-01 07:47:00        76         45       13   \n",
       "757            758 2024-08-01 10:42:00       286         29       11   \n",
       "758            759 2024-08-01 13:38:00       277         20       16   \n",
       "..             ...                 ...       ...        ...      ...   \n",
       "995            996 2024-08-30 12:16:00       213         33       15   \n",
       "996            997 2024-08-30 15:12:00        62         49       19   \n",
       "997            998 2024-08-30 18:08:00        49         12       11   \n",
       "998            999 2024-08-30 21:04:00       127         11       15   \n",
       "999           1000 2024-08-31 00:00:00       223          5       12   \n",
       "\n",
       "     Quantity  Sales_Amount  \n",
       "754         4          8600  \n",
       "755         3          1000  \n",
       "756         3          1900  \n",
       "757         1          4400  \n",
       "758         1          5100  \n",
       "..        ...           ...  \n",
       "995         3          8400  \n",
       "996         3          3900  \n",
       "997         4          2500  \n",
       "998         3          4200  \n",
       "999         2          7500  \n",
       "\n",
       "[246 rows x 7 columns]"
      ]
     },
     "execution_count": 22,
     "metadata": {},
     "output_type": "execute_result"
    }
   ],
   "source": [
    "# LLMの回答\n",
    "sales_df_llm_work[sales_df_llm_work['Transaction_Date'] >= '2024-08-01'] # >=以外は自分の回答と同じ"
   ]
  },
  {
   "cell_type": "markdown",
   "metadata": {
    "id": "QLuM5Cr6mNNt"
   },
   "source": [
    "13. Store_ID が「1」または「3」で、かつ Amount が5000円以上の取引を抽出してください"
   ]
  },
  {
   "cell_type": "code",
   "execution_count": 23,
   "metadata": {},
   "outputs": [
    {
     "data": {
      "text/html": [
       "<div>\n",
       "<style scoped>\n",
       "    .dataframe tbody tr th:only-of-type {\n",
       "        vertical-align: middle;\n",
       "    }\n",
       "\n",
       "    .dataframe tbody tr th {\n",
       "        vertical-align: top;\n",
       "    }\n",
       "\n",
       "    .dataframe thead th {\n",
       "        text-align: right;\n",
       "    }\n",
       "</style>\n",
       "<table border=\"1\" class=\"dataframe\">\n",
       "  <thead>\n",
       "    <tr style=\"text-align: right;\">\n",
       "      <th></th>\n",
       "      <th>Transaction_ID</th>\n",
       "      <th>Transaction_Date</th>\n",
       "      <th>Member_ID</th>\n",
       "      <th>Product_ID</th>\n",
       "      <th>Store_ID</th>\n",
       "      <th>Quantity</th>\n",
       "      <th>Sales_Amount</th>\n",
       "    </tr>\n",
       "  </thead>\n",
       "  <tbody>\n",
       "    <tr>\n",
       "      <th>3</th>\n",
       "      <td>4</td>\n",
       "      <td>2024-05-01 08:47:00</td>\n",
       "      <td>124</td>\n",
       "      <td>38</td>\n",
       "      <td>1</td>\n",
       "      <td>3</td>\n",
       "      <td>6000</td>\n",
       "    </tr>\n",
       "    <tr>\n",
       "      <th>7</th>\n",
       "      <td>8</td>\n",
       "      <td>2024-05-01 20:30:00</td>\n",
       "      <td>51</td>\n",
       "      <td>18</td>\n",
       "      <td>1</td>\n",
       "      <td>4</td>\n",
       "      <td>5500</td>\n",
       "    </tr>\n",
       "    <tr>\n",
       "      <th>17</th>\n",
       "      <td>18</td>\n",
       "      <td>2024-05-03 01:49:00</td>\n",
       "      <td>156</td>\n",
       "      <td>3</td>\n",
       "      <td>1</td>\n",
       "      <td>3</td>\n",
       "      <td>7600</td>\n",
       "    </tr>\n",
       "    <tr>\n",
       "      <th>61</th>\n",
       "      <td>62</td>\n",
       "      <td>2024-05-08 10:47:00</td>\n",
       "      <td>50</td>\n",
       "      <td>38</td>\n",
       "      <td>3</td>\n",
       "      <td>4</td>\n",
       "      <td>6500</td>\n",
       "    </tr>\n",
       "    <tr>\n",
       "      <th>65</th>\n",
       "      <td>66</td>\n",
       "      <td>2024-05-08 22:30:00</td>\n",
       "      <td>60</td>\n",
       "      <td>49</td>\n",
       "      <td>3</td>\n",
       "      <td>2</td>\n",
       "      <td>5800</td>\n",
       "    </tr>\n",
       "    <tr>\n",
       "      <th>...</th>\n",
       "      <td>...</td>\n",
       "      <td>...</td>\n",
       "      <td>...</td>\n",
       "      <td>...</td>\n",
       "      <td>...</td>\n",
       "      <td>...</td>\n",
       "      <td>...</td>\n",
       "    </tr>\n",
       "    <tr>\n",
       "      <th>942</th>\n",
       "      <td>943</td>\n",
       "      <td>2024-08-24 00:56:00</td>\n",
       "      <td>1</td>\n",
       "      <td>4</td>\n",
       "      <td>1</td>\n",
       "      <td>2</td>\n",
       "      <td>3800</td>\n",
       "    </tr>\n",
       "    <tr>\n",
       "      <th>946</th>\n",
       "      <td>947</td>\n",
       "      <td>2024-08-24 12:39:00</td>\n",
       "      <td>72</td>\n",
       "      <td>43</td>\n",
       "      <td>1</td>\n",
       "      <td>2</td>\n",
       "      <td>7600</td>\n",
       "    </tr>\n",
       "    <tr>\n",
       "      <th>947</th>\n",
       "      <td>948</td>\n",
       "      <td>2024-08-24 15:35:00</td>\n",
       "      <td>109</td>\n",
       "      <td>35</td>\n",
       "      <td>1</td>\n",
       "      <td>1</td>\n",
       "      <td>9100</td>\n",
       "    </tr>\n",
       "    <tr>\n",
       "      <th>953</th>\n",
       "      <td>954</td>\n",
       "      <td>2024-08-25 09:10:00</td>\n",
       "      <td>8</td>\n",
       "      <td>4</td>\n",
       "      <td>3</td>\n",
       "      <td>2</td>\n",
       "      <td>7300</td>\n",
       "    </tr>\n",
       "    <tr>\n",
       "      <th>968</th>\n",
       "      <td>969</td>\n",
       "      <td>2024-08-27 05:08:00</td>\n",
       "      <td>225</td>\n",
       "      <td>13</td>\n",
       "      <td>3</td>\n",
       "      <td>2</td>\n",
       "      <td>6800</td>\n",
       "    </tr>\n",
       "  </tbody>\n",
       "</table>\n",
       "<p>73 rows × 7 columns</p>\n",
       "</div>"
      ],
      "text/plain": [
       "    Transaction_ID    Transaction_Date Member_ID Product_ID Store_ID  \\\n",
       "3                4 2024-05-01 08:47:00       124         38        1   \n",
       "7                8 2024-05-01 20:30:00        51         18        1   \n",
       "17              18 2024-05-03 01:49:00       156          3        1   \n",
       "61              62 2024-05-08 10:47:00        50         38        3   \n",
       "65              66 2024-05-08 22:30:00        60         49        3   \n",
       "..             ...                 ...       ...        ...      ...   \n",
       "942            943 2024-08-24 00:56:00         1          4        1   \n",
       "946            947 2024-08-24 12:39:00        72         43        1   \n",
       "947            948 2024-08-24 15:35:00       109         35        1   \n",
       "953            954 2024-08-25 09:10:00         8          4        3   \n",
       "968            969 2024-08-27 05:08:00       225         13        3   \n",
       "\n",
       "     Quantity  Sales_Amount  \n",
       "3           3          6000  \n",
       "7           4          5500  \n",
       "17          3          7600  \n",
       "61          4          6500  \n",
       "65          2          5800  \n",
       "..        ...           ...  \n",
       "942         2          3800  \n",
       "946         2          7600  \n",
       "947         1          9100  \n",
       "953         2          7300  \n",
       "968         2          6800  \n",
       "\n",
       "[73 rows x 7 columns]"
      ]
     },
     "execution_count": 23,
     "metadata": {},
     "output_type": "execute_result"
    }
   ],
   "source": [
    "# sales_df_my_work['Store_ID'].nunique()\n",
    "sales_df_my_work[(sales_df_my_work['Store_ID'] == 1) | (sales_df_my_work['Store_ID'] == 3) & (sales_df_my_work['Sales_Amount'] >= 5000)]"
   ]
  },
  {
   "cell_type": "markdown",
   "metadata": {
    "id": "8ZUt4l7kmoaG"
   },
   "source": [
    "14. Product_ID が「10」、「20」、「30」のいずれかに一致する取引を抽出してください"
   ]
  },
  {
   "cell_type": "code",
   "execution_count": 24,
   "metadata": {},
   "outputs": [
    {
     "data": {
      "text/html": [
       "<div>\n",
       "<style scoped>\n",
       "    .dataframe tbody tr th:only-of-type {\n",
       "        vertical-align: middle;\n",
       "    }\n",
       "\n",
       "    .dataframe tbody tr th {\n",
       "        vertical-align: top;\n",
       "    }\n",
       "\n",
       "    .dataframe thead th {\n",
       "        text-align: right;\n",
       "    }\n",
       "</style>\n",
       "<table border=\"1\" class=\"dataframe\">\n",
       "  <thead>\n",
       "    <tr style=\"text-align: right;\">\n",
       "      <th></th>\n",
       "      <th>Transaction_ID</th>\n",
       "      <th>Transaction_Date</th>\n",
       "      <th>Member_ID</th>\n",
       "      <th>Product_ID</th>\n",
       "      <th>Store_ID</th>\n",
       "      <th>Quantity</th>\n",
       "      <th>Sales_Amount</th>\n",
       "    </tr>\n",
       "  </thead>\n",
       "  <tbody>\n",
       "    <tr>\n",
       "      <th>13</th>\n",
       "      <td>14</td>\n",
       "      <td>2024-05-02 14:06:00</td>\n",
       "      <td>52</td>\n",
       "      <td>30</td>\n",
       "      <td>2</td>\n",
       "      <td>1</td>\n",
       "      <td>8600</td>\n",
       "    </tr>\n",
       "    <tr>\n",
       "      <th>41</th>\n",
       "      <td>42</td>\n",
       "      <td>2024-05-06 00:10:00</td>\n",
       "      <td>47</td>\n",
       "      <td>20</td>\n",
       "      <td>12</td>\n",
       "      <td>1</td>\n",
       "      <td>3100</td>\n",
       "    </tr>\n",
       "    <tr>\n",
       "      <th>44</th>\n",
       "      <td>45</td>\n",
       "      <td>2024-05-06 08:57:00</td>\n",
       "      <td>277</td>\n",
       "      <td>10</td>\n",
       "      <td>10</td>\n",
       "      <td>4</td>\n",
       "      <td>6900</td>\n",
       "    </tr>\n",
       "    <tr>\n",
       "      <th>69</th>\n",
       "      <td>70</td>\n",
       "      <td>2024-05-09 10:14:00</td>\n",
       "      <td>164</td>\n",
       "      <td>30</td>\n",
       "      <td>9</td>\n",
       "      <td>3</td>\n",
       "      <td>4600</td>\n",
       "    </tr>\n",
       "    <tr>\n",
       "      <th>84</th>\n",
       "      <td>85</td>\n",
       "      <td>2024-05-11 06:11:00</td>\n",
       "      <td>138</td>\n",
       "      <td>30</td>\n",
       "      <td>2</td>\n",
       "      <td>3</td>\n",
       "      <td>1800</td>\n",
       "    </tr>\n",
       "  </tbody>\n",
       "</table>\n",
       "</div>"
      ],
      "text/plain": [
       "   Transaction_ID    Transaction_Date Member_ID Product_ID Store_ID  Quantity  \\\n",
       "13             14 2024-05-02 14:06:00        52         30        2         1   \n",
       "41             42 2024-05-06 00:10:00        47         20       12         1   \n",
       "44             45 2024-05-06 08:57:00       277         10       10         4   \n",
       "69             70 2024-05-09 10:14:00       164         30        9         3   \n",
       "84             85 2024-05-11 06:11:00       138         30        2         3   \n",
       "\n",
       "    Sales_Amount  \n",
       "13          8600  \n",
       "41          3100  \n",
       "44          6900  \n",
       "69          4600  \n",
       "84          1800  "
      ]
     },
     "execution_count": 24,
     "metadata": {},
     "output_type": "execute_result"
    }
   ],
   "source": [
    "# 自分の回答\n",
    "# sales_df_my_work[sales_df_my_work['Product_ID'] in ['10', '20', '30']] # この書き方はエラーになる。inの使い方が間違っている。\n",
    "\n",
    "# 自分で調べた方法\n",
    "sales_df_my_work[sales_df_my_work['Product_ID'].isin([10, 20, 30])].head()\n",
    "# sales_df_my_work.query(\"Product_ID in [10, 20, 30]\").head() # 上記と同じ結果になる\n",
    "\n",
    "# '10'ではなく、10という部分も間違っていたので、修正"
   ]
  },
  {
   "cell_type": "code",
   "execution_count": 25,
   "metadata": {},
   "outputs": [
    {
     "data": {
      "text/html": [
       "<div>\n",
       "<style scoped>\n",
       "    .dataframe tbody tr th:only-of-type {\n",
       "        vertical-align: middle;\n",
       "    }\n",
       "\n",
       "    .dataframe tbody tr th {\n",
       "        vertical-align: top;\n",
       "    }\n",
       "\n",
       "    .dataframe thead th {\n",
       "        text-align: right;\n",
       "    }\n",
       "</style>\n",
       "<table border=\"1\" class=\"dataframe\">\n",
       "  <thead>\n",
       "    <tr style=\"text-align: right;\">\n",
       "      <th></th>\n",
       "      <th>Transaction_ID</th>\n",
       "      <th>Transaction_Date</th>\n",
       "      <th>Member_ID</th>\n",
       "      <th>Product_ID</th>\n",
       "      <th>Store_ID</th>\n",
       "      <th>Quantity</th>\n",
       "      <th>Sales_Amount</th>\n",
       "    </tr>\n",
       "  </thead>\n",
       "  <tbody>\n",
       "    <tr>\n",
       "      <th>13</th>\n",
       "      <td>14</td>\n",
       "      <td>2024-05-02 14:06:00</td>\n",
       "      <td>52</td>\n",
       "      <td>30</td>\n",
       "      <td>2</td>\n",
       "      <td>1</td>\n",
       "      <td>8600</td>\n",
       "    </tr>\n",
       "    <tr>\n",
       "      <th>41</th>\n",
       "      <td>42</td>\n",
       "      <td>2024-05-06 00:10:00</td>\n",
       "      <td>47</td>\n",
       "      <td>20</td>\n",
       "      <td>12</td>\n",
       "      <td>1</td>\n",
       "      <td>3100</td>\n",
       "    </tr>\n",
       "    <tr>\n",
       "      <th>44</th>\n",
       "      <td>45</td>\n",
       "      <td>2024-05-06 08:57:00</td>\n",
       "      <td>277</td>\n",
       "      <td>10</td>\n",
       "      <td>10</td>\n",
       "      <td>4</td>\n",
       "      <td>6900</td>\n",
       "    </tr>\n",
       "    <tr>\n",
       "      <th>69</th>\n",
       "      <td>70</td>\n",
       "      <td>2024-05-09 10:14:00</td>\n",
       "      <td>164</td>\n",
       "      <td>30</td>\n",
       "      <td>9</td>\n",
       "      <td>3</td>\n",
       "      <td>4600</td>\n",
       "    </tr>\n",
       "    <tr>\n",
       "      <th>84</th>\n",
       "      <td>85</td>\n",
       "      <td>2024-05-11 06:11:00</td>\n",
       "      <td>138</td>\n",
       "      <td>30</td>\n",
       "      <td>2</td>\n",
       "      <td>3</td>\n",
       "      <td>1800</td>\n",
       "    </tr>\n",
       "  </tbody>\n",
       "</table>\n",
       "</div>"
      ],
      "text/plain": [
       "   Transaction_ID    Transaction_Date Member_ID Product_ID Store_ID  Quantity  \\\n",
       "13             14 2024-05-02 14:06:00        52         30        2         1   \n",
       "41             42 2024-05-06 00:10:00        47         20       12         1   \n",
       "44             45 2024-05-06 08:57:00       277         10       10         4   \n",
       "69             70 2024-05-09 10:14:00       164         30        9         3   \n",
       "84             85 2024-05-11 06:11:00       138         30        2         3   \n",
       "\n",
       "    Sales_Amount  \n",
       "13          8600  \n",
       "41          3100  \n",
       "44          6900  \n",
       "69          4600  \n",
       "84          1800  "
      ]
     },
     "execution_count": 25,
     "metadata": {},
     "output_type": "execute_result"
    }
   ],
   "source": [
    "# LLMの回答\n",
    "sales_df_llm_work[sales_df_llm_work['Product_ID'].isin([10, 20, 30])].head()"
   ]
  },
  {
   "cell_type": "code",
   "execution_count": 26,
   "metadata": {},
   "outputs": [],
   "source": [
    "# type(sales_df_my_work['Product_ID'][0])\n",
    "# sales_df_my_work.info()\n",
    "# sales_df_my_work['Product_ID'] = sales_df_my_work['Product_ID'].astype(int)\n",
    "\n",
    "# sales_df_my_work['Product_ID'].dtype # categories_dtype=int64\n",
    "# sales_df_my_work['Quantity'].dtype # dtype('int64')"
   ]
  },
  {
   "cell_type": "markdown",
   "metadata": {
    "id": "cZ6y5vt5myJI"
   },
   "source": [
    "15. Product_ID が「10」、「20」、「30」ではない取引を抽出してください"
   ]
  },
  {
   "cell_type": "code",
   "execution_count": 27,
   "metadata": {},
   "outputs": [
    {
     "data": {
      "text/html": [
       "<div>\n",
       "<style scoped>\n",
       "    .dataframe tbody tr th:only-of-type {\n",
       "        vertical-align: middle;\n",
       "    }\n",
       "\n",
       "    .dataframe tbody tr th {\n",
       "        vertical-align: top;\n",
       "    }\n",
       "\n",
       "    .dataframe thead th {\n",
       "        text-align: right;\n",
       "    }\n",
       "</style>\n",
       "<table border=\"1\" class=\"dataframe\">\n",
       "  <thead>\n",
       "    <tr style=\"text-align: right;\">\n",
       "      <th></th>\n",
       "      <th>Transaction_ID</th>\n",
       "      <th>Transaction_Date</th>\n",
       "      <th>Member_ID</th>\n",
       "      <th>Product_ID</th>\n",
       "      <th>Store_ID</th>\n",
       "      <th>Quantity</th>\n",
       "      <th>Sales_Amount</th>\n",
       "    </tr>\n",
       "  </thead>\n",
       "  <tbody>\n",
       "    <tr>\n",
       "      <th>0</th>\n",
       "      <td>1</td>\n",
       "      <td>2024-05-01 00:00:00</td>\n",
       "      <td>21</td>\n",
       "      <td>25</td>\n",
       "      <td>12</td>\n",
       "      <td>3</td>\n",
       "      <td>5800</td>\n",
       "    </tr>\n",
       "    <tr>\n",
       "      <th>1</th>\n",
       "      <td>2</td>\n",
       "      <td>2024-05-01 02:55:00</td>\n",
       "      <td>107</td>\n",
       "      <td>23</td>\n",
       "      <td>17</td>\n",
       "      <td>1</td>\n",
       "      <td>600</td>\n",
       "    </tr>\n",
       "    <tr>\n",
       "      <th>2</th>\n",
       "      <td>3</td>\n",
       "      <td>2024-05-01 05:51:00</td>\n",
       "      <td>117</td>\n",
       "      <td>24</td>\n",
       "      <td>6</td>\n",
       "      <td>3</td>\n",
       "      <td>1300</td>\n",
       "    </tr>\n",
       "    <tr>\n",
       "      <th>3</th>\n",
       "      <td>4</td>\n",
       "      <td>2024-05-01 08:47:00</td>\n",
       "      <td>124</td>\n",
       "      <td>38</td>\n",
       "      <td>1</td>\n",
       "      <td>3</td>\n",
       "      <td>6000</td>\n",
       "    </tr>\n",
       "    <tr>\n",
       "      <th>4</th>\n",
       "      <td>5</td>\n",
       "      <td>2024-05-01 11:43:00</td>\n",
       "      <td>281</td>\n",
       "      <td>28</td>\n",
       "      <td>5</td>\n",
       "      <td>4</td>\n",
       "      <td>9400</td>\n",
       "    </tr>\n",
       "  </tbody>\n",
       "</table>\n",
       "</div>"
      ],
      "text/plain": [
       "  Transaction_ID    Transaction_Date Member_ID Product_ID Store_ID  Quantity  \\\n",
       "0              1 2024-05-01 00:00:00        21         25       12         3   \n",
       "1              2 2024-05-01 02:55:00       107         23       17         1   \n",
       "2              3 2024-05-01 05:51:00       117         24        6         3   \n",
       "3              4 2024-05-01 08:47:00       124         38        1         3   \n",
       "4              5 2024-05-01 11:43:00       281         28        5         4   \n",
       "\n",
       "   Sales_Amount  \n",
       "0          5800  \n",
       "1           600  \n",
       "2          1300  \n",
       "3          6000  \n",
       "4          9400  "
      ]
     },
     "execution_count": 27,
     "metadata": {},
     "output_type": "execute_result"
    }
   ],
   "source": [
    "# 自分で調べた方法\n",
    "sales_df_my_work[~sales_df_my_work['Product_ID'].isin([10, 20, 30])].head()\n",
    "# sales_df_my_work.query(\"Product_ID not in [10, 20, 30]\").head() # 上記と同じ結果になる"
   ]
  },
  {
   "cell_type": "markdown",
   "metadata": {
    "id": "zrPRkAHWm-zi"
   },
   "source": [
    "16. Quantity が最頻値で、かつ Store_ID が「3」の取引を抽出してください"
   ]
  },
  {
   "cell_type": "code",
   "execution_count": 28,
   "metadata": {},
   "outputs": [
    {
     "name": "stdout",
     "output_type": "stream",
     "text": [
      "    Transaction_ID    Transaction_Date Member_ID Product_ID Store_ID  \\\n",
      "43              44 2024-05-06 06:01:00       118         29        3   \n",
      "61              62 2024-05-08 10:47:00        50         38        3   \n",
      "109            110 2024-05-14 07:28:00       229         49        3   \n",
      "383            384 2024-06-16 18:32:00       269         44        3   \n",
      "446            447 2024-06-24 11:11:00       108         13        3   \n",
      "472            473 2024-06-27 15:23:00        14         44        3   \n",
      "491            492 2024-06-29 23:05:00       202         38        3   \n",
      "710            711 2024-07-26 16:57:00       114         36        3   \n",
      "808            809 2024-08-07 16:11:00        46         48        3   \n",
      "908            909 2024-08-19 21:17:00        93          2        3   \n",
      "\n",
      "     Quantity  Sales_Amount  \n",
      "43          4          4800  \n",
      "61          4          6500  \n",
      "109         4          9800  \n",
      "383         4          4300  \n",
      "446         4          7800  \n",
      "472         4          3500  \n",
      "491         4          8000  \n",
      "710         4          9700  \n",
      "808         4          5100  \n",
      "908         4          2100  \n"
     ]
    }
   ],
   "source": [
    "# 自分で調べた方法\n",
    "# sales_df_my_work['Quantity'].nunique()\n",
    "# sales_df_my_work['Quantity'].value_counts()\n",
    "# sales_df_my_work['Quantity'].mode()[0] # 4が最も多い\n",
    "\n",
    "# [0]とiloc[0]は同じだが可読性向上する\n",
    "\n",
    "# Quantityの最頻値を求める\n",
    "mode_quantity = sales_df_my_work['Quantity'].mode().iloc[0]\n",
    "# 条件に合うデータを抽出\n",
    "filtered_df = sales_df_my_work[(sales_df_my_work['Quantity'] == mode_quantity) & (sales_df_my_work['Store_ID'] == 3)]\n",
    "# 結果を表示\n",
    "print(filtered_df)"
   ]
  },
  {
   "cell_type": "code",
   "execution_count": 29,
   "metadata": {},
   "outputs": [
    {
     "name": "stdout",
     "output_type": "stream",
     "text": [
      "    Transaction_ID    Transaction_Date Member_ID Product_ID Store_ID  \\\n",
      "43              44 2024-05-06 06:01:00       118         29        3   \n",
      "61              62 2024-05-08 10:47:00        50         38        3   \n",
      "109            110 2024-05-14 07:28:00       229         49        3   \n",
      "383            384 2024-06-16 18:32:00       269         44        3   \n",
      "446            447 2024-06-24 11:11:00       108         13        3   \n",
      "472            473 2024-06-27 15:23:00        14         44        3   \n",
      "491            492 2024-06-29 23:05:00       202         38        3   \n",
      "710            711 2024-07-26 16:57:00       114         36        3   \n",
      "808            809 2024-08-07 16:11:00        46         48        3   \n",
      "908            909 2024-08-19 21:17:00        93          2        3   \n",
      "\n",
      "     Quantity  Sales_Amount  \n",
      "43          4          4800  \n",
      "61          4          6500  \n",
      "109         4          9800  \n",
      "383         4          4300  \n",
      "446         4          7800  \n",
      "472         4          3500  \n",
      "491         4          8000  \n",
      "710         4          9700  \n",
      "808         4          5100  \n",
      "908         4          2100  \n"
     ]
    }
   ],
   "source": [
    "# LLMの回答\n",
    "# Calculate the mode of the Quantity column\n",
    "quantity_mode = sales_df_llm_work['Quantity'].mode()[0]\n",
    "\n",
    "# Filter transactions where Quantity is the mode and Store_ID is 3\n",
    "filtered_transactions = sales_df_llm_work[(sales_df_my_work['Quantity'] == quantity_mode) & (sales_df_llm_work['Store_ID'] == 3)]\n",
    "print(filtered_transactions)"
   ]
  },
  {
   "cell_type": "markdown",
   "metadata": {
    "id": "TpIlreR-nNr_"
   },
   "source": [
    "17. Amount が第1四分位から第3四分位の範囲に属する取引を抽出してください"
   ]
  },
  {
   "cell_type": "code",
   "execution_count": 30,
   "metadata": {},
   "outputs": [
    {
     "data": {
      "text/html": [
       "<div>\n",
       "<style scoped>\n",
       "    .dataframe tbody tr th:only-of-type {\n",
       "        vertical-align: middle;\n",
       "    }\n",
       "\n",
       "    .dataframe tbody tr th {\n",
       "        vertical-align: top;\n",
       "    }\n",
       "\n",
       "    .dataframe thead th {\n",
       "        text-align: right;\n",
       "    }\n",
       "</style>\n",
       "<table border=\"1\" class=\"dataframe\">\n",
       "  <thead>\n",
       "    <tr style=\"text-align: right;\">\n",
       "      <th></th>\n",
       "      <th>Transaction_ID</th>\n",
       "      <th>Transaction_Date</th>\n",
       "      <th>Member_ID</th>\n",
       "      <th>Product_ID</th>\n",
       "      <th>Store_ID</th>\n",
       "      <th>Quantity</th>\n",
       "      <th>Sales_Amount</th>\n",
       "    </tr>\n",
       "  </thead>\n",
       "  <tbody>\n",
       "    <tr>\n",
       "      <th>0</th>\n",
       "      <td>1</td>\n",
       "      <td>2024-05-01 00:00:00</td>\n",
       "      <td>21</td>\n",
       "      <td>25</td>\n",
       "      <td>12</td>\n",
       "      <td>3</td>\n",
       "      <td>5800</td>\n",
       "    </tr>\n",
       "    <tr>\n",
       "      <th>3</th>\n",
       "      <td>4</td>\n",
       "      <td>2024-05-01 08:47:00</td>\n",
       "      <td>124</td>\n",
       "      <td>38</td>\n",
       "      <td>1</td>\n",
       "      <td>3</td>\n",
       "      <td>6000</td>\n",
       "    </tr>\n",
       "    <tr>\n",
       "      <th>7</th>\n",
       "      <td>8</td>\n",
       "      <td>2024-05-01 20:30:00</td>\n",
       "      <td>51</td>\n",
       "      <td>18</td>\n",
       "      <td>1</td>\n",
       "      <td>4</td>\n",
       "      <td>5500</td>\n",
       "    </tr>\n",
       "    <tr>\n",
       "      <th>10</th>\n",
       "      <td>11</td>\n",
       "      <td>2024-05-02 05:18:00</td>\n",
       "      <td>141</td>\n",
       "      <td>45</td>\n",
       "      <td>9</td>\n",
       "      <td>4</td>\n",
       "      <td>6700</td>\n",
       "    </tr>\n",
       "    <tr>\n",
       "      <th>11</th>\n",
       "      <td>12</td>\n",
       "      <td>2024-05-02 08:14:00</td>\n",
       "      <td>275</td>\n",
       "      <td>9</td>\n",
       "      <td>19</td>\n",
       "      <td>4</td>\n",
       "      <td>3700</td>\n",
       "    </tr>\n",
       "  </tbody>\n",
       "</table>\n",
       "</div>"
      ],
      "text/plain": [
       "   Transaction_ID    Transaction_Date Member_ID Product_ID Store_ID  Quantity  \\\n",
       "0               1 2024-05-01 00:00:00        21         25       12         3   \n",
       "3               4 2024-05-01 08:47:00       124         38        1         3   \n",
       "7               8 2024-05-01 20:30:00        51         18        1         4   \n",
       "10             11 2024-05-02 05:18:00       141         45        9         4   \n",
       "11             12 2024-05-02 08:14:00       275          9       19         4   \n",
       "\n",
       "    Sales_Amount  \n",
       "0           5800  \n",
       "3           6000  \n",
       "7           5500  \n",
       "10          6700  \n",
       "11          3700  "
      ]
     },
     "execution_count": 30,
     "metadata": {},
     "output_type": "execute_result"
    }
   ],
   "source": [
    "# 自分で調べた方法\n",
    "# sales_df_my_work['Sales_Amount'].describe()\n",
    "q1 = sales_df_my_work['Sales_Amount'].quantile(0.25)\n",
    "q3 = sales_df_my_work['Sales_Amount'].quantile(0.75)\n",
    "\n",
    "sales_df_my_work[(sales_df_my_work['Sales_Amount'] >= q1) & (sales_df_my_work['Sales_Amount'] <= q3)].head()"
   ]
  },
  {
   "cell_type": "markdown",
   "metadata": {
    "id": "QcdfHUcIgStN"
   },
   "source": [
    "18. Product_IDとStore_IDは何種類あるか確認してください"
   ]
  },
  {
   "cell_type": "code",
   "execution_count": 31,
   "metadata": {},
   "outputs": [
    {
     "data": {
      "text/plain": [
       "(50, 20)"
      ]
     },
     "execution_count": 31,
     "metadata": {},
     "output_type": "execute_result"
    }
   ],
   "source": [
    "sales_df_my_work['Product_ID'].nunique(), sales_df_my_work['Store_ID'].nunique()"
   ]
  },
  {
   "cell_type": "markdown",
   "metadata": {
    "id": "1viu7VeqgEA-"
   },
   "source": [
    "19. 取引データのProduct_ID ごとに Amount の合計を計算してください"
   ]
  },
  {
   "cell_type": "code",
   "execution_count": 32,
   "metadata": {},
   "outputs": [
    {
     "name": "stderr",
     "output_type": "stream",
     "text": [
      "/var/folders/7h/pvrr2skj31l3k_w_t4bj4q280000gn/T/ipykernel_79774/956988122.py:1: FutureWarning: The default of observed=False is deprecated and will be changed to True in a future version of pandas. Pass observed=False to retain current behavior or observed=True to adopt the future default and silence this warning.\n",
      "  sales_df_my_work.groupby('Product_ID')['Sales_Amount'].sum() # LLMで修正\n"
     ]
    },
    {
     "data": {
      "text/plain": [
       "Product_ID\n",
       "1     121600\n",
       "2      49800\n",
       "3     110300\n",
       "4     122600\n",
       "5      76700\n",
       "6      84700\n",
       "7      94200\n",
       "8     135900\n",
       "9      72600\n",
       "10     92100\n",
       "11    138700\n",
       "12     63900\n",
       "13    139300\n",
       "14     70300\n",
       "15     68100\n",
       "16    106200\n",
       "17    169400\n",
       "18    109900\n",
       "19    130500\n",
       "20     83700\n",
       "21    111700\n",
       "22    128400\n",
       "23    106500\n",
       "24    114100\n",
       "25     88800\n",
       "26    101600\n",
       "27    102600\n",
       "28    121200\n",
       "29    126000\n",
       "30     85300\n",
       "31    106100\n",
       "32    124900\n",
       "33     58300\n",
       "34    126300\n",
       "35    123200\n",
       "36    172300\n",
       "37    126400\n",
       "38    130800\n",
       "39     77300\n",
       "40    110600\n",
       "41    110600\n",
       "42     77400\n",
       "43    101800\n",
       "44     97100\n",
       "45    148600\n",
       "46     55500\n",
       "47    156200\n",
       "48     78100\n",
       "49    118700\n",
       "50    111200\n",
       "Name: Sales_Amount, dtype: int64"
      ]
     },
     "execution_count": 32,
     "metadata": {},
     "output_type": "execute_result"
    }
   ],
   "source": [
    "sales_df_my_work.groupby('Product_ID')['Sales_Amount'].sum() # LLMで修正\n",
    "# sales_df_my_work.groupby('Product_ID')['Sales_Amount'].sum().nunique()\n",
    "# sales_df_my_work.groupby('Product_ID')['Sales_Amount'].nunique()\n",
    "\n",
    "# メモ\n",
    "# グループ化: df.groupby('column_name')は、指定された列('column_name')の値に基づいてデータをグループ化します。\n",
    "# 集計: その後、集計関数（例：sum(), mean(), count()など）を適用して、各グループごとに計算を行います。\n",
    "# 例：result = df.groupby('category')['value'].sum()\n",
    "# 'category'列の値でデータをグループ化\n",
    "# 各グループ内の'value'列の合計を計算"
   ]
  },
  {
   "cell_type": "markdown",
   "metadata": {
    "id": "sy7xFzEbCGTw"
   },
   "source": [
    "20. Product_ID ごとにQuantityの中央値を計算してください"
   ]
  },
  {
   "cell_type": "code",
   "execution_count": 33,
   "metadata": {},
   "outputs": [
    {
     "name": "stderr",
     "output_type": "stream",
     "text": [
      "/var/folders/7h/pvrr2skj31l3k_w_t4bj4q280000gn/T/ipykernel_79774/293935698.py:1: FutureWarning: The default of observed=False is deprecated and will be changed to True in a future version of pandas. Pass observed=False to retain current behavior or observed=True to adopt the future default and silence this warning.\n",
      "  sales_df_my_work.groupby('Product_ID')['Quantity'].median()\n"
     ]
    },
    {
     "data": {
      "text/plain": [
       "Product_ID\n",
       "1     2.0\n",
       "2     2.0\n",
       "3     3.0\n",
       "4     2.0\n",
       "5     3.0\n",
       "6     3.0\n",
       "7     2.0\n",
       "8     2.0\n",
       "9     3.0\n",
       "10    3.0\n",
       "11    3.0\n",
       "12    3.0\n",
       "13    2.0\n",
       "14    3.0\n",
       "15    2.5\n",
       "16    3.0\n",
       "17    2.0\n",
       "18    3.0\n",
       "19    2.0\n",
       "20    3.0\n",
       "21    2.5\n",
       "22    3.0\n",
       "23    2.0\n",
       "24    2.0\n",
       "25    3.0\n",
       "26    2.0\n",
       "27    2.0\n",
       "28    3.0\n",
       "29    3.0\n",
       "30    3.0\n",
       "31    3.0\n",
       "32    3.0\n",
       "33    3.0\n",
       "34    3.0\n",
       "35    3.0\n",
       "36    3.0\n",
       "37    3.0\n",
       "38    3.0\n",
       "39    3.0\n",
       "40    2.0\n",
       "41    2.0\n",
       "42    3.0\n",
       "43    2.0\n",
       "44    2.5\n",
       "45    3.0\n",
       "46    2.0\n",
       "47    2.0\n",
       "48    2.5\n",
       "49    3.0\n",
       "50    2.0\n",
       "Name: Quantity, dtype: float64"
      ]
     },
     "execution_count": 33,
     "metadata": {},
     "output_type": "execute_result"
    }
   ],
   "source": [
    "sales_df_my_work.groupby('Product_ID')['Quantity'].median()"
   ]
  },
  {
   "cell_type": "code",
   "execution_count": 34,
   "metadata": {},
   "outputs": [
    {
     "name": "stderr",
     "output_type": "stream",
     "text": [
      "/var/folders/7h/pvrr2skj31l3k_w_t4bj4q280000gn/T/ipykernel_79774/682049455.py:2: FutureWarning: The default of observed=False is deprecated and will be changed to True in a future version of pandas. Pass observed=False to retain current behavior or observed=True to adopt the future default and silence this warning.\n",
      "  sales_df_llm_work.groupby('Product_ID')['Quantity'].median()\n"
     ]
    },
    {
     "data": {
      "text/plain": [
       "Product_ID\n",
       "1     2.0\n",
       "2     2.0\n",
       "3     3.0\n",
       "4     2.0\n",
       "5     3.0\n",
       "6     3.0\n",
       "7     2.0\n",
       "8     2.0\n",
       "9     3.0\n",
       "10    3.0\n",
       "11    3.0\n",
       "12    3.0\n",
       "13    2.0\n",
       "14    3.0\n",
       "15    2.5\n",
       "16    3.0\n",
       "17    2.0\n",
       "18    3.0\n",
       "19    2.0\n",
       "20    3.0\n",
       "21    2.5\n",
       "22    3.0\n",
       "23    2.0\n",
       "24    2.0\n",
       "25    3.0\n",
       "26    2.0\n",
       "27    2.0\n",
       "28    3.0\n",
       "29    3.0\n",
       "30    3.0\n",
       "31    3.0\n",
       "32    3.0\n",
       "33    3.0\n",
       "34    3.0\n",
       "35    3.0\n",
       "36    3.0\n",
       "37    3.0\n",
       "38    3.0\n",
       "39    3.0\n",
       "40    2.0\n",
       "41    2.0\n",
       "42    3.0\n",
       "43    2.0\n",
       "44    2.5\n",
       "45    3.0\n",
       "46    2.0\n",
       "47    2.0\n",
       "48    2.5\n",
       "49    3.0\n",
       "50    2.0\n",
       "Name: Quantity, dtype: float64"
      ]
     },
     "execution_count": 34,
     "metadata": {},
     "output_type": "execute_result"
    }
   ],
   "source": [
    "# LLMが回答\n",
    "sales_df_llm_work.groupby('Product_ID')['Quantity'].median()"
   ]
  },
  {
   "cell_type": "markdown",
   "metadata": {
    "id": "vlGGL0okmcdl"
   },
   "source": [
    "21. Store_ID ごとに平均Amountを集計してください"
   ]
  },
  {
   "cell_type": "code",
   "execution_count": 46,
   "metadata": {},
   "outputs": [
    {
     "name": "stderr",
     "output_type": "stream",
     "text": [
      "/var/folders/7h/pvrr2skj31l3k_w_t4bj4q280000gn/T/ipykernel_79774/2556034677.py:1: FutureWarning: The default of observed=False is deprecated and will be changed to True in a future version of pandas. Pass observed=False to retain current behavior or observed=True to adopt the future default and silence this warning.\n",
      "  sales_df_my_work.groupby('Store_ID')['Sales_Amount'].mean()\n"
     ]
    },
    {
     "data": {
      "text/plain": [
       "Store_ID\n",
       "1     5873.333333\n",
       "2     4630.952381\n",
       "3     5507.843137\n",
       "4     5329.268293\n",
       "5     5686.363636\n",
       "6     5361.111111\n",
       "7     5458.974359\n",
       "8     5436.065574\n",
       "9     5619.047619\n",
       "10    5301.923077\n",
       "11    4868.000000\n",
       "12    5602.272727\n",
       "13    5815.254237\n",
       "14    5873.333333\n",
       "15    5585.937500\n",
       "16    5201.960784\n",
       "17    4727.536232\n",
       "18    4885.416667\n",
       "19    5091.489362\n",
       "20    5075.000000\n",
       "Name: Sales_Amount, dtype: float64"
      ]
     },
     "execution_count": 46,
     "metadata": {},
     "output_type": "execute_result"
    }
   ],
   "source": [
    "sales_df_my_work.groupby('Store_ID')['Sales_Amount'].mean()\n",
    "\n",
    "# sales_df_my_work.groupby('Store_ID')：データフレームをStore_IDでグループ化します。\n",
    "# ['Amount'].mean()：各グループ（つまり各Store_ID）のAmount列の平均値を計算します。\n",
    "# 結果はstore_avg_amountというSeriesに格納されます。\n",
    "# このSeriesのインデックスはStore_IDで、値はそれぞれのStore_IDに対応するAmountの平均になります。\n",
    "\n",
    "# 結果をより見やすくする\n",
    "# store_avg_amount_df = sales_df_my_work.groupby('Store_ID')['Sales_Amount'].mean().reset_index()\n",
    "# store_avg_amount_df.columns = ['Store_ID', 'Average_Amount']\n",
    "# print(store_avg_amount_df)"
   ]
  },
  {
   "cell_type": "markdown",
   "metadata": {
    "id": "_mmUCHzlgqLn"
   },
   "source": [
    "22. 会員データの性別 (Gender) ごとに平均年齢を計算してください"
   ]
  },
  {
   "cell_type": "code",
   "execution_count": 47,
   "metadata": {},
   "outputs": [
    {
     "data": {
      "text/plain": [
       "Gender\n",
       "Female    48.945205\n",
       "Male      53.259740\n",
       "Name: Age, dtype: float64"
      ]
     },
     "execution_count": 47,
     "metadata": {},
     "output_type": "execute_result"
    }
   ],
   "source": [
    "member_df.groupby('Gender')['Age'].mean()"
   ]
  },
  {
   "cell_type": "markdown",
   "metadata": {
    "id": "kPo1eEfFiVEd"
   },
   "source": [
    "23. 会員ごとに平均 Amount を計算してください"
   ]
  },
  {
   "cell_type": "code",
   "execution_count": 54,
   "metadata": {},
   "outputs": [
    {
     "data": {
      "text/plain": [
       "Index(['Transaction_ID', 'Transaction_Date', 'Member_ID', 'Product_ID',\n",
       "       'Store_ID', 'Quantity', 'Sales_Amount'],\n",
       "      dtype='object')"
      ]
     },
     "execution_count": 54,
     "metadata": {},
     "output_type": "execute_result"
    }
   ],
   "source": [
    "# member_df.groupby('Member_ID')['Amount'].mean()\n",
    "# member_df.info()\n",
    "# member_df.columns\n",
    "sales_df_my_work.columns"
   ]
  },
  {
   "cell_type": "markdown",
   "metadata": {
    "id": "Udk2EdbPifC0"
   },
   "source": [
    "24. Transaction_Dateから日付だけ取り出して日付ごとに Amount の合計を集計してください"
   ]
  },
  {
   "cell_type": "markdown",
   "metadata": {
    "id": "H14sj0GOCVkf"
   },
   "source": [
    "25. 日付ごとの合計Amountを集計し、合計Amountが小さい順にソートしてください"
   ]
  },
  {
   "cell_type": "markdown",
   "metadata": {
    "id": "EHrpOPRsSEod"
   },
   "source": [
    "26. 月ごとに Amount を集計してください"
   ]
  },
  {
   "cell_type": "markdown",
   "metadata": {
    "id": "odsMNvfrSrMD"
   },
   "source": [
    "27. 月ごとのAmountの増減の絶対値を前月と比較して計算してください"
   ]
  },
  {
   "cell_type": "markdown",
   "metadata": {
    "id": "H8yqGR9gSMmy"
   },
   "source": [
    "28. 曜日ごとの合計Amountを集計してください"
   ]
  },
  {
   "cell_type": "markdown",
   "metadata": {
    "id": "wJtxYBFqSv90"
   },
   "source": [
    "29. 1週間ごとに合計Amountを集計してください"
   ]
  },
  {
   "cell_type": "markdown",
   "metadata": {
    "id": "OYsIUC3MVLL1"
   },
   "source": [
    "30. 1週間ごとのAmountの増減を計算し、増加率をパーセンテージで表示してください"
   ]
  },
  {
   "cell_type": "markdown",
   "metadata": {
    "id": "Uxz5kB5qkB9V"
   },
   "source": [
    "31. 新しく作成したカラムを削除してください"
   ]
  },
  {
   "cell_type": "markdown",
   "metadata": {
    "id": "ov6Q091Fgx6B"
   },
   "source": [
    "32. Amount が1000円を超える取引を抽出し、Store_ID と Product_ID ごとに Amount の合計を計算してください"
   ]
  },
  {
   "cell_type": "markdown",
   "metadata": {
    "id": "chD_ZM9UGLzD"
   },
   "source": [
    "33. Store_ID ごとの合計Amountを集計し300000円以上の店舗を抽出してください"
   ]
  },
  {
   "cell_type": "markdown",
   "metadata": {
    "id": "3inZkn31g96b"
   },
   "source": [
    "34. 会員ごとに取引回数をカウントしてください"
   ]
  },
  {
   "cell_type": "markdown",
   "metadata": {
    "id": "bCoAUDw2BW3o"
   },
   "source": [
    "35. 会員ごとに取引回数をカウントし、2回以上の取引がある会員を抽出してください"
   ]
  },
  {
   "cell_type": "markdown",
   "metadata": {
    "id": "GKI1hxQRhmKh"
   },
   "source": [
    "36. 年齢グループ（-30歳、31-50歳、51-65歳、66歳-）を作成し、各グループの会員数を集計してください。"
   ]
  },
  {
   "cell_type": "markdown",
   "metadata": {
    "id": "lmCYg1N-bPIA"
   },
   "source": [
    "37. 会員になってからの日数（Days_Since_Registration）のグループ（〜1年、1年〜2年, 2年〜）を作成し、各グループの会員数を集計してください"
   ]
  },
  {
   "cell_type": "markdown",
   "metadata": {
    "id": "Ej78fI1oiNd5"
   },
   "source": [
    "38. 売上データと会員データを結合しmerged_dfとして定義してください"
   ]
  },
  {
   "cell_type": "markdown",
   "metadata": {
    "id": "9cje3s_ATkiG"
   },
   "source": [
    "39. 性別 ごとに 平均Amount を計算してください"
   ]
  },
  {
   "cell_type": "markdown",
   "metadata": {
    "id": "A4k5vaLomtiS"
   },
   "source": [
    "40. 性別ごとの平均 Quantity を集計してください"
   ]
  },
  {
   "cell_type": "markdown",
   "metadata": {
    "id": "Tkt9RLSYmAL5"
   },
   "source": [
    "41. 性別と店舗IDごとに取引数を集計してください"
   ]
  },
  {
   "cell_type": "markdown",
   "metadata": {
    "id": "uLtMKAg5lbRf"
   },
   "source": [
    "42. Store_ID が [1, 5, 9] の取引を抽出し、Store_ID ごとに Quantity の合計を計算してください"
   ]
  },
  {
   "cell_type": "markdown",
   "metadata": {
    "id": "Oqrkm2ShlnM5"
   },
   "source": [
    "43. データセットの最後の10日間の取引を抽出し、Transaction_Date ごとにAmountを集計してください"
   ]
  },
  {
   "cell_type": "markdown",
   "metadata": {
    "id": "sdGMBNFrlzWY"
   },
   "source": [
    "44. 合計Amountが最も高い会員トップ5を特定してください"
   ]
  },
  {
   "cell_type": "markdown",
   "metadata": {
    "id": "J3jV5vEp8kug"
   },
   "source": [
    "45. 会員ごとに最も新しい取引を集計してください"
   ]
  },
  {
   "cell_type": "markdown",
   "metadata": {
    "id": "-10t4icE8-xX"
   },
   "source": [
    "46. 会員ごとに最も古い取引を集計してください"
   ]
  },
  {
   "cell_type": "markdown",
   "metadata": {
    "id": "y9vsa0zJF6c2"
   },
   "source": [
    "47. 会員ごとに取引日時の最も古いデータと最も新しいデータを集計し、それぞれが違うレコードを抽出してください"
   ]
  },
  {
   "cell_type": "markdown",
   "metadata": {
    "id": "iFLkOIYg_0g0"
   },
   "source": [
    "48. Member_ID に「2」が含まれる会員の取引を抽出してください。"
   ]
  },
  {
   "cell_type": "markdown",
   "metadata": {
    "id": "2-802v81AWqa"
   },
   "source": [
    "49. Product_ID が「1」で始まる取引を抽出してください。"
   ]
  },
  {
   "cell_type": "markdown",
   "metadata": {
    "id": "6_w1n3OGAfpz"
   },
   "source": [
    "50. Store_ID が「5」で終わる取引を抽出してください"
   ]
  },
  {
   "cell_type": "markdown",
   "metadata": {
    "id": "3nys5gxwAnIV"
   },
   "source": [
    "51. Transaction_ID が奇数の取引を抽出してください"
   ]
  },
  {
   "cell_type": "markdown",
   "metadata": {
    "id": "pp1sh_skJJV3"
   },
   "source": [
    "52. Member_ID が3桁の会員の取引を抽出してください"
   ]
  },
  {
   "cell_type": "markdown",
   "metadata": {
    "id": "CC4ZnosnJSPH"
   },
   "source": [
    "53. Member_ID に「1」と「3」が連続して含まれる取引を抽出してください"
   ]
  },
  {
   "cell_type": "markdown",
   "metadata": {
    "id": "IWTCXUzxJiUq"
   },
   "source": [
    "54. Member_ID が「1」で始まり、任意の数字が続く会員の取引を抽出してください"
   ]
  },
  {
   "cell_type": "markdown",
   "metadata": {
    "id": "i69-7iQtBFqZ"
   },
   "source": [
    "55. Product_IDごとの Quantityの最頻値を集計し、最頻値が3以上の商品を抽出してください"
   ]
  },
  {
   "cell_type": "markdown",
   "metadata": {
    "id": "xsO5i7QGEVhX"
   },
   "source": [
    "56. Product_IDごとのQuantityの最頻値を計算し、最頻値が最大の商品を抽出してください"
   ]
  },
  {
   "cell_type": "markdown",
   "metadata": {
    "id": "hb_D66HQBkLx"
   },
   "source": [
    "57. Store_ID ごとにAmountの分散を計算し、分散が大きい順にソートしてください"
   ]
  },
  {
   "cell_type": "markdown",
   "metadata": {
    "id": "ViaBUy-uBuqK"
   },
   "source": [
    "58. Member_ID ごとにAmountの標準偏差を計算し、標準偏差が4000以上の会員を抽出してください"
   ]
  },
  {
   "cell_type": "markdown",
   "metadata": {
    "id": "akauR1ByFMca"
   },
   "source": [
    "59. 会員データにおいて年齢ごとに会員数を集計し、会員数が多い順にソートしてください"
   ]
  },
  {
   "cell_type": "markdown",
   "metadata": {
    "id": "cQtbb8a7FedI"
   },
   "source": [
    "60. 会員データの年齢の中央値を計算し、それより上の会員を抽出してください"
   ]
  },
  {
   "cell_type": "markdown",
   "metadata": {
    "id": "tkaUyJ9bOY3c"
   },
   "source": [
    "61. Amountの大きいものから順番にランクを付与した上で昇順で並び替えてください。また同じAmountの場合は先に出現したものに高いランクを付与してください。"
   ]
  },
  {
   "cell_type": "markdown",
   "metadata": {
    "id": "wAwl1-eaQqxU"
   },
   "source": [
    "62. Member_ID ごとの合計Amountに対して、パーセンタイル値を計算して低い順に並び替えてください"
   ]
  },
  {
   "cell_type": "markdown",
   "metadata": {
    "id": "YSF1CH5YTSaq"
   },
   "source": [
    "63. 年代を縦（行）、性別を横（列）に持つテーブルで、各セグメントごとの平均取引金額を集計してください"
   ]
  },
  {
   "cell_type": "markdown",
   "metadata": {
    "id": "3gO34AHpUU5R"
   },
   "source": [
    "64. 前の課題のテーブルを、年代と性別が縦に並ぶように変換してください"
   ]
  },
  {
   "cell_type": "markdown",
   "metadata": {
    "id": "GIeO-f2zUwXN"
   },
   "source": [
    "65. 年代✕性別のごとの取引回数を集計し表示してください"
   ]
  },
  {
   "cell_type": "markdown",
   "metadata": {
    "id": "Fvrztac1Ys91"
   },
   "source": [
    "66. Amount が2000円以上なら 1、それ未満なら 0 を割り振ったフラグを新しいカラムに追加してください"
   ]
  },
  {
   "cell_type": "markdown",
   "metadata": {
    "id": "teZN75LJY_6h"
   },
   "source": [
    "67. Quantity の平均値以上の取引に 1、それ未満に 0 のフラグを追加してください"
   ]
  },
  {
   "cell_type": "markdown",
   "metadata": {
    "id": "ZSbe2hFKZEtX"
   },
   "source": [
    "68. 顧客ごとの合計Amountに基づいて、〜25%点、〜50%点、〜75%点、〜100%点ごとに4つのカテゴリに分け、そのカテゴリを新しいカラムとして追加してください"
   ]
  },
  {
   "cell_type": "markdown",
   "metadata": {
    "id": "zcOuW8qNhThF"
   },
   "source": [
    "69. Quantityが小さい順に等しく3つのカテゴリに分け、そのカテゴリを新しいカラムに追加してください"
   ]
  },
  {
   "cell_type": "markdown",
   "metadata": {
    "id": "cycj_uenhWDy"
   },
   "source": [
    "70. Gender カラムをダミー変数化してください"
   ]
  },
  {
   "cell_type": "markdown",
   "metadata": {
    "id": "lqutjDCYjI3h"
   },
   "source": [
    "71. Amount カラムを標準化して新しいカラムを追加してください"
   ]
  },
  {
   "cell_type": "markdown",
   "metadata": {
    "id": "iq2zxHcckPOG"
   },
   "source": [
    "72. 取引データ全体のうち10%をランダムにサンプリングしてください"
   ]
  },
  {
   "cell_type": "markdown",
   "metadata": {
    "id": "gunyepSekXyy"
   },
   "source": [
    "73. 会員データの20%をランダムにサンプリングしてください"
   ]
  },
  {
   "cell_type": "markdown",
   "metadata": {
    "id": "Jntpjdc-kfUA"
   },
   "source": [
    "74. Amount が5000円以上の取引からランダムに5件をサンプリングしてください"
   ]
  },
  {
   "cell_type": "markdown",
   "metadata": {
    "id": "njlqJDqSkvit"
   },
   "source": [
    "75. Gender を層化基準にして取引データから20%抽出してください"
   ]
  },
  {
   "cell_type": "markdown",
   "metadata": {
    "id": "05o6zrT6k5l7"
   },
   "source": [
    "76. Amount の平均から1σ以上離れた取引を外れ値として抽出してください（本来は3σ）"
   ]
  },
  {
   "cell_type": "markdown",
   "metadata": {
    "id": "H1VhNaHilW3p"
   },
   "source": [
    "77. 現在のmember_dfをCSVファイルとして出力をしてください"
   ]
  },
  {
   "cell_type": "markdown",
   "metadata": {
    "id": "YzmmIWxHoW49"
   },
   "source": [
    "78. seaborn を使って、merged_dfの数値カラム間の相関行列をヒートマップで可視化してください\n",
    "\n"
   ]
  },
  {
   "cell_type": "markdown",
   "metadata": {
    "id": "J39011D8pEs1"
   },
   "source": [
    "79. plotlyを使って、merged_dfの数値カラム間の相関行列をヒートマップで可視化してください"
   ]
  },
  {
   "cell_type": "markdown",
   "metadata": {
    "id": "lccJuHzppyEZ"
   },
   "source": [
    "80. matplotlib を使って、月ごとの合計Amountを棒グラフで表示してください"
   ]
  },
  {
   "cell_type": "markdown",
   "metadata": {
    "id": "M5B_2s8JXlmG"
   },
   "source": [
    "81. seaborn を使って、Store_ID ごとの取引数をカウントプロットで可視化してください"
   ]
  },
  {
   "cell_type": "markdown",
   "metadata": {
    "id": "sdQ2zmYaqAs-"
   },
   "source": [
    "82. seaborn を使って、Store_ID ごとの合計Amountを棒グラフで表示してください"
   ]
  },
  {
   "cell_type": "markdown",
   "metadata": {
    "id": "zMVujTULhn9H"
   },
   "source": [
    "83. Plotlyを使って会員ごとの取引数を可視化してください"
   ]
  },
  {
   "cell_type": "markdown",
   "metadata": {
    "id": "ej_St7nEqPvC"
   },
   "source": [
    "84. matplotlib を使って、日ごとの売上金額を折れ線グラフで表示してください"
   ]
  },
  {
   "cell_type": "markdown",
   "metadata": {
    "id": "1WzkRnkgqhOM"
   },
   "source": [
    "85. seaborn を使って、Amount の分布を箱ひげ図で表示してください"
   ]
  },
  {
   "cell_type": "markdown",
   "metadata": {
    "id": "gJncdWeSqmYR"
   },
   "source": [
    "86. Days_Since_Registration に基づく顧客の分布を plotly の箱ひげ図で可視化してください"
   ]
  },
  {
   "cell_type": "markdown",
   "metadata": {
    "id": "ZbKWNC5RqqBv"
   },
   "source": [
    "87. matplotlib を使って、Amount と Days_Since_Registration の関係を散布図で表示してください"
   ]
  },
  {
   "cell_type": "markdown",
   "metadata": {
    "id": "JuBVcfIjrEB3"
   },
   "source": [
    "88. plotly を使って、Days_Since_Registration と Amount の関係を散布図で表示してください。Store_IDごとに色を変えてください"
   ]
  },
  {
   "cell_type": "markdown",
   "metadata": {
    "id": "VP2PLLoWrJbu"
   },
   "source": [
    "89. seaborn の pairplot を使って、merged_dataの数値カラムの相関をペアプロットで可視化してください"
   ]
  },
  {
   "cell_type": "markdown",
   "metadata": {
    "id": "yKeRQCkNrrlS"
   },
   "source": [
    "90. plotly を使って、Product_ID ごとの売上と販売数量をバブルチャートで表示してください。Product_IDがX軸でAmountがY軸、そしてQuantityがバブルの大きさになるようにしてください"
   ]
  },
  {
   "cell_type": "markdown",
   "metadata": {
    "id": "rM_YdvZwSqBx"
   },
   "source": [
    "91. Amount カラムの分布をカーネル密度推定プロットで可視化してください"
   ]
  },
  {
   "cell_type": "markdown",
   "metadata": {
    "id": "E4Si34pxVN5m"
   },
   "source": [
    "92. seaborn の regplot を使って、Amount と Days_Since_Registration の散布図に回帰直線を追加して可視化してください"
   ]
  },
  {
   "cell_type": "markdown",
   "metadata": {
    "id": "64yHxNQ7Vevl"
   },
   "source": [
    "93. seaborn の jointplot を使って、Amount と Days_Since_Registration の相関をヒストグラムと散布図を組み合わせた形で可視化してください"
   ]
  },
  {
   "cell_type": "markdown",
   "metadata": {
    "id": "AYnHHiUTVokp"
   },
   "source": [
    "94. seaborn の violinplot を使って、Store_IDが1,3,5 の Quantity の分布を Violinプロットで可視化してください"
   ]
  },
  {
   "cell_type": "markdown",
   "metadata": {
    "id": "HQaJtzAkXLx3"
   },
   "source": [
    "95. matplotlib を使って、店舗ごとの売上合計をエリアチャートで可視化してください"
   ]
  },
  {
   "cell_type": "markdown",
   "metadata": {
    "id": "5iJfWQIdXwK7"
   },
   "source": [
    "96. matplotlib を使って、Store_ID ごとの売上を円グラフ（パイチャート）で可視化してください"
   ]
  },
  {
   "cell_type": "markdown",
   "metadata": {
    "id": "ZC2GCu24kIJh"
   },
   "source": [
    "97. Store_ID ごとの売上合計を plotly の円グラフ（パイチャート）で可視化してください"
   ]
  },
  {
   "cell_type": "markdown",
   "metadata": {
    "id": "NUXU3J2rkPdS"
   },
   "source": [
    "98. 取引日 ごとの売上累積を plotly のエリアチャートで可視化してください"
   ]
  },
  {
   "cell_type": "markdown",
   "metadata": {
    "id": "hyFA3J2PkR6T"
   },
   "source": [
    "99. Amount の分布を plotly のヒストグラムで可視化してください"
   ]
  },
  {
   "cell_type": "markdown",
   "metadata": {
    "id": "zb8OYyU4k1bS"
   },
   "source": [
    "100. Age と Days_Since_Registration の関係を散布図で可視化し、色分けを性別（Gender）に基づいて行ってください"
   ]
  }
 ],
 "metadata": {
  "colab": {
   "authorship_tag": "ABX9TyPWtbN9Wdvsq6PDeFd9T3ry",
   "provenance": []
  },
  "kernelspec": {
   "display_name": "kaggle_DNN",
   "language": "python",
   "name": "python3"
  },
  "language_info": {
   "codemirror_mode": {
    "name": "ipython",
    "version": 3
   },
   "file_extension": ".py",
   "mimetype": "text/x-python",
   "name": "python",
   "nbconvert_exporter": "python",
   "pygments_lexer": "ipython3",
   "version": "3.13.0"
  }
 },
 "nbformat": 4,
 "nbformat_minor": 0
}
