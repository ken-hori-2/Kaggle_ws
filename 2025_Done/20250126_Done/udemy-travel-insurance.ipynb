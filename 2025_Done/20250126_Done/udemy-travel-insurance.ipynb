{
 "cells": [
  {
   "cell_type": "code",
   "execution_count": 2,
   "metadata": {
    "_cell_guid": "b1076dfc-b9ad-4769-8c92-a6c4dae69d19",
    "_uuid": "8f2839f25d086af736a60e9eeb907d3b93b6e0e5",
    "execution": {
     "iopub.execute_input": "2025-01-26T12:56:16.161567Z",
     "iopub.status.busy": "2025-01-26T12:56:16.161234Z",
     "iopub.status.idle": "2025-01-26T12:56:16.566745Z",
     "shell.execute_reply": "2025-01-26T12:56:16.565784Z",
     "shell.execute_reply.started": "2025-01-26T12:56:16.161540Z"
    },
    "trusted": true
   },
   "outputs": [
    {
     "name": "stdout",
     "output_type": "stream",
     "text": [
      "/kaggle/input/travel-insurance-prediction-data/TravelInsurancePrediction.csv\n"
     ]
    }
   ],
   "source": [
    "# This Python 3 environment comes with many helpful analytics libraries installed\n",
    "# It is defined by the kaggle/python Docker image: https://github.com/kaggle/docker-python\n",
    "# For example, here's several helpful packages to load\n",
    "\n",
    "import numpy as np # linear algebra\n",
    "import pandas as pd # data processing, CSV file I/O (e.g. pd.read_csv)\n",
    "\n",
    "# Input data files are available in the read-only \"../input/\" directory\n",
    "# For example, running this (by clicking run or pressing Shift+Enter) will list all files under the input directory\n",
    "\n",
    "import os\n",
    "for dirname, _, filenames in os.walk('/kaggle/input'):\n",
    "    for filename in filenames:\n",
    "        print(os.path.join(dirname, filename))\n",
    "\n",
    "# You can write up to 20GB to the current directory (/kaggle/working/) that gets preserved as output when you create a version using \"Save & Run All\" \n",
    "# You can also write temporary files to /kaggle/temp/, but they won't be saved outside of the current session"
   ]
  },
  {
   "cell_type": "code",
   "execution_count": 3,
   "metadata": {
    "execution": {
     "iopub.execute_input": "2025-01-26T12:56:16.770029Z",
     "iopub.status.busy": "2025-01-26T12:56:16.769468Z",
     "iopub.status.idle": "2025-01-26T12:56:17.665051Z",
     "shell.execute_reply": "2025-01-26T12:56:17.663965Z",
     "shell.execute_reply.started": "2025-01-26T12:56:16.769992Z"
    },
    "trusted": true
   },
   "outputs": [],
   "source": [
    "import matplotlib.pyplot as plt\n",
    "import seaborn as sns\n",
    "sns.set_theme(context='talk', style='darkgrid', font='MS GOTHIC')"
   ]
  },
  {
   "cell_type": "code",
   "execution_count": 4,
   "metadata": {
    "execution": {
     "iopub.execute_input": "2025-01-26T12:56:17.666748Z",
     "iopub.status.busy": "2025-01-26T12:56:17.666341Z",
     "iopub.status.idle": "2025-01-26T12:56:17.746718Z",
     "shell.execute_reply": "2025-01-26T12:56:17.745710Z",
     "shell.execute_reply.started": "2025-01-26T12:56:17.666724Z"
    },
    "trusted": true
   },
   "outputs": [],
   "source": [
    "from sklearn.preprocessing import OneHotEncoder, StandardScaler"
   ]
  },
  {
   "cell_type": "code",
   "execution_count": 5,
   "metadata": {
    "execution": {
     "iopub.execute_input": "2025-01-26T12:56:17.982531Z",
     "iopub.status.busy": "2025-01-26T12:56:17.982199Z",
     "iopub.status.idle": "2025-01-26T12:56:18.360238Z",
     "shell.execute_reply": "2025-01-26T12:56:18.359183Z",
     "shell.execute_reply.started": "2025-01-26T12:56:17.982505Z"
    },
    "trusted": true
   },
   "outputs": [],
   "source": [
    "from sklearn.svm import SVC\n",
    "from sklearn.neighbors import KNeighborsClassifier"
   ]
  },
  {
   "cell_type": "code",
   "execution_count": 64,
   "metadata": {
    "execution": {
     "iopub.execute_input": "2025-01-26T14:48:58.854505Z",
     "iopub.status.busy": "2025-01-26T14:48:58.854139Z",
     "iopub.status.idle": "2025-01-26T14:48:58.858825Z",
     "shell.execute_reply": "2025-01-26T14:48:58.857769Z",
     "shell.execute_reply.started": "2025-01-26T14:48:58.854477Z"
    },
    "trusted": true
   },
   "outputs": [],
   "source": [
    "from sklearn.model_selection import train_test_split, cross_val_score, GridSearchCV, StratifiedKFold"
   ]
  },
  {
   "cell_type": "code",
   "execution_count": 7,
   "metadata": {
    "execution": {
     "iopub.execute_input": "2025-01-26T12:56:22.319198Z",
     "iopub.status.busy": "2025-01-26T12:56:22.318693Z",
     "iopub.status.idle": "2025-01-26T12:56:22.373674Z",
     "shell.execute_reply": "2025-01-26T12:56:22.372518Z",
     "shell.execute_reply.started": "2025-01-26T12:56:22.319159Z"
    },
    "trusted": true
   },
   "outputs": [
    {
     "data": {
      "text/html": [
       "<div>\n",
       "<style scoped>\n",
       "    .dataframe tbody tr th:only-of-type {\n",
       "        vertical-align: middle;\n",
       "    }\n",
       "\n",
       "    .dataframe tbody tr th {\n",
       "        vertical-align: top;\n",
       "    }\n",
       "\n",
       "    .dataframe thead th {\n",
       "        text-align: right;\n",
       "    }\n",
       "</style>\n",
       "<table border=\"1\" class=\"dataframe\">\n",
       "  <thead>\n",
       "    <tr style=\"text-align: right;\">\n",
       "      <th></th>\n",
       "      <th>Age</th>\n",
       "      <th>Employment Type</th>\n",
       "      <th>GraduateOrNot</th>\n",
       "      <th>AnnualIncome</th>\n",
       "      <th>FamilyMembers</th>\n",
       "      <th>ChronicDiseases</th>\n",
       "      <th>FrequentFlyer</th>\n",
       "      <th>EverTravelledAbroad</th>\n",
       "      <th>TravelInsurance</th>\n",
       "    </tr>\n",
       "  </thead>\n",
       "  <tbody>\n",
       "    <tr>\n",
       "      <th>0</th>\n",
       "      <td>31</td>\n",
       "      <td>Government Sector</td>\n",
       "      <td>Yes</td>\n",
       "      <td>400000</td>\n",
       "      <td>6</td>\n",
       "      <td>1</td>\n",
       "      <td>No</td>\n",
       "      <td>No</td>\n",
       "      <td>0</td>\n",
       "    </tr>\n",
       "    <tr>\n",
       "      <th>1</th>\n",
       "      <td>31</td>\n",
       "      <td>Private Sector/Self Employed</td>\n",
       "      <td>Yes</td>\n",
       "      <td>1250000</td>\n",
       "      <td>7</td>\n",
       "      <td>0</td>\n",
       "      <td>No</td>\n",
       "      <td>No</td>\n",
       "      <td>0</td>\n",
       "    </tr>\n",
       "    <tr>\n",
       "      <th>2</th>\n",
       "      <td>34</td>\n",
       "      <td>Private Sector/Self Employed</td>\n",
       "      <td>Yes</td>\n",
       "      <td>500000</td>\n",
       "      <td>4</td>\n",
       "      <td>1</td>\n",
       "      <td>No</td>\n",
       "      <td>No</td>\n",
       "      <td>1</td>\n",
       "    </tr>\n",
       "    <tr>\n",
       "      <th>3</th>\n",
       "      <td>28</td>\n",
       "      <td>Private Sector/Self Employed</td>\n",
       "      <td>Yes</td>\n",
       "      <td>700000</td>\n",
       "      <td>3</td>\n",
       "      <td>1</td>\n",
       "      <td>No</td>\n",
       "      <td>No</td>\n",
       "      <td>0</td>\n",
       "    </tr>\n",
       "    <tr>\n",
       "      <th>4</th>\n",
       "      <td>28</td>\n",
       "      <td>Private Sector/Self Employed</td>\n",
       "      <td>Yes</td>\n",
       "      <td>700000</td>\n",
       "      <td>8</td>\n",
       "      <td>1</td>\n",
       "      <td>Yes</td>\n",
       "      <td>No</td>\n",
       "      <td>0</td>\n",
       "    </tr>\n",
       "  </tbody>\n",
       "</table>\n",
       "</div>"
      ],
      "text/plain": [
       "   Age               Employment Type GraduateOrNot  AnnualIncome  \\\n",
       "0   31             Government Sector           Yes        400000   \n",
       "1   31  Private Sector/Self Employed           Yes       1250000   \n",
       "2   34  Private Sector/Self Employed           Yes        500000   \n",
       "3   28  Private Sector/Self Employed           Yes        700000   \n",
       "4   28  Private Sector/Self Employed           Yes        700000   \n",
       "\n",
       "   FamilyMembers  ChronicDiseases FrequentFlyer EverTravelledAbroad  \\\n",
       "0              6                1            No                  No   \n",
       "1              7                0            No                  No   \n",
       "2              4                1            No                  No   \n",
       "3              3                1            No                  No   \n",
       "4              8                1           Yes                  No   \n",
       "\n",
       "   TravelInsurance  \n",
       "0                0  \n",
       "1                0  \n",
       "2                1  \n",
       "3                0  \n",
       "4                0  "
      ]
     },
     "execution_count": 7,
     "metadata": {},
     "output_type": "execute_result"
    }
   ],
   "source": [
    "# df = pd.read_csv('/kaggle/input/travel-insurance-prediction-data/TravelInsurancePrediction.csv', index_col=0)\n",
    "df = pd.read_csv('/kaggle/input/travel-insurance-prediction-data/TravelInsurancePrediction.csv')\n",
    "df.drop('Unnamed: 0', axis=1, inplace=True) # 1行目のindex_colと同じ処理\n",
    "df.head()"
   ]
  },
  {
   "cell_type": "code",
   "execution_count": 8,
   "metadata": {
    "execution": {
     "iopub.execute_input": "2025-01-26T12:56:23.886803Z",
     "iopub.status.busy": "2025-01-26T12:56:23.886472Z",
     "iopub.status.idle": "2025-01-26T12:56:23.910475Z",
     "shell.execute_reply": "2025-01-26T12:56:23.909307Z",
     "shell.execute_reply.started": "2025-01-26T12:56:23.886776Z"
    },
    "trusted": true
   },
   "outputs": [
    {
     "name": "stdout",
     "output_type": "stream",
     "text": [
      "<class 'pandas.core.frame.DataFrame'>\n",
      "RangeIndex: 1987 entries, 0 to 1986\n",
      "Data columns (total 9 columns):\n",
      " #   Column               Non-Null Count  Dtype \n",
      "---  ------               --------------  ----- \n",
      " 0   Age                  1987 non-null   int64 \n",
      " 1   Employment Type      1987 non-null   object\n",
      " 2   GraduateOrNot        1987 non-null   object\n",
      " 3   AnnualIncome         1987 non-null   int64 \n",
      " 4   FamilyMembers        1987 non-null   int64 \n",
      " 5   ChronicDiseases      1987 non-null   int64 \n",
      " 6   FrequentFlyer        1987 non-null   object\n",
      " 7   EverTravelledAbroad  1987 non-null   object\n",
      " 8   TravelInsurance      1987 non-null   int64 \n",
      "dtypes: int64(5), object(4)\n",
      "memory usage: 139.8+ KB\n"
     ]
    }
   ],
   "source": [
    "df.info()"
   ]
  },
  {
   "cell_type": "code",
   "execution_count": 9,
   "metadata": {
    "execution": {
     "iopub.execute_input": "2025-01-26T12:56:27.045420Z",
     "iopub.status.busy": "2025-01-26T12:56:27.045080Z",
     "iopub.status.idle": "2025-01-26T12:56:27.062974Z",
     "shell.execute_reply": "2025-01-26T12:56:27.061690Z",
     "shell.execute_reply.started": "2025-01-26T12:56:27.045392Z"
    },
    "trusted": true
   },
   "outputs": [
    {
     "name": "stdout",
     "output_type": "stream",
     "text": [
      "uniques of Age is ( 11 ) : \n",
      " [31 34 28 25 33 26 32 29 35 30 27]\n",
      "====================\n",
      "uniques of Employment Type is ( 2 ) : \n",
      " ['Government Sector' 'Private Sector/Self Employed']\n",
      "====================\n",
      "uniques of GraduateOrNot is ( 2 ) : \n",
      " ['Yes' 'No']\n",
      "====================\n",
      "uniques of AnnualIncome is ( 30 ) : \n",
      " [ 400000 1250000  500000  700000 1150000 1300000 1350000 1450000  800000\n",
      " 1400000  850000 1500000 1050000  350000 1100000  600000  900000  550000\n",
      "  300000  750000 1200000 1000000  950000 1700000 1750000  650000  450000\n",
      " 1650000 1800000 1550000]\n",
      "====================\n",
      "uniques of FamilyMembers is ( 8 ) : \n",
      " [6 7 4 3 8 9 5 2]\n",
      "====================\n",
      "uniques of ChronicDiseases is ( 2 ) : \n",
      " [1 0]\n",
      "====================\n",
      "uniques of FrequentFlyer is ( 2 ) : \n",
      " ['No' 'Yes']\n",
      "====================\n",
      "uniques of EverTravelledAbroad is ( 2 ) : \n",
      " ['No' 'Yes']\n",
      "====================\n",
      "uniques of TravelInsurance is ( 2 ) : \n",
      " [0 1]\n",
      "====================\n"
     ]
    }
   ],
   "source": [
    "for col in df.columns:\n",
    "    print(f'uniques of {col} is ( {df[col].nunique()} ) : \\n {df[col].unique()}')\n",
    "    print('='*20)"
   ]
  },
  {
   "cell_type": "code",
   "execution_count": 23,
   "metadata": {
    "execution": {
     "iopub.execute_input": "2025-01-26T12:59:45.846893Z",
     "iopub.status.busy": "2025-01-26T12:59:45.846452Z",
     "iopub.status.idle": "2025-01-26T12:59:45.853884Z",
     "shell.execute_reply": "2025-01-26T12:59:45.852853Z",
     "shell.execute_reply.started": "2025-01-26T12:59:45.846856Z"
    },
    "trusted": true
   },
   "outputs": [
    {
     "data": {
      "text/plain": [
       "array([31, 34, 28, 25, 33, 26, 32, 29, 35, 30, 27])"
      ]
     },
     "execution_count": 23,
     "metadata": {},
     "output_type": "execute_result"
    }
   ],
   "source": [
    "# 動作確認\n",
    "# df[['Age']]\n",
    "df['Age'].unique() # ユニークな値一覧(Age内の種類)\n",
    "# df['Age'].nunique() # ユニークな値の数(種類の数)"
   ]
  },
  {
   "cell_type": "code",
   "execution_count": 18,
   "metadata": {
    "execution": {
     "iopub.execute_input": "2025-01-26T06:58:26.986448Z",
     "iopub.status.busy": "2025-01-26T06:58:26.985999Z",
     "iopub.status.idle": "2025-01-26T06:58:26.993510Z",
     "shell.execute_reply": "2025-01-26T06:58:26.992285Z",
     "shell.execute_reply.started": "2025-01-26T06:58:26.986417Z"
    },
    "trusted": true
   },
   "outputs": [
    {
     "data": {
      "text/plain": [
       "Index(['Age', 'Employment Type', 'GraduateOrNot', 'AnnualIncome',\n",
       "       'FamilyMembers', 'ChronicDiseases', 'FrequentFlyer',\n",
       "       'EverTravelledAbroad', 'TravelInsurance'],\n",
       "      dtype='object')"
      ]
     },
     "execution_count": 18,
     "metadata": {},
     "output_type": "execute_result"
    }
   ],
   "source": [
    "df.columns"
   ]
  },
  {
   "cell_type": "code",
   "execution_count": 36,
   "metadata": {
    "execution": {
     "iopub.execute_input": "2025-01-26T13:17:39.604204Z",
     "iopub.status.busy": "2025-01-26T13:17:39.603854Z",
     "iopub.status.idle": "2025-01-26T13:17:39.608686Z",
     "shell.execute_reply": "2025-01-26T13:17:39.607463Z",
     "shell.execute_reply.started": "2025-01-26T13:17:39.604179Z"
    },
    "trusted": true
   },
   "outputs": [],
   "source": [
    "cat_features = ['Employment Type', 'GraduateOrNot', 'ChronicDiseases', 'FrequentFlyer',\n",
    "       'EverTravelledAbroad']\n",
    "num_features = ['Age', 'AnnualIncome', 'FamilyMembers']"
   ]
  },
  {
   "cell_type": "code",
   "execution_count": 37,
   "metadata": {
    "execution": {
     "iopub.execute_input": "2025-01-26T13:17:41.871334Z",
     "iopub.status.busy": "2025-01-26T13:17:41.870878Z",
     "iopub.status.idle": "2025-01-26T13:17:41.883351Z",
     "shell.execute_reply": "2025-01-26T13:17:41.881803Z",
     "shell.execute_reply.started": "2025-01-26T13:17:41.871299Z"
    },
    "trusted": true
   },
   "outputs": [],
   "source": [
    "df_X = df.drop(columns='TravelInsurance')\n",
    "df_y = df['TravelInsurance']\n",
    "X_train, X_test, y_train, y_test = train_test_split(df_X, \n",
    "                                                    df_y, \n",
    "                                                    test_size=0.2, \n",
    "                                                    random_state=17, \n",
    "                                                    stratify=df_y)"
   ]
  },
  {
   "cell_type": "markdown",
   "metadata": {},
   "source": [
    "**stratify** : train, testの間で目的変数(0, 1)の割合が等しくなる"
   ]
  },
  {
   "cell_type": "code",
   "execution_count": 38,
   "metadata": {
    "execution": {
     "iopub.execute_input": "2025-01-26T13:17:42.866180Z",
     "iopub.status.busy": "2025-01-26T13:17:42.865719Z",
     "iopub.status.idle": "2025-01-26T13:17:42.870679Z",
     "shell.execute_reply": "2025-01-26T13:17:42.869391Z",
     "shell.execute_reply.started": "2025-01-26T13:17:42.866144Z"
    },
    "trusted": true
   },
   "outputs": [],
   "source": [
    "# # 動作確認\n",
    "# # df_X = df.drop(columns='TravelInsurance') と同じ\n",
    "\n",
    "# df_X2 = df.drop('TravelInsurance', axis=1)\n",
    "# df_X2"
   ]
  },
  {
   "cell_type": "code",
   "execution_count": 39,
   "metadata": {
    "execution": {
     "iopub.execute_input": "2025-01-26T13:17:43.199077Z",
     "iopub.status.busy": "2025-01-26T13:17:43.198691Z",
     "iopub.status.idle": "2025-01-26T13:17:43.203573Z",
     "shell.execute_reply": "2025-01-26T13:17:43.202555Z",
     "shell.execute_reply.started": "2025-01-26T13:17:43.199038Z"
    },
    "trusted": true
   },
   "outputs": [],
   "source": [
    "scaler = StandardScaler()\n",
    "encoder = OneHotEncoder(drop='first')"
   ]
  },
  {
   "cell_type": "markdown",
   "metadata": {},
   "source": [
    "**ColumTransformer**\n",
    "- カラム(列方向の数値型とカテゴリ型)をまとめてエンコードできる"
   ]
  },
  {
   "cell_type": "code",
   "execution_count": 40,
   "metadata": {
    "execution": {
     "iopub.execute_input": "2025-01-26T13:17:43.715213Z",
     "iopub.status.busy": "2025-01-26T13:17:43.714760Z",
     "iopub.status.idle": "2025-01-26T13:17:43.720292Z",
     "shell.execute_reply": "2025-01-26T13:17:43.719063Z",
     "shell.execute_reply.started": "2025-01-26T13:17:43.715178Z"
    },
    "trusted": true
   },
   "outputs": [],
   "source": [
    "from sklearn.compose import ColumnTransformer"
   ]
  },
  {
   "cell_type": "code",
   "execution_count": 44,
   "metadata": {
    "execution": {
     "iopub.execute_input": "2025-01-26T13:39:06.678065Z",
     "iopub.status.busy": "2025-01-26T13:39:06.677539Z",
     "iopub.status.idle": "2025-01-26T13:39:06.683658Z",
     "shell.execute_reply": "2025-01-26T13:39:06.682170Z",
     "shell.execute_reply.started": "2025-01-26T13:39:06.678009Z"
    },
    "trusted": true
   },
   "outputs": [],
   "source": [
    "# 各工程のプロセスを作成\n",
    "\n",
    "# TransformerはScalerやEncoderを指す\n",
    "# Numericな場合はScaler, StabdardScalerを用いる\n",
    "\n",
    "ct = ColumnTransformer(\n",
    "    [\n",
    "        # (プロセス名, Transformer(Scalerなど), 適応させるカラム名)\n",
    "        ('num_process', scaler, num_features), # 工程1(各工程のプロセスを作成)\n",
    "        ('cat_process', encoder, cat_features) # 工程2(各工程のプロセスを作成)\n",
    "    ],\n",
    "    remainder = 'passthrough' # or 'drop'\n",
    ")"
   ]
  },
  {
   "cell_type": "markdown",
   "metadata": {},
   "source": [
    "remainder = dropにした場合、「num_features, cat_features」以外のカラムを削除\n",
    "\n",
    "remainder = passthroughにした場合、「num_features, cat_features」以外の(に当てはまらない)カラムはそのまま残される"
   ]
  },
  {
   "cell_type": "markdown",
   "metadata": {},
   "source": [
    "**これまでとの違い(ColumnTransformerのメリット)**\n",
    "- これまでは工程1, 工程2を別々で処理してきた(数値データとカテゴリデータの変換)\n",
    "- このColumnTransformerでは、まとめて一回で処理できる"
   ]
  },
  {
   "cell_type": "code",
   "execution_count": 54,
   "metadata": {
    "execution": {
     "iopub.execute_input": "2025-01-26T14:13:19.778422Z",
     "iopub.status.busy": "2025-01-26T14:13:19.777991Z",
     "iopub.status.idle": "2025-01-26T14:13:19.805188Z",
     "shell.execute_reply": "2025-01-26T14:13:19.803990Z",
     "shell.execute_reply.started": "2025-01-26T14:13:19.778385Z"
    },
    "trusted": true
   },
   "outputs": [
    {
     "data": {
      "text/plain": [
       "array([ 1.13454572, -0.37974587,  0.76972512,  0.        ,  1.        ,\n",
       "        0.        ,  0.        ,  0.        ])"
      ]
     },
     "execution_count": 54,
     "metadata": {},
     "output_type": "execute_result"
    }
   ],
   "source": [
    "X_train_transformed = ct.fit_transform(X_train)\n",
    "X_test_transformed = ct.transform(X_test)\n",
    "# X_train_transformed[0, :] # 0行目、全部の列\n",
    "X_train_transformed[0, 0:] # 上と同じ(省略しない場合)"
   ]
  },
  {
   "cell_type": "markdown",
   "metadata": {},
   "source": [
    "**数値型で変換された値は「num_features = ['Age', 'AnnualIncome', 'FamilyMembers']」**\n",
    "- 1.13454572, -0.37974587,  0.76972512\n",
    "\n",
    "**残りの5つは「cat_features = ['Employment Type', 'GraduateOrNot', 'ChronicDiseases', 'FrequentFlyer',\n",
    "       'EverTravelledAbroad']」**\n",
    "- 0. ,1., 0., 0., 0.     "
   ]
  },
  {
   "cell_type": "code",
   "execution_count": 57,
   "metadata": {
    "execution": {
     "iopub.execute_input": "2025-01-26T14:17:56.195466Z",
     "iopub.status.busy": "2025-01-26T14:17:56.195098Z",
     "iopub.status.idle": "2025-01-26T14:17:56.202021Z",
     "shell.execute_reply": "2025-01-26T14:17:56.201018Z",
     "shell.execute_reply.started": "2025-01-26T14:17:56.195437Z"
    },
    "trusted": true
   },
   "outputs": [
    {
     "data": {
      "text/plain": [
       "1.0"
      ]
     },
     "execution_count": 57,
     "metadata": {},
     "output_type": "execute_result"
    }
   ],
   "source": [
    "# StandardScalerが正しく働いているかを確認\n",
    "X_train_transformed[:, 0].std() # 全ての行の0列目(='Age')の標準偏差を確認"
   ]
  },
  {
   "cell_type": "markdown",
   "metadata": {},
   "source": [
    "**Next Action**\n",
    "- モデルの構築"
   ]
  },
  {
   "cell_type": "code",
   "execution_count": 60,
   "metadata": {
    "execution": {
     "iopub.execute_input": "2025-01-26T14:21:32.747283Z",
     "iopub.status.busy": "2025-01-26T14:21:32.746803Z",
     "iopub.status.idle": "2025-01-26T14:21:32.752989Z",
     "shell.execute_reply": "2025-01-26T14:21:32.751423Z",
     "shell.execute_reply.started": "2025-01-26T14:21:32.747251Z"
    },
    "trusted": true
   },
   "outputs": [],
   "source": [
    "kn_model = KNeighborsClassifier()\n",
    "sv_model =SVC(random_state=17)"
   ]
  },
  {
   "cell_type": "code",
   "execution_count": 62,
   "metadata": {
    "execution": {
     "iopub.execute_input": "2025-01-26T14:21:38.172387Z",
     "iopub.status.busy": "2025-01-26T14:21:38.171715Z",
     "iopub.status.idle": "2025-01-26T14:21:38.271624Z",
     "shell.execute_reply": "2025-01-26T14:21:38.270621Z",
     "shell.execute_reply.started": "2025-01-26T14:21:38.172353Z"
    },
    "trusted": true
   },
   "outputs": [
    {
     "data": {
      "text/html": [
       "<style>#sk-container-id-1 {color: black;background-color: white;}#sk-container-id-1 pre{padding: 0;}#sk-container-id-1 div.sk-toggleable {background-color: white;}#sk-container-id-1 label.sk-toggleable__label {cursor: pointer;display: block;width: 100%;margin-bottom: 0;padding: 0.3em;box-sizing: border-box;text-align: center;}#sk-container-id-1 label.sk-toggleable__label-arrow:before {content: \"▸\";float: left;margin-right: 0.25em;color: #696969;}#sk-container-id-1 label.sk-toggleable__label-arrow:hover:before {color: black;}#sk-container-id-1 div.sk-estimator:hover label.sk-toggleable__label-arrow:before {color: black;}#sk-container-id-1 div.sk-toggleable__content {max-height: 0;max-width: 0;overflow: hidden;text-align: left;background-color: #f0f8ff;}#sk-container-id-1 div.sk-toggleable__content pre {margin: 0.2em;color: black;border-radius: 0.25em;background-color: #f0f8ff;}#sk-container-id-1 input.sk-toggleable__control:checked~div.sk-toggleable__content {max-height: 200px;max-width: 100%;overflow: auto;}#sk-container-id-1 input.sk-toggleable__control:checked~label.sk-toggleable__label-arrow:before {content: \"▾\";}#sk-container-id-1 div.sk-estimator input.sk-toggleable__control:checked~label.sk-toggleable__label {background-color: #d4ebff;}#sk-container-id-1 div.sk-label input.sk-toggleable__control:checked~label.sk-toggleable__label {background-color: #d4ebff;}#sk-container-id-1 input.sk-hidden--visually {border: 0;clip: rect(1px 1px 1px 1px);clip: rect(1px, 1px, 1px, 1px);height: 1px;margin: -1px;overflow: hidden;padding: 0;position: absolute;width: 1px;}#sk-container-id-1 div.sk-estimator {font-family: monospace;background-color: #f0f8ff;border: 1px dotted black;border-radius: 0.25em;box-sizing: border-box;margin-bottom: 0.5em;}#sk-container-id-1 div.sk-estimator:hover {background-color: #d4ebff;}#sk-container-id-1 div.sk-parallel-item::after {content: \"\";width: 100%;border-bottom: 1px solid gray;flex-grow: 1;}#sk-container-id-1 div.sk-label:hover label.sk-toggleable__label {background-color: #d4ebff;}#sk-container-id-1 div.sk-serial::before {content: \"\";position: absolute;border-left: 1px solid gray;box-sizing: border-box;top: 0;bottom: 0;left: 50%;z-index: 0;}#sk-container-id-1 div.sk-serial {display: flex;flex-direction: column;align-items: center;background-color: white;padding-right: 0.2em;padding-left: 0.2em;position: relative;}#sk-container-id-1 div.sk-item {position: relative;z-index: 1;}#sk-container-id-1 div.sk-parallel {display: flex;align-items: stretch;justify-content: center;background-color: white;position: relative;}#sk-container-id-1 div.sk-item::before, #sk-container-id-1 div.sk-parallel-item::before {content: \"\";position: absolute;border-left: 1px solid gray;box-sizing: border-box;top: 0;bottom: 0;left: 50%;z-index: -1;}#sk-container-id-1 div.sk-parallel-item {display: flex;flex-direction: column;z-index: 1;position: relative;background-color: white;}#sk-container-id-1 div.sk-parallel-item:first-child::after {align-self: flex-end;width: 50%;}#sk-container-id-1 div.sk-parallel-item:last-child::after {align-self: flex-start;width: 50%;}#sk-container-id-1 div.sk-parallel-item:only-child::after {width: 0;}#sk-container-id-1 div.sk-dashed-wrapped {border: 1px dashed gray;margin: 0 0.4em 0.5em 0.4em;box-sizing: border-box;padding-bottom: 0.4em;background-color: white;}#sk-container-id-1 div.sk-label label {font-family: monospace;font-weight: bold;display: inline-block;line-height: 1.2em;}#sk-container-id-1 div.sk-label-container {text-align: center;}#sk-container-id-1 div.sk-container {/* jupyter's `normalize.less` sets `[hidden] { display: none; }` but bootstrap.min.css set `[hidden] { display: none !important; }` so we also need the `!important` here to be able to override the default hidden behavior on the sphinx rendered scikit-learn.org. See: https://github.com/scikit-learn/scikit-learn/issues/21755 */display: inline-block !important;position: relative;}#sk-container-id-1 div.sk-text-repr-fallback {display: none;}</style><div id=\"sk-container-id-1\" class=\"sk-top-container\"><div class=\"sk-text-repr-fallback\"><pre>SVC(random_state=17)</pre><b>In a Jupyter environment, please rerun this cell to show the HTML representation or trust the notebook. <br />On GitHub, the HTML representation is unable to render, please try loading this page with nbviewer.org.</b></div><div class=\"sk-container\" hidden><div class=\"sk-item\"><div class=\"sk-estimator sk-toggleable\"><input class=\"sk-toggleable__control sk-hidden--visually\" id=\"sk-estimator-id-1\" type=\"checkbox\" checked><label for=\"sk-estimator-id-1\" class=\"sk-toggleable__label sk-toggleable__label-arrow\">SVC</label><div class=\"sk-toggleable__content\"><pre>SVC(random_state=17)</pre></div></div></div></div></div>"
      ],
      "text/plain": [
       "SVC(random_state=17)"
      ]
     },
     "execution_count": 62,
     "metadata": {},
     "output_type": "execute_result"
    }
   ],
   "source": [
    "kn_model.fit(X_train_transformed, y_train)\n",
    "sv_model.fit(X_train_transformed, y_train)"
   ]
  },
  {
   "cell_type": "code",
   "execution_count": 63,
   "metadata": {
    "execution": {
     "iopub.execute_input": "2025-01-26T14:22:34.654061Z",
     "iopub.status.busy": "2025-01-26T14:22:34.653547Z",
     "iopub.status.idle": "2025-01-26T14:22:34.710614Z",
     "shell.execute_reply": "2025-01-26T14:22:34.709483Z",
     "shell.execute_reply.started": "2025-01-26T14:22:34.654019Z"
    },
    "trusted": true
   },
   "outputs": [
    {
     "name": "stdout",
     "output_type": "stream",
     "text": [
      "0.7914572864321608\n",
      "0.8015075376884422\n"
     ]
    }
   ],
   "source": [
    "print(kn_model.score(X_test_transformed, y_test))\n",
    "print(sv_model.score(X_test_transformed, y_test))"
   ]
  },
  {
   "cell_type": "markdown",
   "metadata": {},
   "source": [
    "**GridSearch CV を用いてモデルのパラメータ最適化**"
   ]
  },
  {
   "cell_type": "code",
   "execution_count": 70,
   "metadata": {
    "execution": {
     "iopub.execute_input": "2025-01-26T14:50:46.224746Z",
     "iopub.status.busy": "2025-01-26T14:50:46.224394Z",
     "iopub.status.idle": "2025-01-26T14:50:46.230064Z",
     "shell.execute_reply": "2025-01-26T14:50:46.228964Z",
     "shell.execute_reply.started": "2025-01-26T14:50:46.224718Z"
    },
    "trusted": true
   },
   "outputs": [],
   "source": [
    "# 辞書型で探索対象を作成\n",
    "models = [\n",
    "    {\n",
    "        'model': kn_model, \n",
    "        'params': \n",
    "        {\n",
    "            'n_neighbors': [10, 15, 20, 25], \n",
    "            'weights': ['uniform', 'distance']\n",
    "        }\n",
    "    },\n",
    "    {\n",
    "        'model': sv_model, \n",
    "        'params': \n",
    "        {\n",
    "            'C': [0.1, 1, 10, 20], \n",
    "            'kernel': ['linear', 'poly', 'rbf', 'sigmoid'],\n",
    "            'gamma': ['auto', 'scale']\n",
    "        }\n",
    "    }\n",
    "        ]"
   ]
  },
  {
   "cell_type": "markdown",
   "metadata": {},
   "source": [
    "**modelsのリストを使ってGridSearchする**"
   ]
  },
  {
   "cell_type": "code",
   "execution_count": 71,
   "metadata": {
    "execution": {
     "iopub.execute_input": "2025-01-26T14:50:48.936838Z",
     "iopub.status.busy": "2025-01-26T14:50:48.936496Z",
     "iopub.status.idle": "2025-01-26T14:50:48.941037Z",
     "shell.execute_reply": "2025-01-26T14:50:48.939936Z",
     "shell.execute_reply.started": "2025-01-26T14:50:48.936811Z"
    },
    "trusted": true
   },
   "outputs": [],
   "source": [
    "k = StratifiedKFold(5, shuffle=True, random_state=17)"
   ]
  },
  {
   "cell_type": "code",
   "execution_count": 76,
   "metadata": {
    "execution": {
     "iopub.execute_input": "2025-01-26T14:57:49.672902Z",
     "iopub.status.busy": "2025-01-26T14:57:49.672549Z",
     "iopub.status.idle": "2025-01-26T14:58:03.942831Z",
     "shell.execute_reply": "2025-01-26T14:58:03.941804Z",
     "shell.execute_reply.started": "2025-01-26T14:57:49.672874Z"
    },
    "trusted": true
   },
   "outputs": [
    {
     "name": "stdout",
     "output_type": "stream",
     "text": [
      "best params of KNeighborsClassifier() : {'n_neighbors': 25, 'weights': 'uniform'}\n",
      "\n",
      "best params of SVC(random_state=17) : {'C': 1, 'gamma': 'scale', 'kernel': 'poly'}\n",
      "\n"
     ]
    }
   ],
   "source": [
    "dfs = []\n",
    "for model in models:\n",
    "    grid = GridSearchCV(\n",
    "        model['model'],\n",
    "        param_grid=model['params'],\n",
    "        cv=k # Cross Validation\n",
    "    )\n",
    "\n",
    "    grid.fit(X_train_transformed, y_train)\n",
    "    # fitさせた結果をdfに変換\n",
    "    df = pd.DataFrame(grid.cv_results_).loc[:, 'params':].sort_values('rank_test_score', ascending=True)[:5]\n",
    "    # .locで全てのサンプルのうち(:,)'params'以降を取得\n",
    "    # それらを'rank_test_score'でソート\n",
    "    # [:5]で上位5つのみ取得\n",
    "    dfs.append(df)\n",
    "    print(f\"best params of {model['model']} : {grid.best_params_}\\n\")"
   ]
  },
  {
   "cell_type": "markdown",
   "metadata": {},
   "source": [
    "**best paramsを用いて設定**"
   ]
  },
  {
   "cell_type": "code",
   "execution_count": 79,
   "metadata": {
    "execution": {
     "iopub.execute_input": "2025-01-26T15:01:16.354249Z",
     "iopub.status.busy": "2025-01-26T15:01:16.353869Z",
     "iopub.status.idle": "2025-01-26T15:01:16.358438Z",
     "shell.execute_reply": "2025-01-26T15:01:16.357417Z",
     "shell.execute_reply.started": "2025-01-26T15:01:16.354223Z"
    },
    "trusted": true
   },
   "outputs": [],
   "source": [
    "kn_best_model = KNeighborsClassifier(n_neighbors=25, weights='uniform')\n",
    "sv_best_model = SVC(C=1, gamma='scale', kernel='poly')"
   ]
  },
  {
   "cell_type": "code",
   "execution_count": 80,
   "metadata": {
    "execution": {
     "iopub.execute_input": "2025-01-26T15:02:46.113060Z",
     "iopub.status.busy": "2025-01-26T15:02:46.112667Z",
     "iopub.status.idle": "2025-01-26T15:02:46.195401Z",
     "shell.execute_reply": "2025-01-26T15:02:46.194383Z",
     "shell.execute_reply.started": "2025-01-26T15:02:46.113031Z"
    },
    "trusted": true
   },
   "outputs": [
    {
     "data": {
      "text/html": [
       "<style>#sk-container-id-2 {color: black;background-color: white;}#sk-container-id-2 pre{padding: 0;}#sk-container-id-2 div.sk-toggleable {background-color: white;}#sk-container-id-2 label.sk-toggleable__label {cursor: pointer;display: block;width: 100%;margin-bottom: 0;padding: 0.3em;box-sizing: border-box;text-align: center;}#sk-container-id-2 label.sk-toggleable__label-arrow:before {content: \"▸\";float: left;margin-right: 0.25em;color: #696969;}#sk-container-id-2 label.sk-toggleable__label-arrow:hover:before {color: black;}#sk-container-id-2 div.sk-estimator:hover label.sk-toggleable__label-arrow:before {color: black;}#sk-container-id-2 div.sk-toggleable__content {max-height: 0;max-width: 0;overflow: hidden;text-align: left;background-color: #f0f8ff;}#sk-container-id-2 div.sk-toggleable__content pre {margin: 0.2em;color: black;border-radius: 0.25em;background-color: #f0f8ff;}#sk-container-id-2 input.sk-toggleable__control:checked~div.sk-toggleable__content {max-height: 200px;max-width: 100%;overflow: auto;}#sk-container-id-2 input.sk-toggleable__control:checked~label.sk-toggleable__label-arrow:before {content: \"▾\";}#sk-container-id-2 div.sk-estimator input.sk-toggleable__control:checked~label.sk-toggleable__label {background-color: #d4ebff;}#sk-container-id-2 div.sk-label input.sk-toggleable__control:checked~label.sk-toggleable__label {background-color: #d4ebff;}#sk-container-id-2 input.sk-hidden--visually {border: 0;clip: rect(1px 1px 1px 1px);clip: rect(1px, 1px, 1px, 1px);height: 1px;margin: -1px;overflow: hidden;padding: 0;position: absolute;width: 1px;}#sk-container-id-2 div.sk-estimator {font-family: monospace;background-color: #f0f8ff;border: 1px dotted black;border-radius: 0.25em;box-sizing: border-box;margin-bottom: 0.5em;}#sk-container-id-2 div.sk-estimator:hover {background-color: #d4ebff;}#sk-container-id-2 div.sk-parallel-item::after {content: \"\";width: 100%;border-bottom: 1px solid gray;flex-grow: 1;}#sk-container-id-2 div.sk-label:hover label.sk-toggleable__label {background-color: #d4ebff;}#sk-container-id-2 div.sk-serial::before {content: \"\";position: absolute;border-left: 1px solid gray;box-sizing: border-box;top: 0;bottom: 0;left: 50%;z-index: 0;}#sk-container-id-2 div.sk-serial {display: flex;flex-direction: column;align-items: center;background-color: white;padding-right: 0.2em;padding-left: 0.2em;position: relative;}#sk-container-id-2 div.sk-item {position: relative;z-index: 1;}#sk-container-id-2 div.sk-parallel {display: flex;align-items: stretch;justify-content: center;background-color: white;position: relative;}#sk-container-id-2 div.sk-item::before, #sk-container-id-2 div.sk-parallel-item::before {content: \"\";position: absolute;border-left: 1px solid gray;box-sizing: border-box;top: 0;bottom: 0;left: 50%;z-index: -1;}#sk-container-id-2 div.sk-parallel-item {display: flex;flex-direction: column;z-index: 1;position: relative;background-color: white;}#sk-container-id-2 div.sk-parallel-item:first-child::after {align-self: flex-end;width: 50%;}#sk-container-id-2 div.sk-parallel-item:last-child::after {align-self: flex-start;width: 50%;}#sk-container-id-2 div.sk-parallel-item:only-child::after {width: 0;}#sk-container-id-2 div.sk-dashed-wrapped {border: 1px dashed gray;margin: 0 0.4em 0.5em 0.4em;box-sizing: border-box;padding-bottom: 0.4em;background-color: white;}#sk-container-id-2 div.sk-label label {font-family: monospace;font-weight: bold;display: inline-block;line-height: 1.2em;}#sk-container-id-2 div.sk-label-container {text-align: center;}#sk-container-id-2 div.sk-container {/* jupyter's `normalize.less` sets `[hidden] { display: none; }` but bootstrap.min.css set `[hidden] { display: none !important; }` so we also need the `!important` here to be able to override the default hidden behavior on the sphinx rendered scikit-learn.org. See: https://github.com/scikit-learn/scikit-learn/issues/21755 */display: inline-block !important;position: relative;}#sk-container-id-2 div.sk-text-repr-fallback {display: none;}</style><div id=\"sk-container-id-2\" class=\"sk-top-container\"><div class=\"sk-text-repr-fallback\"><pre>SVC(C=1, kernel=&#x27;poly&#x27;)</pre><b>In a Jupyter environment, please rerun this cell to show the HTML representation or trust the notebook. <br />On GitHub, the HTML representation is unable to render, please try loading this page with nbviewer.org.</b></div><div class=\"sk-container\" hidden><div class=\"sk-item\"><div class=\"sk-estimator sk-toggleable\"><input class=\"sk-toggleable__control sk-hidden--visually\" id=\"sk-estimator-id-2\" type=\"checkbox\" checked><label for=\"sk-estimator-id-2\" class=\"sk-toggleable__label sk-toggleable__label-arrow\">SVC</label><div class=\"sk-toggleable__content\"><pre>SVC(C=1, kernel=&#x27;poly&#x27;)</pre></div></div></div></div></div>"
      ],
      "text/plain": [
       "SVC(C=1, kernel='poly')"
      ]
     },
     "execution_count": 80,
     "metadata": {},
     "output_type": "execute_result"
    }
   ],
   "source": [
    "kn_best_model.fit(X_train_transformed, y_train)\n",
    "sv_best_model.fit(X_train_transformed, y_train)"
   ]
  },
  {
   "cell_type": "code",
   "execution_count": 81,
   "metadata": {
    "execution": {
     "iopub.execute_input": "2025-01-26T15:03:12.837245Z",
     "iopub.status.busy": "2025-01-26T15:03:12.836838Z",
     "iopub.status.idle": "2025-01-26T15:03:12.889340Z",
     "shell.execute_reply": "2025-01-26T15:03:12.888302Z",
     "shell.execute_reply.started": "2025-01-26T15:03:12.837217Z"
    },
    "trusted": true
   },
   "outputs": [
    {
     "name": "stdout",
     "output_type": "stream",
     "text": [
      "0.8015075376884422\n",
      "0.8040201005025126\n"
     ]
    }
   ],
   "source": [
    "print(kn_best_model.score(X_test_transformed, y_test))\n",
    "print(sv_best_model.score(X_test_transformed, y_test))"
   ]
  },
  {
   "cell_type": "markdown",
   "metadata": {},
   "source": [
    "**気付き**\n",
    "- 今回はパラメータ最適化してもあまり精度に変化はなかった\n",
    "- 今回はデータ分析をせずにモデル構築したが、一旦モデル構築してからデータ分析をしていくのもあり"
   ]
  },
  {
   "cell_type": "code",
   "execution_count": null,
   "metadata": {
    "trusted": true
   },
   "outputs": [],
   "source": []
  }
 ],
 "metadata": {
  "kaggle": {
   "accelerator": "none",
   "dataSources": [
    {
     "datasetId": 1457162,
     "sourceId": 2550307,
     "sourceType": "datasetVersion"
    }
   ],
   "dockerImageVersionId": 30839,
   "isGpuEnabled": false,
   "isInternetEnabled": false,
   "language": "python",
   "sourceType": "notebook"
  },
  "kernelspec": {
   "display_name": "Python 3",
   "language": "python",
   "name": "python3"
  },
  "language_info": {
   "codemirror_mode": {
    "name": "ipython",
    "version": 3
   },
   "file_extension": ".py",
   "mimetype": "text/x-python",
   "name": "python",
   "nbconvert_exporter": "python",
   "pygments_lexer": "ipython3",
   "version": "3.10.12"
  }
 },
 "nbformat": 4,
 "nbformat_minor": 4
}
